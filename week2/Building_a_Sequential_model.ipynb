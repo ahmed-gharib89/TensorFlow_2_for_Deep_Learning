{
  "nbformat": 4,
  "nbformat_minor": 0,
  "metadata": {
    "kernelspec": {
      "display_name": "Python 3",
      "language": "python",
      "name": "python3"
    },
    "language_info": {
      "codemirror_mode": {
        "name": "ipython",
        "version": 3
      },
      "file_extension": ".py",
      "mimetype": "text/x-python",
      "name": "python",
      "nbconvert_exporter": "python",
      "pygments_lexer": "ipython3",
      "version": "3.7.1"
    },
    "colab": {
      "name": "Coding Tutorial.ipynb",
      "provenance": []
    }
  },
  "cells": [
    {
      "cell_type": "code",
      "metadata": {
        "id": "KJHIog9yZh9I",
        "colab_type": "code",
        "colab": {
          "base_uri": "https://localhost:8080/",
          "height": 104
        },
        "outputId": "7c2c1a27-9530-4650-c560-77f169b6b3ee"
      },
      "source": [
        "%tensorflow_version 2"
      ],
      "execution_count": 3,
      "outputs": [
        {
          "output_type": "stream",
          "text": [
            "`%tensorflow_version` only switches the major version: 1.x or 2.x.\n",
            "You set: `2`. This will be interpreted as: `2.x`.\n",
            "\n",
            "\n",
            "TensorFlow 2.x selected.\n"
          ],
          "name": "stdout"
        }
      ]
    },
    {
      "cell_type": "code",
      "metadata": {
        "id": "Fqtm-uYKVN21",
        "colab_type": "code",
        "colab": {
          "base_uri": "https://localhost:8080/",
          "height": 35
        },
        "outputId": "88c76aec-3b0c-472c-f76b-28d23b4591cc"
      },
      "source": [
        "import tensorflow as tf\n",
        "print(tf.__version__)"
      ],
      "execution_count": 4,
      "outputs": [
        {
          "output_type": "stream",
          "text": [
            "2.3.0\n"
          ],
          "name": "stdout"
        }
      ]
    },
    {
      "cell_type": "markdown",
      "metadata": {
        "id": "8oT-fYE4VN26",
        "colab_type": "text"
      },
      "source": [
        "# The Sequential model API"
      ]
    },
    {
      "cell_type": "markdown",
      "metadata": {
        "id": "Lutk1ZR0VN27",
        "colab_type": "text"
      },
      "source": [
        " ## Coding tutorials\n",
        " #### [1. Building a Sequential model](#coding_tutorial_1)\n",
        " #### [2. Convolutional and pooling layers](#coding_tutorial_2)\n",
        " #### [3. The compile method](#coding_tutorial_3)\n",
        " #### [4. The fit method](#coding_tutorial_4)\n",
        " #### [5. The evaluate and predict methods](#coding_tutorial_5)"
      ]
    },
    {
      "cell_type": "markdown",
      "metadata": {
        "id": "zEeVERvOVN29",
        "colab_type": "text"
      },
      "source": [
        "***\n",
        "<a id=\"coding_tutorial_1\"></a>\n",
        "## Building a Sequential model"
      ]
    },
    {
      "cell_type": "code",
      "metadata": {
        "id": "mgBhF9yTVN29",
        "colab_type": "code",
        "colab": {}
      },
      "source": [
        "from tensorflow.keras.models import Sequential\n",
        "from tensorflow.keras.layers import Dense, Flatten, Softmax"
      ],
      "execution_count": 5,
      "outputs": []
    },
    {
      "cell_type": "markdown",
      "metadata": {
        "id": "CbazndSRVN3A",
        "colab_type": "text"
      },
      "source": [
        "#### Build a feedforward neural network model"
      ]
    },
    {
      "cell_type": "code",
      "metadata": {
        "id": "Dz8mBnu9VN3A",
        "colab_type": "code",
        "colab": {}
      },
      "source": [
        "# Build the Sequential feedforward neural network model\n",
        "\n",
        "model = Sequential([\n",
        "    Flatten(input_shape=(28, 28)),  \n",
        "    Dense(16, activation='relu'),\n",
        "    Dense(16, activation='relu'),\n",
        "    Dense(10, activation='softmax')\n",
        "])"
      ],
      "execution_count": 10,
      "outputs": []
    },
    {
      "cell_type": "code",
      "metadata": {
        "id": "sYIvfvhHVN3D",
        "colab_type": "code",
        "colab": {
          "base_uri": "https://localhost:8080/",
          "height": 1000
        },
        "outputId": "7a94af5a-394f-40d3-8c79-37bc87f60461"
      },
      "source": [
        "# Print the model summary\n",
        "print(model.weights)\n"
      ],
      "execution_count": 11,
      "outputs": [
        {
          "output_type": "stream",
          "text": [
            "[<tf.Variable 'dense_6/kernel:0' shape=(784, 16) dtype=float32, numpy=\n",
            "array([[ 0.0078733 ,  0.00438895, -0.06889011, ..., -0.05358017,\n",
            "        -0.04454325, -0.07288288],\n",
            "       [ 0.00189591,  0.07496911,  0.07887323, ..., -0.0682777 ,\n",
            "         0.03552645, -0.0724012 ],\n",
            "       [ 0.07303938, -0.01191535,  0.06336313, ...,  0.0097486 ,\n",
            "         0.00380538, -0.04652445],\n",
            "       ...,\n",
            "       [ 0.0752333 ,  0.04951183,  0.05862674, ..., -0.05187201,\n",
            "        -0.08631325,  0.00189723],\n",
            "       [-0.07268493, -0.08343374, -0.05189713, ..., -0.07467666,\n",
            "        -0.08380026,  0.03786355],\n",
            "       [ 0.0349373 ,  0.05289198, -0.02206922, ...,  0.08037923,\n",
            "        -0.04750575,  0.04167642]], dtype=float32)>, <tf.Variable 'dense_6/bias:0' shape=(16,) dtype=float32, numpy=\n",
            "array([0., 0., 0., 0., 0., 0., 0., 0., 0., 0., 0., 0., 0., 0., 0., 0.],\n",
            "      dtype=float32)>, <tf.Variable 'dense_7/kernel:0' shape=(16, 16) dtype=float32, numpy=\n",
            "array([[ 0.18396977, -0.00715956,  0.05811128, -0.04233915, -0.14673162,\n",
            "        -0.03916231,  0.18737528,  0.2151787 ,  0.18452272, -0.31289744,\n",
            "         0.07845202,  0.08635291, -0.1551182 ,  0.13061264, -0.00804237,\n",
            "         0.00960952],\n",
            "       [ 0.4206774 , -0.00658062,  0.3151314 , -0.18145779,  0.21907523,\n",
            "         0.11238226,  0.24243125, -0.2652443 , -0.3617115 , -0.2228234 ,\n",
            "         0.04246756,  0.05615625,  0.06406471,  0.03983572,  0.27492204,\n",
            "         0.35696253],\n",
            "       [ 0.41814587,  0.4156318 , -0.0689638 ,  0.31427774,  0.11629471,\n",
            "        -0.36390615, -0.19422929, -0.14967906,  0.36943743, -0.25807494,\n",
            "         0.27132878,  0.34136507, -0.34848028,  0.4157425 , -0.26335245,\n",
            "        -0.02736074],\n",
            "       [-0.4213566 , -0.00605956, -0.02151838,  0.20163622,  0.02148005,\n",
            "        -0.37983838,  0.33127192,  0.21585563, -0.07660952, -0.32868618,\n",
            "        -0.40755898,  0.2933875 , -0.32839587, -0.16514695, -0.30464745,\n",
            "        -0.4189277 ],\n",
            "       [ 0.33569863, -0.27249536,  0.06653252, -0.02498925, -0.03328887,\n",
            "         0.2843503 , -0.4324777 , -0.16852224,  0.33962223,  0.10486487,\n",
            "         0.14261374, -0.36423722,  0.17958733,  0.12979415, -0.35196653,\n",
            "        -0.08406466],\n",
            "       [ 0.21852764, -0.36277753,  0.11079791, -0.15452394,  0.01385438,\n",
            "        -0.21216446,  0.0758113 , -0.278688  , -0.16912505, -0.2961586 ,\n",
            "        -0.37271813,  0.3880256 , -0.17236713,  0.08355215,  0.33611926,\n",
            "         0.18338206],\n",
            "       [ 0.00634947, -0.26308167,  0.35431156,  0.42791787,  0.05668989,\n",
            "        -0.31597725,  0.22039804,  0.02446952,  0.19259432,  0.01358369,\n",
            "        -0.3932194 ,  0.0268504 , -0.40255678,  0.16261956,  0.3053333 ,\n",
            "         0.01803499],\n",
            "       [-0.29590237, -0.0593524 ,  0.35529462, -0.36492097,  0.24614832,\n",
            "        -0.27110833,  0.06649628, -0.3158731 , -0.24493012, -0.0274592 ,\n",
            "         0.02287748, -0.30800602,  0.05552205, -0.14727795,  0.3406863 ,\n",
            "        -0.33758968],\n",
            "       [-0.20742561,  0.07568881,  0.16566953, -0.20570163,  0.14020315,\n",
            "        -0.20555483, -0.08243123,  0.30335543,  0.05911392,  0.07519022,\n",
            "         0.39058116, -0.11331463,  0.09876785, -0.23010665, -0.21803066,\n",
            "        -0.11762908],\n",
            "       [ 0.365342  ,  0.35762927, -0.12155676, -0.27458933, -0.14400211,\n",
            "        -0.22766   , -0.156544  , -0.31850153, -0.38032907,  0.27026007,\n",
            "         0.42910668, -0.02619568,  0.2670677 ,  0.08791801,  0.1175448 ,\n",
            "        -0.28660193],\n",
            "       [-0.19844812, -0.3379637 , -0.34070992, -0.11731026,  0.05024886,\n",
            "         0.4131554 ,  0.42041567,  0.31943056, -0.36858922, -0.3259855 ,\n",
            "        -0.23961107, -0.35948724, -0.30764973, -0.15314716,  0.39883927,\n",
            "         0.36147806],\n",
            "       [-0.30455136,  0.3798587 ,  0.01467717, -0.03430268, -0.32846764,\n",
            "        -0.30156994,  0.093389  ,  0.43263528, -0.16675302, -0.38718605,\n",
            "        -0.1476106 , -0.23908652,  0.15574828, -0.19927898,  0.28163114,\n",
            "        -0.02109912],\n",
            "       [ 0.12126169,  0.05006582,  0.0004943 ,  0.3030841 , -0.40476072,\n",
            "         0.18186495,  0.16460463, -0.09655184, -0.11349973, -0.35933   ,\n",
            "        -0.03889689, -0.292027  ,  0.14141443,  0.00952196,  0.00809172,\n",
            "        -0.4228942 ],\n",
            "       [ 0.08684412,  0.39462706,  0.30713138, -0.20119973,  0.12489727,\n",
            "         0.09657529, -0.08257225, -0.17220154,  0.24787346,  0.12867847,\n",
            "        -0.23549847, -0.22318679,  0.4068806 , -0.42024884, -0.19853638,\n",
            "        -0.110129  ],\n",
            "       [-0.23176372,  0.38396618,  0.17712095,  0.3475431 , -0.01230404,\n",
            "        -0.14675713, -0.43211174,  0.11649284, -0.18333352, -0.14374176,\n",
            "         0.36725733,  0.16151485, -0.09135213,  0.35312453,  0.15176842,\n",
            "         0.10460678],\n",
            "       [ 0.36080495, -0.39342287, -0.07715255, -0.2069378 ,  0.24064472,\n",
            "        -0.14793652,  0.31739566,  0.12152722, -0.07950699,  0.42455384,\n",
            "         0.3219436 , -0.33842164, -0.3255938 ,  0.21853212,  0.29534784,\n",
            "        -0.17455786]], dtype=float32)>, <tf.Variable 'dense_7/bias:0' shape=(16,) dtype=float32, numpy=\n",
            "array([0., 0., 0., 0., 0., 0., 0., 0., 0., 0., 0., 0., 0., 0., 0., 0.],\n",
            "      dtype=float32)>, <tf.Variable 'dense_8/kernel:0' shape=(16, 10) dtype=float32, numpy=\n",
            "array([[ 0.02105808, -0.22317097,  0.46558642,  0.28184158,  0.32993287,\n",
            "        -0.46675783, -0.35475355, -0.31195766, -0.47673947, -0.33821917],\n",
            "       [-0.04264072,  0.24835026, -0.16887808,  0.30049032,  0.3678853 ,\n",
            "        -0.16247353,  0.01492119,  0.13546008, -0.10734797,  0.3755818 ],\n",
            "       [-0.21106866,  0.21117473, -0.33935454,  0.34094435, -0.25595284,\n",
            "        -0.03863814,  0.31730586, -0.44979098, -0.35453138,  0.12398404],\n",
            "       [-0.37803197, -0.19898456,  0.14929038,  0.3929851 ,  0.00054106,\n",
            "        -0.36439434, -0.31740874,  0.0253194 ,  0.10407358,  0.45241135],\n",
            "       [-0.4305298 ,  0.42359048, -0.01116911, -0.259696  ,  0.39189214,\n",
            "        -0.34858713,  0.30677795, -0.45577416,  0.20006537, -0.15361017],\n",
            "       [ 0.02297354,  0.29312104, -0.3983128 ,  0.35363162, -0.18834415,\n",
            "         0.42302012, -0.39539236, -0.3405702 ,  0.06598556,  0.480231  ],\n",
            "       [ 0.29659516, -0.19222817,  0.41955382, -0.39641938, -0.24820493,\n",
            "         0.00280547, -0.10295621, -0.17518538, -0.38648194, -0.31193876],\n",
            "       [-0.16709742,  0.03641027, -0.40536416, -0.31438863, -0.47554764,\n",
            "        -0.34501818, -0.31914663, -0.21854144,  0.43162018, -0.42608732],\n",
            "       [ 0.0126847 ,  0.10603678, -0.4074516 ,  0.1780228 ,  0.33288652,\n",
            "         0.21613556,  0.26744527, -0.17840672, -0.14297757, -0.06976569],\n",
            "       [-0.1331344 , -0.37285763,  0.27232605,  0.10886091,  0.10113305,\n",
            "         0.34686774,  0.41178024, -0.18397427, -0.0998148 ,  0.42747968],\n",
            "       [-0.41607946, -0.39201355,  0.0738191 ,  0.03368527,  0.471658  ,\n",
            "         0.43563372, -0.45432144, -0.38364053, -0.41815034,  0.12466025],\n",
            "       [ 0.16801977,  0.435369  , -0.29133517,  0.06876343,  0.14681143,\n",
            "         0.3132062 , -0.33648586, -0.05651918,  0.04752976, -0.04502735],\n",
            "       [-0.11736429, -0.39849573,  0.04667515, -0.45780438, -0.17151335,\n",
            "        -0.07751909,  0.23026395, -0.34070283,  0.3101805 , -0.14530244],\n",
            "       [ 0.12055415, -0.14868838, -0.38127005,  0.3504035 ,  0.12775844,\n",
            "         0.1722374 , -0.4408216 ,  0.0668633 ,  0.18929327,  0.41825354],\n",
            "       [-0.20029652,  0.1054197 ,  0.22649437, -0.3187025 ,  0.11041421,\n",
            "        -0.06259149, -0.13172105,  0.44832474, -0.10812482, -0.29039255],\n",
            "       [-0.39110002, -0.07138014, -0.4304028 ,  0.01116201,  0.3010819 ,\n",
            "         0.36187118, -0.22309929,  0.16942757,  0.4603274 , -0.09549201]],\n",
            "      dtype=float32)>, <tf.Variable 'dense_8/bias:0' shape=(10,) dtype=float32, numpy=array([0., 0., 0., 0., 0., 0., 0., 0., 0., 0.], dtype=float32)>]\n"
          ],
          "name": "stdout"
        }
      ]
    },
    {
      "cell_type": "markdown",
      "metadata": {
        "id": "gF4pNunOVN3F",
        "colab_type": "text"
      },
      "source": [
        "***\n",
        "<a id=\"coding_tutorial_2\"></a>\n",
        "## Convolutional and pooling layers"
      ]
    },
    {
      "cell_type": "code",
      "metadata": {
        "id": "emYz-ltfVN3F",
        "colab_type": "code",
        "colab": {}
      },
      "source": [
        "from tensorflow.keras.models import Sequential\n",
        "from tensorflow.keras.layers import Dense, Flatten, Conv2D, MaxPooling2D"
      ],
      "execution_count": null,
      "outputs": []
    },
    {
      "cell_type": "markdown",
      "metadata": {
        "id": "1XNJa9jWVN3H",
        "colab_type": "text"
      },
      "source": [
        "#### Build a convolutional neural network model"
      ]
    },
    {
      "cell_type": "code",
      "metadata": {
        "id": "96uUBKWNVN3I",
        "colab_type": "code",
        "colab": {}
      },
      "source": [
        "# Build the Sequential convolutional neural network model\n",
        "\n"
      ],
      "execution_count": null,
      "outputs": []
    },
    {
      "cell_type": "code",
      "metadata": {
        "id": "ObSHMJmxVN3L",
        "colab_type": "code",
        "colab": {}
      },
      "source": [
        "# Print the model summary\n",
        "\n"
      ],
      "execution_count": null,
      "outputs": []
    },
    {
      "cell_type": "markdown",
      "metadata": {
        "id": "ig9cnB2RVN3N",
        "colab_type": "text"
      },
      "source": [
        "***\n",
        "<a id=\"coding_tutorial_3\"></a>\n",
        "## The compile method"
      ]
    },
    {
      "cell_type": "markdown",
      "metadata": {
        "id": "wKuJsaYaVN3O",
        "colab_type": "text"
      },
      "source": [
        "#### Compile the model"
      ]
    },
    {
      "cell_type": "code",
      "metadata": {
        "id": "i5VzJmNMVN3O",
        "colab_type": "code",
        "colab": {}
      },
      "source": [
        "# Define the model optimizer, loss function and metrics\n",
        "\n"
      ],
      "execution_count": null,
      "outputs": []
    },
    {
      "cell_type": "code",
      "metadata": {
        "id": "64JvjnBlVN3Q",
        "colab_type": "code",
        "colab": {}
      },
      "source": [
        "# Print the resulting model attributes\n",
        "\n"
      ],
      "execution_count": null,
      "outputs": []
    },
    {
      "cell_type": "markdown",
      "metadata": {
        "id": "0MEY8bYDVN3S",
        "colab_type": "text"
      },
      "source": [
        "***\n",
        "<a id=\"coding_tutorial_4\"></a>\n",
        "## The fit method"
      ]
    },
    {
      "cell_type": "code",
      "metadata": {
        "id": "4ksbv1P2VN3S",
        "colab_type": "code",
        "colab": {}
      },
      "source": [
        "from tensorflow.keras.preprocessing import image\n",
        "import matplotlib.pyplot as plt\n",
        "import numpy as np\n",
        "import pandas as pd"
      ],
      "execution_count": null,
      "outputs": []
    },
    {
      "cell_type": "markdown",
      "metadata": {
        "id": "4ioLuKSCVN3U",
        "colab_type": "text"
      },
      "source": [
        "#### Load the data"
      ]
    },
    {
      "cell_type": "code",
      "metadata": {
        "id": "L7ne0IllVN3V",
        "colab_type": "code",
        "colab": {}
      },
      "source": [
        "# Load the Fashion-MNIST dataset\n",
        "\n",
        "fashion_mnist_data = tf.keras.datasets.fashion_mnist\n",
        "(train_images, train_labels), (test_images, test_labels) = fashion_mnist_data.load_data()"
      ],
      "execution_count": null,
      "outputs": []
    },
    {
      "cell_type": "code",
      "metadata": {
        "id": "wc-AyP1uVN3X",
        "colab_type": "code",
        "colab": {}
      },
      "source": [
        "# Print the shape of the training data\n",
        "\n"
      ],
      "execution_count": null,
      "outputs": []
    },
    {
      "cell_type": "code",
      "metadata": {
        "id": "HiUhXTHPVN3Z",
        "colab_type": "code",
        "colab": {}
      },
      "source": [
        "# Define the labels\n",
        "\n",
        "labels = [\n",
        "    'T-shirt/top',\n",
        "    'Trouser',\n",
        "    'Pullover',\n",
        "    'Dress',\n",
        "    'Coat',\n",
        "    'Sandal',\n",
        "    'Shirt',\n",
        "    'Sneaker',\n",
        "    'Bag',\n",
        "    'Ankle boot'\n",
        "]"
      ],
      "execution_count": null,
      "outputs": []
    },
    {
      "cell_type": "code",
      "metadata": {
        "id": "gXiiflGsVN3b",
        "colab_type": "code",
        "colab": {}
      },
      "source": [
        "# Rescale the image values so that they lie in between 0 and 1.\n",
        "\n"
      ],
      "execution_count": null,
      "outputs": []
    },
    {
      "cell_type": "code",
      "metadata": {
        "id": "UCfQ0X2VVN3d",
        "colab_type": "code",
        "colab": {}
      },
      "source": [
        "# Display one of the images\n",
        "\n"
      ],
      "execution_count": null,
      "outputs": []
    },
    {
      "cell_type": "markdown",
      "metadata": {
        "id": "8hcEvXJFVN3f",
        "colab_type": "text"
      },
      "source": [
        "#### Fit the model"
      ]
    },
    {
      "cell_type": "code",
      "metadata": {
        "id": "gZbES6XzVN3f",
        "colab_type": "code",
        "colab": {}
      },
      "source": [
        "# Fit the model\n",
        "\n"
      ],
      "execution_count": null,
      "outputs": []
    },
    {
      "cell_type": "markdown",
      "metadata": {
        "id": "tHcKuX1eVN3i",
        "colab_type": "text"
      },
      "source": [
        "#### Plot training history"
      ]
    },
    {
      "cell_type": "code",
      "metadata": {
        "id": "CcfEKq4wVN3i",
        "colab_type": "code",
        "colab": {}
      },
      "source": [
        "# Load the history into a pandas Dataframe\n",
        "\n"
      ],
      "execution_count": null,
      "outputs": []
    },
    {
      "cell_type": "code",
      "metadata": {
        "id": "BjzD-eN2VN3l",
        "colab_type": "code",
        "colab": {}
      },
      "source": [
        "# Make a plot for the loss\n",
        "\n"
      ],
      "execution_count": null,
      "outputs": []
    },
    {
      "cell_type": "code",
      "metadata": {
        "id": "pWbl_6Z2VN3n",
        "colab_type": "code",
        "colab": {}
      },
      "source": [
        "# Make a plot for the accuracy\n",
        "\n"
      ],
      "execution_count": null,
      "outputs": []
    },
    {
      "cell_type": "code",
      "metadata": {
        "id": "vKAYKmLTVN3o",
        "colab_type": "code",
        "colab": {}
      },
      "source": [
        "# Make a plot for the additional metric\n",
        "\n"
      ],
      "execution_count": null,
      "outputs": []
    },
    {
      "cell_type": "markdown",
      "metadata": {
        "id": "nfPKVLLXVN3q",
        "colab_type": "text"
      },
      "source": [
        "***\n",
        "<a id=\"coding_tutorial_5\"></a>\n",
        "## The evaluate and predict methods"
      ]
    },
    {
      "cell_type": "code",
      "metadata": {
        "id": "jArQzZtyVN3q",
        "colab_type": "code",
        "colab": {}
      },
      "source": [
        "import matplotlib.pyplot as plt\n",
        "import numpy as np"
      ],
      "execution_count": null,
      "outputs": []
    },
    {
      "cell_type": "markdown",
      "metadata": {
        "id": "XR7kbUR1VN3t",
        "colab_type": "text"
      },
      "source": [
        "#### Evaluate the model on the test set"
      ]
    },
    {
      "cell_type": "code",
      "metadata": {
        "id": "5H2pIISWVN3t",
        "colab_type": "code",
        "colab": {}
      },
      "source": [
        "# Evaluate the model\n",
        "\n"
      ],
      "execution_count": null,
      "outputs": []
    },
    {
      "cell_type": "markdown",
      "metadata": {
        "id": "_uku8tsSVN3v",
        "colab_type": "text"
      },
      "source": [
        "#### Make predictions from the model"
      ]
    },
    {
      "cell_type": "code",
      "metadata": {
        "id": "IOCRcnQTVN3w",
        "colab_type": "code",
        "colab": {}
      },
      "source": [
        "# Choose a random test image\n",
        "\n",
        "random_inx = np.random.choice(test_images.shape[0])\n",
        "\n",
        "test_image = test_images[random_inx]\n",
        "plt.imshow(test_image)\n",
        "plt.show()\n",
        "print(f\"Label: {labels[test_labels[random_inx]]}\")"
      ],
      "execution_count": null,
      "outputs": []
    },
    {
      "cell_type": "code",
      "metadata": {
        "id": "sTAXXmENVN3z",
        "colab_type": "code",
        "colab": {}
      },
      "source": [
        "# Get the model predictions\n",
        "\n"
      ],
      "execution_count": null,
      "outputs": []
    }
  ]
}