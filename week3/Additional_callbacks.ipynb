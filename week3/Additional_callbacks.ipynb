{
  "nbformat": 4,
  "nbformat_minor": 0,
  "metadata": {
    "kernelspec": {
      "display_name": "Python 3",
      "language": "python",
      "name": "python3"
    },
    "language_info": {
      "codemirror_mode": {
        "name": "ipython",
        "version": 3
      },
      "file_extension": ".py",
      "mimetype": "text/x-python",
      "name": "python",
      "nbconvert_exporter": "python",
      "pygments_lexer": "ipython3",
      "version": "3.7.1"
    },
    "colab": {
      "name": "Additional callbacks.ipynb",
      "provenance": [],
      "include_colab_link": true
    }
  },
  "cells": [
    {
      "cell_type": "markdown",
      "metadata": {
        "id": "view-in-github",
        "colab_type": "text"
      },
      "source": [
        "<a href=\"https://colab.research.google.com/github/ahmed-gharib89/TensorFlow_2_for_Deep_Learning/blob/master/week3/Additional_callbacks.ipynb\" target=\"_parent\"><img src=\"https://colab.research.google.com/assets/colab-badge.svg\" alt=\"Open In Colab\"/></a>"
      ]
    },
    {
      "cell_type": "markdown",
      "metadata": {
        "id": "lPFvURxtrv_Q",
        "colab_type": "text"
      },
      "source": [
        "# Additional callbacks\n",
        "\n",
        "In this reading we'll be looking at more of the inbuilt callbacks available in Keras."
      ]
    },
    {
      "cell_type": "code",
      "metadata": {
        "id": "2uTyDOVQrv_S",
        "colab_type": "code",
        "colab": {
          "base_uri": "https://localhost:8080/",
          "height": 35
        },
        "outputId": "7be39ef3-e5bd-4a61-be86-afd9270f1253"
      },
      "source": [
        "import tensorflow as tf\n",
        "print(tf.__version__)"
      ],
      "execution_count": 1,
      "outputs": [
        {
          "output_type": "stream",
          "text": [
            "2.3.0\n"
          ],
          "name": "stdout"
        }
      ]
    },
    {
      "cell_type": "markdown",
      "metadata": {
        "id": "4jIW-ktUrv_X",
        "colab_type": "text"
      },
      "source": [
        "We will again be using the sklearn diabetes dataset to demonstrate these callbacks."
      ]
    },
    {
      "cell_type": "code",
      "metadata": {
        "id": "heyj2FjNrv_X",
        "colab_type": "code",
        "colab": {}
      },
      "source": [
        "# Load the diabetes dataset\n",
        "\n",
        "from sklearn.datasets import load_diabetes\n",
        "\n",
        "diabetes_dataset = load_diabetes()"
      ],
      "execution_count": 2,
      "outputs": []
    },
    {
      "cell_type": "code",
      "metadata": {
        "id": "xb55Dk55rv_b",
        "colab_type": "code",
        "colab": {}
      },
      "source": [
        "# Save the input and target variables\n",
        "\n",
        "from sklearn.model_selection import train_test_split\n",
        "\n",
        "data = diabetes_dataset['data']\n",
        "targets = diabetes_dataset['target']"
      ],
      "execution_count": 3,
      "outputs": []
    },
    {
      "cell_type": "code",
      "metadata": {
        "id": "IARVMR1erv_e",
        "colab_type": "code",
        "colab": {}
      },
      "source": [
        "# Split the data set into training and test sets\n",
        "\n",
        "train_data, test_data, train_targets, test_targets = train_test_split(data, targets, test_size=0.1)"
      ],
      "execution_count": 4,
      "outputs": []
    },
    {
      "cell_type": "markdown",
      "metadata": {
        "id": "VsaD1y_trv_g",
        "colab_type": "text"
      },
      "source": [
        "Let's also build a simple model to fit to the data with our callbacks."
      ]
    },
    {
      "cell_type": "code",
      "metadata": {
        "id": "Qg3-PwOirv_h",
        "colab_type": "code",
        "colab": {}
      },
      "source": [
        "# Build the model\n",
        "\n",
        "from tensorflow.keras.models import Sequential\n",
        "from tensorflow.keras.layers import Dense\n",
        "\n",
        "model = tf.keras.Sequential([\n",
        "    Dense(128, activation='relu', input_shape=(train_data.shape[1],)),\n",
        "    Dense(64,activation='relu'),\n",
        "    Dense(64, activation='relu'),\n",
        "    Dense(64, activation='relu'),\n",
        "    Dense(1)        \n",
        "])"
      ],
      "execution_count": 5,
      "outputs": []
    },
    {
      "cell_type": "code",
      "metadata": {
        "id": "CkTY_Gs3rv_m",
        "colab_type": "code",
        "colab": {}
      },
      "source": [
        "# Compile the model\n",
        "\n",
        "model.compile(loss='mse',\n",
        "                optimizer=\"adam\",metrics=[\"mse\",\"mae\"])"
      ],
      "execution_count": 6,
      "outputs": []
    },
    {
      "cell_type": "markdown",
      "metadata": {
        "id": "s4KBbguQrv_r",
        "colab_type": "text"
      },
      "source": [
        "Now onto the callbacks!"
      ]
    },
    {
      "cell_type": "markdown",
      "metadata": {
        "id": "AYvsNcPOrv_s",
        "colab_type": "text"
      },
      "source": [
        "## Learning rate scheduler\n",
        "\n",
        "**Usage:** `tf.keras.callbacks.LearningRateScheduler(schedule, verbose=0)`\n",
        "\n",
        "The learning rate scheduler that we implemented in the previous reading as a custom callback is also available as a built in callback. \n",
        "\n",
        "As in our custom callback, the `LearningRateScheduler` in Keras takes a function `schedule` as an argument. \n",
        "\n",
        "This function `schedule` should take two arguments:\n",
        "* The current epoch (as an integer), and\n",
        "* The current learning rate,\n",
        "\n",
        "and return new learning rate for that epoch. \n",
        "\n",
        "The `LearningRateScheduler` also has an optional `verbose` argument, which prints information about the learning rate if it is set to 1.\n",
        "\n",
        "Let's see a simple example."
      ]
    },
    {
      "cell_type": "code",
      "metadata": {
        "id": "qkc1uF8hrv_s",
        "colab_type": "code",
        "colab": {}
      },
      "source": [
        "# Define the learning rate schedule function\n",
        "\n",
        "def lr_function(epoch, lr):\n",
        "    if epoch % 2 == 0:\n",
        "        return lr\n",
        "    else:\n",
        "        return lr + epoch/1000"
      ],
      "execution_count": 7,
      "outputs": []
    },
    {
      "cell_type": "code",
      "metadata": {
        "id": "TH6pPqGSrv_v",
        "colab_type": "code",
        "colab": {
          "base_uri": "https://localhost:8080/",
          "height": 364
        },
        "outputId": "d8364432-5306-448f-b89f-8bd4a1ef22f9"
      },
      "source": [
        "# Train the model\n",
        "\n",
        "history = model.fit(train_data, train_targets, epochs=10,\n",
        "                    callbacks=[tf.keras.callbacks.LearningRateScheduler(lr_function, verbose=1)], verbose=False)"
      ],
      "execution_count": 8,
      "outputs": [
        {
          "output_type": "stream",
          "text": [
            "\n",
            "Epoch 00001: LearningRateScheduler reducing learning rate to 0.0010000000474974513.\n",
            "\n",
            "Epoch 00002: LearningRateScheduler reducing learning rate to 0.0020000000474974513.\n",
            "\n",
            "Epoch 00003: LearningRateScheduler reducing learning rate to 0.0020000000949949026.\n",
            "\n",
            "Epoch 00004: LearningRateScheduler reducing learning rate to 0.005000000094994903.\n",
            "\n",
            "Epoch 00005: LearningRateScheduler reducing learning rate to 0.004999999888241291.\n",
            "\n",
            "Epoch 00006: LearningRateScheduler reducing learning rate to 0.009999999888241292.\n",
            "\n",
            "Epoch 00007: LearningRateScheduler reducing learning rate to 0.009999999776482582.\n",
            "\n",
            "Epoch 00008: LearningRateScheduler reducing learning rate to 0.01699999977648258.\n",
            "\n",
            "Epoch 00009: LearningRateScheduler reducing learning rate to 0.016999999061226845.\n",
            "\n",
            "Epoch 00010: LearningRateScheduler reducing learning rate to 0.025999999061226846.\n"
          ],
          "name": "stdout"
        }
      ]
    },
    {
      "cell_type": "markdown",
      "metadata": {
        "id": "eOYz4Xu-rv_y",
        "colab_type": "text"
      },
      "source": [
        "You can also use lambda functions to define your `schedule` given an epoch."
      ]
    },
    {
      "cell_type": "code",
      "metadata": {
        "id": "k4ZSR7iSrv_y",
        "colab_type": "code",
        "colab": {
          "base_uri": "https://localhost:8080/",
          "height": 364
        },
        "outputId": "78d6c53f-57fc-4117-9bd9-91d43ff15619"
      },
      "source": [
        "# Train the model with a difference schedule\n",
        "\n",
        "history = model.fit(train_data, train_targets, epochs=10,\n",
        "                    callbacks=[tf.keras.callbacks.LearningRateScheduler(lambda x:1/(3+5*x), verbose=1)], \n",
        "                    verbose=False)"
      ],
      "execution_count": 9,
      "outputs": [
        {
          "output_type": "stream",
          "text": [
            "\n",
            "Epoch 00001: LearningRateScheduler reducing learning rate to 0.3333333333333333.\n",
            "\n",
            "Epoch 00002: LearningRateScheduler reducing learning rate to 0.125.\n",
            "\n",
            "Epoch 00003: LearningRateScheduler reducing learning rate to 0.07692307692307693.\n",
            "\n",
            "Epoch 00004: LearningRateScheduler reducing learning rate to 0.05555555555555555.\n",
            "\n",
            "Epoch 00005: LearningRateScheduler reducing learning rate to 0.043478260869565216.\n",
            "\n",
            "Epoch 00006: LearningRateScheduler reducing learning rate to 0.03571428571428571.\n",
            "\n",
            "Epoch 00007: LearningRateScheduler reducing learning rate to 0.030303030303030304.\n",
            "\n",
            "Epoch 00008: LearningRateScheduler reducing learning rate to 0.02631578947368421.\n",
            "\n",
            "Epoch 00009: LearningRateScheduler reducing learning rate to 0.023255813953488372.\n",
            "\n",
            "Epoch 00010: LearningRateScheduler reducing learning rate to 0.020833333333333332.\n"
          ],
          "name": "stdout"
        }
      ]
    },
    {
      "cell_type": "markdown",
      "metadata": {
        "id": "M881vGs3rv_1",
        "colab_type": "text"
      },
      "source": [
        "## CSV logger\n",
        "**Usage** `tf.keras.callbacks.CSVLogger(filename, separator=',', append=False)`\n",
        "\n",
        "This callback streams the results from each epoch into a CSV file.\n",
        "The first line of the CSV file will be the names of pieces of information recorded on each subsequent line, beginning with the epoch and loss value. The values of metrics at the end of each epoch will also be recorded.\n",
        "\n",
        "The only compulsory argument is the `filename` for the log to be streamed to. This could also be a filepath.\n",
        "\n",
        "You can also specify the `separator` to be used between entries on each line.\n",
        "\n",
        "The `append` argument allows you the option to append your results to an existing file with the same name. This can be particularly useful if you are continuing training.\n",
        "\n",
        "Let's see an example."
      ]
    },
    {
      "cell_type": "code",
      "metadata": {
        "id": "z0ZjcS6arv_1",
        "colab_type": "code",
        "colab": {}
      },
      "source": [
        "# Train the model with a CSV logger\n",
        "\n",
        "history = model.fit(train_data, train_targets, epochs=10,\n",
        "                    callbacks=[tf.keras.callbacks.CSVLogger(\"results.csv\")], verbose=False)"
      ],
      "execution_count": 10,
      "outputs": []
    },
    {
      "cell_type": "markdown",
      "metadata": {
        "id": "0sgmciSBrv_4",
        "colab_type": "text"
      },
      "source": [
        "Let's view the information in the CSV file we have created using `pandas`."
      ]
    },
    {
      "cell_type": "code",
      "metadata": {
        "id": "f7Ko77u6rv_5",
        "colab_type": "code",
        "colab": {
          "base_uri": "https://localhost:8080/",
          "height": 386
        },
        "outputId": "8f20d795-cdff-4199-a235-e7a8c6cd687b"
      },
      "source": [
        "# Load the CSV\n",
        "\n",
        "import pandas as pd\n",
        "\n",
        "pd.read_csv(\"results.csv\", index_col='epoch')"
      ],
      "execution_count": 11,
      "outputs": [
        {
          "output_type": "execute_result",
          "data": {
            "text/html": [
              "<div>\n",
              "<style scoped>\n",
              "    .dataframe tbody tr th:only-of-type {\n",
              "        vertical-align: middle;\n",
              "    }\n",
              "\n",
              "    .dataframe tbody tr th {\n",
              "        vertical-align: top;\n",
              "    }\n",
              "\n",
              "    .dataframe thead th {\n",
              "        text-align: right;\n",
              "    }\n",
              "</style>\n",
              "<table border=\"1\" class=\"dataframe\">\n",
              "  <thead>\n",
              "    <tr style=\"text-align: right;\">\n",
              "      <th></th>\n",
              "      <th>loss</th>\n",
              "      <th>mae</th>\n",
              "      <th>mse</th>\n",
              "    </tr>\n",
              "    <tr>\n",
              "      <th>epoch</th>\n",
              "      <th></th>\n",
              "      <th></th>\n",
              "      <th></th>\n",
              "    </tr>\n",
              "  </thead>\n",
              "  <tbody>\n",
              "    <tr>\n",
              "      <th>0</th>\n",
              "      <td>3762.516113</td>\n",
              "      <td>51.038486</td>\n",
              "      <td>3762.516113</td>\n",
              "    </tr>\n",
              "    <tr>\n",
              "      <th>1</th>\n",
              "      <td>3587.174072</td>\n",
              "      <td>49.025154</td>\n",
              "      <td>3587.174072</td>\n",
              "    </tr>\n",
              "    <tr>\n",
              "      <th>2</th>\n",
              "      <td>3496.106689</td>\n",
              "      <td>47.993664</td>\n",
              "      <td>3496.106689</td>\n",
              "    </tr>\n",
              "    <tr>\n",
              "      <th>3</th>\n",
              "      <td>3406.224609</td>\n",
              "      <td>48.268753</td>\n",
              "      <td>3406.224609</td>\n",
              "    </tr>\n",
              "    <tr>\n",
              "      <th>4</th>\n",
              "      <td>3277.703369</td>\n",
              "      <td>46.770687</td>\n",
              "      <td>3277.703369</td>\n",
              "    </tr>\n",
              "    <tr>\n",
              "      <th>5</th>\n",
              "      <td>3263.893066</td>\n",
              "      <td>47.000122</td>\n",
              "      <td>3263.893066</td>\n",
              "    </tr>\n",
              "    <tr>\n",
              "      <th>6</th>\n",
              "      <td>3172.283447</td>\n",
              "      <td>45.829010</td>\n",
              "      <td>3172.283447</td>\n",
              "    </tr>\n",
              "    <tr>\n",
              "      <th>7</th>\n",
              "      <td>3177.411133</td>\n",
              "      <td>45.840908</td>\n",
              "      <td>3177.411133</td>\n",
              "    </tr>\n",
              "    <tr>\n",
              "      <th>8</th>\n",
              "      <td>3135.118164</td>\n",
              "      <td>45.691715</td>\n",
              "      <td>3135.118164</td>\n",
              "    </tr>\n",
              "    <tr>\n",
              "      <th>9</th>\n",
              "      <td>3070.971436</td>\n",
              "      <td>45.217102</td>\n",
              "      <td>3070.971436</td>\n",
              "    </tr>\n",
              "  </tbody>\n",
              "</table>\n",
              "</div>"
            ],
            "text/plain": [
              "              loss        mae          mse\n",
              "epoch                                     \n",
              "0      3762.516113  51.038486  3762.516113\n",
              "1      3587.174072  49.025154  3587.174072\n",
              "2      3496.106689  47.993664  3496.106689\n",
              "3      3406.224609  48.268753  3406.224609\n",
              "4      3277.703369  46.770687  3277.703369\n",
              "5      3263.893066  47.000122  3263.893066\n",
              "6      3172.283447  45.829010  3172.283447\n",
              "7      3177.411133  45.840908  3177.411133\n",
              "8      3135.118164  45.691715  3135.118164\n",
              "9      3070.971436  45.217102  3070.971436"
            ]
          },
          "metadata": {
            "tags": []
          },
          "execution_count": 11
        }
      ]
    },
    {
      "cell_type": "markdown",
      "metadata": {
        "id": "pNoTOrjkrv_7",
        "colab_type": "text"
      },
      "source": [
        "## Lambda callbacks\n",
        "**Usage** `tf.keras.callbacks.LambdaCallback(\n",
        "        on_epoch_begin=None, on_epoch_end=None, \n",
        "        on_batch_begin=None, on_batch_end=None, \n",
        "        on_train_begin=None, on_train_end=None)`\n",
        "\n",
        "Lambda callbacks are used to quickly define simple custom callbacks with the use of lambda functions.\n",
        "\n",
        "Each of the functions require some positional arguments.\n",
        "* `on_epoch_begin` and `on_epoch_end` expect two arguments: `epoch` and `logs`,\n",
        "* `on_batch_begin` and `on_batch_end` expect two arguments: `batch` and `logs` and\n",
        "* `on_train_begin` and `on_train_end` expect one argument: `logs`.\n",
        "\n",
        "Let's see an example of this in practice."
      ]
    },
    {
      "cell_type": "code",
      "metadata": {
        "id": "hN2qTorGrv_8",
        "colab_type": "code",
        "colab": {}
      },
      "source": [
        "# Print the epoch number at the beginning of each epoch\n",
        "\n",
        "epoch_callback = tf.keras.callbacks.LambdaCallback(\n",
        "    on_epoch_begin=lambda epoch,logs: print('Starting Epoch {}!'.format(epoch+1)))"
      ],
      "execution_count": 12,
      "outputs": []
    },
    {
      "cell_type": "code",
      "metadata": {
        "id": "ncmkErw2rwAB",
        "colab_type": "code",
        "colab": {}
      },
      "source": [
        "# Print the loss at the end of each batch\n",
        "\n",
        "batch_loss_callback = tf.keras.callbacks.LambdaCallback(\n",
        "    on_batch_end=lambda batch,logs: print('\\n After batch {}, the loss is {:7.2f}.'.format(batch, logs['loss'])))"
      ],
      "execution_count": 13,
      "outputs": []
    },
    {
      "cell_type": "code",
      "metadata": {
        "id": "xfrq6eaGrwAH",
        "colab_type": "code",
        "colab": {}
      },
      "source": [
        "# Inform that training is finished\n",
        "\n",
        "train_finish_callback = tf.keras.callbacks.LambdaCallback(\n",
        "    on_train_end=lambda logs: print('Training finished!'))"
      ],
      "execution_count": 14,
      "outputs": []
    },
    {
      "cell_type": "code",
      "metadata": {
        "id": "n_zQAdCnrwAL",
        "colab_type": "code",
        "colab": {
          "base_uri": "https://localhost:8080/",
          "height": 815
        },
        "outputId": "169fe456-63c8-4215-c4c8-e7e41888cadc"
      },
      "source": [
        "# Train the model with the lambda callbacks\n",
        "\n",
        "history = model.fit(train_data, train_targets, epochs=5, batch_size=100,\n",
        "                    callbacks=[epoch_callback, batch_loss_callback,train_finish_callback], verbose=False)"
      ],
      "execution_count": 15,
      "outputs": [
        {
          "output_type": "stream",
          "text": [
            "Starting Epoch 1!\n",
            "\n",
            " After batch 0, the loss is 2786.34.\n",
            "\n",
            " After batch 1, the loss is 3175.57.\n",
            "\n",
            " After batch 2, the loss is 3147.72.\n",
            "\n",
            " After batch 3, the loss is 3062.86.\n",
            "Starting Epoch 2!\n",
            "\n",
            " After batch 0, the loss is 2953.32.\n",
            "\n",
            " After batch 1, the loss is 2888.91.\n",
            "\n",
            " After batch 2, the loss is 3089.18.\n",
            "\n",
            " After batch 3, the loss is 3067.14.\n",
            "Starting Epoch 3!\n",
            "\n",
            " After batch 0, the loss is 3166.35.\n",
            "\n",
            " After batch 1, the loss is 2904.62.\n",
            "\n",
            " After batch 2, the loss is 2932.93.\n",
            "\n",
            " After batch 3, the loss is 3048.90.\n",
            "Starting Epoch 4!\n",
            "\n",
            " After batch 0, the loss is 2855.71.\n",
            "\n",
            " After batch 1, the loss is 3165.30.\n",
            "\n",
            " After batch 2, the loss is 3131.73.\n",
            "\n",
            " After batch 3, the loss is 3037.21.\n",
            "Starting Epoch 5!\n",
            "\n",
            " After batch 0, the loss is 3108.46.\n",
            "\n",
            " After batch 1, the loss is 3032.52.\n",
            "\n",
            " After batch 2, the loss is 3140.08.\n",
            "\n",
            " After batch 3, the loss is 3033.24.\n",
            "Training finished!\n"
          ],
          "name": "stdout"
        }
      ]
    },
    {
      "cell_type": "markdown",
      "metadata": {
        "id": "nNWOiyihrwAN",
        "colab_type": "text"
      },
      "source": [
        "## Reduce learning rate on plateau\n",
        "**Usage** `tf.keras.callbacks.ReduceLROnPlateau(\n",
        "            monitor='val_loss', \n",
        "            factor=0.1, \n",
        "            patience=10, \n",
        "            verbose=0, \n",
        "            mode='auto', \n",
        "            min_delta=0.0001, \n",
        "            cooldown=0, \n",
        "            min_lr=0)`\n",
        "\n",
        "The `ReduceLROnPlateau` callback allows reduction of the learning rate when a metric has stopped improving. \n",
        "The arguments are similar to those used in the `EarlyStopping` callback.\n",
        "* The argument `monitor` is used to specify which metric to base the callback on.\n",
        "* The `factor` is the factor by which the learning rate decreases i.e., new_lr=factor*old_lr.\n",
        "* The `patience` is the number of epochs where there is no improvement on the monitored metric before the learning rate is reduced.\n",
        "* The `verbose` argument will produce progress messages when set to 1.\n",
        "* The `mode` determines whether the learning rate will decrease when the monitored quantity stops increasing (`max`) or decreasing (`min`). The `auto` setting causes the callback to infer the mode from the monitored quantity.\n",
        "* The `min_delta` is the smallest change in the monitored quantity to be deemed an improvement.\n",
        "* The `cooldown` is the number of epochs to wait after the learning rate is changed before the callback resumes normal operation.\n",
        "* The `min_lr` is a lower bound on the learning rate that the callback will produce.\n",
        "\n",
        "Let's examine a final example."
      ]
    },
    {
      "cell_type": "code",
      "metadata": {
        "id": "yekIRXIRrwAO",
        "colab_type": "code",
        "colab": {
          "base_uri": "https://localhost:8080/",
          "height": 1000
        },
        "outputId": "bef6ce24-1b69-4dc0-bf4c-cf14a6eb26fc"
      },
      "source": [
        "# Train the model with the ReduceLROnPlateau callback\n",
        "\n",
        "history = model.fit(train_data, train_targets, epochs=100, batch_size=100,\n",
        "                    callbacks=[tf.keras.callbacks.ReduceLROnPlateau(\n",
        "                        monitor=\"loss\",factor=0.2, verbose=1)], verbose=1)"
      ],
      "execution_count": 17,
      "outputs": [
        {
          "output_type": "stream",
          "text": [
            "Epoch 1/100\n",
            "4/4 [==============================] - 0s 3ms/step - loss: 2859.6489 - mse: 2859.6489 - mae: 42.9066\n",
            "Epoch 2/100\n",
            "4/4 [==============================] - 0s 2ms/step - loss: 2907.1184 - mse: 2907.1184 - mae: 43.2637\n",
            "Epoch 3/100\n",
            "4/4 [==============================] - 0s 3ms/step - loss: 2848.8511 - mse: 2848.8511 - mae: 42.8014\n",
            "Epoch 4/100\n",
            "4/4 [==============================] - 0s 3ms/step - loss: 2909.9045 - mse: 2909.9045 - mae: 43.2677\n",
            "Epoch 5/100\n",
            "4/4 [==============================] - 0s 2ms/step - loss: 2872.4021 - mse: 2872.4023 - mae: 42.9906\n",
            "Epoch 6/100\n",
            "4/4 [==============================] - 0s 2ms/step - loss: 2870.4226 - mse: 2870.4226 - mae: 43.0258\n",
            "Epoch 7/100\n",
            "4/4 [==============================] - 0s 2ms/step - loss: 2869.8142 - mse: 2869.8142 - mae: 43.0165\n",
            "Epoch 8/100\n",
            "4/4 [==============================] - 0s 2ms/step - loss: 2850.8684 - mse: 2850.8684 - mae: 42.8554\n",
            "Epoch 9/100\n",
            "4/4 [==============================] - 0s 2ms/step - loss: 2867.4409 - mse: 2867.4409 - mae: 42.9885\n",
            "Epoch 10/100\n",
            "4/4 [==============================] - 0s 2ms/step - loss: 2866.7019 - mse: 2866.7019 - mae: 42.9824\n",
            "Epoch 11/100\n",
            "4/4 [==============================] - 0s 2ms/step - loss: 2887.6624 - mse: 2887.6624 - mae: 43.1579\n",
            "Epoch 12/100\n",
            "4/4 [==============================] - 0s 2ms/step - loss: 2866.2205 - mse: 2866.2205 - mae: 42.9707\n",
            "Epoch 13/100\n",
            "1/4 [======>.......................] - ETA: 0s - loss: 3619.2400 - mse: 3619.2400 - mae: 48.3051\n",
            "Epoch 00013: ReduceLROnPlateau reducing learning rate to 0.00416666679084301.\n",
            "4/4 [==============================] - 0s 5ms/step - loss: 2900.9785 - mse: 2900.9785 - mae: 43.1817\n",
            "Epoch 14/100\n",
            "4/4 [==============================] - 0s 3ms/step - loss: 2887.0933 - mse: 2887.0933 - mae: 43.1025\n",
            "Epoch 15/100\n",
            "4/4 [==============================] - 0s 2ms/step - loss: 2866.6448 - mse: 2866.6448 - mae: 42.9836\n",
            "Epoch 16/100\n",
            "4/4 [==============================] - 0s 2ms/step - loss: 2865.8979 - mse: 2865.8979 - mae: 42.9234\n",
            "Epoch 17/100\n",
            "4/4 [==============================] - 0s 3ms/step - loss: 2856.6013 - mse: 2856.6013 - mae: 42.8712\n",
            "Epoch 18/100\n",
            "4/4 [==============================] - 0s 3ms/step - loss: 2860.2393 - mse: 2860.2393 - mae: 42.9038\n",
            "Epoch 19/100\n",
            "4/4 [==============================] - 0s 3ms/step - loss: 2861.2708 - mse: 2861.2708 - mae: 42.9073\n",
            "Epoch 20/100\n",
            "4/4 [==============================] - 0s 3ms/step - loss: 2858.6682 - mse: 2858.6682 - mae: 42.8926\n",
            "Epoch 21/100\n",
            "4/4 [==============================] - 0s 3ms/step - loss: 2857.4631 - mse: 2857.4631 - mae: 42.8864\n",
            "Epoch 22/100\n",
            "4/4 [==============================] - 0s 3ms/step - loss: 2857.0276 - mse: 2857.0276 - mae: 42.8814\n",
            "Epoch 23/100\n",
            "1/4 [======>.......................] - ETA: 0s - loss: 3162.0159 - mse: 3162.0159 - mae: 44.2353\n",
            "Epoch 00023: ReduceLROnPlateau reducing learning rate to 0.0008333333767950535.\n",
            "4/4 [==============================] - 0s 3ms/step - loss: 2856.6121 - mse: 2856.6121 - mae: 42.8744\n",
            "Epoch 24/100\n",
            "4/4 [==============================] - 0s 3ms/step - loss: 2856.6311 - mse: 2856.6311 - mae: 42.8732\n",
            "Epoch 25/100\n",
            "4/4 [==============================] - 0s 3ms/step - loss: 2856.7620 - mse: 2856.7620 - mae: 42.8736\n",
            "Epoch 26/100\n",
            "4/4 [==============================] - 0s 3ms/step - loss: 2856.5986 - mse: 2856.5986 - mae: 42.8715\n",
            "Epoch 27/100\n",
            "4/4 [==============================] - 0s 3ms/step - loss: 2856.7080 - mse: 2856.7078 - mae: 42.8727\n",
            "Epoch 28/100\n",
            "4/4 [==============================] - 0s 3ms/step - loss: 2856.8162 - mse: 2856.8162 - mae: 42.8753\n",
            "Epoch 29/100\n",
            "4/4 [==============================] - 0s 2ms/step - loss: 2856.4932 - mse: 2856.4934 - mae: 42.8702\n",
            "Epoch 30/100\n",
            "4/4 [==============================] - 0s 3ms/step - loss: 2856.4370 - mse: 2856.4370 - mae: 42.8705\n",
            "Epoch 31/100\n",
            "4/4 [==============================] - 0s 3ms/step - loss: 2856.9102 - mse: 2856.9102 - mae: 42.8743\n",
            "Epoch 32/100\n",
            "4/4 [==============================] - 0s 3ms/step - loss: 2856.4790 - mse: 2856.4790 - mae: 42.8694\n",
            "Epoch 33/100\n",
            "1/4 [======>.......................] - ETA: 0s - loss: 3199.4844 - mse: 3199.4844 - mae: 44.2627\n",
            "Epoch 00033: ReduceLROnPlateau reducing learning rate to 0.00016666667070239783.\n",
            "4/4 [==============================] - 0s 5ms/step - loss: 2856.7683 - mse: 2856.7683 - mae: 42.8718\n",
            "Epoch 34/100\n",
            "4/4 [==============================] - 0s 2ms/step - loss: 2856.4600 - mse: 2856.4600 - mae: 42.8681\n",
            "Epoch 35/100\n",
            "4/4 [==============================] - 0s 2ms/step - loss: 2856.3953 - mse: 2856.3953 - mae: 42.8678\n",
            "Epoch 36/100\n",
            "4/4 [==============================] - 0s 2ms/step - loss: 2856.4285 - mse: 2856.4285 - mae: 42.8680\n",
            "Epoch 37/100\n",
            "4/4 [==============================] - 0s 2ms/step - loss: 2856.4097 - mse: 2856.4097 - mae: 42.8680\n",
            "Epoch 38/100\n",
            "4/4 [==============================] - 0s 2ms/step - loss: 2856.3845 - mse: 2856.3845 - mae: 42.8676\n",
            "Epoch 39/100\n",
            "4/4 [==============================] - 0s 3ms/step - loss: 2856.3979 - mse: 2856.3979 - mae: 42.8676\n",
            "Epoch 40/100\n",
            "4/4 [==============================] - 0s 3ms/step - loss: 2856.4153 - mse: 2856.4150 - mae: 42.8681\n",
            "Epoch 41/100\n",
            "4/4 [==============================] - 0s 2ms/step - loss: 2856.3848 - mse: 2856.3850 - mae: 42.8675\n",
            "Epoch 42/100\n",
            "4/4 [==============================] - 0s 3ms/step - loss: 2856.3774 - mse: 2856.3774 - mae: 42.8673\n",
            "Epoch 43/100\n",
            "1/4 [======>.......................] - ETA: 0s - loss: 2929.6213 - mse: 2929.6213 - mae: 43.2661\n",
            "Epoch 00043: ReduceLROnPlateau reducing learning rate to 3.333333297632635e-05.\n",
            "4/4 [==============================] - 0s 3ms/step - loss: 2856.3665 - mse: 2856.3665 - mae: 42.8673\n",
            "Epoch 44/100\n",
            "4/4 [==============================] - 0s 3ms/step - loss: 2856.3689 - mse: 2856.3689 - mae: 42.8673\n",
            "Epoch 45/100\n",
            "4/4 [==============================] - 0s 3ms/step - loss: 2856.3628 - mse: 2856.3628 - mae: 42.8672\n",
            "Epoch 46/100\n",
            "4/4 [==============================] - 0s 2ms/step - loss: 2856.3655 - mse: 2856.3655 - mae: 42.8673\n",
            "Epoch 47/100\n",
            "4/4 [==============================] - 0s 2ms/step - loss: 2856.3621 - mse: 2856.3621 - mae: 42.8672\n",
            "Epoch 48/100\n",
            "4/4 [==============================] - 0s 2ms/step - loss: 2856.3594 - mse: 2856.3594 - mae: 42.8672\n",
            "Epoch 49/100\n",
            "4/4 [==============================] - 0s 2ms/step - loss: 2856.3650 - mse: 2856.3650 - mae: 42.8672\n",
            "Epoch 50/100\n",
            "4/4 [==============================] - 0s 3ms/step - loss: 2856.3621 - mse: 2856.3621 - mae: 42.8672\n",
            "Epoch 51/100\n",
            "4/4 [==============================] - 0s 3ms/step - loss: 2856.3630 - mse: 2856.3630 - mae: 42.8673\n",
            "Epoch 52/100\n",
            "4/4 [==============================] - 0s 2ms/step - loss: 2856.3574 - mse: 2856.3574 - mae: 42.8672\n",
            "Epoch 53/100\n",
            "1/4 [======>.......................] - ETA: 0s - loss: 2607.9446 - mse: 2607.9446 - mae: 39.5762\n",
            "Epoch 00053: ReduceLROnPlateau reducing learning rate to 6.666666740784422e-06.\n",
            "4/4 [==============================] - 0s 3ms/step - loss: 2856.3589 - mse: 2856.3589 - mae: 42.8672\n",
            "Epoch 54/100\n",
            "4/4 [==============================] - 0s 3ms/step - loss: 2856.3562 - mse: 2856.3562 - mae: 42.8671\n",
            "Epoch 55/100\n",
            "4/4 [==============================] - 0s 2ms/step - loss: 2856.3564 - mse: 2856.3564 - mae: 42.8671\n",
            "Epoch 56/100\n",
            "4/4 [==============================] - 0s 3ms/step - loss: 2856.3589 - mse: 2856.3589 - mae: 42.8671\n",
            "Epoch 57/100\n",
            "4/4 [==============================] - 0s 2ms/step - loss: 2856.3569 - mse: 2856.3569 - mae: 42.8671\n",
            "Epoch 58/100\n",
            "4/4 [==============================] - 0s 3ms/step - loss: 2856.3579 - mse: 2856.3579 - mae: 42.8671\n",
            "Epoch 59/100\n",
            "4/4 [==============================] - 0s 3ms/step - loss: 2856.3564 - mse: 2856.3567 - mae: 42.8671\n",
            "Epoch 60/100\n",
            "4/4 [==============================] - 0s 3ms/step - loss: 2856.3569 - mse: 2856.3569 - mae: 42.8671\n",
            "Epoch 61/100\n",
            "4/4 [==============================] - 0s 3ms/step - loss: 2856.3564 - mse: 2856.3564 - mae: 42.8671\n",
            "Epoch 62/100\n",
            "4/4 [==============================] - 0s 2ms/step - loss: 2856.3569 - mse: 2856.3569 - mae: 42.8671\n",
            "Epoch 63/100\n",
            "1/4 [======>.......................] - ETA: 0s - loss: 2750.7314 - mse: 2750.7314 - mae: 40.8674\n",
            "Epoch 00063: ReduceLROnPlateau reducing learning rate to 1.3333333299669903e-06.\n",
            "4/4 [==============================] - 0s 3ms/step - loss: 2856.3569 - mse: 2856.3569 - mae: 42.8671\n",
            "Epoch 64/100\n",
            "4/4 [==============================] - 0s 3ms/step - loss: 2856.3567 - mse: 2856.3567 - mae: 42.8671\n",
            "Epoch 65/100\n",
            "4/4 [==============================] - 0s 3ms/step - loss: 2856.3562 - mse: 2856.3562 - mae: 42.8671\n",
            "Epoch 66/100\n",
            "4/4 [==============================] - 0s 3ms/step - loss: 2856.3557 - mse: 2856.3557 - mae: 42.8671\n",
            "Epoch 67/100\n",
            "4/4 [==============================] - 0s 3ms/step - loss: 2856.3562 - mse: 2856.3562 - mae: 42.8671\n",
            "Epoch 68/100\n",
            "4/4 [==============================] - 0s 3ms/step - loss: 2856.3557 - mse: 2856.3557 - mae: 42.8671\n",
            "Epoch 69/100\n",
            "4/4 [==============================] - 0s 3ms/step - loss: 2856.3557 - mse: 2856.3557 - mae: 42.8671\n",
            "Epoch 70/100\n",
            "4/4 [==============================] - 0s 3ms/step - loss: 2856.3557 - mse: 2856.3557 - mae: 42.8671\n",
            "Epoch 71/100\n",
            "4/4 [==============================] - 0s 3ms/step - loss: 2856.3562 - mse: 2856.3562 - mae: 42.8671\n",
            "Epoch 72/100\n",
            "4/4 [==============================] - 0s 3ms/step - loss: 2856.3564 - mse: 2856.3564 - mae: 42.8671\n",
            "Epoch 73/100\n",
            "1/4 [======>.......................] - ETA: 0s - loss: 2766.6860 - mse: 2766.6860 - mae: 41.3315\n",
            "Epoch 00073: ReduceLROnPlateau reducing learning rate to 2.666666659933981e-07.\n",
            "4/4 [==============================] - 0s 3ms/step - loss: 2856.3557 - mse: 2856.3557 - mae: 42.8671\n",
            "Epoch 74/100\n",
            "4/4 [==============================] - 0s 2ms/step - loss: 2856.3555 - mse: 2856.3555 - mae: 42.8671\n",
            "Epoch 75/100\n",
            "4/4 [==============================] - 0s 3ms/step - loss: 2856.3555 - mse: 2856.3555 - mae: 42.8671\n",
            "Epoch 76/100\n",
            "4/4 [==============================] - 0s 3ms/step - loss: 2856.3555 - mse: 2856.3555 - mae: 42.8671\n",
            "Epoch 77/100\n",
            "4/4 [==============================] - 0s 3ms/step - loss: 2856.3555 - mse: 2856.3555 - mae: 42.8671\n",
            "Epoch 78/100\n",
            "4/4 [==============================] - 0s 4ms/step - loss: 2856.3552 - mse: 2856.3555 - mae: 42.8671\n",
            "Epoch 79/100\n",
            "4/4 [==============================] - 0s 2ms/step - loss: 2856.3555 - mse: 2856.3555 - mae: 42.8671\n",
            "Epoch 80/100\n",
            "4/4 [==============================] - 0s 2ms/step - loss: 2856.3555 - mse: 2856.3555 - mae: 42.8671\n",
            "Epoch 81/100\n",
            "4/4 [==============================] - 0s 3ms/step - loss: 2856.3555 - mse: 2856.3555 - mae: 42.8671\n",
            "Epoch 82/100\n",
            "4/4 [==============================] - 0s 2ms/step - loss: 2856.3552 - mse: 2856.3552 - mae: 42.8671\n",
            "Epoch 83/100\n",
            "1/4 [======>.......................] - ETA: 0s - loss: 2701.4248 - mse: 2701.4248 - mae: 42.2946\n",
            "Epoch 00083: ReduceLROnPlateau reducing learning rate to 5.3333332061811235e-08.\n",
            "4/4 [==============================] - 0s 3ms/step - loss: 2856.3555 - mse: 2856.3555 - mae: 42.8671\n",
            "Epoch 84/100\n",
            "4/4 [==============================] - 0s 2ms/step - loss: 2856.3552 - mse: 2856.3552 - mae: 42.8671\n",
            "Epoch 85/100\n",
            "4/4 [==============================] - 0s 2ms/step - loss: 2856.3555 - mse: 2856.3555 - mae: 42.8671\n",
            "Epoch 86/100\n",
            "4/4 [==============================] - 0s 2ms/step - loss: 2856.3555 - mse: 2856.3557 - mae: 42.8671\n",
            "Epoch 87/100\n",
            "4/4 [==============================] - 0s 3ms/step - loss: 2856.3555 - mse: 2856.3555 - mae: 42.8671\n",
            "Epoch 88/100\n",
            "4/4 [==============================] - 0s 2ms/step - loss: 2856.3552 - mse: 2856.3552 - mae: 42.8671\n",
            "Epoch 89/100\n",
            "4/4 [==============================] - 0s 3ms/step - loss: 2856.3555 - mse: 2856.3557 - mae: 42.8671\n",
            "Epoch 90/100\n",
            "4/4 [==============================] - 0s 3ms/step - loss: 2856.3557 - mse: 2856.3557 - mae: 42.8671\n",
            "Epoch 91/100\n",
            "4/4 [==============================] - 0s 3ms/step - loss: 2856.3552 - mse: 2856.3552 - mae: 42.8671\n",
            "Epoch 92/100\n",
            "4/4 [==============================] - 0s 2ms/step - loss: 2856.3555 - mse: 2856.3555 - mae: 42.8671\n",
            "Epoch 93/100\n",
            "1/4 [======>.......................] - ETA: 0s - loss: 2905.5725 - mse: 2905.5725 - mae: 43.3551\n",
            "Epoch 00093: ReduceLROnPlateau reducing learning rate to 1.0666666128145153e-08.\n",
            "4/4 [==============================] - 0s 3ms/step - loss: 2856.3555 - mse: 2856.3555 - mae: 42.8671\n",
            "Epoch 94/100\n",
            "4/4 [==============================] - 0s 3ms/step - loss: 2856.3555 - mse: 2856.3555 - mae: 42.8671\n",
            "Epoch 95/100\n",
            "4/4 [==============================] - 0s 4ms/step - loss: 2856.3555 - mse: 2856.3555 - mae: 42.8671\n",
            "Epoch 96/100\n",
            "4/4 [==============================] - 0s 2ms/step - loss: 2856.3552 - mse: 2856.3552 - mae: 42.8671\n",
            "Epoch 97/100\n",
            "4/4 [==============================] - 0s 2ms/step - loss: 2856.3552 - mse: 2856.3552 - mae: 42.8671\n",
            "Epoch 98/100\n",
            "4/4 [==============================] - 0s 3ms/step - loss: 2856.3552 - mse: 2856.3555 - mae: 42.8671\n",
            "Epoch 99/100\n",
            "4/4 [==============================] - 0s 3ms/step - loss: 2856.3557 - mse: 2856.3557 - mae: 42.8671\n",
            "Epoch 100/100\n",
            "4/4 [==============================] - 0s 3ms/step - loss: 2856.3555 - mse: 2856.3555 - mae: 42.8671\n"
          ],
          "name": "stdout"
        }
      ]
    },
    {
      "cell_type": "markdown",
      "metadata": {
        "id": "9s2OxEAarwAR",
        "colab_type": "text"
      },
      "source": [
        "### Further reading and resources\n",
        "* https://keras.io/callbacks/\n",
        "* https://www.tensorflow.org/api_docs/python/tf/keras/callbacks/LearningRateScheduler\n",
        "* https://www.tensorflow.org/api_docs/python/tf/keras/callbacks/CSVLogger\n",
        "* https://www.tensorflow.org/api_docs/python/tf/keras/callbacks/LambdaCallback"
      ]
    }
  ]
}