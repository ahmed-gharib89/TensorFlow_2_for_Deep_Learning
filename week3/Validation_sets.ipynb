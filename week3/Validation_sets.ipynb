{
  "nbformat": 4,
  "nbformat_minor": 0,
  "metadata": {
    "kernelspec": {
      "display_name": "Python 3",
      "language": "python",
      "name": "python3"
    },
    "language_info": {
      "codemirror_mode": {
        "name": "ipython",
        "version": 3
      },
      "file_extension": ".py",
      "mimetype": "text/x-python",
      "name": "python",
      "nbconvert_exporter": "python",
      "pygments_lexer": "ipython3",
      "version": "3.7.1"
    },
    "colab": {
      "name": "Coding Tutorial.ipynb",
      "provenance": [],
      "include_colab_link": true
    }
  },
  "cells": [
    {
      "cell_type": "markdown",
      "metadata": {
        "id": "view-in-github",
        "colab_type": "text"
      },
      "source": [
        "<a href=\"https://colab.research.google.com/github/ahmed-gharib89/TensorFlow_2_for_Deep_Learning/blob/master/week3/Validation_sets.ipynb\" target=\"_parent\"><img src=\"https://colab.research.google.com/assets/colab-badge.svg\" alt=\"Open In Colab\"/></a>"
      ]
    },
    {
      "cell_type": "code",
      "metadata": {
        "id": "7wG-jI_BnfP5",
        "colab_type": "code",
        "colab": {
          "base_uri": "https://localhost:8080/",
          "height": 104
        },
        "outputId": "e294c46e-e942-4eef-d1b2-163a4fdcab25"
      },
      "source": [
        "%tensorflow_version 2.0"
      ],
      "execution_count": 1,
      "outputs": [
        {
          "output_type": "stream",
          "text": [
            "`%tensorflow_version` only switches the major version: 1.x or 2.x.\n",
            "You set: `2.0`. This will be interpreted as: `2.x`.\n",
            "\n",
            "\n",
            "TensorFlow 2.x selected.\n"
          ],
          "name": "stdout"
        }
      ]
    },
    {
      "cell_type": "code",
      "metadata": {
        "scrolled": true,
        "id": "_yhgqRABm-yH",
        "colab_type": "code",
        "colab": {
          "base_uri": "https://localhost:8080/",
          "height": 35
        },
        "outputId": "0aa16c4c-b5f7-410c-b40b-c016737a10b7"
      },
      "source": [
        "import tensorflow as tf\n",
        "print(tf.__version__)"
      ],
      "execution_count": 2,
      "outputs": [
        {
          "output_type": "stream",
          "text": [
            "2.3.0\n"
          ],
          "name": "stdout"
        }
      ]
    },
    {
      "cell_type": "markdown",
      "metadata": {
        "id": "W-i49GUSm-yP",
        "colab_type": "text"
      },
      "source": [
        "# Validation, regularisation and callbacks"
      ]
    },
    {
      "cell_type": "markdown",
      "metadata": {
        "id": "hQ-xgtmmm-yP",
        "colab_type": "text"
      },
      "source": [
        " ## Coding tutorials\n",
        " #### [1. Validation sets](#coding_tutorial_1)\n",
        " #### [2. Model regularisation](#coding_tutorial_2)\n",
        " #### [3. Introduction to callbacks](#coding_tutorial_3)\n",
        " #### [4. Early stopping / patience](#coding_tutorial_4)"
      ]
    },
    {
      "cell_type": "markdown",
      "metadata": {
        "id": "pWE0RzB6m-yQ",
        "colab_type": "text"
      },
      "source": [
        "***\n",
        "<a id=\"coding_tutorial_1\"></a>\n",
        "## Validation sets"
      ]
    },
    {
      "cell_type": "markdown",
      "metadata": {
        "id": "degKArz0m-yR",
        "colab_type": "text"
      },
      "source": [
        "#### Load the data"
      ]
    },
    {
      "cell_type": "code",
      "metadata": {
        "id": "0YCK68_um-yS",
        "colab_type": "code",
        "colab": {
          "base_uri": "https://localhost:8080/",
          "height": 696
        },
        "outputId": "bb9d290b-880b-4156-e4b8-51ebd22acae4"
      },
      "source": [
        "# Load the diabetes dataset\n",
        "# first we import the load_diabetes function from sklearn datasets\n",
        "from sklearn.datasets import load_diabetes\n",
        "\n",
        "# load the dataset\n",
        "diabetes_dataset = load_diabetes()\n",
        "\n",
        "print(diabetes_dataset['DESCR'])"
      ],
      "execution_count": 3,
      "outputs": [
        {
          "output_type": "stream",
          "text": [
            ".. _diabetes_dataset:\n",
            "\n",
            "Diabetes dataset\n",
            "----------------\n",
            "\n",
            "Ten baseline variables, age, sex, body mass index, average blood\n",
            "pressure, and six blood serum measurements were obtained for each of n =\n",
            "442 diabetes patients, as well as the response of interest, a\n",
            "quantitative measure of disease progression one year after baseline.\n",
            "\n",
            "**Data Set Characteristics:**\n",
            "\n",
            "  :Number of Instances: 442\n",
            "\n",
            "  :Number of Attributes: First 10 columns are numeric predictive values\n",
            "\n",
            "  :Target: Column 11 is a quantitative measure of disease progression one year after baseline\n",
            "\n",
            "  :Attribute Information:\n",
            "      - Age\n",
            "      - Sex\n",
            "      - Body mass index\n",
            "      - Average blood pressure\n",
            "      - S1\n",
            "      - S2\n",
            "      - S3\n",
            "      - S4\n",
            "      - S5\n",
            "      - S6\n",
            "\n",
            "Note: Each of these 10 feature variables have been mean centered and scaled by the standard deviation times `n_samples` (i.e. the sum of squares of each column totals 1).\n",
            "\n",
            "Source URL:\n",
            "https://www4.stat.ncsu.edu/~boos/var.select/diabetes.html\n",
            "\n",
            "For more information see:\n",
            "Bradley Efron, Trevor Hastie, Iain Johnstone and Robert Tibshirani (2004) \"Least Angle Regression,\" Annals of Statistics (with discussion), 407-499.\n",
            "(https://web.stanford.edu/~hastie/Papers/LARS/LeastAngle_2002.pdf)\n"
          ],
          "name": "stdout"
        }
      ]
    },
    {
      "cell_type": "code",
      "metadata": {
        "id": "ZgNM5HdUo4yJ",
        "colab_type": "code",
        "colab": {
          "base_uri": "https://localhost:8080/",
          "height": 35
        },
        "outputId": "2d5b595f-1b09-4fe5-9185-1feefcc8f0bb"
      },
      "source": [
        "# print the keys of dataset dict\n",
        "print(diabetes_dataset.keys())"
      ],
      "execution_count": 4,
      "outputs": [
        {
          "output_type": "stream",
          "text": [
            "dict_keys(['data', 'target', 'DESCR', 'feature_names', 'data_filename', 'target_filename'])\n"
          ],
          "name": "stdout"
        }
      ]
    },
    {
      "cell_type": "code",
      "metadata": {
        "id": "Ssa4toLwm-yW",
        "colab_type": "code",
        "colab": {}
      },
      "source": [
        "# Save the input and target variables\n",
        "data = diabetes_dataset['data']\n",
        "targets = diabetes_dataset['target']"
      ],
      "execution_count": 5,
      "outputs": []
    },
    {
      "cell_type": "code",
      "metadata": {
        "id": "Ht2hou8Sro7N",
        "colab_type": "code",
        "colab": {
          "base_uri": "https://localhost:8080/",
          "height": 728
        },
        "outputId": "f0dedc4a-d2e3-4c7d-b3ea-d0361e8c3085"
      },
      "source": [
        "targets"
      ],
      "execution_count": 10,
      "outputs": [
        {
          "output_type": "execute_result",
          "data": {
            "text/plain": [
              "array([151.,  75., 141., 206., 135.,  97., 138.,  63., 110., 310., 101.,\n",
              "        69., 179., 185., 118., 171., 166., 144.,  97., 168.,  68.,  49.,\n",
              "        68., 245., 184., 202., 137.,  85., 131., 283., 129.,  59., 341.,\n",
              "        87.,  65., 102., 265., 276., 252.,  90., 100.,  55.,  61.,  92.,\n",
              "       259.,  53., 190., 142.,  75., 142., 155., 225.,  59., 104., 182.,\n",
              "       128.,  52.,  37., 170., 170.,  61., 144.,  52., 128.,  71., 163.,\n",
              "       150.,  97., 160., 178.,  48., 270., 202., 111.,  85.,  42., 170.,\n",
              "       200., 252., 113., 143.,  51.,  52., 210.,  65., 141.,  55., 134.,\n",
              "        42., 111.,  98., 164.,  48.,  96.,  90., 162., 150., 279.,  92.,\n",
              "        83., 128., 102., 302., 198.,  95.,  53., 134., 144., 232.,  81.,\n",
              "       104.,  59., 246., 297., 258., 229., 275., 281., 179., 200., 200.,\n",
              "       173., 180.,  84., 121., 161.,  99., 109., 115., 268., 274., 158.,\n",
              "       107.,  83., 103., 272.,  85., 280., 336., 281., 118., 317., 235.,\n",
              "        60., 174., 259., 178., 128.,  96., 126., 288.,  88., 292.,  71.,\n",
              "       197., 186.,  25.,  84.,  96., 195.,  53., 217., 172., 131., 214.,\n",
              "        59.,  70., 220., 268., 152.,  47.,  74., 295., 101., 151., 127.,\n",
              "       237., 225.,  81., 151., 107.,  64., 138., 185., 265., 101., 137.,\n",
              "       143., 141.,  79., 292., 178.,  91., 116.,  86., 122.,  72., 129.,\n",
              "       142.,  90., 158.,  39., 196., 222., 277.,  99., 196., 202., 155.,\n",
              "        77., 191.,  70.,  73.,  49.,  65., 263., 248., 296., 214., 185.,\n",
              "        78.,  93., 252., 150.,  77., 208.,  77., 108., 160.,  53., 220.,\n",
              "       154., 259.,  90., 246., 124.,  67.,  72., 257., 262., 275., 177.,\n",
              "        71.,  47., 187., 125.,  78.,  51., 258., 215., 303., 243.,  91.,\n",
              "       150., 310., 153., 346.,  63.,  89.,  50.,  39., 103., 308., 116.,\n",
              "       145.,  74.,  45., 115., 264.,  87., 202., 127., 182., 241.,  66.,\n",
              "        94., 283.,  64., 102., 200., 265.,  94., 230., 181., 156., 233.,\n",
              "        60., 219.,  80.,  68., 332., 248.,  84., 200.,  55.,  85.,  89.,\n",
              "        31., 129.,  83., 275.,  65., 198., 236., 253., 124.,  44., 172.,\n",
              "       114., 142., 109., 180., 144., 163., 147.,  97., 220., 190., 109.,\n",
              "       191., 122., 230., 242., 248., 249., 192., 131., 237.,  78., 135.,\n",
              "       244., 199., 270., 164.,  72.,  96., 306.,  91., 214.,  95., 216.,\n",
              "       263., 178., 113., 200., 139., 139.,  88., 148.,  88., 243.,  71.,\n",
              "        77., 109., 272.,  60.,  54., 221.,  90., 311., 281., 182., 321.,\n",
              "        58., 262., 206., 233., 242., 123., 167.,  63., 197.,  71., 168.,\n",
              "       140., 217., 121., 235., 245.,  40.,  52., 104., 132.,  88.,  69.,\n",
              "       219.,  72., 201., 110.,  51., 277.,  63., 118.,  69., 273., 258.,\n",
              "        43., 198., 242., 232., 175.,  93., 168., 275., 293., 281.,  72.,\n",
              "       140., 189., 181., 209., 136., 261., 113., 131., 174., 257.,  55.,\n",
              "        84.,  42., 146., 212., 233.,  91., 111., 152., 120.,  67., 310.,\n",
              "        94., 183.,  66., 173.,  72.,  49.,  64.,  48., 178., 104., 132.,\n",
              "       220.,  57.])"
            ]
          },
          "metadata": {
            "tags": []
          },
          "execution_count": 10
        }
      ]
    },
    {
      "cell_type": "code",
      "metadata": {
        "id": "bgq99p1Ym-ya",
        "colab_type": "code",
        "colab": {
          "base_uri": "https://localhost:8080/",
          "height": 1000
        },
        "outputId": "ab4abaf7-b206-443b-e2d0-8f7457465f8a"
      },
      "source": [
        "# Normalise the target data (this will make clearer training curves)\n",
        "targets = (targets - targets.mean(axis=0)) / targets.std()\n",
        "targets"
      ],
      "execution_count": 11,
      "outputs": [
        {
          "output_type": "execute_result",
          "data": {
            "text/plain": [
              "array([-1.47194752e-02, -1.00165882e+00, -1.44579915e-01,  6.99512942e-01,\n",
              "       -2.22496178e-01, -7.15965848e-01, -1.83538046e-01, -1.15749134e+00,\n",
              "       -5.47147277e-01,  2.05006151e+00, -6.64021672e-01, -1.07957508e+00,\n",
              "        3.48889755e-01,  4.26806019e-01, -4.43258925e-01,  2.45001404e-01,\n",
              "        1.80071184e-01, -1.05621783e-01, -7.15965848e-01,  2.06043272e-01,\n",
              "       -1.09256112e+00, -1.33929596e+00, -1.09256112e+00,  1.20596866e+00,\n",
              "        4.13819975e-01,  6.47568766e-01, -1.96524090e-01, -8.71798376e-01,\n",
              "       -2.74440354e-01,  1.69943833e+00, -3.00412442e-01, -1.20943552e+00,\n",
              "        2.45262887e+00, -8.45826288e-01, -1.13151925e+00, -6.51035629e-01,\n",
              "        1.46568953e+00,  1.60853602e+00,  1.29687096e+00, -8.06868156e-01,\n",
              "       -6.77007716e-01, -1.26137969e+00, -1.18346343e+00, -7.80896068e-01,\n",
              "        1.38777327e+00, -1.28735178e+00,  4.91736239e-01, -1.31593871e-01,\n",
              "       -1.00165882e+00, -1.31593871e-01,  3.72247006e-02,  9.46247777e-01,\n",
              "       -1.20943552e+00, -6.25063541e-01,  3.87847887e-01, -3.13398486e-01,\n",
              "       -1.30033783e+00, -1.49512849e+00,  2.32015360e-01,  2.32015360e-01,\n",
              "       -1.18346343e+00, -1.05621783e-01, -1.30033783e+00, -3.13398486e-01,\n",
              "       -1.05360299e+00,  1.41113052e-01, -2.77055191e-02, -7.15965848e-01,\n",
              "        1.02154920e-01,  3.35903711e-01, -1.35228200e+00,  1.53061975e+00,\n",
              "        6.47568766e-01, -5.34161233e-01, -8.71798376e-01, -1.43019827e+00,\n",
              "        2.32015360e-01,  6.21596678e-01,  1.29687096e+00, -5.08189145e-01,\n",
              "       -1.18607827e-01, -1.31332387e+00, -1.30033783e+00,  7.51457118e-01,\n",
              "       -1.13151925e+00, -1.44579915e-01, -1.26137969e+00, -2.35482222e-01,\n",
              "       -1.43019827e+00, -5.34161233e-01, -7.02979804e-01,  1.54099096e-01,\n",
              "       -1.35228200e+00, -7.28951892e-01, -8.06868156e-01,  1.28127008e-01,\n",
              "       -2.77055191e-02,  1.64749415e+00, -7.80896068e-01, -8.97770464e-01,\n",
              "       -3.13398486e-01, -6.51035629e-01,  1.94617316e+00,  5.95624590e-01,\n",
              "       -7.41937936e-01, -1.28735178e+00, -2.35482222e-01, -1.05621783e-01,\n",
              "        1.03715008e+00, -9.23742551e-01, -6.25063541e-01, -1.20943552e+00,\n",
              "        1.21895470e+00,  1.88124294e+00,  1.37478723e+00,  9.98191953e-01,\n",
              "        1.59554997e+00,  1.67346624e+00,  3.48889755e-01,  6.21596678e-01,\n",
              "        6.21596678e-01,  2.70973492e-01,  3.61875799e-01, -8.84784420e-01,\n",
              "       -4.04300794e-01,  1.15140964e-01, -6.89993760e-01, -5.60133321e-01,\n",
              "       -4.82217057e-01,  1.50464767e+00,  1.58256393e+00,  7.61828325e-02,\n",
              "       -5.86105409e-01, -8.97770464e-01, -6.38049585e-01,  1.55659184e+00,\n",
              "       -8.71798376e-01,  1.66048019e+00,  2.38769865e+00,  1.67346624e+00,\n",
              "       -4.43258925e-01,  2.14096382e+00,  1.07610822e+00, -1.19644947e+00,\n",
              "        2.83959536e-01,  1.38777327e+00,  3.35903711e-01, -3.13398486e-01,\n",
              "       -7.28951892e-01, -3.39370574e-01,  1.76436855e+00, -8.32840244e-01,\n",
              "        1.81631272e+00, -1.05360299e+00,  5.82638546e-01,  4.39792063e-01,\n",
              "       -1.65096101e+00, -8.84784420e-01, -7.28951892e-01,  5.56666458e-01,\n",
              "       -1.28735178e+00,  8.42359425e-01,  2.57987448e-01, -2.74440354e-01,\n",
              "        8.03401293e-01, -1.20943552e+00, -1.06658903e+00,  8.81317557e-01,\n",
              "        1.50464767e+00, -1.73343121e-03, -1.36526805e+00, -1.01464486e+00,\n",
              "        1.85527085e+00, -6.64021672e-01, -1.47194752e-02, -3.26384530e-01,\n",
              "        1.10208030e+00,  9.46247777e-01, -9.23742551e-01, -1.47194752e-02,\n",
              "       -5.86105409e-01, -1.14450530e+00, -1.83538046e-01,  4.26806019e-01,\n",
              "        1.46568953e+00, -6.64021672e-01, -1.96524090e-01, -1.18607827e-01,\n",
              "       -1.44579915e-01, -9.49714639e-01,  1.81631272e+00,  3.35903711e-01,\n",
              "       -7.93882112e-01, -4.69231013e-01, -8.58812332e-01, -3.91314750e-01,\n",
              "       -1.04061695e+00, -3.00412442e-01, -1.31593871e-01, -8.06868156e-01,\n",
              "        7.61828325e-02, -1.46915640e+00,  5.69652502e-01,  9.07289645e-01,\n",
              "        1.62152206e+00, -6.89993760e-01,  5.69652502e-01,  6.47568766e-01,\n",
              "        3.72247006e-02, -9.75686727e-01,  5.04722283e-01, -1.06658903e+00,\n",
              "       -1.02763090e+00, -1.33929596e+00, -1.13151925e+00,  1.43971745e+00,\n",
              "        1.24492679e+00,  1.86825690e+00,  8.03401293e-01,  4.26806019e-01,\n",
              "       -9.62700683e-01, -7.67910024e-01,  1.29687096e+00, -2.77055191e-02,\n",
              "       -9.75686727e-01,  7.25485030e-01, -9.75686727e-01, -5.73119365e-01,\n",
              "        1.02154920e-01, -1.28735178e+00,  8.81317557e-01,  2.42386567e-02,\n",
              "        1.38777327e+00, -8.06868156e-01,  1.21895470e+00, -3.65342662e-01,\n",
              "       -1.10554717e+00, -1.04061695e+00,  1.36180118e+00,  1.42673140e+00,\n",
              "        1.59554997e+00,  3.22917667e-01, -1.05360299e+00, -1.36526805e+00,\n",
              "        4.52778107e-01, -3.52356618e-01, -9.62700683e-01, -1.31332387e+00,\n",
              "        1.37478723e+00,  8.16387337e-01,  1.95915920e+00,  1.17999657e+00,\n",
              "       -7.93882112e-01, -2.77055191e-02,  2.05006151e+00,  1.12526127e-02,\n",
              "        2.51755909e+00, -1.15749134e+00, -8.19854200e-01, -1.32630991e+00,\n",
              "       -1.46915640e+00, -6.38049585e-01,  2.02408942e+00, -4.69231013e-01,\n",
              "       -9.26357388e-02, -1.01464486e+00, -1.39124013e+00, -4.82217057e-01,\n",
              "        1.45270349e+00, -8.45826288e-01,  6.47568766e-01, -3.26384530e-01,\n",
              "        3.87847887e-01,  1.15402448e+00, -1.11853321e+00, -7.54923980e-01,\n",
              "        1.69943833e+00, -1.14450530e+00, -6.51035629e-01,  6.21596678e-01,\n",
              "        1.46568953e+00, -7.54923980e-01,  1.01117800e+00,  3.74861843e-01,\n",
              "        5.02107446e-02,  1.05013613e+00, -1.19644947e+00,  8.68331513e-01,\n",
              "       -9.36728595e-01, -1.09256112e+00,  2.33575448e+00,  1.24492679e+00,\n",
              "       -8.84784420e-01,  6.21596678e-01, -1.26137969e+00, -8.71798376e-01,\n",
              "       -8.19854200e-01, -1.57304475e+00, -3.00412442e-01, -8.97770464e-01,\n",
              "        1.59554997e+00, -1.13151925e+00,  5.95624590e-01,  1.08909426e+00,\n",
              "        1.30985701e+00, -3.65342662e-01, -1.40422618e+00,  2.57987448e-01,\n",
              "       -4.95203101e-01, -1.31593871e-01, -5.60133321e-01,  3.61875799e-01,\n",
              "       -1.05621783e-01,  1.41113052e-01, -6.66636509e-02, -7.15965848e-01,\n",
              "        8.81317557e-01,  4.91736239e-01, -5.60133321e-01,  5.04722283e-01,\n",
              "       -3.91314750e-01,  1.01117800e+00,  1.16701052e+00,  1.24492679e+00,\n",
              "        1.25791283e+00,  5.17708327e-01, -2.74440354e-01,  1.10208030e+00,\n",
              "       -9.62700683e-01, -2.22496178e-01,  1.19298261e+00,  6.08610634e-01,\n",
              "        1.53061975e+00,  1.54099096e-01, -1.04061695e+00, -7.28951892e-01,\n",
              "        1.99811734e+00, -7.93882112e-01,  8.03401293e-01, -7.41937936e-01,\n",
              "        8.29373381e-01,  1.43971745e+00,  3.35903711e-01, -5.08189145e-01,\n",
              "        6.21596678e-01, -1.70552003e-01, -1.70552003e-01, -8.32840244e-01,\n",
              "       -5.36776070e-02, -8.32840244e-01,  1.17999657e+00, -1.05360299e+00,\n",
              "       -9.75686727e-01, -5.60133321e-01,  1.55659184e+00, -1.19644947e+00,\n",
              "       -1.27436574e+00,  8.94303601e-01, -8.06868156e-01,  2.06304756e+00,\n",
              "        1.67346624e+00,  3.87847887e-01,  2.19290800e+00, -1.22242156e+00,\n",
              "        1.42673140e+00,  6.99512942e-01,  1.05013613e+00,  1.16701052e+00,\n",
              "       -3.78328706e-01,  1.93057228e-01, -1.15749134e+00,  5.82638546e-01,\n",
              "       -1.05360299e+00,  2.06043272e-01, -1.57565959e-01,  8.42359425e-01,\n",
              "       -4.04300794e-01,  1.07610822e+00,  1.20596866e+00, -1.45617035e+00,\n",
              "       -1.30033783e+00, -6.25063541e-01, -2.61454310e-01, -8.32840244e-01,\n",
              "       -1.07957508e+00,  8.68331513e-01, -1.04061695e+00,  6.34582722e-01,\n",
              "       -5.47147277e-01, -1.31332387e+00,  1.62152206e+00, -1.15749134e+00,\n",
              "       -4.43258925e-01, -1.07957508e+00,  1.56957789e+00,  1.37478723e+00,\n",
              "       -1.41721222e+00,  5.95624590e-01,  1.16701052e+00,  1.03715008e+00,\n",
              "        2.96945580e-01, -7.67910024e-01,  2.06043272e-01,  1.59554997e+00,\n",
              "        1.82929877e+00,  1.67346624e+00, -1.04061695e+00, -1.57565959e-01,\n",
              "        4.78750195e-01,  3.74861843e-01,  7.38471074e-01, -2.09510134e-01,\n",
              "        1.41374536e+00, -5.08189145e-01, -2.74440354e-01,  2.83959536e-01,\n",
              "        1.36180118e+00, -1.26137969e+00, -8.84784420e-01, -1.43019827e+00,\n",
              "       -7.96496949e-02,  7.77429206e-01,  1.05013613e+00, -7.93882112e-01,\n",
              "       -5.34161233e-01, -1.73343121e-03, -4.17286837e-01, -1.10554717e+00,\n",
              "        2.05006151e+00, -7.54923980e-01,  4.00833931e-01, -1.11853321e+00,\n",
              "        2.70973492e-01, -1.04061695e+00, -1.33929596e+00, -1.14450530e+00,\n",
              "       -1.35228200e+00,  3.35903711e-01, -6.25063541e-01, -2.61454310e-01,\n",
              "        8.81317557e-01, -1.23540761e+00])"
            ]
          },
          "metadata": {
            "tags": []
          },
          "execution_count": 11
        }
      ]
    },
    {
      "cell_type": "code",
      "metadata": {
        "id": "TNSBihEFm-ye",
        "colab_type": "code",
        "colab": {
          "base_uri": "https://localhost:8080/",
          "height": 104
        },
        "outputId": "f533adeb-7f80-436c-d838-ebfc7f359b12"
      },
      "source": [
        "# Split the data into train and test sets\n",
        "from sklearn.model_selection import train_test_split\n",
        "\n",
        "train_data, test_data, train_target, test_target = train_test_split(data,\n",
        "                                                                    targets,\n",
        "                                                                    test_size=0.1)\n",
        "print(f'Train Data Shape  : {train_data.shape}\\n\\\n",
        "Test Data Shape   : {test_data.shape}\\n\\\n",
        "Train Target Shape: {train_target.shape}\\n\\\n",
        "Test Target Shape : {test_target.shape}\\n')"
      ],
      "execution_count": 15,
      "outputs": [
        {
          "output_type": "stream",
          "text": [
            "Train Data Shape  : (397, 10)\n",
            "Test Data Shape   : (45, 10)\n",
            "Train Target Shape: (397,)\n",
            "Test Target Shape : (45,)\n",
            "\n"
          ],
          "name": "stdout"
        }
      ]
    },
    {
      "cell_type": "markdown",
      "metadata": {
        "id": "zwWTNI8Dm-yh",
        "colab_type": "text"
      },
      "source": [
        "#### Train a feedforward neural network model"
      ]
    },
    {
      "cell_type": "code",
      "metadata": {
        "id": "PIN7q3R6m-yh",
        "colab_type": "code",
        "colab": {}
      },
      "source": [
        "# Build the model\n",
        "from tensorflow.keras.models import Sequential\n",
        "from tensorflow.keras.layers import Dense\n",
        "\n",
        "def get_model():\n",
        "    model = Sequential([\n",
        "                        Dense(128, activation='relu', input_shape=(train_data.shape[1], )),\n",
        "                        Dense(128, activation='relu'),\n",
        "                        Dense(128, activation='relu'),\n",
        "                        Dense(128, activation='relu'),\n",
        "                        Dense(128, activation='relu'),\n",
        "                        Dense(128, activation='relu'),\n",
        "                        Dense(1)\n",
        "    ])\n",
        "    return model\n",
        "\n",
        "model = get_model()"
      ],
      "execution_count": 27,
      "outputs": []
    },
    {
      "cell_type": "code",
      "metadata": {
        "id": "hjmKRoj8m-yk",
        "colab_type": "code",
        "colab": {
          "base_uri": "https://localhost:8080/",
          "height": 399
        },
        "outputId": "93698017-8789-4e54-f92a-0b01cfb9d5fb"
      },
      "source": [
        "# Print the model summary\n",
        "\n",
        "model.summary()"
      ],
      "execution_count": 28,
      "outputs": [
        {
          "output_type": "stream",
          "text": [
            "Model: \"sequential_1\"\n",
            "_________________________________________________________________\n",
            "Layer (type)                 Output Shape              Param #   \n",
            "=================================================================\n",
            "dense_7 (Dense)              (None, 128)               1408      \n",
            "_________________________________________________________________\n",
            "dense_8 (Dense)              (None, 128)               16512     \n",
            "_________________________________________________________________\n",
            "dense_9 (Dense)              (None, 128)               16512     \n",
            "_________________________________________________________________\n",
            "dense_10 (Dense)             (None, 128)               16512     \n",
            "_________________________________________________________________\n",
            "dense_11 (Dense)             (None, 128)               16512     \n",
            "_________________________________________________________________\n",
            "dense_12 (Dense)             (None, 128)               16512     \n",
            "_________________________________________________________________\n",
            "dense_13 (Dense)             (None, 1)                 129       \n",
            "=================================================================\n",
            "Total params: 84,097\n",
            "Trainable params: 84,097\n",
            "Non-trainable params: 0\n",
            "_________________________________________________________________\n"
          ],
          "name": "stdout"
        }
      ]
    },
    {
      "cell_type": "code",
      "metadata": {
        "id": "a380lZ65m-yn",
        "colab_type": "code",
        "colab": {}
      },
      "source": [
        "# Compile the model\n",
        "\n",
        "model.compile(optimizer='adam', loss='mse', metrics=['mae'])"
      ],
      "execution_count": 29,
      "outputs": []
    },
    {
      "cell_type": "code",
      "metadata": {
        "id": "7Vl0rwkCm-yq",
        "colab_type": "code",
        "colab": {
          "base_uri": "https://localhost:8080/",
          "height": 1000
        },
        "outputId": "44f495ce-a3e7-4b4d-ed4f-47f469c32016"
      },
      "source": [
        "# Train the model, with some of the data reserved for validation\n",
        "\n",
        "history = model.fit(train_data, train_target, epochs=100,\n",
        "                    validation_split=0.15, batch_size=64, verbose=2)"
      ],
      "execution_count": 30,
      "outputs": [
        {
          "output_type": "stream",
          "text": [
            "Epoch 1/100\n",
            "6/6 - 0s - loss: 0.9871 - mae: 0.8533 - val_loss: 1.0796 - val_mae: 0.8844\n",
            "Epoch 2/100\n",
            "6/6 - 0s - loss: 0.9088 - mae: 0.8156 - val_loss: 0.9667 - val_mae: 0.8413\n",
            "Epoch 3/100\n",
            "6/6 - 0s - loss: 0.7167 - mae: 0.7105 - val_loss: 0.7184 - val_mae: 0.7254\n",
            "Epoch 4/100\n",
            "6/6 - 0s - loss: 0.5828 - mae: 0.6198 - val_loss: 0.7483 - val_mae: 0.7136\n",
            "Epoch 5/100\n",
            "6/6 - 0s - loss: 0.5260 - mae: 0.5711 - val_loss: 0.5404 - val_mae: 0.6315\n",
            "Epoch 6/100\n",
            "6/6 - 0s - loss: 0.4832 - mae: 0.5603 - val_loss: 0.7435 - val_mae: 0.7057\n",
            "Epoch 7/100\n",
            "6/6 - 0s - loss: 0.5007 - mae: 0.5718 - val_loss: 0.5618 - val_mae: 0.6255\n",
            "Epoch 8/100\n",
            "6/6 - 0s - loss: 0.4829 - mae: 0.5449 - val_loss: 0.4968 - val_mae: 0.5940\n",
            "Epoch 9/100\n",
            "6/6 - 0s - loss: 0.4581 - mae: 0.5435 - val_loss: 0.6607 - val_mae: 0.6777\n",
            "Epoch 10/100\n",
            "6/6 - 0s - loss: 0.4506 - mae: 0.5286 - val_loss: 0.4789 - val_mae: 0.5817\n",
            "Epoch 11/100\n",
            "6/6 - 0s - loss: 0.4467 - mae: 0.5296 - val_loss: 0.6493 - val_mae: 0.6700\n",
            "Epoch 12/100\n",
            "6/6 - 0s - loss: 0.4346 - mae: 0.5245 - val_loss: 0.5096 - val_mae: 0.5985\n",
            "Epoch 13/100\n",
            "6/6 - 0s - loss: 0.4503 - mae: 0.5326 - val_loss: 0.5161 - val_mae: 0.6010\n",
            "Epoch 14/100\n",
            "6/6 - 0s - loss: 0.4782 - mae: 0.5532 - val_loss: 0.6500 - val_mae: 0.6759\n",
            "Epoch 15/100\n",
            "6/6 - 0s - loss: 0.4520 - mae: 0.5226 - val_loss: 0.5092 - val_mae: 0.6006\n",
            "Epoch 16/100\n",
            "6/6 - 0s - loss: 0.4477 - mae: 0.5407 - val_loss: 0.5682 - val_mae: 0.6372\n",
            "Epoch 17/100\n",
            "6/6 - 0s - loss: 0.4525 - mae: 0.5283 - val_loss: 0.5351 - val_mae: 0.6173\n",
            "Epoch 18/100\n",
            "6/6 - 0s - loss: 0.4136 - mae: 0.5136 - val_loss: 0.5030 - val_mae: 0.5933\n",
            "Epoch 19/100\n",
            "6/6 - 0s - loss: 0.4017 - mae: 0.4921 - val_loss: 0.5513 - val_mae: 0.6210\n",
            "Epoch 20/100\n",
            "6/6 - 0s - loss: 0.3924 - mae: 0.4936 - val_loss: 0.5226 - val_mae: 0.6024\n",
            "Epoch 21/100\n",
            "6/6 - 0s - loss: 0.3798 - mae: 0.4819 - val_loss: 0.5512 - val_mae: 0.6224\n",
            "Epoch 22/100\n",
            "6/6 - 0s - loss: 0.3809 - mae: 0.4834 - val_loss: 0.5661 - val_mae: 0.6305\n",
            "Epoch 23/100\n",
            "6/6 - 0s - loss: 0.3749 - mae: 0.4786 - val_loss: 0.5574 - val_mae: 0.6187\n",
            "Epoch 24/100\n",
            "6/6 - 0s - loss: 0.3775 - mae: 0.4856 - val_loss: 0.5022 - val_mae: 0.5913\n",
            "Epoch 25/100\n",
            "6/6 - 0s - loss: 0.3621 - mae: 0.4740 - val_loss: 0.6052 - val_mae: 0.6476\n",
            "Epoch 26/100\n",
            "6/6 - 0s - loss: 0.3595 - mae: 0.4662 - val_loss: 0.4947 - val_mae: 0.5858\n",
            "Epoch 27/100\n",
            "6/6 - 0s - loss: 0.3540 - mae: 0.4691 - val_loss: 0.5973 - val_mae: 0.6440\n",
            "Epoch 28/100\n",
            "6/6 - 0s - loss: 0.3630 - mae: 0.4771 - val_loss: 0.6296 - val_mae: 0.6589\n",
            "Epoch 29/100\n",
            "6/6 - 0s - loss: 0.3336 - mae: 0.4483 - val_loss: 0.5242 - val_mae: 0.6040\n",
            "Epoch 30/100\n",
            "6/6 - 0s - loss: 0.3276 - mae: 0.4477 - val_loss: 0.5190 - val_mae: 0.6042\n",
            "Epoch 31/100\n",
            "6/6 - 0s - loss: 0.3137 - mae: 0.4378 - val_loss: 0.5337 - val_mae: 0.6150\n",
            "Epoch 32/100\n",
            "6/6 - 0s - loss: 0.3167 - mae: 0.4435 - val_loss: 0.6494 - val_mae: 0.6723\n",
            "Epoch 33/100\n",
            "6/6 - 0s - loss: 0.3061 - mae: 0.4270 - val_loss: 0.5436 - val_mae: 0.6152\n",
            "Epoch 34/100\n",
            "6/6 - 0s - loss: 0.2905 - mae: 0.4189 - val_loss: 0.5356 - val_mae: 0.6122\n",
            "Epoch 35/100\n",
            "6/6 - 0s - loss: 0.2887 - mae: 0.4271 - val_loss: 0.7339 - val_mae: 0.7059\n",
            "Epoch 36/100\n",
            "6/6 - 0s - loss: 0.3105 - mae: 0.4391 - val_loss: 0.7549 - val_mae: 0.7175\n",
            "Epoch 37/100\n",
            "6/6 - 0s - loss: 0.2998 - mae: 0.4230 - val_loss: 0.5360 - val_mae: 0.6047\n",
            "Epoch 38/100\n",
            "6/6 - 0s - loss: 0.2565 - mae: 0.3920 - val_loss: 0.5184 - val_mae: 0.5889\n",
            "Epoch 39/100\n",
            "6/6 - 0s - loss: 0.2926 - mae: 0.4265 - val_loss: 0.6343 - val_mae: 0.6579\n",
            "Epoch 40/100\n",
            "6/6 - 0s - loss: 0.2324 - mae: 0.3779 - val_loss: 0.5769 - val_mae: 0.6295\n",
            "Epoch 41/100\n",
            "6/6 - 0s - loss: 0.2343 - mae: 0.3750 - val_loss: 0.5544 - val_mae: 0.6154\n",
            "Epoch 42/100\n",
            "6/6 - 0s - loss: 0.2170 - mae: 0.3609 - val_loss: 0.6696 - val_mae: 0.6724\n",
            "Epoch 43/100\n",
            "6/6 - 0s - loss: 0.2228 - mae: 0.3693 - val_loss: 0.8493 - val_mae: 0.7435\n",
            "Epoch 44/100\n",
            "6/6 - 0s - loss: 0.3067 - mae: 0.4368 - val_loss: 0.5318 - val_mae: 0.6103\n",
            "Epoch 45/100\n",
            "6/6 - 0s - loss: 0.2738 - mae: 0.4025 - val_loss: 0.4938 - val_mae: 0.5900\n",
            "Epoch 46/100\n",
            "6/6 - 0s - loss: 0.2193 - mae: 0.3682 - val_loss: 0.6825 - val_mae: 0.6722\n",
            "Epoch 47/100\n",
            "6/6 - 0s - loss: 0.2195 - mae: 0.3601 - val_loss: 0.6374 - val_mae: 0.6532\n",
            "Epoch 48/100\n",
            "6/6 - 0s - loss: 0.2045 - mae: 0.3471 - val_loss: 0.5624 - val_mae: 0.6213\n",
            "Epoch 49/100\n",
            "6/6 - 0s - loss: 0.1774 - mae: 0.3253 - val_loss: 0.6123 - val_mae: 0.6429\n",
            "Epoch 50/100\n",
            "6/6 - 0s - loss: 0.1654 - mae: 0.3115 - val_loss: 0.5894 - val_mae: 0.6251\n",
            "Epoch 51/100\n",
            "6/6 - 0s - loss: 0.1921 - mae: 0.3413 - val_loss: 0.6696 - val_mae: 0.6639\n",
            "Epoch 52/100\n",
            "6/6 - 0s - loss: 0.2058 - mae: 0.3546 - val_loss: 0.8461 - val_mae: 0.7410\n",
            "Epoch 53/100\n",
            "6/6 - 0s - loss: 0.2576 - mae: 0.3947 - val_loss: 0.7167 - val_mae: 0.6931\n",
            "Epoch 54/100\n",
            "6/6 - 0s - loss: 0.2100 - mae: 0.3661 - val_loss: 0.5599 - val_mae: 0.6256\n",
            "Epoch 55/100\n",
            "6/6 - 0s - loss: 0.1920 - mae: 0.3363 - val_loss: 0.6272 - val_mae: 0.6406\n",
            "Epoch 56/100\n",
            "6/6 - 0s - loss: 0.1611 - mae: 0.3042 - val_loss: 0.6216 - val_mae: 0.6433\n",
            "Epoch 57/100\n",
            "6/6 - 0s - loss: 0.1509 - mae: 0.2979 - val_loss: 0.6251 - val_mae: 0.6486\n",
            "Epoch 58/100\n",
            "6/6 - 0s - loss: 0.1442 - mae: 0.2893 - val_loss: 0.7220 - val_mae: 0.6824\n",
            "Epoch 59/100\n",
            "6/6 - 0s - loss: 0.1337 - mae: 0.2780 - val_loss: 0.6511 - val_mae: 0.6625\n",
            "Epoch 60/100\n",
            "6/6 - 0s - loss: 0.1303 - mae: 0.2737 - val_loss: 0.6958 - val_mae: 0.6812\n",
            "Epoch 61/100\n",
            "6/6 - 0s - loss: 0.1207 - mae: 0.2730 - val_loss: 0.7464 - val_mae: 0.6931\n",
            "Epoch 62/100\n",
            "6/6 - 0s - loss: 0.1298 - mae: 0.2770 - val_loss: 0.7190 - val_mae: 0.6734\n",
            "Epoch 63/100\n",
            "6/6 - 0s - loss: 0.1166 - mae: 0.2643 - val_loss: 0.6343 - val_mae: 0.6567\n",
            "Epoch 64/100\n",
            "6/6 - 0s - loss: 0.1234 - mae: 0.2680 - val_loss: 0.7352 - val_mae: 0.6915\n",
            "Epoch 65/100\n",
            "6/6 - 0s - loss: 0.1357 - mae: 0.2839 - val_loss: 0.8403 - val_mae: 0.7239\n",
            "Epoch 66/100\n",
            "6/6 - 0s - loss: 0.1212 - mae: 0.2706 - val_loss: 0.7037 - val_mae: 0.6739\n",
            "Epoch 67/100\n",
            "6/6 - 0s - loss: 0.1213 - mae: 0.2724 - val_loss: 0.6735 - val_mae: 0.6663\n",
            "Epoch 68/100\n",
            "6/6 - 0s - loss: 0.1080 - mae: 0.2497 - val_loss: 0.7007 - val_mae: 0.6757\n",
            "Epoch 69/100\n",
            "6/6 - 0s - loss: 0.0958 - mae: 0.2361 - val_loss: 0.7444 - val_mae: 0.6948\n",
            "Epoch 70/100\n",
            "6/6 - 0s - loss: 0.0945 - mae: 0.2353 - val_loss: 0.7112 - val_mae: 0.6854\n",
            "Epoch 71/100\n",
            "6/6 - 0s - loss: 0.0810 - mae: 0.2115 - val_loss: 0.7032 - val_mae: 0.6737\n",
            "Epoch 72/100\n",
            "6/6 - 0s - loss: 0.0819 - mae: 0.2193 - val_loss: 0.6572 - val_mae: 0.6622\n",
            "Epoch 73/100\n",
            "6/6 - 0s - loss: 0.0858 - mae: 0.2215 - val_loss: 0.6796 - val_mae: 0.6723\n",
            "Epoch 74/100\n",
            "6/6 - 0s - loss: 0.0806 - mae: 0.2170 - val_loss: 0.7064 - val_mae: 0.6835\n",
            "Epoch 75/100\n",
            "6/6 - 0s - loss: 0.0757 - mae: 0.2081 - val_loss: 0.7227 - val_mae: 0.6866\n",
            "Epoch 76/100\n",
            "6/6 - 0s - loss: 0.0673 - mae: 0.1934 - val_loss: 0.7178 - val_mae: 0.6813\n",
            "Epoch 77/100\n",
            "6/6 - 0s - loss: 0.0693 - mae: 0.1973 - val_loss: 0.7925 - val_mae: 0.7203\n",
            "Epoch 78/100\n",
            "6/6 - 0s - loss: 0.0808 - mae: 0.2166 - val_loss: 0.7542 - val_mae: 0.7002\n",
            "Epoch 79/100\n",
            "6/6 - 0s - loss: 0.0764 - mae: 0.2139 - val_loss: 0.7849 - val_mae: 0.7196\n",
            "Epoch 80/100\n",
            "6/6 - 0s - loss: 0.0907 - mae: 0.2369 - val_loss: 0.7619 - val_mae: 0.6992\n",
            "Epoch 81/100\n",
            "6/6 - 0s - loss: 0.0735 - mae: 0.2076 - val_loss: 0.6462 - val_mae: 0.6538\n",
            "Epoch 82/100\n",
            "6/6 - 0s - loss: 0.0771 - mae: 0.2105 - val_loss: 0.8452 - val_mae: 0.7431\n",
            "Epoch 83/100\n",
            "6/6 - 0s - loss: 0.1005 - mae: 0.2449 - val_loss: 0.6563 - val_mae: 0.6588\n",
            "Epoch 84/100\n",
            "6/6 - 0s - loss: 0.0873 - mae: 0.2295 - val_loss: 0.7271 - val_mae: 0.6946\n",
            "Epoch 85/100\n",
            "6/6 - 0s - loss: 0.0762 - mae: 0.2098 - val_loss: 0.6579 - val_mae: 0.6661\n",
            "Epoch 86/100\n",
            "6/6 - 0s - loss: 0.0684 - mae: 0.2013 - val_loss: 0.6466 - val_mae: 0.6601\n",
            "Epoch 87/100\n",
            "6/6 - 0s - loss: 0.0660 - mae: 0.1952 - val_loss: 0.6735 - val_mae: 0.6720\n",
            "Epoch 88/100\n",
            "6/6 - 0s - loss: 0.0679 - mae: 0.1990 - val_loss: 0.6829 - val_mae: 0.6773\n",
            "Epoch 89/100\n",
            "6/6 - 0s - loss: 0.0664 - mae: 0.1962 - val_loss: 0.7242 - val_mae: 0.6867\n",
            "Epoch 90/100\n",
            "6/6 - 0s - loss: 0.0680 - mae: 0.1997 - val_loss: 0.7055 - val_mae: 0.6770\n",
            "Epoch 91/100\n",
            "6/6 - 0s - loss: 0.0614 - mae: 0.1875 - val_loss: 0.7697 - val_mae: 0.6965\n",
            "Epoch 92/100\n",
            "6/6 - 0s - loss: 0.0558 - mae: 0.1763 - val_loss: 0.8174 - val_mae: 0.7222\n",
            "Epoch 93/100\n",
            "6/6 - 0s - loss: 0.0567 - mae: 0.1791 - val_loss: 0.8533 - val_mae: 0.7492\n",
            "Epoch 94/100\n",
            "6/6 - 0s - loss: 0.0697 - mae: 0.2048 - val_loss: 0.7857 - val_mae: 0.6970\n",
            "Epoch 95/100\n",
            "6/6 - 0s - loss: 0.0617 - mae: 0.1920 - val_loss: 0.7418 - val_mae: 0.6910\n",
            "Epoch 96/100\n",
            "6/6 - 0s - loss: 0.0553 - mae: 0.1778 - val_loss: 0.7500 - val_mae: 0.6972\n",
            "Epoch 97/100\n",
            "6/6 - 0s - loss: 0.0549 - mae: 0.1774 - val_loss: 0.7341 - val_mae: 0.6894\n",
            "Epoch 98/100\n",
            "6/6 - 0s - loss: 0.0562 - mae: 0.1841 - val_loss: 0.7727 - val_mae: 0.7063\n",
            "Epoch 99/100\n",
            "6/6 - 0s - loss: 0.0524 - mae: 0.1698 - val_loss: 0.7126 - val_mae: 0.6780\n",
            "Epoch 100/100\n",
            "6/6 - 0s - loss: 0.0601 - mae: 0.1883 - val_loss: 0.7436 - val_mae: 0.6880\n"
          ],
          "name": "stdout"
        }
      ]
    },
    {
      "cell_type": "code",
      "metadata": {
        "id": "EJgr6a-Em-yt",
        "colab_type": "code",
        "colab": {
          "base_uri": "https://localhost:8080/",
          "height": 35
        },
        "outputId": "34165ac2-443d-4f5e-d24b-8d72ea985104"
      },
      "source": [
        "# Evaluate the model on the test set\n",
        "\n",
        "loss, mae = model.evaluate(test_data, test_target, verbose=2)"
      ],
      "execution_count": 31,
      "outputs": [
        {
          "output_type": "stream",
          "text": [
            "2/2 - 0s - loss: 0.6129 - mae: 0.5555\n"
          ],
          "name": "stdout"
        }
      ]
    },
    {
      "cell_type": "markdown",
      "metadata": {
        "id": "7n2oR2b9m-yw",
        "colab_type": "text"
      },
      "source": [
        "#### Plot the learning curves"
      ]
    },
    {
      "cell_type": "code",
      "metadata": {
        "id": "th6BdsKom-yw",
        "colab_type": "code",
        "colab": {}
      },
      "source": [
        "import matplotlib.pyplot as plt\n",
        "%matplotlib inline"
      ],
      "execution_count": 32,
      "outputs": []
    },
    {
      "cell_type": "code",
      "metadata": {
        "id": "y0qqwdbFm-yz",
        "colab_type": "code",
        "colab": {
          "base_uri": "https://localhost:8080/",
          "height": 295
        },
        "outputId": "9153dd57-ad11-462a-dea6-e83316afb941"
      },
      "source": [
        "# Plot the training and validation loss\n",
        "\n",
        "plt.plot(history.history['loss'])\n",
        "plt.plot(history.history['val_loss'])\n",
        "plt.title('Loss vs. epochs')\n",
        "plt.ylabel('Loss')\n",
        "plt.xlabel('Epoch')\n",
        "plt.legend(['Training', 'Validation'], loc='upper right')\n",
        "plt.show()"
      ],
      "execution_count": 33,
      "outputs": [
        {
          "output_type": "display_data",
          "data": {
            "image/png": "[encoded data removed]",
            "text/plain": [
              "<Figure size 432x288 with 1 Axes>"
            ]
          },
          "metadata": {
            "tags": [],
            "needs_background": "light"
          }
        }
      ]
    },
    {
      "cell_type": "markdown",
      "metadata": {
        "id": "XYvbLrAhm-y2",
        "colab_type": "text"
      },
      "source": [
        "***\n",
        "<a id=\"coding_tutorial_2\"></a>\n",
        "## Model regularisation"
      ]
    },
    {
      "cell_type": "markdown",
      "metadata": {
        "id": "LpaL_y_nm-y2",
        "colab_type": "text"
      },
      "source": [
        "#### Adding regularisation with weight decay and dropout"
      ]
    },
    {
      "cell_type": "code",
      "metadata": {
        "id": "GZreLtMkm-y3",
        "colab_type": "code",
        "colab": {}
      },
      "source": [
        "from tensorflow.keras.layers import Dropout\n",
        "from tensorflow.keras import regularizers"
      ],
      "execution_count": null,
      "outputs": []
    },
    {
      "cell_type": "code",
      "metadata": {
        "id": "iMI2suMam-y7",
        "colab_type": "code",
        "colab": {}
      },
      "source": [
        "def get_regularised_model(wd, rate):\n",
        "    model = Sequential([\n",
        "        Dense(128, activation=\"relu\", input_shape=(train_data.shape[1],)),\n",
        "        Dense(128, activation=\"relu\"),\n",
        "        Dense(128, activation=\"relu\"),\n",
        "        Dense(128, activation=\"relu\"),\n",
        "        Dense(128, activation=\"relu\"),\n",
        "        Dense(128, activation=\"relu\"),\n",
        "        Dense(1)\n",
        "    ])\n",
        "    return model"
      ],
      "execution_count": null,
      "outputs": []
    },
    {
      "cell_type": "code",
      "metadata": {
        "id": "vZ2RyQ3Zm-y_",
        "colab_type": "code",
        "colab": {}
      },
      "source": [
        "# Re-build the model with weight decay and dropout layers\n",
        "\n"
      ],
      "execution_count": null,
      "outputs": []
    },
    {
      "cell_type": "code",
      "metadata": {
        "id": "WKmgPGBIm-zC",
        "colab_type": "code",
        "colab": {}
      },
      "source": [
        "# Compile the model\n",
        "\n"
      ],
      "execution_count": null,
      "outputs": []
    },
    {
      "cell_type": "code",
      "metadata": {
        "id": "a4mz7zNKm-zF",
        "colab_type": "code",
        "colab": {}
      },
      "source": [
        "# Train the model, with some of the data reserved for validation\n",
        "\n"
      ],
      "execution_count": null,
      "outputs": []
    },
    {
      "cell_type": "code",
      "metadata": {
        "id": "CgUItEBcm-zH",
        "colab_type": "code",
        "colab": {}
      },
      "source": [
        "# Evaluate the model on the test set\n",
        "\n"
      ],
      "execution_count": null,
      "outputs": []
    },
    {
      "cell_type": "markdown",
      "metadata": {
        "id": "ypvytkfHm-zK",
        "colab_type": "text"
      },
      "source": [
        "#### Plot the learning curves"
      ]
    },
    {
      "cell_type": "code",
      "metadata": {
        "id": "xQwHfJvxm-zK",
        "colab_type": "code",
        "colab": {}
      },
      "source": [
        "# Plot the training and validation loss\n",
        "\n",
        "import matplotlib.pyplot as plt\n",
        "\n",
        "plt.plot(history.history['loss'])\n",
        "plt.plot(history.history['val_loss'])\n",
        "plt.title('Loss vs. epochs')\n",
        "plt.ylabel('Loss')\n",
        "plt.xlabel('Epoch')\n",
        "plt.legend(['Training', 'Validation'], loc='upper right')\n",
        "plt.show()"
      ],
      "execution_count": null,
      "outputs": []
    },
    {
      "cell_type": "markdown",
      "metadata": {
        "id": "PiU1hFlVm-zN",
        "colab_type": "text"
      },
      "source": [
        "***\n",
        "<a id=\"coding_tutorial_3\"></a>\n",
        "## Introduction to callbacks"
      ]
    },
    {
      "cell_type": "markdown",
      "metadata": {
        "id": "Clcpj2nfm-zO",
        "colab_type": "text"
      },
      "source": [
        "#### Example training callback"
      ]
    },
    {
      "cell_type": "code",
      "metadata": {
        "id": "-K2gEZXUm-zO",
        "colab_type": "code",
        "colab": {}
      },
      "source": [
        "# Write a custom callback\n",
        "\n"
      ],
      "execution_count": null,
      "outputs": []
    },
    {
      "cell_type": "code",
      "metadata": {
        "id": "3r4Dja8Tm-zR",
        "colab_type": "code",
        "colab": {}
      },
      "source": [
        "# Re-build the model\n",
        "\n"
      ],
      "execution_count": null,
      "outputs": []
    },
    {
      "cell_type": "code",
      "metadata": {
        "id": "q28TePzrm-zU",
        "colab_type": "code",
        "colab": {}
      },
      "source": [
        "# Compile the model\n",
        "\n"
      ],
      "execution_count": null,
      "outputs": []
    },
    {
      "cell_type": "markdown",
      "metadata": {
        "id": "0wMiH285m-zW",
        "colab_type": "text"
      },
      "source": [
        "#### Train the model with the callback"
      ]
    },
    {
      "cell_type": "code",
      "metadata": {
        "id": "Fj8gGCDMm-zX",
        "colab_type": "code",
        "colab": {}
      },
      "source": [
        "# Train the model, with some of the data reserved for validation\n",
        "\n"
      ],
      "execution_count": null,
      "outputs": []
    },
    {
      "cell_type": "code",
      "metadata": {
        "id": "ec4VE9_7m-za",
        "colab_type": "code",
        "colab": {}
      },
      "source": [
        "# Evaluate the model\n",
        "\n"
      ],
      "execution_count": null,
      "outputs": []
    },
    {
      "cell_type": "code",
      "metadata": {
        "id": "n-vmT4sDm-zc",
        "colab_type": "code",
        "colab": {}
      },
      "source": [
        "# Make predictions with the model\n",
        "\n"
      ],
      "execution_count": null,
      "outputs": []
    },
    {
      "cell_type": "markdown",
      "metadata": {
        "id": "jMusrnQvm-zg",
        "colab_type": "text"
      },
      "source": [
        "***\n",
        "<a id=\"coding_tutorial_4\"></a>\n",
        "## Early stopping / patience"
      ]
    },
    {
      "cell_type": "markdown",
      "metadata": {
        "id": "kRIr7gp7m-zg",
        "colab_type": "text"
      },
      "source": [
        "#### Re-train the models with early stopping"
      ]
    },
    {
      "cell_type": "code",
      "metadata": {
        "id": "9Eny1FGOm-zh",
        "colab_type": "code",
        "colab": {}
      },
      "source": [
        "# Re-train the unregularised model\n",
        "\n"
      ],
      "execution_count": null,
      "outputs": []
    },
    {
      "cell_type": "code",
      "metadata": {
        "id": "wPiLXu43m-zj",
        "colab_type": "code",
        "colab": {}
      },
      "source": [
        "# Evaluate the model on the test set\n",
        "\n"
      ],
      "execution_count": null,
      "outputs": []
    },
    {
      "cell_type": "code",
      "metadata": {
        "id": "OiVbxSOpm-zl",
        "colab_type": "code",
        "colab": {}
      },
      "source": [
        "# Re-train the regularised model\n",
        "\n"
      ],
      "execution_count": null,
      "outputs": []
    },
    {
      "cell_type": "code",
      "metadata": {
        "id": "Bb5w1LR6m-zo",
        "colab_type": "code",
        "colab": {}
      },
      "source": [
        "# Evaluate the model on the test set\n",
        "\n"
      ],
      "execution_count": null,
      "outputs": []
    },
    {
      "cell_type": "markdown",
      "metadata": {
        "id": "R97WLIBzm-zq",
        "colab_type": "text"
      },
      "source": [
        "#### Plot the learning curves"
      ]
    },
    {
      "cell_type": "code",
      "metadata": {
        "id": "PdbfSeqgm-zq",
        "colab_type": "code",
        "colab": {}
      },
      "source": [
        "# Plot the training and validation loss\n",
        "\n",
        "import matplotlib.pyplot as plt\n",
        "\n",
        "fig = plt.figure(figsize=(12, 5))\n",
        "\n",
        "fig.add_subplot(121)\n",
        "\n",
        "plt.plot(unreg_history.history['loss'])\n",
        "plt.plot(unreg_history.history['val_loss'])\n",
        "plt.title('Unregularised model: loss vs. epochs')\n",
        "plt.ylabel('Loss')\n",
        "plt.xlabel('Epoch')\n",
        "plt.legend(['Training', 'Validation'], loc='upper right')\n",
        "\n",
        "fig.add_subplot(122)\n",
        "\n",
        "plt.plot(reg_history.history['loss'])\n",
        "plt.plot(reg_history.history['val_loss'])\n",
        "plt.title('Regularised model: loss vs. epochs')\n",
        "plt.ylabel('Loss')\n",
        "plt.xlabel('Epoch')\n",
        "plt.legend(['Training', 'Validation'], loc='upper right')\n",
        "\n",
        "plt.show()"
      ],
      "execution_count": null,
      "outputs": []
    }
  ]
}