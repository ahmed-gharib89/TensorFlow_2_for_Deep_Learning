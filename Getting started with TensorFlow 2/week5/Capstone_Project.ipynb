{
 "cells": [
  {
   "cell_type": "markdown",
   "metadata": {},
   "source": [
    "# Capstone Project\n",
    "## Image classifier for the SVHN dataset\n",
    "### Instructions\n",
    "\n",
    "In this notebook, you will create a neural network that classifies real-world images digits. You will use concepts from throughout this course in building, training, testing, validating and saving your Tensorflow classifier model.\n",
    "\n",
    "This project is peer-assessed. Within this notebook you will find instructions in each section for how to complete the project. Pay close attention to the instructions as the peer review will be carried out according to a grading rubric that checks key parts of the project instructions. Feel free to add extra cells into the notebook as required.\n",
    "\n",
    "### How to submit\n",
    "\n",
    "When you have completed the Capstone project notebook, you will submit a pdf of the notebook for peer review. First ensure that the notebook has been fully executed from beginning to end, and all of the cell outputs are visible. This is important, as the grading rubric depends on the reviewer being able to view the outputs of your notebook. Save the notebook as a pdf (File -> Download as -> PDF via LaTeX). You should then submit this pdf for review.\n",
    "\n",
    "### Let's get started!\n",
    "\n",
    "We'll start by running some imports, and loading the dataset. For this project you are free to make further imports throughout the notebook as you wish. "
   ]
  },
  {
   "cell_type": "code",
   "execution_count": 2,
   "metadata": {},
   "outputs": [],
   "source": [
    "import tensorflow as tf\n",
    "from scipy.io import loadmat\n",
    "import numpy as np\n",
    "import pandas as pd\n",
    "import matplotlib.pyplot as plt\n",
    "%matplotlib inline\n",
    "import seaborn as sns\n",
    "sns.set_style('white')\n",
    "from tensorflow.keras.callbacks import ModelCheckpoint, EarlyStopping\n",
    "from tensorflow.keras.models import Sequential, load_model\n",
    "from tensorflow.keras.layers import Dense, Flatten, Conv2D, MaxPooling2D, Dropout, BatchNormalization"
   ]
  },
  {
   "cell_type": "markdown",
   "metadata": {},
   "source": [
    "![SVHN overview image](data/svhn_examples.jpg)\n",
    "For the capstone project, you will use the [SVHN dataset](http://ufldl.stanford.edu/housenumbers/). This is an  image dataset of over 600,000 digit images in all, and is a harder dataset than MNIST as the numbers appear in the context of natural scene images. SVHN is obtained from house numbers in Google Street View images. \n",
    "\n",
    "* Y. Netzer, T. Wang, A. Coates, A. Bissacco, B. Wu and A. Y. Ng. \"Reading Digits in Natural Images with Unsupervised Feature Learning\". NIPS Workshop on Deep Learning and Unsupervised Feature Learning, 2011.\n",
    "\n",
    "Your goal is to develop an end-to-end workflow for building, training, validating, evaluating and saving a neural network that classifies a real-world image into one of ten classes."
   ]
  },
  {
   "cell_type": "code",
   "execution_count": 5,
   "metadata": {},
   "outputs": [],
   "source": [
    "# Run this cell to load the dataset\n",
    "\n",
    "train = loadmat('data/train_32x32.mat')\n",
    "test = loadmat('data/test_32x32.mat')"
   ]
  },
  {
   "cell_type": "markdown",
   "metadata": {},
   "source": [
    "Both `train` and `test` are dictionaries with keys `X` and `y` for the input images and labels respectively."
   ]
  },
  {
   "cell_type": "markdown",
   "metadata": {},
   "source": [
    "## 1. Inspect and preprocess the dataset\n",
    "* Extract the training and testing images and labels separately from the train and test dictionaries loaded for you.\n",
    "* Select a random sample of images and corresponding labels from the dataset (at least 10), and display them in a figure.\n",
    "* Convert the training and test images to grayscale by taking the average across all colour channels for each pixel. _Hint: retain the channel dimension, which will now have size 1._\n",
    "* Select a random sample of the grayscale images and corresponding labels from the dataset (at least 10), and display them in a figure."
   ]
  },
  {
   "cell_type": "code",
   "execution_count": 6,
   "metadata": {},
   "outputs": [
    {
     "name": "stdout",
     "output_type": "stream",
     "text": [
      "Training data shape: (32, 32, 3, 73257)\n",
      "Training labels shape:(73257, 1)\n",
      "Test data shape:(32, 32, 3, 26032)\n",
      "Test labels shape:(26032, 1)\n"
     ]
    }
   ],
   "source": [
    "# Load the training and testing data and labels from the dictionary\n",
    "train_x, train_y, test_x, test_y = train['X'], train['y'], test['X'], test['y']\n",
    "print(f'Training data shape: {train_x.shape}\\n\\\n",
    "Training labels shape:{train_y.shape}\\n\\\n",
    "Test data shape:{test_x.shape}\\n\\\n",
    "Test labels shape:{test_y.shape}')"
   ]
  },
  {
   "cell_type": "code",
   "execution_count": 7,
   "metadata": {},
   "outputs": [
    {
     "name": "stdout",
     "output_type": "stream",
     "text": [
      "Training data shape: (73257, 32, 32, 3)\n",
      "Training labels shape:(73257, 1)\n",
      "Test data shape:(26032, 32, 32, 3)\n",
      "Test labels shape:(26032, 1)\n"
     ]
    }
   ],
   "source": [
    "# Rearrange the train and test data to have number of examples 1st\n",
    "\n",
    "train_x = np.moveaxis(train_x, -1, 0)\n",
    "test_x = np.moveaxis(test_x, -1, 0)\n",
    "\n",
    "# Print the shape of the data again\n",
    "print(f'Training data shape: {train_x.shape}\\n\\\n",
    "Training labels shape:{train_y.shape}\\n\\\n",
    "Test data shape:{test_x.shape}\\n\\\n",
    "Test labels shape:{test_y.shape}')"
   ]
  },
  {
   "cell_type": "code",
   "execution_count": 8,
   "metadata": {},
   "outputs": [],
   "source": [
    "# Replace the class label 10 to 0\n",
    "test_y[test_y==10] = 0\n",
    "train_y[train_y==10] = 0"
   ]
  },
  {
   "cell_type": "code",
   "execution_count": 9,
   "metadata": {},
   "outputs": [],
   "source": [
    "# Helper function to convert color images to gray and normalize it.\n",
    "def color_to_normalized_gray(arr):\n",
    "    \"\"\"Convert array of colored images to gray and normalize it's values\n",
    "       by dividing by 255.\n",
    "       baram: arr: numpy array of shape(num_images, height, width, 3)\n",
    "       return normailized array of gray images.\n",
    "    \"\"\"\n",
    "    gray_images = np.mean(arr, 3, keepdims=True) / 255\n",
    "    return gray_images"
   ]
  },
  {
   "cell_type": "code",
   "execution_count": 10,
   "metadata": {},
   "outputs": [
    {
     "name": "stdout",
     "output_type": "stream",
     "text": [
      "New training data shape: (73257, 32, 32, 1)\n",
      "New est data shape:(26032, 32, 32, 1)\n",
      "\n"
     ]
    }
   ],
   "source": [
    "train_x_gray = color_to_normalized_gray(train_x)\n",
    "test_x_gray = color_to_normalized_gray(test_x)\n",
    "# Print the shape of the data again\n",
    "print(f'New training data shape: {train_x_gray.shape}\\n\\\n",
    "New est data shape:{test_x_gray.shape}\\n')"
   ]
  },
  {
   "cell_type": "code",
   "execution_count": 11,
   "metadata": {},
   "outputs": [],
   "source": [
    "def plot_images(images, nrows, ncols, true_labels, predictions=None):\n",
    "    \"\"\" Helper function for plotting nrows * ncols images\n",
    "        param: images: array of images to plot\n",
    "        param: nrows: number of rows in the subplot\n",
    "        param: ncols: number of columns in the subplot\n",
    "        param: true_labels: true label values of the images\n",
    "        param: predictions: predicted labels of the images\n",
    "        return None\n",
    "    \"\"\"\n",
    "    fig, axes = plt.subplots(nrows, ncols, figsize=(16, 2*nrows))\n",
    "    for i, ax in enumerate(axes.flat):           \n",
    "        if images[i].shape == (32, 32, 3):\n",
    "            ax.imshow(images[i])\n",
    "        else:\n",
    "            ax.imshow(images[i,:,:,0], cmap=\"gray\")\n",
    "            \n",
    "        if predictions is None:\n",
    "            title = f\"Label: {str(true_labels[i])}\"\n",
    "            ax.set_title(title, color='b')\n",
    "        elif predictions[i] == true_labels[i]:\n",
    "            title = f\"Label: {str(true_labels[i])}, Pred: {str(predictions[i])}\"\n",
    "            ax.set_title(title, color='g')              \n",
    "        else:\n",
    "            title = f\"Label: {str(true_labels[i])}, Pred: {str(predictions[i])}\"\n",
    "            ax.set_title(title, color='r')\n",
    "          \n",
    "        ax.set_xticks([]); ax.set_yticks([])"
   ]
  },
  {
   "cell_type": "code",
   "execution_count": 12,
   "metadata": {},
   "outputs": [
    {
     "name": "stdout",
     "output_type": "stream",
     "text": [
      "Training Examples\n"
     ]
    },
    {
     "data": {
      "image/png": "[encoded data removed]",
      "text/plain": [
       "<Figure size 1152x288 with 10 Axes>"
      ]
     },
     "metadata": {},
     "output_type": "display_data"
    }
   ],
   "source": [
    "np.random.seed(0)\n",
    "idx_train = np.random.choice(train_x_gray.shape[0]-1, 10)\n",
    "print('Training Examples')\n",
    "plot_images(train_x_gray[idx_train], 2, 5, train_y[idx_train])"
   ]
  },
  {
   "cell_type": "code",
   "execution_count": 13,
   "metadata": {},
   "outputs": [
    {
     "name": "stdout",
     "output_type": "stream",
     "text": [
      "Test Examples\n"
     ]
    },
    {
     "data": {
      "image/png": "[encoded data removed]",
      "text/plain": [
       "<Figure size 1152x288 with 10 Axes>"
      ]
     },
     "metadata": {},
     "output_type": "display_data"
    }
   ],
   "source": [
    "# get random indices for test\n",
    "np.random.seed(0)\n",
    "idx_test = np.random.choice(test_x_gray.shape[0]-1, 10)\n",
    "print('Test Examples')\n",
    "plot_images(train_x_gray[idx_test], 2, 5, train_y[idx_test])"
   ]
  },
  {
   "cell_type": "markdown",
   "metadata": {},
   "source": [
    "## 2. MLP neural network classifier\n",
    "* Build an MLP classifier model using the Sequential API. Your model should use only Flatten and Dense layers, with the final layer having a 10-way softmax output. \n",
    "* You should design and build the model yourself. Feel free to experiment with different MLP architectures. _Hint: to achieve a reasonable accuracy you won't need to use more than 4 or 5 layers._\n",
    "* Print out the model summary (using the summary() method)\n",
    "* Compile and train the model (we recommend a maximum of 30 epochs), making use of both training and validation sets during the training run. \n",
    "* Your model should track at least one appropriate metric, and use at least two callbacks during training, one of which should be a ModelCheckpoint callback.\n",
    "* As a guide, you should aim to achieve a final categorical cross entropy training loss of less than 1.0 (the validation loss might be higher).\n",
    "* Plot the learning curves for loss vs epoch and accuracy vs epoch for both training and validation sets.\n",
    "* Compute and display the loss and accuracy of the trained model on the test set."
   ]
  },
  {
   "cell_type": "code",
   "execution_count": 97,
   "metadata": {},
   "outputs": [],
   "source": [
    "# Create MLP model\n",
    "def get_mlp_model():\n",
    "    mlp_model = Sequential([\n",
    "                            Flatten(input_shape=train_x_gray[0].shape),\n",
    "                            Dense(512, activation='relu'),\n",
    "                            Dense(256, activation='relu'),\n",
    "                            BatchNormalization(),\n",
    "                            Dense(128, activation='relu'),\n",
    "                            Dropout(0.3),\n",
    "                            Dense(64, activation='relu'),\n",
    "                            Dense(10, activation='softmax')\n",
    "    ])\n",
    "    return mlp_model"
   ]
  },
  {
   "cell_type": "code",
   "execution_count": 98,
   "metadata": {},
   "outputs": [],
   "source": [
    "mlp_model = get_mlp_model()"
   ]
  },
  {
   "cell_type": "code",
   "execution_count": 99,
   "metadata": {},
   "outputs": [
    {
     "name": "stdout",
     "output_type": "stream",
     "text": [
      "Model: \"sequential_1\"\n",
      "_________________________________________________________________\n",
      "Layer (type)                 Output Shape              Param #   \n",
      "=================================================================\n",
      "flatten_1 (Flatten)          (None, 1024)              0         \n",
      "_________________________________________________________________\n",
      "dense_5 (Dense)              (None, 512)               524800    \n",
      "_________________________________________________________________\n",
      "dense_6 (Dense)              (None, 256)               131328    \n",
      "_________________________________________________________________\n",
      "batch_normalization_1 (Batch (None, 256)               1024      \n",
      "_________________________________________________________________\n",
      "dense_7 (Dense)              (None, 128)               32896     \n",
      "_________________________________________________________________\n",
      "dropout_1 (Dropout)          (None, 128)               0         \n",
      "_________________________________________________________________\n",
      "dense_8 (Dense)              (None, 64)                8256      \n",
      "_________________________________________________________________\n",
      "dense_9 (Dense)              (None, 10)                650       \n",
      "=================================================================\n",
      "Total params: 698,954\n",
      "Trainable params: 698,442\n",
      "Non-trainable params: 512\n",
      "_________________________________________________________________\n"
     ]
    }
   ],
   "source": [
    "# Print model summary\n",
    "mlp_model.summary()"
   ]
  },
  {
   "cell_type": "code",
   "execution_count": 107,
   "metadata": {},
   "outputs": [],
   "source": [
    "# Compile the model\n",
    "mlp_model.compile(optimizer='adam',\n",
    "                  loss='sparse_categorical_crossentropy',\n",
    "                  metrics=['accuracy'])"
   ]
  },
  {
   "cell_type": "code",
   "execution_count": 73,
   "metadata": {},
   "outputs": [],
   "source": [
    "# Create call backs\n",
    "checkpoint = ModelCheckpoint(filepath='mlp_model.h5',\n",
    "                             save_best_only=True,\n",
    "                             save_weights_only=True,\n",
    "                             monitor='val_loss',\n",
    "                             mode='min',\n",
    "                             verbose=1)\n",
    "\n",
    "early_stop = EarlyStopping(patience=5,\n",
    "                           monitor='loss',\n",
    "                           mode='min')"
   ]
  },
  {
   "cell_type": "code",
   "execution_count": 74,
   "metadata": {},
   "outputs": [
    {
     "name": "stdout",
     "output_type": "stream",
     "text": [
      "Train on 73257 samples, validate on 26032 samples\n",
      "Epoch 1/30\n",
      "73216/73257 [============================>.] - ETA: 0s - loss: 1.6112 - accuracy: 0.4553\n",
      "Epoch 00001: val_loss improved from inf to 2.28178, saving model to mlp_model.h5\n",
      "73257/73257 [==============================] - 54s 734us/sample - loss: 1.6111 - accuracy: 0.4553 - val_loss: 2.2818 - val_accuracy: 0.3944\n",
      "Epoch 2/30\n",
      "73216/73257 [============================>.] - ETA: 0s - loss: 1.1641 - accuracy: 0.6352\n",
      "Epoch 00002: val_loss improved from 2.28178 to 1.23871, saving model to mlp_model.h5\n",
      "73257/73257 [==============================] - 52s 713us/sample - loss: 1.1640 - accuracy: 0.6352 - val_loss: 1.2387 - val_accuracy: 0.6085\n",
      "Epoch 3/30\n",
      "73216/73257 [============================>.] - ETA: 0s - loss: 1.0496 - accuracy: 0.6769\n",
      "Epoch 00003: val_loss did not improve from 1.23871\n",
      "73257/73257 [==============================] - 52s 711us/sample - loss: 1.0494 - accuracy: 0.6769 - val_loss: 1.3246 - val_accuracy: 0.5882\n",
      "Epoch 4/30\n",
      "73216/73257 [============================>.] - ETA: 0s - loss: 0.9770 - accuracy: 0.7000\n",
      "Epoch 00004: val_loss improved from 1.23871 to 1.10426, saving model to mlp_model.h5\n",
      "73257/73257 [==============================] - 52s 706us/sample - loss: 0.9771 - accuracy: 0.6999 - val_loss: 1.1043 - val_accuracy: 0.6615\n",
      "Epoch 5/30\n",
      "73216/73257 [============================>.] - ETA: 0s - loss: 0.9214 - accuracy: 0.7158\n",
      "Epoch 00005: val_loss did not improve from 1.10426\n",
      "73257/73257 [==============================] - 51s 695us/sample - loss: 0.9212 - accuracy: 0.7159 - val_loss: 1.1949 - val_accuracy: 0.6338\n",
      "Epoch 6/30\n",
      "73216/73257 [============================>.] - ETA: 0s - loss: 0.8642 - accuracy: 0.7331\n",
      "Epoch 00006: val_loss did not improve from 1.10426\n",
      "73257/73257 [==============================] - 51s 700us/sample - loss: 0.8642 - accuracy: 0.7332 - val_loss: 1.1358 - val_accuracy: 0.6546\n",
      "Epoch 7/30\n",
      "73088/73257 [============================>.] - ETA: 0s - loss: 0.8254 - accuracy: 0.7438\n",
      "Epoch 00007: val_loss improved from 1.10426 to 0.98382, saving model to mlp_model.h5\n",
      "73257/73257 [==============================] - 53s 718us/sample - loss: 0.8250 - accuracy: 0.7438 - val_loss: 0.9838 - val_accuracy: 0.6931\n",
      "Epoch 8/30\n",
      "73216/73257 [============================>.] - ETA: 0s - loss: 0.8006 - accuracy: 0.7532\n",
      "Epoch 00008: val_loss did not improve from 0.98382\n",
      "73257/73257 [==============================] - 52s 705us/sample - loss: 0.8007 - accuracy: 0.7532 - val_loss: 1.3772 - val_accuracy: 0.5950\n",
      "Epoch 9/30\n",
      "73216/73257 [============================>.] - ETA: 0s - loss: 0.7755 - accuracy: 0.7600\n",
      "Epoch 00009: val_loss did not improve from 0.98382\n",
      "73257/73257 [==============================] - 51s 694us/sample - loss: 0.7757 - accuracy: 0.7599 - val_loss: 1.0637 - val_accuracy: 0.6729\n",
      "Epoch 10/30\n",
      "73216/73257 [============================>.] - ETA: 0s - loss: 0.7566 - accuracy: 0.7648\n",
      "Epoch 00010: val_loss improved from 0.98382 to 0.87446, saving model to mlp_model.h5\n",
      "73257/73257 [==============================] - 50s 687us/sample - loss: 0.7568 - accuracy: 0.7648 - val_loss: 0.8745 - val_accuracy: 0.7343\n",
      "Epoch 11/30\n",
      "73216/73257 [============================>.] - ETA: 0s - loss: 0.7385 - accuracy: 0.7699\n",
      "Epoch 00011: val_loss did not improve from 0.87446\n",
      "73257/73257 [==============================] - 50s 682us/sample - loss: 0.7385 - accuracy: 0.7699 - val_loss: 0.9022 - val_accuracy: 0.7193\n",
      "Epoch 12/30\n",
      "73216/73257 [============================>.] - ETA: 0s - loss: 0.7258 - accuracy: 0.7739\n",
      "Epoch 00012: val_loss did not improve from 0.87446\n",
      "73257/73257 [==============================] - 51s 699us/sample - loss: 0.7259 - accuracy: 0.7739 - val_loss: 0.9087 - val_accuracy: 0.7184\n",
      "Epoch 13/30\n",
      "73216/73257 [============================>.] - ETA: 0s - loss: 0.7058 - accuracy: 0.7810\n",
      "Epoch 00013: val_loss did not improve from 0.87446\n",
      "73257/73257 [==============================] - 50s 678us/sample - loss: 0.7059 - accuracy: 0.7810 - val_loss: 0.9949 - val_accuracy: 0.6994\n",
      "Epoch 14/30\n",
      "73088/73257 [============================>.] - ETA: 0s - loss: 0.6994 - accuracy: 0.7822\n",
      "Epoch 00014: val_loss did not improve from 0.87446\n",
      "73257/73257 [==============================] - 50s 682us/sample - loss: 0.6996 - accuracy: 0.7821 - val_loss: 0.8845 - val_accuracy: 0.7247\n",
      "Epoch 15/30\n",
      "73216/73257 [============================>.] - ETA: 0s - loss: 0.6927 - accuracy: 0.7846\n",
      "Epoch 00015: val_loss did not improve from 0.87446\n",
      "73257/73257 [==============================] - 49s 673us/sample - loss: 0.6926 - accuracy: 0.7846 - val_loss: 0.8810 - val_accuracy: 0.7293\n",
      "Epoch 16/30\n",
      "73088/73257 [============================>.] - ETA: 0s - loss: 0.6815 - accuracy: 0.7871\n",
      "Epoch 00016: val_loss improved from 0.87446 to 0.85912, saving model to mlp_model.h5\n",
      "73257/73257 [==============================] - 49s 667us/sample - loss: 0.6818 - accuracy: 0.7870 - val_loss: 0.8591 - val_accuracy: 0.7287\n",
      "Epoch 17/30\n",
      "73216/73257 [============================>.] - ETA: 0s - loss: 0.6754 - accuracy: 0.7891\n",
      "Epoch 00017: val_loss did not improve from 0.85912\n",
      "73257/73257 [==============================] - 49s 664us/sample - loss: 0.6753 - accuracy: 0.7891 - val_loss: 0.9884 - val_accuracy: 0.6954\n",
      "Epoch 18/30\n",
      "73216/73257 [============================>.] - ETA: 0s - loss: 0.6646 - accuracy: 0.7924\n",
      "Epoch 00018: val_loss improved from 0.85912 to 0.82382, saving model to mlp_model.h5\n",
      "73257/73257 [==============================] - 48s 659us/sample - loss: 0.6647 - accuracy: 0.7924 - val_loss: 0.8238 - val_accuracy: 0.7489\n",
      "Epoch 19/30\n",
      "73216/73257 [============================>.] - ETA: 0s - loss: 0.6582 - accuracy: 0.7950\n",
      "Epoch 00019: val_loss did not improve from 0.82382\n",
      "73257/73257 [==============================] - 50s 685us/sample - loss: 0.6581 - accuracy: 0.7950 - val_loss: 0.8717 - val_accuracy: 0.7328\n",
      "Epoch 20/30\n",
      "73216/73257 [============================>.] - ETA: 0s - loss: 0.6479 - accuracy: 0.7989\n",
      "Epoch 00020: val_loss improved from 0.82382 to 0.78615, saving model to mlp_model.h5\n",
      "73257/73257 [==============================] - 49s 675us/sample - loss: 0.6479 - accuracy: 0.7989 - val_loss: 0.7861 - val_accuracy: 0.7611\n",
      "Epoch 21/30\n",
      "73216/73257 [============================>.] - ETA: 0s - loss: 0.6420 - accuracy: 0.7992\n",
      "Epoch 00021: val_loss did not improve from 0.78615\n",
      "73257/73257 [==============================] - 50s 685us/sample - loss: 0.6421 - accuracy: 0.7992 - val_loss: 1.0004 - val_accuracy: 0.6815\n",
      "Epoch 22/30\n",
      "73216/73257 [============================>.] - ETA: 0s - loss: 0.6389 - accuracy: 0.8004\n",
      "Epoch 00022: val_loss improved from 0.78615 to 0.78305, saving model to mlp_model.h5\n",
      "73257/73257 [==============================] - 51s 695us/sample - loss: 0.6388 - accuracy: 0.8004 - val_loss: 0.7831 - val_accuracy: 0.7627\n",
      "Epoch 23/30\n",
      "73216/73257 [============================>.] - ETA: 0s - loss: 0.6296 - accuracy: 0.8036\n",
      "Epoch 00023: val_loss improved from 0.78305 to 0.77474, saving model to mlp_model.h5\n",
      "73257/73257 [==============================] - 50s 683us/sample - loss: 0.6298 - accuracy: 0.8036 - val_loss: 0.7747 - val_accuracy: 0.7650\n",
      "Epoch 24/30\n",
      "73216/73257 [============================>.] - ETA: 0s - loss: 0.6256 - accuracy: 0.8038\n",
      "Epoch 00024: val_loss did not improve from 0.77474\n",
      "73257/73257 [==============================] - 49s 673us/sample - loss: 0.6257 - accuracy: 0.8039 - val_loss: 0.8302 - val_accuracy: 0.7479\n",
      "Epoch 25/30\n",
      "73088/73257 [============================>.] - ETA: 0s - loss: 0.6225 - accuracy: 0.8056\n",
      "Epoch 00025: val_loss did not improve from 0.77474\n",
      "73257/73257 [==============================] - 50s 676us/sample - loss: 0.6225 - accuracy: 0.8055 - val_loss: 0.8971 - val_accuracy: 0.7190\n",
      "Epoch 26/30\n",
      "73216/73257 [============================>.] - ETA: 0s - loss: 0.6138 - accuracy: 0.8080\n",
      "Epoch 00026: val_loss improved from 0.77474 to 0.75948, saving model to mlp_model.h5\n",
      "73257/73257 [==============================] - 50s 681us/sample - loss: 0.6140 - accuracy: 0.8080 - val_loss: 0.7595 - val_accuracy: 0.7682\n",
      "Epoch 27/30\n",
      "73216/73257 [============================>.] - ETA: 0s - loss: 0.6135 - accuracy: 0.8096\n",
      "Epoch 00027: val_loss did not improve from 0.75948\n",
      "73257/73257 [==============================] - 49s 669us/sample - loss: 0.6135 - accuracy: 0.8096 - val_loss: 0.9009 - val_accuracy: 0.7186\n",
      "Epoch 28/30\n",
      "73216/73257 [============================>.] - ETA: 0s - loss: 0.6048 - accuracy: 0.8107\n",
      "Epoch 00028: val_loss did not improve from 0.75948\n",
      "73257/73257 [==============================] - 50s 681us/sample - loss: 0.6049 - accuracy: 0.8106 - val_loss: 0.8434 - val_accuracy: 0.7435\n",
      "Epoch 29/30\n",
      "73088/73257 [============================>.] - ETA: 0s - loss: 0.6008 - accuracy: 0.8119\n",
      "Epoch 00029: val_loss did not improve from 0.75948\n",
      "73257/73257 [==============================] - 49s 665us/sample - loss: 0.6007 - accuracy: 0.8120 - val_loss: 0.8507 - val_accuracy: 0.7395\n",
      "Epoch 30/30\n",
      "73216/73257 [============================>.] - ETA: 0s - loss: 0.5941 - accuracy: 0.8135\n",
      "Epoch 00030: val_loss improved from 0.75948 to 0.75132, saving model to mlp_model.h5\n",
      "73257/73257 [==============================] - 49s 673us/sample - loss: 0.5942 - accuracy: 0.8134 - val_loss: 0.7513 - val_accuracy: 0.7682\n"
     ]
    }
   ],
   "source": [
    "# Train the model\n",
    "history = mlp_model.fit(train_x_gray,\n",
    "                        train_y,\n",
    "                        epochs=30,\n",
    "                        validation_data=(test_x_gray, test_y),\n",
    "                        batch_size=128,\n",
    "                        callbacks=[checkpoint, early_stop])"
   ]
  },
  {
   "cell_type": "code",
   "execution_count": 78,
   "metadata": {},
   "outputs": [
    {
     "data": {
      "text/html": [
       "<div>\n",
       "<style scoped>\n",
       "    .dataframe tbody tr th:only-of-type {\n",
       "        vertical-align: middle;\n",
       "    }\n",
       "\n",
       "    .dataframe tbody tr th {\n",
       "        vertical-align: top;\n",
       "    }\n",
       "\n",
       "    .dataframe thead th {\n",
       "        text-align: right;\n",
       "    }\n",
       "</style>\n",
       "<table border=\"1\" class=\"dataframe\">\n",
       "  <thead>\n",
       "    <tr style=\"text-align: right;\">\n",
       "      <th></th>\n",
       "      <th>loss</th>\n",
       "      <th>accuracy</th>\n",
       "      <th>val_loss</th>\n",
       "      <th>val_accuracy</th>\n",
       "    </tr>\n",
       "  </thead>\n",
       "  <tbody>\n",
       "    <tr>\n",
       "      <th>20</th>\n",
       "      <td>0.642104</td>\n",
       "      <td>0.799159</td>\n",
       "      <td>1.000383</td>\n",
       "      <td>0.681507</td>\n",
       "    </tr>\n",
       "    <tr>\n",
       "      <th>21</th>\n",
       "      <td>0.638812</td>\n",
       "      <td>0.800429</td>\n",
       "      <td>0.783054</td>\n",
       "      <td>0.762677</td>\n",
       "    </tr>\n",
       "    <tr>\n",
       "      <th>22</th>\n",
       "      <td>0.629817</td>\n",
       "      <td>0.803555</td>\n",
       "      <td>0.774742</td>\n",
       "      <td>0.764982</td>\n",
       "    </tr>\n",
       "    <tr>\n",
       "      <th>23</th>\n",
       "      <td>0.625670</td>\n",
       "      <td>0.803855</td>\n",
       "      <td>0.830239</td>\n",
       "      <td>0.747926</td>\n",
       "    </tr>\n",
       "    <tr>\n",
       "      <th>24</th>\n",
       "      <td>0.622453</td>\n",
       "      <td>0.805493</td>\n",
       "      <td>0.897053</td>\n",
       "      <td>0.719038</td>\n",
       "    </tr>\n",
       "    <tr>\n",
       "      <th>25</th>\n",
       "      <td>0.613986</td>\n",
       "      <td>0.807991</td>\n",
       "      <td>0.759477</td>\n",
       "      <td>0.768170</td>\n",
       "    </tr>\n",
       "    <tr>\n",
       "      <th>26</th>\n",
       "      <td>0.613452</td>\n",
       "      <td>0.809629</td>\n",
       "      <td>0.900869</td>\n",
       "      <td>0.718616</td>\n",
       "    </tr>\n",
       "    <tr>\n",
       "      <th>27</th>\n",
       "      <td>0.604866</td>\n",
       "      <td>0.810585</td>\n",
       "      <td>0.843359</td>\n",
       "      <td>0.743470</td>\n",
       "    </tr>\n",
       "    <tr>\n",
       "      <th>28</th>\n",
       "      <td>0.600696</td>\n",
       "      <td>0.811991</td>\n",
       "      <td>0.850677</td>\n",
       "      <td>0.739513</td>\n",
       "    </tr>\n",
       "    <tr>\n",
       "      <th>29</th>\n",
       "      <td>0.594218</td>\n",
       "      <td>0.813383</td>\n",
       "      <td>0.751323</td>\n",
       "      <td>0.768247</td>\n",
       "    </tr>\n",
       "  </tbody>\n",
       "</table>\n",
       "</div>"
      ],
      "text/plain": [
       "        loss  accuracy  val_loss  val_accuracy\n",
       "20  0.642104  0.799159  1.000383      0.681507\n",
       "21  0.638812  0.800429  0.783054      0.762677\n",
       "22  0.629817  0.803555  0.774742      0.764982\n",
       "23  0.625670  0.803855  0.830239      0.747926\n",
       "24  0.622453  0.805493  0.897053      0.719038\n",
       "25  0.613986  0.807991  0.759477      0.768170\n",
       "26  0.613452  0.809629  0.900869      0.718616\n",
       "27  0.604866  0.810585  0.843359      0.743470\n",
       "28  0.600696  0.811991  0.850677      0.739513\n",
       "29  0.594218  0.813383  0.751323      0.768247"
      ]
     },
     "execution_count": 78,
     "metadata": {},
     "output_type": "execute_result"
    }
   ],
   "source": [
    "df = pd.DataFrame(history.history)\n",
    "df.tail(10)"
   ]
  },
  {
   "cell_type": "code",
   "execution_count": 94,
   "metadata": {},
   "outputs": [
    {
     "data": {
      "image/png": "[encoded data removed]",
      "text/plain": [
       "<Figure size 432x288 with 1 Axes>"
      ]
     },
     "metadata": {},
     "output_type": "display_data"
    }
   ],
   "source": [
    "# Plot the loss for training and validation sets\n",
    "plt.plot(df.loss)\n",
    "plt.plot(df.val_loss)\n",
    "plt.title('Loss vs. epochs')\n",
    "plt.ylabel('Loss')\n",
    "plt.xlabel('Epoch')\n",
    "plt.legend(['Training', 'Validation'], loc='upper right')\n",
    "plt.show()"
   ]
  },
  {
   "cell_type": "code",
   "execution_count": 95,
   "metadata": {},
   "outputs": [
    {
     "data": {
      "image/png": "[encoded data removed]",
      "text/plain": [
       "<Figure size 432x288 with 1 Axes>"
      ]
     },
     "metadata": {},
     "output_type": "display_data"
    }
   ],
   "source": [
    "# Plot the accuracy for training and validation sets\n",
    "plt.plot(df.accuracy)\n",
    "plt.plot(df.val_accuracy)\n",
    "plt.title('Accuracy vs. epochs')\n",
    "plt.ylabel('Accuracy')\n",
    "plt.xlabel('Epoch')\n",
    "plt.legend(['Training', 'Validation'], loc='lower right')\n",
    "plt.show()"
   ]
  },
  {
   "cell_type": "code",
   "execution_count": 108,
   "metadata": {},
   "outputs": [
    {
     "name": "stdout",
     "output_type": "stream",
     "text": [
      "Test loss: 2.352\n",
      "Test accuracy: 9.72%\n"
     ]
    }
   ],
   "source": [
    "test_loss, test_acc = mlp_model.evaluate(test_x_gray, test_y, verbose=0)\n",
    "print(\"Test loss: {:.3f}\\nTest accuracy: {:.2f}%\".format(test_loss, 100 * test_acc))"
   ]
  },
  {
   "cell_type": "code",
   "execution_count": 102,
   "metadata": {},
   "outputs": [
    {
     "name": "stdout",
     "output_type": "stream",
     "text": [
      "Model: \"sequential_3\"\n",
      "_________________________________________________________________\n",
      "Layer (type)                 Output Shape              Param #   \n",
      "=================================================================\n",
      "flatten_3 (Flatten)          (None, 1024)              0         \n",
      "_________________________________________________________________\n",
      "dense_15 (Dense)             (None, 512)               524800    \n",
      "_________________________________________________________________\n",
      "dense_16 (Dense)             (None, 256)               131328    \n",
      "_________________________________________________________________\n",
      "batch_normalization_3 (Batch (None, 256)               1024      \n",
      "_________________________________________________________________\n",
      "dense_17 (Dense)             (None, 128)               32896     \n",
      "_________________________________________________________________\n",
      "dropout_3 (Dropout)          (None, 128)               0         \n",
      "_________________________________________________________________\n",
      "dense_18 (Dense)             (None, 64)                8256      \n",
      "_________________________________________________________________\n",
      "dense_19 (Dense)             (None, 10)                650       \n",
      "=================================================================\n",
      "Total params: 698,954\n",
      "Trainable params: 698,442\n",
      "Non-trainable params: 512\n",
      "_________________________________________________________________\n"
     ]
    }
   ],
   "source": [
    "# Load the best model\n",
    "mlp_best = get_mlp_model()\n",
    "mlp_best.summary()"
   ]
  },
  {
   "cell_type": "code",
   "execution_count": 103,
   "metadata": {},
   "outputs": [],
   "source": [
    "# Compile the model\n",
    "mlp_best.compile(optimizer='adam',\n",
    "                  loss='sparse_categorical_crossentropy',\n",
    "                  metrics=['accuracy'])\n",
    "mlp_best.load_weights('mlp_model.h5')"
   ]
  },
  {
   "cell_type": "code",
   "execution_count": 104,
   "metadata": {},
   "outputs": [
    {
     "name": "stdout",
     "output_type": "stream",
     "text": [
      "Test loss: 0.751\n",
      "Test accuracy: 76.82%\n"
     ]
    }
   ],
   "source": [
    "test_loss, test_acc = mlp_best.evaluate(test_x_gray, test_y, verbose=0)\n",
    "print(\"Test loss: {:.3f}\\nTest accuracy: {:.2f}%\".format(test_loss, 100 * test_acc))"
   ]
  },
  {
   "cell_type": "markdown",
   "metadata": {},
   "source": [
    "## 3. CNN neural network classifier\n",
    "* Build a CNN classifier model using the Sequential API. Your model should use the Conv2D, MaxPool2D, BatchNormalization, Flatten, Dense and Dropout layers. The final layer should again have a 10-way softmax output. \n",
    "* You should design and build the model yourself. Feel free to experiment with different CNN architectures. _Hint: to achieve a reasonable accuracy you won't need to use more than 2 or 3 convolutional layers and 2 fully connected layers.)_\n",
    "* The CNN model should use fewer trainable parameters than your MLP model.\n",
    "* Compile and train the model (we recommend a maximum of 30 epochs), making use of both training and validation sets during the training run.\n",
    "* Your model should track at least one appropriate metric, and use at least two callbacks during training, one of which should be a ModelCheckpoint callback.\n",
    "* You should aim to beat the MLP model performance with fewer parameters!\n",
    "* Plot the learning curves for loss vs epoch and accuracy vs epoch for both training and validation sets.\n",
    "* Compute and display the loss and accuracy of the trained model on the test set."
   ]
  },
  {
   "cell_type": "code",
   "execution_count": 14,
   "metadata": {},
   "outputs": [
    {
     "name": "stdout",
     "output_type": "stream",
     "text": [
      "Model: \"sequential\"\n",
      "_________________________________________________________________\n",
      "Layer (type)                 Output Shape              Param #   \n",
      "=================================================================\n",
      "conv2d (Conv2D)              (None, 32, 32, 16)        160       \n",
      "_________________________________________________________________\n",
      "max_pooling2d (MaxPooling2D) (None, 16, 16, 16)        0         \n",
      "_________________________________________________________________\n",
      "batch_normalization (BatchNo (None, 16, 16, 16)        64        \n",
      "_________________________________________________________________\n",
      "dropout (Dropout)            (None, 16, 16, 16)        0         \n",
      "_________________________________________________________________\n",
      "conv2d_1 (Conv2D)            (None, 16, 16, 32)        4640      \n",
      "_________________________________________________________________\n",
      "max_pooling2d_1 (MaxPooling2 (None, 8, 8, 32)          0         \n",
      "_________________________________________________________________\n",
      "batch_normalization_1 (Batch (None, 8, 8, 32)          128       \n",
      "_________________________________________________________________\n",
      "conv2d_2 (Conv2D)            (None, 8, 8, 64)          18496     \n",
      "_________________________________________________________________\n",
      "max_pooling2d_2 (MaxPooling2 (None, 4, 4, 64)          0         \n",
      "_________________________________________________________________\n",
      "dropout_1 (Dropout)          (None, 4, 4, 64)          0         \n",
      "_________________________________________________________________\n",
      "flatten (Flatten)            (None, 1024)              0         \n",
      "_________________________________________________________________\n",
      "dense (Dense)                (None, 64)                65600     \n",
      "_________________________________________________________________\n",
      "dense_1 (Dense)              (None, 10)                650       \n",
      "=================================================================\n",
      "Total params: 89,738\n",
      "Trainable params: 89,642\n",
      "Non-trainable params: 96\n",
      "_________________________________________________________________\n"
     ]
    }
   ],
   "source": [
    "cnn_model = Sequential([\n",
    "                        Conv2D(16, 3, padding='SAME', activation='relu', input_shape=train_x_gray[0].shape),\n",
    "                        MaxPooling2D(2),\n",
    "                        BatchNormalization(),\n",
    "                        Dropout(0.3),\n",
    "                        Conv2D(32, 3, padding='SAME', activation='relu'),\n",
    "                        MaxPooling2D(2),\n",
    "                        BatchNormalization(),\n",
    "                        Conv2D(64, 3, padding='SAME', activation='relu'),\n",
    "                        MaxPooling2D(2),\n",
    "                        Dropout(0.3),\n",
    "                        Flatten(),\n",
    "                        Dense(64, activation='relu'),\n",
    "                        Dense(10, activation='softmax')\n",
    "])\n",
    "\n",
    "cnn_model.summary()"
   ]
  },
  {
   "cell_type": "code",
   "execution_count": 15,
   "metadata": {},
   "outputs": [],
   "source": [
    "cnn_model.compile(optimizer='adam',\n",
    "                  loss='sparse_categorical_crossentropy',\n",
    "                  metrics=['accuracy'])"
   ]
  },
  {
   "cell_type": "code",
   "execution_count": 16,
   "metadata": {},
   "outputs": [],
   "source": [
    "checkpoint_cnn = ModelCheckpoint(filepath='CNN.h5',\n",
    "                                 save_best_only=True,\n",
    "                                 save_weights_only=False,\n",
    "                                 monitor='val_accuracy',\n",
    "                                 mode='max',\n",
    "                                 verbose=1)\n",
    "early_stop_cnn = EarlyStopping(monitor='loss', patience=5, verbose=1)"
   ]
  },
  {
   "cell_type": "code",
   "execution_count": null,
   "metadata": {},
   "outputs": [
    {
     "name": "stdout",
     "output_type": "stream",
     "text": [
      "Train on 73257 samples, validate on 26032 samples\n",
      "Epoch 1/30\n",
      "73216/73257 [============================>.] - ETA: 0s - loss: 1.8976 - accuracy: 0.3332\n",
      "Epoch 00001: val_accuracy improved from -inf to 0.16910, saving model to CNN.h5\n",
      "73257/73257 [==============================] - 340s 5ms/sample - loss: 1.8971 - accuracy: 0.3334 - val_loss: 2.1972 - val_accuracy: 0.1691\n",
      "Epoch 2/30\n",
      "73216/73257 [============================>.] - ETA: 0s - loss: 0.8793 - accuracy: 0.7219\n",
      "Epoch 00002: val_accuracy improved from 0.16910 to 0.30082, saving model to CNN.h5\n",
      "73257/73257 [==============================] - 315s 4ms/sample - loss: 0.8791 - accuracy: 0.7220 - val_loss: 2.0208 - val_accuracy: 0.3008\n",
      "Epoch 3/30\n",
      "11264/73257 [===>..........................] - ETA: 4:10 - loss: 0.7105 - accuracy: 0.7843"
     ]
    }
   ],
   "source": [
    "history_cnn = cnn_model.fit(train_x_gray,\n",
    "                        train_y,\n",
    "                        callbacks=[checkpoint_cnn, early_stop_cnn],\n",
    "                        batch_size=512,\n",
    "                        validation_data=(test_x_gray, test_y),\n",
    "                        epochs=30)"
   ]
  },
  {
   "cell_type": "code",
   "execution_count": null,
   "metadata": {},
   "outputs": [],
   "source": []
  },
  {
   "cell_type": "code",
   "execution_count": null,
   "metadata": {},
   "outputs": [],
   "source": []
  },
  {
   "cell_type": "markdown",
   "metadata": {},
   "source": [
    "## 4. Get model predictions\n",
    "* Load the best weights for the MLP and CNN models that you saved during the training run.\n",
    "* Randomly select 5 images and corresponding labels from the test set and display the images with their labels.\n",
    "* Alongside the image and label, show each model’s predictive distribution as a bar chart, and the final model prediction given by the label with maximum probability."
   ]
  },
  {
   "cell_type": "code",
   "execution_count": null,
   "metadata": {},
   "outputs": [],
   "source": []
  },
  {
   "cell_type": "code",
   "execution_count": null,
   "metadata": {},
   "outputs": [],
   "source": []
  },
  {
   "cell_type": "code",
   "execution_count": null,
   "metadata": {},
   "outputs": [],
   "source": []
  },
  {
   "cell_type": "code",
   "execution_count": null,
   "metadata": {},
   "outputs": [],
   "source": []
  },
  {
   "cell_type": "code",
   "execution_count": null,
   "metadata": {},
   "outputs": [],
   "source": []
  },
  {
   "cell_type": "code",
   "execution_count": null,
   "metadata": {},
   "outputs": [],
   "source": []
  }
 ],
 "metadata": {
  "kernelspec": {
   "display_name": "Python 3",
   "language": "python",
   "name": "python3"
  },
  "language_info": {
   "codemirror_mode": {
    "name": "ipython",
    "version": 3
   },
   "file_extension": ".py",
   "mimetype": "text/x-python",
   "name": "python",
   "nbconvert_exporter": "python",
   "pygments_lexer": "ipython3",
   "version": "3.7.1"
  }
 },
 "nbformat": 4,
 "nbformat_minor": 2
}
