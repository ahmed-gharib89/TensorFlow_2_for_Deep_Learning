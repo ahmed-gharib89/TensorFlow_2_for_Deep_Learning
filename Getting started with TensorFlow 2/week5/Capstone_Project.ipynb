{
 "cells": [
  {
   "cell_type": "markdown",
   "metadata": {},
   "source": [
    "# Capstone Project\n",
    "## Image classifier for the SVHN dataset\n",
    "### Instructions\n",
    "\n",
    "In this notebook, you will create a neural network that classifies real-world images digits. You will use concepts from throughout this course in building, training, testing, validating and saving your Tensorflow classifier model.\n",
    "\n",
    "This project is peer-assessed. Within this notebook you will find instructions in each section for how to complete the project. Pay close attention to the instructions as the peer review will be carried out according to a grading rubric that checks key parts of the project instructions. Feel free to add extra cells into the notebook as required.\n",
    "\n",
    "### How to submit\n",
    "\n",
    "When you have completed the Capstone project notebook, you will submit a pdf of the notebook for peer review. First ensure that the notebook has been fully executed from beginning to end, and all of the cell outputs are visible. This is important, as the grading rubric depends on the reviewer being able to view the outputs of your notebook. Save the notebook as a pdf (File -> Download as -> PDF via LaTeX). You should then submit this pdf for review.\n",
    "\n",
    "### Let's get started!\n",
    "\n",
    "We'll start by running some imports, and loading the dataset. For this project you are free to make further imports throughout the notebook as you wish. "
   ]
  },
  {
   "cell_type": "code",
   "execution_count": 16,
   "metadata": {},
   "outputs": [],
   "source": [
    "import tensorflow as tf\n",
    "from scipy.io import loadmat\n",
    "import numpy as np\n",
    "import matplotlib.pyplot as plt\n",
    "%matplotlib inline\n",
    "from tensorflow.keras.callbacks import ModelCheckpoint, EarlyStopping\n",
    "from tensorflow.keras.models import Sequential\n",
    "from tensorflow.keras.layers import Dense, Flatten, Conv2D, MaxPooling2D, Dropout, BatchNormalization"
   ]
  },
  {
   "cell_type": "markdown",
   "metadata": {},
   "source": [
    "![SVHN overview image](data/svhn_examples.jpg)\n",
    "For the capstone project, you will use the [SVHN dataset](http://ufldl.stanford.edu/housenumbers/). This is an  image dataset of over 600,000 digit images in all, and is a harder dataset than MNIST as the numbers appear in the context of natural scene images. SVHN is obtained from house numbers in Google Street View images. \n",
    "\n",
    "* Y. Netzer, T. Wang, A. Coates, A. Bissacco, B. Wu and A. Y. Ng. \"Reading Digits in Natural Images with Unsupervised Feature Learning\". NIPS Workshop on Deep Learning and Unsupervised Feature Learning, 2011.\n",
    "\n",
    "Your goal is to develop an end-to-end workflow for building, training, validating, evaluating and saving a neural network that classifies a real-world image into one of ten classes."
   ]
  },
  {
   "cell_type": "code",
   "execution_count": 2,
   "metadata": {},
   "outputs": [],
   "source": [
    "# Run this cell to load the dataset\n",
    "\n",
    "train = loadmat('data/train_32x32.mat')\n",
    "test = loadmat('data/test_32x32.mat')"
   ]
  },
  {
   "cell_type": "markdown",
   "metadata": {},
   "source": [
    "Both `train` and `test` are dictionaries with keys `X` and `y` for the input images and labels respectively."
   ]
  },
  {
   "cell_type": "markdown",
   "metadata": {},
   "source": [
    "## 1. Inspect and preprocess the dataset\n",
    "* Extract the training and testing images and labels separately from the train and test dictionaries loaded for you.\n",
    "* Select a random sample of images and corresponding labels from the dataset (at least 10), and display them in a figure.\n",
    "* Convert the training and test images to grayscale by taking the average across all colour channels for each pixel. _Hint: retain the channel dimension, which will now have size 1._\n",
    "* Select a random sample of the grayscale images and corresponding labels from the dataset (at least 10), and display them in a figure."
   ]
  },
  {
   "cell_type": "code",
   "execution_count": 15,
   "metadata": {},
   "outputs": [
    {
     "name": "stdout",
     "output_type": "stream",
     "text": [
      "Training data shape: (32, 32, 3, 73257)\n",
      "Training labels shape:(73257, 1)\n",
      "Test data shape:(32, 32, 3, 26032)\n",
      "Test labels shape:(26032, 1)\n"
     ]
    }
   ],
   "source": [
    "# Load the training and testing data and labels from the dictionary\n",
    "train_x, train_y, test_x, test_y = train['X'], train['y'], test['X'], test['y']\n",
    "print(f'Training data shape: {train_x.shape}\\n\\\n",
    "Training labels shape:{train_y.shape}\\n\\\n",
    "Test data shape:{test_x.shape}\\n\\\n",
    "Test labels shape:{test_y.shape}')"
   ]
  },
  {
   "cell_type": "code",
   "execution_count": 19,
   "metadata": {},
   "outputs": [
    {
     "name": "stdout",
     "output_type": "stream",
     "text": [
      "Training data shape: (73257, 32, 32, 3)\n",
      "Training labels shape:(73257, 1)\n",
      "Test data shape:(26032, 32, 32, 3)\n",
      "Test labels shape:(26032, 1)\n"
     ]
    }
   ],
   "source": [
    "# Rearrange the train and test data to have number of examples 1st\n",
    "\n",
    "train_x = np.moveaxis(train_x, -1, 0)\n",
    "test_x = np.moveaxis(test_x, -1, 0)\n",
    "\n",
    "# Print the shape of the data again\n",
    "print(f'Training data shape: {train_x.shape}\\n\\\n",
    "Training labels shape:{train_y.shape}\\n\\\n",
    "Test data shape:{test_x.shape}\\n\\\n",
    "Test labels shape:{test_y.shape}')"
   ]
  },
  {
   "cell_type": "code",
   "execution_count": 25,
   "metadata": {},
   "outputs": [],
   "source": [
    "# Helper function to convert color images to gray and normalize it.\n",
    "def color_to_normalized_gray(arr):\n",
    "    \"\"\"Convert array of colored images to gray and normalize it's values\n",
    "       by dividing by 255.\n",
    "       baram: arr: numpy array of shape(num_images, height, width, 3)\n",
    "       return normailized array of gray images.\n",
    "    \"\"\"\n",
    "    gray_images = np.mean(arr, 3, keepdims=True) / 255\n",
    "    return gray_images"
   ]
  },
  {
   "cell_type": "code",
   "execution_count": 27,
   "metadata": {},
   "outputs": [
    {
     "name": "stdout",
     "output_type": "stream",
     "text": [
      "New training data shape: (73257, 32, 32, 1)\n",
      "New est data shape:(26032, 32, 32, 1)\n",
      "\n"
     ]
    }
   ],
   "source": [
    "train_x_gray = color_to_normalized_gray(train_x)\n",
    "test_x_gray = color_to_normalized_gray(test_x)\n",
    "# Print the shape of the data again\n",
    "print(f'New training data shape: {train_x_gray.shape}\\n\\\n",
    "New est data shape:{test_x_gray.shape}\\n')"
   ]
  },
  {
   "cell_type": "code",
   "execution_count": 31,
   "metadata": {},
   "outputs": [],
   "source": [
    "def plot_images(images, nrows, ncols, true_labels, predictions=None):\n",
    "    \"\"\" Helper function for plotting nrows * ncols images\n",
    "        param: images: array of images to plot\n",
    "        param: nrows: number of rows in the subplot\n",
    "        param: ncols: number of columns in the subplot\n",
    "        param: true_labels: true label values of the images\n",
    "        param: predictions: predicted labels of the images\n",
    "        return None\n",
    "    \"\"\"\n",
    "    fig, axes = plt.subplots(nrows, ncols, figsize=(16, 2*nrows))\n",
    "    for i, ax in enumerate(axes.flat): \n",
    "        if predictions is None:\n",
    "            title = f\"Label: {str(true_labels[i])}\"\n",
    "        else:\n",
    "            title = f\"Label: {str(true_labels[i])}, Pred: {str(predictions[i])}\"\n",
    "            \n",
    "        if images[i].shape == (32, 32, 3):\n",
    "            ax.imshow(images[i])\n",
    "        else:\n",
    "            ax.imshow(images[i,:,:,0], cmap=\"gray\")\n",
    "            \n",
    "        ax.set_title(title)   \n",
    "        ax.set_xticks([]); ax.set_yticks([])"
   ]
  },
  {
   "cell_type": "code",
   "execution_count": 37,
   "metadata": {},
   "outputs": [
    {
     "name": "stdout",
     "output_type": "stream",
     "text": [
      "Training Examples\n"
     ]
    },
    {
     "data": {
      "image/png": "[encoded data removed]",
      "text/plain": [
       "<Figure size 1152x288 with 10 Axes>"
      ]
     },
     "metadata": {},
     "output_type": "display_data"
    }
   ],
   "source": [
    "# get random indexes\n",
    "np.random.seed(0)\n",
    "idx_train = np.random.choice(train_x_gray.shape[0]-1, 10)\n",
    "print('Training Examples')\n",
    "plot_images(train_x_gray[idx_train], 2, 5, train_y[idx_train])"
   ]
  },
  {
   "cell_type": "code",
   "execution_count": 38,
   "metadata": {},
   "outputs": [
    {
     "name": "stdout",
     "output_type": "stream",
     "text": [
      "Test Examples\n"
     ]
    },
    {
     "data": {
      "image/png": "[encoded data removed]",
      "text/plain": [
       "<Figure size 1152x288 with 10 Axes>"
      ]
     },
     "metadata": {},
     "output_type": "display_data"
    }
   ],
   "source": [
    "idx_test = np.random.choice(test_x_gray.shape[0]-1, 10)\n",
    "print('Test Examples')\n",
    "plot_images(train_x_gray[idx_test], 2, 5, train_y[idx_test])"
   ]
  },
  {
   "cell_type": "markdown",
   "metadata": {},
   "source": [
    "## 2. MLP neural network classifier\n",
    "* Build an MLP classifier model using the Sequential API. Your model should use only Flatten and Dense layers, with the final layer having a 10-way softmax output. \n",
    "* You should design and build the model yourself. Feel free to experiment with different MLP architectures. _Hint: to achieve a reasonable accuracy you won't need to use more than 4 or 5 layers._\n",
    "* Print out the model summary (using the summary() method)\n",
    "* Compile and train the model (we recommend a maximum of 30 epochs), making use of both training and validation sets during the training run. \n",
    "* Your model should track at least one appropriate metric, and use at least two callbacks during training, one of which should be a ModelCheckpoint callback.\n",
    "* As a guide, you should aim to achieve a final categorical cross entropy training loss of less than 1.0 (the validation loss might be higher).\n",
    "* Plot the learning curves for loss vs epoch and accuracy vs epoch for both training and validation sets.\n",
    "* Compute and display the loss and accuracy of the trained model on the test set."
   ]
  },
  {
   "cell_type": "code",
   "execution_count": null,
   "metadata": {},
   "outputs": [],
   "source": []
  },
  {
   "cell_type": "code",
   "execution_count": null,
   "metadata": {},
   "outputs": [],
   "source": []
  },
  {
   "cell_type": "code",
   "execution_count": null,
   "metadata": {},
   "outputs": [],
   "source": []
  },
  {
   "cell_type": "code",
   "execution_count": null,
   "metadata": {},
   "outputs": [],
   "source": []
  },
  {
   "cell_type": "code",
   "execution_count": null,
   "metadata": {},
   "outputs": [],
   "source": []
  },
  {
   "cell_type": "code",
   "execution_count": null,
   "metadata": {},
   "outputs": [],
   "source": []
  },
  {
   "cell_type": "markdown",
   "metadata": {},
   "source": [
    "## 3. CNN neural network classifier\n",
    "* Build a CNN classifier model using the Sequential API. Your model should use the Conv2D, MaxPool2D, BatchNormalization, Flatten, Dense and Dropout layers. The final layer should again have a 10-way softmax output. \n",
    "* You should design and build the model yourself. Feel free to experiment with different CNN architectures. _Hint: to achieve a reasonable accuracy you won't need to use more than 2 or 3 convolutional layers and 2 fully connected layers.)_\n",
    "* The CNN model should use fewer trainable parameters than your MLP model.\n",
    "* Compile and train the model (we recommend a maximum of 30 epochs), making use of both training and validation sets during the training run.\n",
    "* Your model should track at least one appropriate metric, and use at least two callbacks during training, one of which should be a ModelCheckpoint callback.\n",
    "* You should aim to beat the MLP model performance with fewer parameters!\n",
    "* Plot the learning curves for loss vs epoch and accuracy vs epoch for both training and validation sets.\n",
    "* Compute and display the loss and accuracy of the trained model on the test set."
   ]
  },
  {
   "cell_type": "code",
   "execution_count": null,
   "metadata": {},
   "outputs": [],
   "source": []
  },
  {
   "cell_type": "code",
   "execution_count": null,
   "metadata": {},
   "outputs": [],
   "source": []
  },
  {
   "cell_type": "code",
   "execution_count": null,
   "metadata": {},
   "outputs": [],
   "source": []
  },
  {
   "cell_type": "code",
   "execution_count": null,
   "metadata": {},
   "outputs": [],
   "source": []
  },
  {
   "cell_type": "code",
   "execution_count": null,
   "metadata": {},
   "outputs": [],
   "source": []
  },
  {
   "cell_type": "code",
   "execution_count": null,
   "metadata": {},
   "outputs": [],
   "source": []
  },
  {
   "cell_type": "markdown",
   "metadata": {},
   "source": [
    "## 4. Get model predictions\n",
    "* Load the best weights for the MLP and CNN models that you saved during the training run.\n",
    "* Randomly select 5 images and corresponding labels from the test set and display the images with their labels.\n",
    "* Alongside the image and label, show each model’s predictive distribution as a bar chart, and the final model prediction given by the label with maximum probability."
   ]
  },
  {
   "cell_type": "code",
   "execution_count": null,
   "metadata": {},
   "outputs": [],
   "source": []
  },
  {
   "cell_type": "code",
   "execution_count": null,
   "metadata": {},
   "outputs": [],
   "source": []
  },
  {
   "cell_type": "code",
   "execution_count": null,
   "metadata": {},
   "outputs": [],
   "source": []
  },
  {
   "cell_type": "code",
   "execution_count": null,
   "metadata": {},
   "outputs": [],
   "source": []
  },
  {
   "cell_type": "code",
   "execution_count": null,
   "metadata": {},
   "outputs": [],
   "source": []
  },
  {
   "cell_type": "code",
   "execution_count": null,
   "metadata": {},
   "outputs": [],
   "source": []
  }
 ],
 "metadata": {
  "kernelspec": {
   "display_name": "Python 3",
   "language": "python",
   "name": "python3"
  },
  "language_info": {
   "codemirror_mode": {
    "name": "ipython",
    "version": 3
   },
   "file_extension": ".py",
   "mimetype": "text/x-python",
   "name": "python",
   "nbconvert_exporter": "python",
   "pygments_lexer": "ipython3",
   "version": "3.7.1"
  }
 },
 "nbformat": 4,
 "nbformat_minor": 2
}
