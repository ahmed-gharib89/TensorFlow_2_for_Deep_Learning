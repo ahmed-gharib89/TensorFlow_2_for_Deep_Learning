{
  "nbformat": 4,
  "nbformat_minor": 0,
  "metadata": {
    "kernelspec": {
      "display_name": "Python 3",
      "language": "python",
      "name": "python3"
    },
    "language_info": {
      "codemirror_mode": {
        "name": "ipython",
        "version": 3
      },
      "file_extension": ".py",
      "mimetype": "text/x-python",
      "name": "python",
      "nbconvert_exporter": "python",
      "pygments_lexer": "ipython3",
      "version": "3.7.1"
    },
    "colab": {
      "name": "Saving and loading model weights.ipynb",
      "provenance": [],
      "collapsed_sections": [
        "WUfpiZPbQV5J",
        "z1IlV3jlQV5R",
        "nybq0atkQV5U",
        "_pme6veJQV5f",
        "bNF93Fu_QV52",
        "e0pP6oW1QV57",
        "-CGRXB0rQV6C",
        "4lc0c5GhQV6R",
        "T0-NSEAlQV6c",
        "-ca32hu5QV6l",
        "dJIEw9d_QV6q",
        "kRej5bQdQV6v",
        "_aK33Lj-QV6y",
        "VX3o8DULQV7F",
        "ASOUEQuyQV7N"
      ],
      "include_colab_link": true
    }
  },
  "cells": [
    {
      "cell_type": "markdown",
      "metadata": {
        "id": "view-in-github",
        "colab_type": "text"
      },
      "source": [
        "<a href=\"https://colab.research.google.com/github/ahmed-gharib89/TensorFlow_2_for_Deep_Learning/blob/master/Getting%20started%20with%20TensorFlow%202/week4/Saving_and_loading_model_weights.ipynb\" target=\"_parent\"><img src=\"https://colab.research.google.com/assets/colab-badge.svg\" alt=\"Open In Colab\"/></a>"
      ]
    },
    {
      "cell_type": "code",
      "metadata": {
        "id": "FhHJcvK8QV4Y",
        "colab_type": "code",
        "colab": {}
      },
      "source": [
        "import tensorflow as tf\n",
        "print(tf.__version__)"
      ],
      "execution_count": null,
      "outputs": []
    },
    {
      "cell_type": "markdown",
      "metadata": {
        "id": "Z8KAKynxQV4e",
        "colab_type": "text"
      },
      "source": [
        "# Saving and loading models"
      ]
    },
    {
      "cell_type": "markdown",
      "metadata": {
        "id": "08vh_EHeQV4f",
        "colab_type": "text"
      },
      "source": [
        " ## Coding tutorials\n",
        " #### [1. Saving and loading model weights](#coding_tutorial_1)\n",
        " #### [2. Model saving criteria](#coding_tutorial_2)\n",
        " #### [3. Saving the entire model](#coding_tutorial_3)\n",
        " #### [4. Loading pre-trained Keras models](#coding_tutorial_4)\n",
        " #### [5. Tensorflow Hub modules](#coding_tutorial_5)"
      ]
    },
    {
      "cell_type": "markdown",
      "metadata": {
        "id": "psJljMPDQV4g",
        "colab_type": "text"
      },
      "source": [
        "***\n",
        "<a id=\"coding_tutorial_1\"></a>\n",
        "## Saving and loading model weights"
      ]
    },
    {
      "cell_type": "markdown",
      "metadata": {
        "id": "I1vw5dC7QV4h",
        "colab_type": "text"
      },
      "source": [
        "#### Load and inspect CIFAR-10 dataset"
      ]
    },
    {
      "cell_type": "markdown",
      "metadata": {
        "id": "WmRAfrLnQV4h",
        "colab_type": "text"
      },
      "source": [
        "The CIFAR-10 dataset consists of, in total, 60000 color images, each with one of 10 labels: airplane, automobile, bird, cat, deer, dog, frog, horse, ship, truck. For an introduction and a download, see [this link](https://www.cs.toronto.edu/~kriz/cifar.html)."
      ]
    },
    {
      "cell_type": "code",
      "metadata": {
        "id": "tYaEDcT3QV4j",
        "colab_type": "code",
        "colab": {}
      },
      "source": [
        "# Import the CIFAR-10 dataset and rescale the pixel values\n",
        "\n",
        "(x_train, y_train), (x_test, y_test) = tf.keras.datasets.cifar10.load_data()\n",
        "x_train = x_train / 255.0\n",
        "x_test = x_test / 255.0\n",
        "\n",
        "# Use smaller subset -- speeds things up\n",
        "x_train = x_train[:10000]\n",
        "y_train = y_train[:10000]\n",
        "x_test = x_test[:1000]\n",
        "y_test = y_test[:1000]"
      ],
      "execution_count": null,
      "outputs": []
    },
    {
      "cell_type": "code",
      "metadata": {
        "id": "2NFSQBPtQV4n",
        "colab_type": "code",
        "colab": {}
      },
      "source": [
        "# Plot the first 10 CIFAR-10 images\n",
        "\n",
        "import matplotlib.pyplot as plt\n",
        "\n",
        "fig, ax = plt.subplots(1, 10, figsize=(10, 1))\n",
        "for i in range(10):\n",
        "    ax[i].set_axis_off()\n",
        "    ax[i].imshow(x_train[i])"
      ],
      "execution_count": null,
      "outputs": []
    },
    {
      "cell_type": "markdown",
      "metadata": {
        "id": "8yXDKUOLQV4r",
        "colab_type": "text"
      },
      "source": [
        "#### Introduce two useful functions"
      ]
    },
    {
      "cell_type": "code",
      "metadata": {
        "id": "6vP4aH9fQV4s",
        "colab_type": "code",
        "colab": {}
      },
      "source": [
        "# Introduce function to test model accuracy\n",
        "\n",
        "def get_test_accuracy(model, x_test, y_test):\n",
        "    test_loss, test_acc = model.evaluate(x=x_test, y=y_test, verbose=0)\n",
        "    print('accuracy: {acc:0.3f}'.format(acc=test_acc))"
      ],
      "execution_count": null,
      "outputs": []
    },
    {
      "cell_type": "code",
      "metadata": {
        "id": "ecZD5RluQV4w",
        "colab_type": "code",
        "colab": {}
      },
      "source": [
        "# Introduce function that creates a new instance of a simple CNN\n",
        "\n",
        "from tensorflow.keras.models import Sequential\n",
        "from tensorflow.keras.layers import Dense, Flatten, Conv2D, MaxPooling2D\n",
        "\n",
        "def get_new_model():\n",
        "    model = Sequential([\n",
        "        Conv2D(filters=16, input_shape=(32, 32, 3), kernel_size=(3, 3), \n",
        "               activation='relu', name='conv_1'),\n",
        "        Conv2D(filters=8, kernel_size=(3, 3), activation='relu', name='conv_2'),\n",
        "        MaxPooling2D(pool_size=(4, 4), name='pool_1'),\n",
        "        Flatten(name='flatten'),\n",
        "        Dense(units=32, activation='relu', name='dense_1'),\n",
        "        Dense(units=10, activation='softmax', name='dense_2')\n",
        "    ])\n",
        "    model.compile(optimizer='adam',\n",
        "                  loss='sparse_categorical_crossentropy',\n",
        "                  metrics=['accuracy'])\n",
        "    return model"
      ],
      "execution_count": null,
      "outputs": []
    },
    {
      "cell_type": "markdown",
      "metadata": {
        "id": "_4L6ZINMQV40",
        "colab_type": "text"
      },
      "source": [
        "#### Create simple convolutional neural network classifier"
      ]
    },
    {
      "cell_type": "code",
      "metadata": {
        "id": "gy8aByLEQV41",
        "colab_type": "code",
        "colab": {}
      },
      "source": [
        "# Create an instance of the model and show model summary\n",
        "\n"
      ],
      "execution_count": null,
      "outputs": []
    },
    {
      "cell_type": "code",
      "metadata": {
        "id": "D0cUFG--QV44",
        "colab_type": "code",
        "colab": {}
      },
      "source": [
        "# Test accuracy of the untrained model, around 10% (random)\n",
        "\n"
      ],
      "execution_count": null,
      "outputs": []
    },
    {
      "cell_type": "markdown",
      "metadata": {
        "id": "BKs65rmrQV47",
        "colab_type": "text"
      },
      "source": [
        "#### Train model with checkpoints"
      ]
    },
    {
      "cell_type": "code",
      "metadata": {
        "id": "80y5otJhQV48",
        "colab_type": "code",
        "colab": {}
      },
      "source": [
        "from tensorflow.keras.callbacks import ModelCheckpoint"
      ],
      "execution_count": null,
      "outputs": []
    },
    {
      "cell_type": "code",
      "metadata": {
        "id": "7jHrMg2gQV4_",
        "colab_type": "code",
        "colab": {}
      },
      "source": [
        "# Create Tensorflow checkpoint object\n",
        "\n"
      ],
      "execution_count": null,
      "outputs": []
    },
    {
      "cell_type": "code",
      "metadata": {
        "id": "whLx85o8QV5C",
        "colab_type": "code",
        "colab": {}
      },
      "source": [
        "# Fit model, with simple checkpoint which saves (and overwrites) model weights every epoch\n",
        "\n"
      ],
      "execution_count": null,
      "outputs": []
    },
    {
      "cell_type": "code",
      "metadata": {
        "id": "D209jNsjQV5E",
        "colab_type": "code",
        "colab": {}
      },
      "source": [
        "# Have a look at what the checkpoint creates\n",
        "\n"
      ],
      "execution_count": null,
      "outputs": []
    },
    {
      "cell_type": "code",
      "metadata": {
        "id": "h-pNaG0SQV5H",
        "colab_type": "code",
        "colab": {}
      },
      "source": [
        "# Evaluate the performance of the trained model\n",
        "\n"
      ],
      "execution_count": null,
      "outputs": []
    },
    {
      "cell_type": "markdown",
      "metadata": {
        "id": "WUfpiZPbQV5J",
        "colab_type": "text"
      },
      "source": [
        "#### Create new model, load weights"
      ]
    },
    {
      "cell_type": "code",
      "metadata": {
        "id": "lTea2mN3QV5L",
        "colab_type": "code",
        "colab": {}
      },
      "source": [
        "# Create a new instance of the (initialised) model, accuracy around 10% again\n",
        "\n"
      ],
      "execution_count": null,
      "outputs": []
    },
    {
      "cell_type": "code",
      "metadata": {
        "id": "jek222rgQV5O",
        "colab_type": "code",
        "colab": {}
      },
      "source": [
        "# Load weights -- accuracy is the same as the trained model\n",
        "\n"
      ],
      "execution_count": null,
      "outputs": []
    },
    {
      "cell_type": "markdown",
      "metadata": {
        "id": "z1IlV3jlQV5R",
        "colab_type": "text"
      },
      "source": [
        "#### Clear directory"
      ]
    },
    {
      "cell_type": "code",
      "metadata": {
        "id": "x8rPJLyHQV5R",
        "colab_type": "code",
        "colab": {}
      },
      "source": [
        "! rm -r model_checkpoints"
      ],
      "execution_count": null,
      "outputs": []
    },
    {
      "cell_type": "markdown",
      "metadata": {
        "id": "hAytIX3jQV5U",
        "colab_type": "text"
      },
      "source": [
        "***\n",
        "<a id=\"coding_tutorial_2\"></a>\n",
        "## Model saving criteria"
      ]
    },
    {
      "cell_type": "markdown",
      "metadata": {
        "id": "nybq0atkQV5U",
        "colab_type": "text"
      },
      "source": [
        "#### Create more customised checkpoint"
      ]
    },
    {
      "cell_type": "code",
      "metadata": {
        "id": "C_cRCxneQV5V",
        "colab_type": "code",
        "colab": {}
      },
      "source": [
        "from tensorflow.keras.callbacks import ModelCheckpoint"
      ],
      "execution_count": null,
      "outputs": []
    },
    {
      "cell_type": "code",
      "metadata": {
        "id": "241WckCvQV5X",
        "colab_type": "code",
        "colab": {}
      },
      "source": [
        "# Create Tensorflow checkpoint object with epoch and batch details\n",
        "\n"
      ],
      "execution_count": null,
      "outputs": []
    },
    {
      "cell_type": "code",
      "metadata": {
        "id": "ZKzsgIMjQV5b",
        "colab_type": "code",
        "colab": {}
      },
      "source": [
        "# Create and fit model with checkpoint\n",
        "\n"
      ],
      "execution_count": null,
      "outputs": []
    },
    {
      "cell_type": "code",
      "metadata": {
        "id": "wc7zjxp2QV5d",
        "colab_type": "code",
        "colab": {}
      },
      "source": [
        "# Have a look at what the checkpoint creates\n",
        "\n"
      ],
      "execution_count": null,
      "outputs": []
    },
    {
      "cell_type": "markdown",
      "metadata": {
        "id": "_pme6veJQV5f",
        "colab_type": "text"
      },
      "source": [
        "#### Work with model saving criteria"
      ]
    },
    {
      "cell_type": "code",
      "metadata": {
        "id": "CjMa5HOOQV5g",
        "colab_type": "code",
        "colab": {}
      },
      "source": [
        "# Use tiny training and test set -- will overfit!\n",
        "\n",
        "x_train = x_train[:100]\n",
        "y_train = y_train[:100]\n",
        "x_test = x_test[:100]\n",
        "y_test = y_test[:100]"
      ],
      "execution_count": null,
      "outputs": []
    },
    {
      "cell_type": "code",
      "metadata": {
        "id": "sxawGcUDQV5i",
        "colab_type": "code",
        "colab": {}
      },
      "source": [
        "# Create a new instance of untrained model\n",
        "\n"
      ],
      "execution_count": null,
      "outputs": []
    },
    {
      "cell_type": "code",
      "metadata": {
        "id": "OpnNVn2sQV5l",
        "colab_type": "code",
        "colab": {}
      },
      "source": [
        "# Create Tensorflow checkpoint object which monitors the validation accuracy\n",
        "\n"
      ],
      "execution_count": null,
      "outputs": []
    },
    {
      "cell_type": "code",
      "metadata": {
        "id": "Zu0lO1m_QV5o",
        "colab_type": "code",
        "colab": {}
      },
      "source": [
        "# Fit the model and save only the weights with the highest validation accuracy\n",
        "\n"
      ],
      "execution_count": null,
      "outputs": []
    },
    {
      "cell_type": "code",
      "metadata": {
        "id": "85DHia85QV5r",
        "colab_type": "code",
        "colab": {}
      },
      "source": [
        "# Plot training and testing curves\n",
        "\n",
        "import pandas as pd\n",
        "\n",
        "df = pd.DataFrame(history.history)\n",
        "df.plot(y=['accuracy', 'val_accuracy'])"
      ],
      "execution_count": null,
      "outputs": []
    },
    {
      "cell_type": "code",
      "metadata": {
        "id": "MKsAfSmfQV5v",
        "colab_type": "code",
        "colab": {}
      },
      "source": [
        "# Inspect the checkpoint directory\n",
        "\n"
      ],
      "execution_count": null,
      "outputs": []
    },
    {
      "cell_type": "code",
      "metadata": {
        "id": "Xrx5i7bcQV5y",
        "colab_type": "code",
        "colab": {}
      },
      "source": [
        "# Create a new model with the saved weights\n",
        "\n"
      ],
      "execution_count": null,
      "outputs": []
    },
    {
      "cell_type": "markdown",
      "metadata": {
        "id": "bNF93Fu_QV52",
        "colab_type": "text"
      },
      "source": [
        "#### Clear directory"
      ]
    },
    {
      "cell_type": "code",
      "metadata": {
        "id": "SerdaweWQV53",
        "colab_type": "code",
        "colab": {}
      },
      "source": [
        "! rm -r model_checkpoints_5000 model_checkpoints_best"
      ],
      "execution_count": null,
      "outputs": []
    },
    {
      "cell_type": "markdown",
      "metadata": {
        "id": "p2dNGwLzQV55",
        "colab_type": "text"
      },
      "source": [
        "***\n",
        "<a id=\"coding_tutorial_3\"></a>\n",
        "## Saving the entire model"
      ]
    },
    {
      "cell_type": "markdown",
      "metadata": {
        "id": "e0pP6oW1QV57",
        "colab_type": "text"
      },
      "source": [
        "#### Create checkpoint that saves whole model, not just weights"
      ]
    },
    {
      "cell_type": "code",
      "metadata": {
        "id": "S3ROR9KfQV58",
        "colab_type": "code",
        "colab": {}
      },
      "source": [
        "from tensorflow.keras.callbacks import ModelCheckpoint"
      ],
      "execution_count": null,
      "outputs": []
    },
    {
      "cell_type": "code",
      "metadata": {
        "id": "VvacO7lDQV5-",
        "colab_type": "code",
        "colab": {}
      },
      "source": [
        "# Create Tensorflow checkpoint object\n",
        "\n"
      ],
      "execution_count": null,
      "outputs": []
    },
    {
      "cell_type": "code",
      "metadata": {
        "id": "RhmnWVElQV6A",
        "colab_type": "code",
        "colab": {}
      },
      "source": [
        "# Create and fit model with checkpoint\n",
        "\n"
      ],
      "execution_count": null,
      "outputs": []
    },
    {
      "cell_type": "markdown",
      "metadata": {
        "id": "-CGRXB0rQV6C",
        "colab_type": "text"
      },
      "source": [
        "#### Inspect what the checkpoint has created"
      ]
    },
    {
      "cell_type": "code",
      "metadata": {
        "id": "Wtl3cHhLQV6D",
        "colab_type": "code",
        "colab": {}
      },
      "source": [
        "# Have a look at what the checkpoint creates\n",
        "\n"
      ],
      "execution_count": null,
      "outputs": []
    },
    {
      "cell_type": "code",
      "metadata": {
        "id": "7okHv-mqQV6F",
        "colab_type": "code",
        "colab": {}
      },
      "source": [
        "# Enter variables directory\n",
        "\n"
      ],
      "execution_count": null,
      "outputs": []
    },
    {
      "cell_type": "code",
      "metadata": {
        "id": "53_Xuy0pQV6J",
        "colab_type": "code",
        "colab": {}
      },
      "source": [
        "# Get the model's test accuracy\n",
        "\n"
      ],
      "execution_count": null,
      "outputs": []
    },
    {
      "cell_type": "markdown",
      "metadata": {
        "id": "4lc0c5GhQV6R",
        "colab_type": "text"
      },
      "source": [
        "#### Create new model from scratch"
      ]
    },
    {
      "cell_type": "code",
      "metadata": {
        "id": "NsakDucMQV6S",
        "colab_type": "code",
        "colab": {}
      },
      "source": [
        "# Delete model\n",
        "\n"
      ],
      "execution_count": null,
      "outputs": []
    },
    {
      "cell_type": "code",
      "metadata": {
        "id": "YvAxxOnHQV6U",
        "colab_type": "code",
        "colab": {}
      },
      "source": [
        "from tensorflow.keras.models import load_model"
      ],
      "execution_count": null,
      "outputs": []
    },
    {
      "cell_type": "code",
      "metadata": {
        "id": "LXDBpAg3QV6X",
        "colab_type": "code",
        "colab": {}
      },
      "source": [
        "# Reload model from scratch\n",
        "\n"
      ],
      "execution_count": null,
      "outputs": []
    },
    {
      "cell_type": "markdown",
      "metadata": {
        "id": "T0-NSEAlQV6c",
        "colab_type": "text"
      },
      "source": [
        "#### Use the .h5 format to save model"
      ]
    },
    {
      "cell_type": "code",
      "metadata": {
        "id": "nOKto4IkQV6c",
        "colab_type": "code",
        "colab": {}
      },
      "source": [
        "# Save the model in .h5 format\n",
        "\n"
      ],
      "execution_count": null,
      "outputs": []
    },
    {
      "cell_type": "code",
      "metadata": {
        "id": "7C0vfEnWQV6e",
        "colab_type": "code",
        "colab": {}
      },
      "source": [
        "# Inspect .h5 file\n",
        "\n"
      ],
      "execution_count": null,
      "outputs": []
    },
    {
      "cell_type": "code",
      "metadata": {
        "id": "G2uU17ozQV6g",
        "colab_type": "code",
        "colab": {}
      },
      "source": [
        "# Delete model\n",
        "\n"
      ],
      "execution_count": null,
      "outputs": []
    },
    {
      "cell_type": "code",
      "metadata": {
        "id": "B9dtUhsjQV6i",
        "colab_type": "code",
        "colab": {}
      },
      "source": [
        "# Reload model from scratch\n",
        "\n"
      ],
      "execution_count": null,
      "outputs": []
    },
    {
      "cell_type": "markdown",
      "metadata": {
        "id": "-ca32hu5QV6l",
        "colab_type": "text"
      },
      "source": [
        "#### Clear directory"
      ]
    },
    {
      "cell_type": "code",
      "metadata": {
        "id": "ftRw7KksQV6m",
        "colab_type": "code",
        "colab": {}
      },
      "source": [
        "! rm -r model_checkpoints\n",
        "! rm my_model.h5"
      ],
      "execution_count": null,
      "outputs": []
    },
    {
      "cell_type": "markdown",
      "metadata": {
        "id": "CIrP42vlQV6p",
        "colab_type": "text"
      },
      "source": [
        "***\n",
        "<a id=\"coding_tutorial_4\"></a>\n",
        "## Loading pre-trained Keras models"
      ]
    },
    {
      "cell_type": "markdown",
      "metadata": {
        "id": "dJIEw9d_QV6q",
        "colab_type": "text"
      },
      "source": [
        "#### Import and build Keras ResNet50 model\n",
        "\n",
        "Today we'll be using the ResNet50 model designed by a team at Microsoft Research, available through Keras applications. Please see the description on the [Keras applications page](https://keras.io/applications/#resnet) for details. If you continue using it, please cite it properly! The paper it comes from is:\n",
        "\n",
        "Kaiming He, Xiangyu Zhang, Shaoqing Ren, Jian Sun. \"Deep Residual Learning for Image Recognition\", 2015.\n",
        "\n",
        "In the coding tutorial on Coursera, this model is loaded directly from disk. On Colab, you will load the model using the Keras API."
      ]
    },
    {
      "cell_type": "code",
      "metadata": {
        "id": "i9GUZVHiQV6q",
        "colab_type": "code",
        "colab": {}
      },
      "source": [
        "from tensorflow.keras.applications import ResNet50\n",
        "model = ResNet50(weights='imagenet')"
      ],
      "execution_count": null,
      "outputs": []
    },
    {
      "cell_type": "markdown",
      "metadata": {
        "id": "kRej5bQdQV6v",
        "colab_type": "text"
      },
      "source": [
        "#### Import and preprocess 3 sample images"
      ]
    },
    {
      "cell_type": "code",
      "metadata": {
        "id": "N7_mAS06ROOG",
        "colab_type": "code",
        "colab": {}
      },
      "source": [
        "# Retrieve the image files\n",
        "\n",
        "!wget -q -O lemon.jpg --no-check-certificate \"https://docs.google.com/uc?export=download&id=1JSgQ9qgi9nO9t2aGEk-zA6lzYNUT9vZJ\"\n",
        "!wget -q -O viaduct.jpg --no-check-certificate \"https://docs.google.com/uc?export=download&id=1sQzMKmyCR5Tur19lP3n1IIlEMG_o6Mct\"\n",
        "!wget -q -O water_tower.jpg --no-check-certificate \"https://docs.google.com/uc?export=download&id=1cPAQD1O6mAiMbg0fmG5HIk8OuO_BSC6J\""
      ],
      "execution_count": null,
      "outputs": []
    },
    {
      "cell_type": "code",
      "metadata": {
        "id": "bZ8MTLLqQV6w",
        "colab_type": "code",
        "colab": {}
      },
      "source": [
        "# Import 3 sample ImageNet images\n",
        "\n",
        "from tensorflow.keras.preprocessing.image import load_img\n",
        "\n",
        "lemon_img = load_img('lemon.jpg', target_size=(224, 224))\n",
        "viaduct_img = load_img('viaduct.jpg', target_size=(224, 224))\n",
        "water_tower_img = load_img('water_tower.jpg', target_size=(224, 224))"
      ],
      "execution_count": null,
      "outputs": []
    },
    {
      "cell_type": "markdown",
      "metadata": {
        "id": "_aK33Lj-QV6y",
        "colab_type": "text"
      },
      "source": [
        "#### Use ResNet50 model to classify images"
      ]
    },
    {
      "cell_type": "code",
      "metadata": {
        "id": "XQXTBltYQV6z",
        "colab_type": "code",
        "colab": {}
      },
      "source": [
        "# Useful function: presents top 5 predictions and probabilities\n",
        "\n",
        "from tensorflow.keras.preprocessing.image import img_to_array\n",
        "from tensorflow.keras.applications.resnet50 import preprocess_input, decode_predictions\n",
        "import numpy as np\n",
        "import pandas as pd\n",
        "\n",
        "def get_top_5_predictions(img):\n",
        "    x = img_to_array(img)[np.newaxis, ...]\n",
        "    x = preprocess_input(x)\n",
        "    preds = decode_predictions(model.predict(x), top=5)\n",
        "    top_preds = pd.DataFrame(columns=['prediction', 'probability'],\n",
        "                             index=np.arange(5)+1)\n",
        "    for i in range(5):\n",
        "        top_preds.loc[i+1, 'prediction'] = preds[0][i][1]\n",
        "        top_preds.loc[i+1, 'probability'] = preds[0][i][2] \n",
        "    return top_preds"
      ],
      "execution_count": null,
      "outputs": []
    },
    {
      "cell_type": "markdown",
      "metadata": {
        "id": "_fAaFrecQV64",
        "colab_type": "text"
      },
      "source": [
        "##### Image 1: lemon"
      ]
    },
    {
      "cell_type": "code",
      "metadata": {
        "id": "e3mc6ukbQV64",
        "colab_type": "code",
        "colab": {}
      },
      "source": [
        "# Display image\n",
        "\n"
      ],
      "execution_count": null,
      "outputs": []
    },
    {
      "cell_type": "code",
      "metadata": {
        "id": "6ytQGmivQV67",
        "colab_type": "code",
        "colab": {}
      },
      "source": [
        "# Display top 5 predictions\n",
        "\n"
      ],
      "execution_count": null,
      "outputs": []
    },
    {
      "cell_type": "markdown",
      "metadata": {
        "id": "84aRsXzIQV69",
        "colab_type": "text"
      },
      "source": [
        "##### Image 2: viaduct"
      ]
    },
    {
      "cell_type": "code",
      "metadata": {
        "id": "CIUQ4SouQV6-",
        "colab_type": "code",
        "colab": {}
      },
      "source": [
        "# Display image\n",
        "\n"
      ],
      "execution_count": null,
      "outputs": []
    },
    {
      "cell_type": "code",
      "metadata": {
        "id": "tSy1QNxZQV7A",
        "colab_type": "code",
        "colab": {}
      },
      "source": [
        "# Display top 5 predictions\n",
        "\n"
      ],
      "execution_count": null,
      "outputs": []
    },
    {
      "cell_type": "markdown",
      "metadata": {
        "id": "TByZ1C2bQV7B",
        "colab_type": "text"
      },
      "source": [
        "##### Image 3: water tower"
      ]
    },
    {
      "cell_type": "code",
      "metadata": {
        "id": "RhkcV3TtQV7C",
        "colab_type": "code",
        "colab": {}
      },
      "source": [
        "# Display image\n",
        "\n"
      ],
      "execution_count": null,
      "outputs": []
    },
    {
      "cell_type": "code",
      "metadata": {
        "id": "pQBVCRH6QV7D",
        "colab_type": "code",
        "colab": {}
      },
      "source": [
        "# Display top 5 predictions\n",
        "\n"
      ],
      "execution_count": null,
      "outputs": []
    },
    {
      "cell_type": "markdown",
      "metadata": {
        "id": "w3k4XIb9QV7F",
        "colab_type": "text"
      },
      "source": [
        "***\n",
        "<a id=\"coding_tutorial_5\"></a>\n",
        "## Tensorflow Hub modules"
      ]
    },
    {
      "cell_type": "markdown",
      "metadata": {
        "id": "VX3o8DULQV7F",
        "colab_type": "text"
      },
      "source": [
        "#### Import and build Tensorflow Hub MobileNet v1 model\n",
        "\n",
        "Today we'll be using Google's MobileNet v1 model, available on Tensorflow Hub. Please see the description on the [Tensorflow Hub page](https://tfhub.dev/google/imagenet/mobilenet_v1_050_160/classification/4) for details on it's architecture, how it's trained, and the reference. If you continue using it, please cite it properly! The paper it comes from is:\n",
        "\n",
        "Andrew G. Howard, Menglong Zhu, Bo Chen, Dmitry Kalenichenko, Weijun Wang, Tobias Weyand, Marco Andreetto, Hartwig Adam: \"MobileNets: Efficient Convolutional Neural Networks for Mobile Vision Applications\", 2017.\n",
        "\n",
        "In the coding tutorial on Coursera, this model is loaded directly from disk. On Colab, you will load the model from TensorFlow Hub."
      ]
    },
    {
      "cell_type": "code",
      "metadata": {
        "id": "3IKZUe3GQV7G",
        "colab_type": "code",
        "colab": {}
      },
      "source": [
        "import tensorflow_hub as hub"
      ],
      "execution_count": null,
      "outputs": []
    },
    {
      "cell_type": "code",
      "metadata": {
        "id": "ZizaX_mqQV7K",
        "colab_type": "code",
        "colab": {}
      },
      "source": [
        "# Build Google's Mobilenet v1 model\n",
        "\n",
        "module_url = \"https://tfhub.dev/google/imagenet/mobilenet_v1_050_160/classification/4\"\n",
        "model = Sequential([hub.KerasLayer(module_url)])\n",
        "model.build(input_shape=[None, 160, 160, 3])"
      ],
      "execution_count": null,
      "outputs": []
    },
    {
      "cell_type": "markdown",
      "metadata": {
        "id": "ASOUEQuyQV7N",
        "colab_type": "text"
      },
      "source": [
        "#### Use MobileNet model to classify images"
      ]
    },
    {
      "cell_type": "code",
      "metadata": {
        "id": "3d5jycF8Q6YH",
        "colab_type": "code",
        "colab": {}
      },
      "source": [
        "# Retrieve the image files\n",
        "\n",
        "!wget -q -O lemon.jpg --no-check-certificate \"https://docs.google.com/uc?export=download&id=1JSgQ9qgi9nO9t2aGEk-zA6lzYNUT9vZJ\"\n",
        "!wget -q -O viaduct.jpg --no-check-certificate \"https://docs.google.com/uc?export=download&id=1sQzMKmyCR5Tur19lP3n1IIlEMG_o6Mct\"\n",
        "!wget -q -O water_tower.jpg --no-check-certificate \"https://docs.google.com/uc?export=download&id=1cPAQD1O6mAiMbg0fmG5HIk8OuO_BSC6J\""
      ],
      "execution_count": null,
      "outputs": []
    },
    {
      "cell_type": "code",
      "metadata": {
        "id": "W7u6LUc9QV7N",
        "colab_type": "code",
        "colab": {}
      },
      "source": [
        "# Import and preprocess 3 sample ImageNet images\n",
        "\n",
        "from tensorflow.keras.preprocessing.image import load_img\n",
        "\n",
        "lemon_img = load_img(\"lemon.jpg\", target_size=(160, 160))\n",
        "viaduct_img = load_img(\"viaduct.jpg\", target_size=(160, 160))\n",
        "water_tower_img = load_img(\"water_tower.jpg\", target_size=(160, 160))"
      ],
      "execution_count": null,
      "outputs": []
    },
    {
      "cell_type": "code",
      "metadata": {
        "id": "0XLfrTUUQV7P",
        "colab_type": "code",
        "colab": {}
      },
      "source": [
        "# Read in categories text file\n",
        "\n",
        "with open('data/imagenet_categories.txt') as txt_file:\n",
        "    categories = txt_file.read().splitlines()"
      ],
      "execution_count": null,
      "outputs": []
    },
    {
      "cell_type": "code",
      "metadata": {
        "id": "hfbCaoShQV7R",
        "colab_type": "code",
        "colab": {}
      },
      "source": [
        "# Useful function: presents top 5 predictions\n",
        "\n",
        "import pandas as pd\n",
        "\n",
        "def get_top_5_predictions(img):\n",
        "    x = img_to_array(img)[np.newaxis, ...] / 255.0\n",
        "    preds = model.predict(x)\n",
        "    top_preds = pd.DataFrame(columns=['prediction'],\n",
        "                             index=np.arange(5)+1)\n",
        "    sorted_index = np.argsort(-preds[0])\n",
        "    for i in range(5):\n",
        "        ith_pred = categories[sorted_index[i]]\n",
        "        top_preds.loc[i+1, 'prediction'] = ith_pred\n",
        "            \n",
        "    return top_preds"
      ],
      "execution_count": null,
      "outputs": []
    },
    {
      "cell_type": "markdown",
      "metadata": {
        "id": "5PQnzp0SQV7T",
        "colab_type": "text"
      },
      "source": [
        "##### Image 1: lemon"
      ]
    },
    {
      "cell_type": "code",
      "metadata": {
        "id": "29pUkAKaQV7T",
        "colab_type": "code",
        "colab": {}
      },
      "source": [
        ""
      ],
      "execution_count": null,
      "outputs": []
    },
    {
      "cell_type": "code",
      "metadata": {
        "id": "7X9val1IQV7V",
        "colab_type": "code",
        "colab": {}
      },
      "source": [
        ""
      ],
      "execution_count": null,
      "outputs": []
    },
    {
      "cell_type": "markdown",
      "metadata": {
        "id": "nq22XagQQV7Y",
        "colab_type": "text"
      },
      "source": [
        "##### Image 2: viaduct"
      ]
    },
    {
      "cell_type": "code",
      "metadata": {
        "id": "pI0wl0ZxQV7Y",
        "colab_type": "code",
        "colab": {}
      },
      "source": [
        ""
      ],
      "execution_count": null,
      "outputs": []
    },
    {
      "cell_type": "code",
      "metadata": {
        "id": "XKr8sPJ9QV7a",
        "colab_type": "code",
        "colab": {}
      },
      "source": [
        ""
      ],
      "execution_count": null,
      "outputs": []
    },
    {
      "cell_type": "markdown",
      "metadata": {
        "id": "rj_qOPFIQV7b",
        "colab_type": "text"
      },
      "source": [
        "##### Image 3: water tower"
      ]
    },
    {
      "cell_type": "code",
      "metadata": {
        "id": "3wjj0sBrQV7b",
        "colab_type": "code",
        "colab": {}
      },
      "source": [
        ""
      ],
      "execution_count": null,
      "outputs": []
    },
    {
      "cell_type": "code",
      "metadata": {
        "id": "wB_nL9AAQV7d",
        "colab_type": "code",
        "colab": {}
      },
      "source": [
        ""
      ],
      "execution_count": null,
      "outputs": []
    }
  ]
}