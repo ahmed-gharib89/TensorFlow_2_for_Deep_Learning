{
  "nbformat": 4,
  "nbformat_minor": 0,
  "metadata": {
    "kernelspec": {
      "display_name": "Python 3",
      "language": "python",
      "name": "python3"
    },
    "language_info": {
      "codemirror_mode": {
        "name": "ipython",
        "version": 3
      },
      "file_extension": ".py",
      "mimetype": "text/x-python",
      "name": "python",
      "nbconvert_exporter": "python",
      "pygments_lexer": "ipython3",
      "version": "3.7.1"
    },
    "colab": {
      "name": "Saving model architecture only.ipynb",
      "provenance": [],
      "collapsed_sections": [],
      "include_colab_link": true
    }
  },
  "cells": [
    {
      "cell_type": "markdown",
      "metadata": {
        "id": "view-in-github",
        "colab_type": "text"
      },
      "source": [
        "<a href=\"https://colab.research.google.com/github/ahmed-gharib89/TensorFlow_2_for_Deep_Learning/blob/master/Getting%20started%20with%20TensorFlow%202/week4/Saving_model_architecture_only.ipynb\" target=\"_parent\"><img src=\"https://colab.research.google.com/assets/colab-badge.svg\" alt=\"Open In Colab\"/></a>"
      ]
    },
    {
      "cell_type": "markdown",
      "metadata": {
        "id": "lSPv02XINp3J",
        "colab_type": "text"
      },
      "source": [
        "# Saving model architecture only\n",
        "\n",
        "In this reading you will learn how to save a model's architecture, but not its weights."
      ]
    },
    {
      "cell_type": "code",
      "metadata": {
        "id": "pUxM_wS7Np3L",
        "colab_type": "code",
        "colab": {}
      },
      "source": [
        "import tensorflow as tf\n",
        "from tensorflow.keras.models import Sequential\n",
        "from tensorflow.keras.layers import Dense\n",
        "import json\n",
        "import numpy as np"
      ],
      "execution_count": 1,
      "outputs": []
    },
    {
      "cell_type": "markdown",
      "metadata": {
        "id": "8FkL4l0-Np3Q",
        "colab_type": "text"
      },
      "source": [
        "In previous videos and notebooks you have have learned how to save a model's weights, as well as the entire model - weights and architecture."
      ]
    },
    {
      "cell_type": "markdown",
      "metadata": {
        "id": "s7d7EBkPNp3R",
        "colab_type": "text"
      },
      "source": [
        "### Accessing a model's configuration\n",
        "A model's *configuration* refers to its architecture. TensorFlow has a convenient way to retrieve a model's architecture as a dictionary. We start by creating a simple fully connected feedforward neural network with 1 hidden layer."
      ]
    },
    {
      "cell_type": "code",
      "metadata": {
        "id": "g9ExRztfNp3S",
        "colab_type": "code",
        "colab": {}
      },
      "source": [
        "model = Sequential([\n",
        "    Dense(units=32, input_shape=(32, 32, 3), activation='relu', name='dense_1'),\n",
        "    Dense(units=10, activation='softmax', name='dense_2')\n",
        "])"
      ],
      "execution_count": 2,
      "outputs": []
    },
    {
      "cell_type": "markdown",
      "metadata": {
        "id": "1QeLjGz4Np3X",
        "colab_type": "text"
      },
      "source": [
        "A TensorFlow model has an inbuilt method `get_config` which returns the model's architecture as a dictionary:"
      ]
    },
    {
      "cell_type": "code",
      "metadata": {
        "id": "b28bxSjKNp3Z",
        "colab_type": "code",
        "colab": {
          "base_uri": "https://localhost:8080/",
          "height": 55
        },
        "outputId": "b1d3fa1d-a21b-46f2-8e7c-5a179843f945"
      },
      "source": [
        "config_dict = model.get_config()\n",
        "print(config_dict)"
      ],
      "execution_count": 3,
      "outputs": [
        {
          "output_type": "stream",
          "text": [
            "{'name': 'sequential', 'layers': [{'class_name': 'InputLayer', 'config': {'batch_input_shape': (None, 32, 32, 3), 'dtype': 'float32', 'sparse': False, 'ragged': False, 'name': 'dense_1_input'}}, {'class_name': 'Dense', 'config': {'name': 'dense_1', 'trainable': True, 'batch_input_shape': (None, 32, 32, 3), 'dtype': 'float32', 'units': 32, 'activation': 'relu', 'use_bias': True, 'kernel_initializer': {'class_name': 'GlorotUniform', 'config': {'seed': None}}, 'bias_initializer': {'class_name': 'Zeros', 'config': {}}, 'kernel_regularizer': None, 'bias_regularizer': None, 'activity_regularizer': None, 'kernel_constraint': None, 'bias_constraint': None}}, {'class_name': 'Dense', 'config': {'name': 'dense_2', 'trainable': True, 'dtype': 'float32', 'units': 10, 'activation': 'softmax', 'use_bias': True, 'kernel_initializer': {'class_name': 'GlorotUniform', 'config': {'seed': None}}, 'bias_initializer': {'class_name': 'Zeros', 'config': {}}, 'kernel_regularizer': None, 'bias_regularizer': None, 'activity_regularizer': None, 'kernel_constraint': None, 'bias_constraint': None}}]}\n"
          ],
          "name": "stdout"
        }
      ]
    },
    {
      "cell_type": "code",
      "metadata": {
        "id": "nWOL2QFUzp9b",
        "colab_type": "code",
        "colab": {
          "base_uri": "https://localhost:8080/",
          "height": 711
        },
        "outputId": "9c05c166-30a0-41d3-86a4-1db1b428e205"
      },
      "source": [
        "from pprint import pprint\n",
        "\n",
        "pprint(config_dict)"
      ],
      "execution_count": 4,
      "outputs": [
        {
          "output_type": "stream",
          "text": [
            "{'layers': [{'class_name': 'InputLayer',\n",
            "             'config': {'batch_input_shape': (None, 32, 32, 3),\n",
            "                        'dtype': 'float32',\n",
            "                        'name': 'dense_1_input',\n",
            "                        'ragged': False,\n",
            "                        'sparse': False}},\n",
            "            {'class_name': 'Dense',\n",
            "             'config': {'activation': 'relu',\n",
            "                        'activity_regularizer': None,\n",
            "                        'batch_input_shape': (None, 32, 32, 3),\n",
            "                        'bias_constraint': None,\n",
            "                        'bias_initializer': {'class_name': 'Zeros',\n",
            "                                             'config': {}},\n",
            "                        'bias_regularizer': None,\n",
            "                        'dtype': 'float32',\n",
            "                        'kernel_constraint': None,\n",
            "                        'kernel_initializer': {'class_name': 'GlorotUniform',\n",
            "                                               'config': {'seed': None}},\n",
            "                        'kernel_regularizer': None,\n",
            "                        'name': 'dense_1',\n",
            "                        'trainable': True,\n",
            "                        'units': 32,\n",
            "                        'use_bias': True}},\n",
            "            {'class_name': 'Dense',\n",
            "             'config': {'activation': 'softmax',\n",
            "                        'activity_regularizer': None,\n",
            "                        'bias_constraint': None,\n",
            "                        'bias_initializer': {'class_name': 'Zeros',\n",
            "                                             'config': {}},\n",
            "                        'bias_regularizer': None,\n",
            "                        'dtype': 'float32',\n",
            "                        'kernel_constraint': None,\n",
            "                        'kernel_initializer': {'class_name': 'GlorotUniform',\n",
            "                                               'config': {'seed': None}},\n",
            "                        'kernel_regularizer': None,\n",
            "                        'name': 'dense_2',\n",
            "                        'trainable': True,\n",
            "                        'units': 10,\n",
            "                        'use_bias': True}}],\n",
            " 'name': 'sequential'}\n"
          ],
          "name": "stdout"
        }
      ]
    },
    {
      "cell_type": "markdown",
      "metadata": {
        "id": "M4zEaBCtNp3d",
        "colab_type": "text"
      },
      "source": [
        "### Creating a new model from the config\n",
        "A new TensorFlow model can be created from this config dictionary. This model will have reinitialized weights, which are not the same as the original model."
      ]
    },
    {
      "cell_type": "code",
      "metadata": {
        "id": "FoJ5ueGLNp3e",
        "colab_type": "code",
        "colab": {}
      },
      "source": [
        "model_same_config = tf.keras.Sequential.from_config(config_dict)"
      ],
      "execution_count": 5,
      "outputs": []
    },
    {
      "cell_type": "markdown",
      "metadata": {
        "id": "6HVIbBvXNp3i",
        "colab_type": "text"
      },
      "source": [
        "We can check explicitly that the config of both models is the same, but the weights are not: "
      ]
    },
    {
      "cell_type": "code",
      "metadata": {
        "id": "ZZr2MO6CNp3j",
        "colab_type": "code",
        "colab": {
          "base_uri": "https://localhost:8080/",
          "height": 52
        },
        "outputId": "38b76063-1f08-438c-d193-8d703f66b9e4"
      },
      "source": [
        "print('Same config:', \n",
        "      model.get_config() == model_same_config.get_config())\n",
        "print('Same value for first weight matrix:', \n",
        "      np.allclose(model.weights[0].numpy(), model_same_config.weights[0].numpy()))"
      ],
      "execution_count": 6,
      "outputs": [
        {
          "output_type": "stream",
          "text": [
            "Same config: True\n",
            "Same value for first weight matrix: False\n"
          ],
          "name": "stdout"
        }
      ]
    },
    {
      "cell_type": "markdown",
      "metadata": {
        "id": "o3C9YqFWNp3o",
        "colab_type": "text"
      },
      "source": [
        "For models that are not `Sequential` models, use `tf.keras.Model.from_config` instead of `tf.keras.Sequential.from_config`."
      ]
    },
    {
      "cell_type": "markdown",
      "metadata": {
        "id": "BvWVKhicNp3p",
        "colab_type": "text"
      },
      "source": [
        "### Other file formats: JSON and YAML\n",
        "It is also possible to obtain a model's config in JSON or YAML formats. This follows the same pattern:"
      ]
    },
    {
      "cell_type": "code",
      "metadata": {
        "id": "0n5BDyUCNp3q",
        "colab_type": "code",
        "colab": {
          "base_uri": "https://localhost:8080/",
          "height": 312
        },
        "outputId": "2b6ac693-fd4e-4316-8eff-3786eb86ff5c"
      },
      "source": [
        "json_string = model.to_json()\n",
        "pprint(json_string)"
      ],
      "execution_count": 8,
      "outputs": [
        {
          "output_type": "stream",
          "text": [
            "('{\"class_name\": \"Sequential\", \"config\": {\"name\": \"sequential\", \"layers\": '\n",
            " '[{\"class_name\": \"InputLayer\", \"config\": {\"batch_input_shape\": [null, 32, 32, '\n",
            " '3], \"dtype\": \"float32\", \"sparse\": false, \"ragged\": false, \"name\": '\n",
            " '\"dense_1_input\"}}, {\"class_name\": \"Dense\", \"config\": {\"name\": \"dense_1\", '\n",
            " '\"trainable\": true, \"batch_input_shape\": [null, 32, 32, 3], \"dtype\": '\n",
            " '\"float32\", \"units\": 32, \"activation\": \"relu\", \"use_bias\": true, '\n",
            " '\"kernel_initializer\": {\"class_name\": \"GlorotUniform\", \"config\": {\"seed\": '\n",
            " 'null}}, \"bias_initializer\": {\"class_name\": \"Zeros\", \"config\": {}}, '\n",
            " '\"kernel_regularizer\": null, \"bias_regularizer\": null, '\n",
            " '\"activity_regularizer\": null, \"kernel_constraint\": null, \"bias_constraint\": '\n",
            " 'null}}, {\"class_name\": \"Dense\", \"config\": {\"name\": \"dense_2\", \"trainable\": '\n",
            " 'true, \"dtype\": \"float32\", \"units\": 10, \"activation\": \"softmax\", \"use_bias\": '\n",
            " 'true, \"kernel_initializer\": {\"class_name\": \"GlorotUniform\", \"config\": '\n",
            " '{\"seed\": null}}, \"bias_initializer\": {\"class_name\": \"Zeros\", \"config\": {}}, '\n",
            " '\"kernel_regularizer\": null, \"bias_regularizer\": null, '\n",
            " '\"activity_regularizer\": null, \"kernel_constraint\": null, \"bias_constraint\": '\n",
            " 'null}}]}, \"keras_version\": \"2.4.0\", \"backend\": \"tensorflow\"}')\n"
          ],
          "name": "stdout"
        }
      ]
    },
    {
      "cell_type": "markdown",
      "metadata": {
        "id": "13oFKtJyNp3u",
        "colab_type": "text"
      },
      "source": [
        "The JSON format can easily be written out and saved as a file:"
      ]
    },
    {
      "cell_type": "code",
      "metadata": {
        "id": "_GXS9tb-Np3v",
        "colab_type": "code",
        "colab": {}
      },
      "source": [
        "# Write out JSON config file\n",
        "\n",
        "with open('config.json', 'w') as f:\n",
        "    json.dump(json_string, f)\n",
        "del json_string"
      ],
      "execution_count": 9,
      "outputs": []
    },
    {
      "cell_type": "code",
      "metadata": {
        "id": "OOAYe6pFNp3z",
        "colab_type": "code",
        "colab": {}
      },
      "source": [
        "# Read in JSON config file again\n",
        "\n",
        "with open('config.json', 'r') as f:\n",
        "    json_string = json.load(f)"
      ],
      "execution_count": 10,
      "outputs": []
    },
    {
      "cell_type": "code",
      "metadata": {
        "id": "dSb4zwSeNp33",
        "colab_type": "code",
        "colab": {}
      },
      "source": [
        "# Reinitialize model\n",
        "\n",
        "model_same_config = tf.keras.models.model_from_json(json_string)"
      ],
      "execution_count": 11,
      "outputs": []
    },
    {
      "cell_type": "code",
      "metadata": {
        "id": "3T13rOLFNp36",
        "colab_type": "code",
        "colab": {
          "base_uri": "https://localhost:8080/",
          "height": 52
        },
        "outputId": "c2aa8f86-32ff-4847-f89e-7c23cd04c256"
      },
      "source": [
        "# Same config, new weights\n",
        "\n",
        "print('Same config:', \n",
        "      model.get_config() == model_same_config.get_config())\n",
        "print('Same value for first weight matrix:', \n",
        "      np.allclose(model.weights[0].numpy(), model_same_config.weights[0].numpy()))"
      ],
      "execution_count": 12,
      "outputs": [
        {
          "output_type": "stream",
          "text": [
            "Same config: True\n",
            "Same value for first weight matrix: False\n"
          ],
          "name": "stdout"
        }
      ]
    },
    {
      "cell_type": "markdown",
      "metadata": {
        "id": "o5gQXx47Np39",
        "colab_type": "text"
      },
      "source": [
        "The YAML format is similar. The details of writing out YAML files, loading them and using them to create a new model are similar as for the JSON files, so we won't show it here."
      ]
    },
    {
      "cell_type": "code",
      "metadata": {
        "id": "RX5eByn1Np3-",
        "colab_type": "code",
        "colab": {
          "base_uri": "https://localhost:8080/",
          "height": 919
        },
        "outputId": "5385583e-fd8a-48df-d074-fe7658ca4cb3"
      },
      "source": [
        "yaml_string = model.to_yaml()\n",
        "pprint(yaml_string)"
      ],
      "execution_count": 13,
      "outputs": [
        {
          "output_type": "stream",
          "text": [
            "('backend: tensorflow\\n'\n",
            " 'class_name: Sequential\\n'\n",
            " 'config:\\n'\n",
            " '  layers:\\n'\n",
            " '  - class_name: InputLayer\\n'\n",
            " '    config:\\n'\n",
            " '      batch_input_shape: !!python/tuple [null, 32, 32, 3]\\n'\n",
            " '      dtype: float32\\n'\n",
            " '      name: dense_1_input\\n'\n",
            " '      ragged: false\\n'\n",
            " '      sparse: false\\n'\n",
            " '  - class_name: Dense\\n'\n",
            " '    config:\\n'\n",
            " '      activation: relu\\n'\n",
            " '      activity_regularizer: null\\n'\n",
            " '      batch_input_shape: !!python/tuple [null, 32, 32, 3]\\n'\n",
            " '      bias_constraint: null\\n'\n",
            " '      bias_initializer:\\n'\n",
            " '        class_name: Zeros\\n'\n",
            " '        config: {}\\n'\n",
            " '      bias_regularizer: null\\n'\n",
            " '      dtype: float32\\n'\n",
            " '      kernel_constraint: null\\n'\n",
            " '      kernel_initializer:\\n'\n",
            " '        class_name: GlorotUniform\\n'\n",
            " '        config: {seed: null}\\n'\n",
            " '      kernel_regularizer: null\\n'\n",
            " '      name: dense_1\\n'\n",
            " '      trainable: true\\n'\n",
            " '      units: 32\\n'\n",
            " '      use_bias: true\\n'\n",
            " '  - class_name: Dense\\n'\n",
            " '    config:\\n'\n",
            " '      activation: softmax\\n'\n",
            " '      activity_regularizer: null\\n'\n",
            " '      bias_constraint: null\\n'\n",
            " '      bias_initializer:\\n'\n",
            " '        class_name: Zeros\\n'\n",
            " '        config: {}\\n'\n",
            " '      bias_regularizer: null\\n'\n",
            " '      dtype: float32\\n'\n",
            " '      kernel_constraint: null\\n'\n",
            " '      kernel_initializer:\\n'\n",
            " '        class_name: GlorotUniform\\n'\n",
            " '        config: {seed: null}\\n'\n",
            " '      kernel_regularizer: null\\n'\n",
            " '      name: dense_2\\n'\n",
            " '      trainable: true\\n'\n",
            " '      units: 10\\n'\n",
            " '      use_bias: true\\n'\n",
            " '  name: sequential\\n'\n",
            " 'keras_version: 2.4.0\\n')\n"
          ],
          "name": "stdout"
        }
      ]
    },
    {
      "cell_type": "markdown",
      "metadata": {
        "id": "p0ywnUGTNp4B",
        "colab_type": "text"
      },
      "source": [
        "Writing out, reading in and using YAML files to create models is similar to JSON files. "
      ]
    },
    {
      "cell_type": "markdown",
      "metadata": {
        "id": "JoT0Y6vENp4C",
        "colab_type": "text"
      },
      "source": [
        "### Further reading and resources\n",
        "* https://www.tensorflow.org/guide/keras/save_and_serialize#architecture-only_saving\n",
        "* https://keras.io/getting-started/faq/#how-can-i-save-a-keras-model"
      ]
    }
  ]
}