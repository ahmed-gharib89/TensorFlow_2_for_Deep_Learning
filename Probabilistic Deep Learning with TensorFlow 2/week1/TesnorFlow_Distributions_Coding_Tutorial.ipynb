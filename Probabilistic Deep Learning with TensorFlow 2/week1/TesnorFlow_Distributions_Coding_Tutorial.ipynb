{
  "nbformat": 4,
  "nbformat_minor": 0,
  "metadata": {
    "kernelspec": {
      "display_name": "Python 3",
      "language": "python",
      "name": "python3"
    },
    "language_info": {
      "codemirror_mode": {
        "name": "ipython",
        "version": 3
      },
      "file_extension": ".py",
      "mimetype": "text/x-python",
      "name": "python",
      "nbconvert_exporter": "python",
      "pygments_lexer": "ipython3",
      "version": "3.7.1"
    },
    "colab": {
      "name": "Coding Tutorial.ipynb",
      "provenance": [],
      "collapsed_sections": [
        "o4YMGd7dsgmy",
        "Jn2Cg3YEsgm2",
        "zlvfIjF3sgm-",
        "94n2DK21sgm-",
        "Lga_t7q0sgnC",
        "c1V8udtysgnW",
        "_7tvenxCsgnf",
        "8kTjEmFysgoJ"
      ],
      "include_colab_link": true
    }
  },
  "cells": [
    {
      "cell_type": "markdown",
      "metadata": {
        "id": "view-in-github",
        "colab_type": "text"
      },
      "source": [
        "<a href=\"https://colab.research.google.com/github/ahmed-gharib89/TensorFlow_2_for_Deep_Learning/blob/master/Probabilistic%20Deep%20Learning%20with%20TensorFlow%202/week1/TesnorFlow_Distributions_Coding_Tutorial.ipynb\" target=\"_parent\"><img src=\"https://colab.research.google.com/assets/colab-badge.svg\" alt=\"Open In Colab\"/></a>"
      ]
    },
    {
      "cell_type": "code",
      "metadata": {
        "id": "e4NV6Xcdsgma",
        "outputId": "917a6bc3-8dee-4ffe-82c1-277d266a19eb",
        "colab": {
          "base_uri": "https://localhost:8080/"
        }
      },
      "source": [
        "import tensorflow as tf\n",
        "import tensorflow_probability as tfp\n",
        "tfd = tfp.distributions\n",
        "\n",
        "print(\"TF version:\", tf.__version__)\n",
        "print(\"TFP version:\", tfp.__version__)"
      ],
      "execution_count": 1,
      "outputs": [
        {
          "output_type": "stream",
          "text": [
            "TF version: 2.3.0\n",
            "TFP version: 0.11.0\n"
          ],
          "name": "stdout"
        }
      ]
    },
    {
      "cell_type": "code",
      "metadata": {
        "id": "Luc9w4p_sgmc"
      },
      "source": [
        "# Additional imports and setting fixed random seed to have reproducibility\n",
        "\n",
        "import matplotlib.pyplot as plt\n",
        "import numpy as np\n",
        "tf.random.set_seed(123)"
      ],
      "execution_count": 2,
      "outputs": []
    },
    {
      "cell_type": "markdown",
      "metadata": {
        "id": "00uSMbgVsgme"
      },
      "source": [
        "# Tensorflow Distributions"
      ]
    },
    {
      "cell_type": "markdown",
      "metadata": {
        "id": "E7htVM9psgme"
      },
      "source": [
        "## Coding Tutorials\n",
        "#### 1. [Univariate Distributions](#univariate_distributions)\n",
        "#### 2. [Multivariate Distributions](#multivariate_distributions)\n",
        "#### 3. [The Independent Distribution](#the_independent_distribution)\n",
        "#### 4. [Sampling and log probs](#sampling_and_log_probs)\n",
        "#### 5. [Trainable Distributions](#trainable_distributions)"
      ]
    },
    {
      "cell_type": "markdown",
      "metadata": {
        "id": "Jj29CUq6sgme"
      },
      "source": [
        "***\n",
        "## Univariate distributions\n",
        "<a id='univariate_distributions'></a>"
      ]
    },
    {
      "cell_type": "code",
      "metadata": {
        "id": "JoHMzrrDsgmf",
        "outputId": "a3aa9a00-8ae0-40c6-8b48-dc03f5851ab3",
        "colab": {
          "base_uri": "https://localhost:8080/"
        }
      },
      "source": [
        "# Create a normal distribution from Tensorflow Distributions\n",
        "\n",
        "normal = tfd.Normal(loc=0, scale=1)\n",
        "normal"
      ],
      "execution_count": 5,
      "outputs": [
        {
          "output_type": "execute_result",
          "data": {
            "text/plain": [
              "<tfp.distributions.Normal 'Normal' batch_shape=[] event_shape=[] dtype=float32>"
            ]
          },
          "metadata": {
            "tags": []
          },
          "execution_count": 5
        }
      ]
    },
    {
      "cell_type": "code",
      "metadata": {
        "id": "XPCtjb2bsgmi",
        "outputId": "ecf4376b-318e-4973-a162-86c9a116f608",
        "colab": {
          "base_uri": "https://localhost:8080/"
        }
      },
      "source": [
        "# Sample from the chosen distribution...\n",
        "\n",
        "normal.sample()"
      ],
      "execution_count": 4,
      "outputs": [
        {
          "output_type": "execute_result",
          "data": {
            "text/plain": [
              "<tf.Tensor: shape=(), dtype=float32, numpy=-0.8980837>"
            ]
          },
          "metadata": {
            "tags": []
          },
          "execution_count": 4
        }
      ]
    },
    {
      "cell_type": "code",
      "metadata": {
        "id": "LE4LZS7rsgmk",
        "outputId": "8c11a2aa-ec35-4643-a8aa-8760956b94c2",
        "colab": {
          "base_uri": "https://localhost:8080/"
        }
      },
      "source": [
        "# ... or sample multiple times\n",
        "\n",
        "normal.sample(10)"
      ],
      "execution_count": 6,
      "outputs": [
        {
          "output_type": "execute_result",
          "data": {
            "text/plain": [
              "<tf.Tensor: shape=(10,), dtype=float32, numpy=\n",
              "array([ 0.33875433,  0.3449861 , -0.6605785 , -0.2854994 ,  0.43852386,\n",
              "        0.8288566 , -0.53591555, -0.5353483 , -1.0324248 , -2.942705  ],\n",
              "      dtype=float32)>"
            ]
          },
          "metadata": {
            "tags": []
          },
          "execution_count": 6
        }
      ]
    },
    {
      "cell_type": "code",
      "metadata": {
        "id": "Gc_PQ10Tsgmm",
        "outputId": "f5de543e-09ae-4fcc-f3f8-9dd40f2d73e2",
        "colab": {
          "base_uri": "https://localhost:8080/"
        }
      },
      "source": [
        "# Obtain value of probability's density\n",
        "\n",
        "normal.prob(0)"
      ],
      "execution_count": 7,
      "outputs": [
        {
          "output_type": "execute_result",
          "data": {
            "text/plain": [
              "<tf.Tensor: shape=(), dtype=float32, numpy=0.3989423>"
            ]
          },
          "metadata": {
            "tags": []
          },
          "execution_count": 7
        }
      ]
    },
    {
      "cell_type": "code",
      "metadata": {
        "id": "vMbFWoMwsgmn",
        "outputId": "b1108b2a-1c8e-4aa3-8791-e92c188522c9",
        "colab": {
          "base_uri": "https://localhost:8080/"
        }
      },
      "source": [
        "# Obtain value of logprobability\n",
        "\n",
        "normal.log_prob(0)"
      ],
      "execution_count": 8,
      "outputs": [
        {
          "output_type": "execute_result",
          "data": {
            "text/plain": [
              "<tf.Tensor: shape=(), dtype=float32, numpy=-0.9189385>"
            ]
          },
          "metadata": {
            "tags": []
          },
          "execution_count": 8
        }
      ]
    },
    {
      "cell_type": "code",
      "metadata": {
        "id": "e6TkQQqvsgmp",
        "outputId": "9c456f6f-ca70-4541-87b9-0930b4224fb4",
        "colab": {
          "base_uri": "https://localhost:8080/"
        }
      },
      "source": [
        "# Verify that this really is the log of the probability\n",
        "\n",
        "np.log(normal.prob(0))"
      ],
      "execution_count": 9,
      "outputs": [
        {
          "output_type": "execute_result",
          "data": {
            "text/plain": [
              "-0.9189385"
            ]
          },
          "metadata": {
            "tags": []
          },
          "execution_count": 9
        }
      ]
    },
    {
      "cell_type": "code",
      "metadata": {
        "id": "rk3lYT3jsgmr",
        "outputId": "bc409245-ad2c-45b4-d812-a1e0c4c43944",
        "colab": {
          "base_uri": "https://localhost:8080/",
          "height": 265
        }
      },
      "source": [
        "# Plot a histogram, approximating the density\n",
        "\n",
        "plt.hist(normal.sample(10000), bins=50, density=True)\n",
        "plt.show()"
      ],
      "execution_count": 10,
      "outputs": [
        {
          "output_type": "display_data",
          "data": {
            "image/png": "[encoded data removed]",
            "text/plain": [
              "<Figure size 432x288 with 1 Axes>"
            ]
          },
          "metadata": {
            "tags": [],
            "needs_background": "light"
          }
        }
      ]
    },
    {
      "cell_type": "code",
      "metadata": {
        "id": "IUyiPOwVsgms",
        "outputId": "31355b40-435e-49f8-ecb6-31702ce7b392",
        "colab": {
          "base_uri": "https://localhost:8080/"
        }
      },
      "source": [
        "# Do the same for the exponential distribution\n",
        "\n",
        "exponential = tfd.Exponential(rate=1)\n",
        "exponential"
      ],
      "execution_count": 12,
      "outputs": [
        {
          "output_type": "execute_result",
          "data": {
            "text/plain": [
              "<tfp.distributions.Exponential 'Exponential' batch_shape=[] event_shape=[] dtype=float32>"
            ]
          },
          "metadata": {
            "tags": []
          },
          "execution_count": 12
        }
      ]
    },
    {
      "cell_type": "code",
      "metadata": {
        "id": "zAxCh7ynsgmu",
        "outputId": "a17d2405-8df2-4bff-910e-15c19cdc59b8",
        "colab": {
          "base_uri": "https://localhost:8080/"
        }
      },
      "source": [
        "# Sample as before\n",
        "\n",
        "exponential.sample(10)"
      ],
      "execution_count": 13,
      "outputs": [
        {
          "output_type": "execute_result",
          "data": {
            "text/plain": [
              "<tf.Tensor: shape=(10,), dtype=float32, numpy=\n",
              "array([0.0206783 , 0.8809395 , 0.59842443, 4.619773  , 1.8333374 ,\n",
              "       0.98957574, 1.6723876 , 0.07306848, 0.10224741, 1.5991217 ],\n",
              "      dtype=float32)>"
            ]
          },
          "metadata": {
            "tags": []
          },
          "execution_count": 13
        }
      ]
    },
    {
      "cell_type": "code",
      "metadata": {
        "id": "4cesyOiwktMg",
        "outputId": "ed681d89-3fcc-47ea-f2b0-a286c696ae78",
        "colab": {
          "base_uri": "https://localhost:8080/",
          "height": 265
        }
      },
      "source": [
        "# Plot a histogram, approximating the density\n",
        "\n",
        "plt.hist(exponential.sample(10000), bins=50, density=True)\n",
        "plt.show()"
      ],
      "execution_count": 14,
      "outputs": [
        {
          "output_type": "display_data",
          "data": {
            "image/png": "[encoded data removed]",
            "text/plain": [
              "<Figure size 432x288 with 1 Axes>"
            ]
          },
          "metadata": {
            "tags": [],
            "needs_background": "light"
          }
        }
      ]
    },
    {
      "cell_type": "code",
      "metadata": {
        "id": "D-yhrZAqsgmw",
        "outputId": "a9273c3d-a026-408e-dd0e-5b0b43f9a241",
        "colab": {
          "base_uri": "https://localhost:8080/"
        }
      },
      "source": [
        "# Create a Bernoulli distribution (discrete)\n",
        "\n",
        "bernoulli = tfd.Bernoulli(probs=0.8)\n",
        "bernoulli.sample(20)"
      ],
      "execution_count": 17,
      "outputs": [
        {
          "output_type": "execute_result",
          "data": {
            "text/plain": [
              "<tf.Tensor: shape=(20,), dtype=int32, numpy=\n",
              "array([0, 1, 1, 1, 1, 1, 0, 1, 1, 1, 1, 1, 1, 1, 1, 1, 0, 1, 1, 1],\n",
              "      dtype=int32)>"
            ]
          },
          "metadata": {
            "tags": []
          },
          "execution_count": 17
        }
      ]
    },
    {
      "cell_type": "markdown",
      "metadata": {
        "id": "o4YMGd7dsgmy"
      },
      "source": [
        "#### A word of caution on discrete distributions"
      ]
    },
    {
      "cell_type": "code",
      "metadata": {
        "id": "_qhEUig2sgmy",
        "outputId": "f49bfdd1-4967-4f1f-fee2-50b7efd4466a",
        "colab": {
          "base_uri": "https://localhost:8080/"
        }
      },
      "source": [
        "# Calculate Bernoulli prob and see that 0.5 and -1 do not give the correct probability!\n",
        "\n",
        "for k in [0,0.5,1,-1]:\n",
        "    print('prob result {} for k = {} '.format(bernoulli.prob(k), k))"
      ],
      "execution_count": 18,
      "outputs": [
        {
          "output_type": "stream",
          "text": [
            "prob result 0.19999998807907104 for k = 0 \n",
            "prob result 0.3999999761581421 for k = 0.5 \n",
            "prob result 0.800000011920929 for k = 1 \n",
            "prob result 0.04999999701976776 for k = -1 \n"
          ],
          "name": "stdout"
        }
      ]
    },
    {
      "cell_type": "code",
      "metadata": {
        "id": "3i_ifyZLsgmz"
      },
      "source": [
        "# Replicate the scores to see what is occurring under the hood\n",
        "\n",
        "def my_bernoulli(p_sucess, k):\n",
        "    return np.power(p_sucess,k)*np.power((1-p_sucess),(1-k))"
      ],
      "execution_count": 19,
      "outputs": []
    },
    {
      "cell_type": "code",
      "metadata": {
        "id": "YjDZmhp1sgm0",
        "outputId": "7beb28cb-14df-4ca4-d83d-3e16f3943681",
        "colab": {
          "base_uri": "https://localhost:8080/"
        }
      },
      "source": [
        "# Evaluate it as before\n",
        "\n",
        "for k in [0,0.5,1,-1]:\n",
        "    print('prob result {} for k = {} '.format( my_bernoulli(0.8, k), k))"
      ],
      "execution_count": 20,
      "outputs": [
        {
          "output_type": "stream",
          "text": [
            "prob result 0.19999999999999996 for k = 0 \n",
            "prob result 0.3999999999999999 for k = 0.5 \n",
            "prob result 0.8 for k = 1 \n",
            "prob result 0.049999999999999975 for k = -1 \n"
          ],
          "name": "stdout"
        }
      ]
    },
    {
      "cell_type": "markdown",
      "metadata": {
        "id": "Jn2Cg3YEsgm2"
      },
      "source": [
        "#### Work with batch distributions"
      ]
    },
    {
      "cell_type": "code",
      "metadata": {
        "id": "FhtSN4-Esgm2",
        "outputId": "3a5e11c4-b734-4f4c-f677-3c09504292c4",
        "colab": {
          "base_uri": "https://localhost:8080/"
        }
      },
      "source": [
        "# Create a batched Bernoulli distribution\n",
        "\n",
        "bernoulli_batch = tfd.Bernoulli(probs=[0.1, 0.25, 0.5, 0.75, 0.9])\n",
        "bernoulli_batch"
      ],
      "execution_count": 21,
      "outputs": [
        {
          "output_type": "execute_result",
          "data": {
            "text/plain": [
              "<tfp.distributions.Bernoulli 'Bernoulli' batch_shape=[5] event_shape=[] dtype=int32>"
            ]
          },
          "metadata": {
            "tags": []
          },
          "execution_count": 21
        }
      ]
    },
    {
      "cell_type": "code",
      "metadata": {
        "id": "i1amOMwzsgm4",
        "outputId": "3a159966-25da-430e-bb89-524e1e64add4",
        "colab": {
          "base_uri": "https://localhost:8080/"
        }
      },
      "source": [
        "# Sample from it, noting the shape\n",
        "\n",
        "bernoulli_batch.sample(5)"
      ],
      "execution_count": 22,
      "outputs": [
        {
          "output_type": "execute_result",
          "data": {
            "text/plain": [
              "<tf.Tensor: shape=(5, 5), dtype=int32, numpy=\n",
              "array([[0, 0, 0, 0, 1],\n",
              "       [0, 0, 0, 0, 1],\n",
              "       [0, 0, 1, 1, 0],\n",
              "       [0, 1, 0, 0, 1],\n",
              "       [0, 0, 0, 0, 1]], dtype=int32)>"
            ]
          },
          "metadata": {
            "tags": []
          },
          "execution_count": 22
        }
      ]
    },
    {
      "cell_type": "code",
      "metadata": {
        "id": "BrcfsPL0sgm6",
        "outputId": "6f3af256-2fa5-45a8-b238-6e7d1a8decee",
        "colab": {
          "base_uri": "https://localhost:8080/"
        }
      },
      "source": [
        "# Use a batch shape with higher rank\n",
        "\n",
        "probs = [[[0.5, 0.5], \n",
        "          [0.8, 0.3], \n",
        "          [0.25, 0.75]]]\n",
        "bernoulli_batch_2D = tfd.Bernoulli(probs=probs)\n",
        "bernoulli_batch_2D"
      ],
      "execution_count": 23,
      "outputs": [
        {
          "output_type": "execute_result",
          "data": {
            "text/plain": [
              "<tfp.distributions.Bernoulli 'Bernoulli' batch_shape=[1, 3, 2] event_shape=[] dtype=int32>"
            ]
          },
          "metadata": {
            "tags": []
          },
          "execution_count": 23
        }
      ]
    },
    {
      "cell_type": "code",
      "metadata": {
        "id": "IseSexERsgm8",
        "outputId": "e7a7f95a-8eb6-48bd-ad20-8fcff210890e",
        "colab": {
          "base_uri": "https://localhost:8080/"
        }
      },
      "source": [
        "# Sample from this batch of distributions\n",
        "\n",
        "bernoulli_batch_2D.sample(5)"
      ],
      "execution_count": 24,
      "outputs": [
        {
          "output_type": "execute_result",
          "data": {
            "text/plain": [
              "<tf.Tensor: shape=(5, 1, 3, 2), dtype=int32, numpy=\n",
              "array([[[[0, 0],\n",
              "         [1, 0],\n",
              "         [1, 1]]],\n",
              "\n",
              "\n",
              "       [[[0, 0],\n",
              "         [1, 0],\n",
              "         [0, 1]]],\n",
              "\n",
              "\n",
              "       [[[1, 1],\n",
              "         [1, 0],\n",
              "         [1, 1]]],\n",
              "\n",
              "\n",
              "       [[[1, 1],\n",
              "         [1, 0],\n",
              "         [0, 1]]],\n",
              "\n",
              "\n",
              "       [[[0, 1],\n",
              "         [1, 0],\n",
              "         [1, 1]]]], dtype=int32)>"
            ]
          },
          "metadata": {
            "tags": []
          },
          "execution_count": 24
        }
      ]
    },
    {
      "cell_type": "code",
      "metadata": {
        "id": "MWZmvprYsgm9",
        "outputId": "c7fc77d2-0608-4d13-fb37-5fae6a2a5199",
        "colab": {
          "base_uri": "https://localhost:8080/"
        }
      },
      "source": [
        "# Determine probabilities from this batch distribution\n",
        "\n",
        "bernoulli_batch_2D.prob([[[1, 0], \n",
        "                         [0, 0], \n",
        "                         [1, 1]]])"
      ],
      "execution_count": 25,
      "outputs": [
        {
          "output_type": "execute_result",
          "data": {
            "text/plain": [
              "<tf.Tensor: shape=(1, 3, 2), dtype=float32, numpy=\n",
              "array([[[0.5       , 0.5       ],\n",
              "        [0.19999999, 0.7       ],\n",
              "        [0.25      , 0.75      ]]], dtype=float32)>"
            ]
          },
          "metadata": {
            "tags": []
          },
          "execution_count": 25
        }
      ]
    },
    {
      "cell_type": "markdown",
      "metadata": {
        "id": "zlvfIjF3sgm-"
      },
      "source": [
        "***\n",
        "<a id='multivariate_distributions'></a>\n",
        "## Multivariate Distributions\n"
      ]
    },
    {
      "cell_type": "markdown",
      "metadata": {
        "id": "94n2DK21sgm-"
      },
      "source": [
        "#### Basic multivariate distributions"
      ]
    },
    {
      "cell_type": "code",
      "metadata": {
        "id": "35RX_A3wsgm-"
      },
      "source": [
        "# Define 2D multivariate Gaussian with diagonal covariance matrix\n",
        "\n"
      ],
      "execution_count": null,
      "outputs": []
    },
    {
      "cell_type": "code",
      "metadata": {
        "id": "zblklZq6sgnA"
      },
      "source": [
        "# Sample from it\n",
        "\n"
      ],
      "execution_count": null,
      "outputs": []
    },
    {
      "cell_type": "code",
      "metadata": {
        "id": "CJIxbKJDsgnB"
      },
      "source": [
        "# Make a plot\n",
        "\n",
        "plt_sample = normal_diag.sample(10000)\n",
        "plt.scatter(plt_sample[:, 0], plt_sample[:, 1], marker='.', alpha=0.05)\n",
        "plt.axis('equal')\n",
        "plt.show()"
      ],
      "execution_count": null,
      "outputs": []
    },
    {
      "cell_type": "markdown",
      "metadata": {
        "id": "Lga_t7q0sgnC"
      },
      "source": [
        "#### Batches of multivariate distributions"
      ]
    },
    {
      "cell_type": "code",
      "metadata": {
        "id": "jrz-S40GsgnC"
      },
      "source": [
        "# Create three \"batches\" of multivariate normals\n",
        "\n"
      ],
      "execution_count": null,
      "outputs": []
    },
    {
      "cell_type": "code",
      "metadata": {
        "id": "3cuB8hfCsgnE"
      },
      "source": [
        "# Sample from it\n",
        "\n"
      ],
      "execution_count": null,
      "outputs": []
    },
    {
      "cell_type": "code",
      "metadata": {
        "id": "_83n1afGsgnG"
      },
      "source": [
        "# Compute log probs\n",
        "\n"
      ],
      "execution_count": null,
      "outputs": []
    },
    {
      "cell_type": "code",
      "metadata": {
        "id": "cXTIHrK3sgnH"
      },
      "source": [
        "# Create a sample for a plot -- notice the shape\n",
        "\n"
      ],
      "execution_count": null,
      "outputs": []
    },
    {
      "cell_type": "code",
      "metadata": {
        "id": "29ZCx-AEsgnJ"
      },
      "source": [
        "# Plot samples from the batched multivariate Gaussian\n",
        "\n",
        "fig, axs = (plt.subplots(1, 3, sharex=True, sharey=True, figsize=(10, 3)))\n",
        "titles = ['cov_diag=[1, 2]','cov_diag=[2, 1]', 'cov_diag=[2, 2]']\n",
        "\n",
        "for i, (ax, title) in enumerate(zip(axs,titles)):\n",
        "    samples = plt_sample_batch[:,i,:] #take the ith batch [samples x event_shape]\n",
        "    ax.scatter(samples[:, 0], samples[:, 1], marker='.', alpha=0.05)\n",
        "    ax.set_title(title)\n",
        "plt.show()"
      ],
      "execution_count": null,
      "outputs": []
    },
    {
      "cell_type": "markdown",
      "metadata": {
        "id": "v15LR-_WsgnL"
      },
      "source": [
        "\n",
        "\n",
        "***\n",
        "<a id='the_independent_distribution'></a>\n",
        "## The Independent Distribution"
      ]
    },
    {
      "cell_type": "code",
      "metadata": {
        "id": "qqIvyoQisgnL"
      },
      "source": [
        "# Start by defining a batch of two univariate Gaussians, then\n",
        "# combine them into a bivariate Gaussian with independent components\n",
        "\n"
      ],
      "execution_count": null,
      "outputs": []
    },
    {
      "cell_type": "code",
      "metadata": {
        "id": "jaT90a68sgnM"
      },
      "source": [
        "# Univariate density functions\n",
        "\n",
        "import seaborn as sns\n",
        "\n",
        "t = np.linspace(-4, 4, 10000)\n",
        "densities = batch_of_normals.prob(np.repeat(t[:, np.newaxis], 2, axis=1)) # each column is a vector of densities for one distn\n",
        "\n",
        "sns.lineplot(t, densities[:, 0], label='loc={}, scale={}'.format(locs[0], scales[0]))\n",
        "sns.lineplot(t, densities[:, 1], label='loc={}, scale={}'.format(locs[0], scales[0]))\n",
        "plt.ylabel('Probability density')\n",
        "plt.xlabel('Value')\n",
        "plt.legend()\n",
        "plt.show()"
      ],
      "execution_count": null,
      "outputs": []
    },
    {
      "cell_type": "code",
      "metadata": {
        "id": "sb8KnB3TsgnP"
      },
      "source": [
        "# Check their batch_shape and event_shape\n",
        "\n"
      ],
      "execution_count": null,
      "outputs": []
    },
    {
      "cell_type": "code",
      "metadata": {
        "id": "7CyvW3SqsgnQ"
      },
      "source": [
        "# Use Independent to convert the batch shape to the event shape\n",
        "\n"
      ],
      "execution_count": null,
      "outputs": []
    },
    {
      "cell_type": "code",
      "metadata": {
        "id": "im8kLlywsgnS"
      },
      "source": [
        "# Note that dimension from batch_shape has shifted to event_shape\n",
        "\n"
      ],
      "execution_count": null,
      "outputs": []
    },
    {
      "cell_type": "code",
      "metadata": {
        "id": "qtfBXAUYsgnT"
      },
      "source": [
        "# Create a plot showing joint density contours and marginal density functions\n",
        "\n",
        "samples = bivariate_normal_from_Independent.sample(10000)\n",
        "x1 = samples[:, 0]\n",
        "x2 = samples[:, 1]\n",
        "sns.jointplot(x1, x2, kind=\"kde\", space=0, color='b', xlim=[-4, 4], ylim=[-4, 4])"
      ],
      "execution_count": null,
      "outputs": []
    },
    {
      "cell_type": "code",
      "metadata": {
        "id": "sDDoW3nksgnU"
      },
      "source": [
        "# Use MultivariateNormalDiag to create the equivalent distribution\n",
        "# Note that diagonal covariance matrix => no correlation => independence (for the multivariate normal distribution)\n",
        "\n"
      ],
      "execution_count": null,
      "outputs": []
    },
    {
      "cell_type": "code",
      "metadata": {
        "id": "qZUJ1ftjsgnV"
      },
      "source": [
        "# Plot the joint density function of bivariate_normal_from_Independent\n",
        "# Refer back to bivariate_normal_from_Independent to show that the plot is the same\n",
        "# Summarise how Independent has been used\n",
        "\n",
        "samples = bivariate_normal_from_Multivariate.sample(10000)\n",
        "x1 = samples[:, 0]\n",
        "x2 = samples[:, 1]\n",
        "sns.jointplot(x1, x2, kind=\"kde\", space=0, color='b', xlim=[-4, 4], ylim=[-4, 4])"
      ],
      "execution_count": null,
      "outputs": []
    },
    {
      "cell_type": "markdown",
      "metadata": {
        "id": "c1V8udtysgnW"
      },
      "source": [
        "#### Shifting batch dimensions to event dimensions using \n",
        "`reinterpreted_batch_ndims`"
      ]
    },
    {
      "cell_type": "code",
      "metadata": {
        "id": "f-OWFMj4sgnW"
      },
      "source": [
        "# Demonstrate use of reinterpreted_batch_ndims\n",
        "# By default all batch dims except the first are transferred to event dims\n",
        "\n",
        "loc_grid = [[-100., -100.],\n",
        "            [100., 100.],\n",
        "            [0., 0.]]\n",
        "scale_grid = [[1., 10.],\n",
        "              [1., 10.],\n",
        "              [1., 1.]]\n",
        "\n",
        "normals_batch_3by2_event_1 = tfd.Normal(loc=loc_grid, scale=scale_grid)"
      ],
      "execution_count": null,
      "outputs": []
    },
    {
      "cell_type": "code",
      "metadata": {
        "id": "UXlQmUKFsgnX"
      },
      "source": [
        "# Highlight batch_shape\n",
        "\n"
      ],
      "execution_count": null,
      "outputs": []
    },
    {
      "cell_type": "code",
      "metadata": {
        "id": "oUEDQM7WsgnY"
      },
      "source": [
        "# We now have a batch of 3 bivariate normal distributions,\n",
        "# each parametrised by a column of our original parameter grid\n",
        "\n"
      ],
      "execution_count": null,
      "outputs": []
    },
    {
      "cell_type": "code",
      "metadata": {
        "id": "lFITioyHsgnb"
      },
      "source": [
        "# Evaluate log_prob\n",
        "\n"
      ],
      "execution_count": null,
      "outputs": []
    },
    {
      "cell_type": "code",
      "metadata": {
        "id": "C_xWA4Bfsgnd"
      },
      "source": [
        "# Can reinterpret _all_ batch dimensions as event dimensions\n",
        "\n"
      ],
      "execution_count": null,
      "outputs": []
    },
    {
      "cell_type": "code",
      "metadata": {
        "id": "s6K5yss3sgne"
      },
      "source": [
        "# Take log_probs \n",
        "\n"
      ],
      "execution_count": null,
      "outputs": []
    },
    {
      "cell_type": "markdown",
      "metadata": {
        "id": "_7tvenxCsgnf"
      },
      "source": [
        "#### Using `Independent` to build a Naive Bayes classifier"
      ]
    },
    {
      "cell_type": "markdown",
      "metadata": {
        "id": "4jzAd6-Psgnf"
      },
      "source": [
        "#### Introduction to `newsgroups` data set"
      ]
    },
    {
      "cell_type": "markdown",
      "metadata": {
        "id": "Qk_-dUZdsgnf"
      },
      "source": [
        "In this tutorial, just load the dataset, fetch train/test splits, probably choose a subset of the data.\n",
        "\n",
        "Construct the class conditional feature distribution (with Independent, using the Naive Bayes assumption) and sample from it.\n",
        "\n",
        "We can just use the ML estimates for parameters, in later tutorials we will learn them."
      ]
    },
    {
      "cell_type": "markdown",
      "metadata": {
        "id": "MwrKvmvyttQ7"
      },
      "source": [
        "#### Import the data\n",
        "\n",
        "The dataset required for this coding tutorial can be downloaded from the following link:\n",
        "\n",
        "https://drive.google.com/file/d/1ZdVZFZv3eEw3Duwjg4fvtYAsgySoCRIm/view?usp=sharing\n",
        "\n",
        "You should store this file in Drive for use in this Colab notebook."
      ]
    },
    {
      "cell_type": "code",
      "metadata": {
        "id": "L4LRNRbrttqt"
      },
      "source": [
        "# Run this cell to connect to your Drive folder\n",
        "\n",
        "from google.colab import drive\n",
        "drive.mount('/content/gdrive')"
      ],
      "execution_count": null,
      "outputs": []
    },
    {
      "cell_type": "code",
      "metadata": {
        "id": "_-dUDWtnsgng"
      },
      "source": [
        "# Convenience function for retrieving the 20 newsgroups data set\n",
        "\n",
        "# Usenet was a forerunner to modern internet forums\n",
        "# Users could post and read articles\n",
        "# Newsgroup corresponded to a topic\n",
        "# Example topics in this data set: IBM computer hardware, baseball\n",
        "# Our objective is to use an article's contents to predict its newsgroup,\n",
        "# a 20-class classification problem.\n",
        "\n",
        "# 18000 newsgroups, posts on 20 topics\n",
        "from sklearn.datasets import fetch_20newsgroups\n",
        "from sklearn.feature_extraction.text import CountVectorizer\n"
      ],
      "execution_count": null,
      "outputs": []
    },
    {
      "cell_type": "code",
      "metadata": {
        "id": "D0d-Wj2hsgnh"
      },
      "source": [
        "# Get the train data\n",
        "\n"
      ],
      "execution_count": null,
      "outputs": []
    },
    {
      "cell_type": "code",
      "metadata": {
        "id": "IR7YHcJ1sgni"
      },
      "source": [
        "# More information about the data set\n",
        "\n"
      ],
      "execution_count": null,
      "outputs": []
    },
    {
      "cell_type": "code",
      "metadata": {
        "id": "WKp4Q_bCsgnk"
      },
      "source": [
        "# Example article\n",
        "\n"
      ],
      "execution_count": null,
      "outputs": []
    },
    {
      "cell_type": "code",
      "metadata": {
        "id": "iPCUCncZsgnm"
      },
      "source": [
        "# Associated label\n",
        "\n"
      ],
      "execution_count": null,
      "outputs": []
    },
    {
      "cell_type": "code",
      "metadata": {
        "id": "CZ9aB7VIsgnn"
      },
      "source": [
        "# Name of label\n",
        "\n"
      ],
      "execution_count": null,
      "outputs": []
    },
    {
      "cell_type": "code",
      "metadata": {
        "id": "oWJh8srlsgnp"
      },
      "source": [
        "# Preprocessing boilerplate\n",
        "\n",
        "n_documents = len(newsgroups_data['data'])\n",
        "\n",
        "count_vectorizer = CountVectorizer(input='content', binary=True,\n",
        "                                   max_df=0.25, min_df=1.01/n_documents) # ignore common words, words that appear once\n",
        "binary_bag_of_words = count_vectorizer.fit_transform(newsgroups_data['data']) # input is a list of strings\n"
      ],
      "execution_count": null,
      "outputs": []
    },
    {
      "cell_type": "code",
      "metadata": {
        "id": "9r2-u5rhsgnq"
      },
      "source": [
        "# Check shape\n",
        "\n"
      ],
      "execution_count": null,
      "outputs": []
    },
    {
      "cell_type": "code",
      "metadata": {
        "id": "eM0RVq-Isgnr"
      },
      "source": [
        "# Check that the fit has been successful\n",
        "\n"
      ],
      "execution_count": null,
      "outputs": []
    },
    {
      "cell_type": "code",
      "metadata": {
        "id": "eUY3VFePsgns"
      },
      "source": [
        "# Dict that will be useful later \n",
        "\n",
        "inv_vocabulary = {value:key for key, value in count_vectorizer.vocabulary_.items()}"
      ],
      "execution_count": null,
      "outputs": []
    },
    {
      "cell_type": "markdown",
      "metadata": {
        "id": "sVO1Mphnsgns"
      },
      "source": [
        "#### A Naive Bayes classifier for `newsgroup`"
      ]
    },
    {
      "cell_type": "markdown",
      "metadata": {
        "id": "TJt1qOpdsgnt"
      },
      "source": [
        "Each feature vector $x$ is a list of indicators for whether a word appears in the article. $x_i$ is 1 if the $i$th word appears, and 0 otherwise. `inv_vocabulary` matches word indices $i$ to words.\n",
        "\n",
        "Each label $y$ is a value in $0, 1, \\ldots, 19$.\n",
        "\n",
        "The parts of a naive Bayes classifier for this problem can be summarised as:  \n",
        "\n",
        "\n",
        "- A probability distribution for the feature vector by class, $p(x|y = j)$ for each $j = 0, 1, \\ldots, 19$. These probability distributions are assumed to have independent components: we can factorize the joint probability as a product of marginal probabilities\n",
        "\\begin{equation}\n",
        "    p(x|y = j) = \\prod_{i=1}^d p(x_i|y = j)\n",
        "\\end{equation}\n",
        "These marginal probability distributions are Bernoulli distributions, each of which has a single parameter $\\theta_{ji} := p(x_i = 1|y = j)$. This parameter is the probability of observing word $i$ in an article of class $j$. \n",
        "\n",
        "- We will use the Laplace smoothed maximum likelihood estimate to compute these parameters. Laplace smoothing involves adding small counts to every feature for each class. Else, if a feature did not appear in the training set of a class, but then we observed it in our test data the log probability would be undefined.\n",
        "\n",
        "- A collection of class prior probabilities $p(y = j)$. These will be set by computing the class base rates in the training set.  \n",
        "\n",
        "\n",
        "- A function for computing the probability of class membership via Bayes' theorem:  \n",
        "\n",
        "\\begin{equation}\n",
        "    p(y = j|x) = \\frac{p(x|y = j)p(y = j)}{p(x)}\n",
        "\\end{equation}"
      ]
    },
    {
      "cell_type": "code",
      "metadata": {
        "id": "a-3QNrIusgnt"
      },
      "source": [
        "# Compute the parameter estimates (adjusted fraction of documents in class that contain word)\n",
        "\n",
        "n_classes = newsgroups_data['target'].max() + 1\n",
        "y = newsgroups_data['target']\n",
        "n_words = binary_bag_of_words.shape[1]\n",
        "\n",
        "alpha = 1e-6 # parameters for Laplace smoothing\n",
        "\n",
        "theta = np.zeros([n_classes, n_words]) # stores parameter values - prob. word given class\n",
        "for c_k in range(n_classes): # 0, 1, ..., 19\n",
        "    class_mask = (y == c_k)\n",
        "    N = class_mask.sum() # number of articles in class\n",
        "    theta[c_k, :] = (binary_bag_of_words[class_mask, :].sum(axis=0) + alpha)/(N + alpha*2)"
      ],
      "execution_count": null,
      "outputs": []
    },
    {
      "cell_type": "code",
      "metadata": {
        "id": "qrtP9pbCsgnv"
      },
      "source": [
        "# Check whether the most probable word in each class is reasonable\n",
        "\n",
        "most_probable_word_ix = theta.argmax(axis=1) # most probable word for each class\n",
        "\n",
        "for j, ix in enumerate(most_probable_word_ix):\n",
        "    print('Most probable word in class {} is \"{}\".'.format(newsgroups_data['target_names'][j],\n",
        "                                                           inv_vocabulary[ix]))"
      ],
      "execution_count": null,
      "outputs": []
    },
    {
      "cell_type": "code",
      "metadata": {
        "id": "non1pt62sgnw"
      },
      "source": [
        "# Define a distribution for each class\n",
        "\n"
      ],
      "execution_count": null,
      "outputs": []
    },
    {
      "cell_type": "code",
      "metadata": {
        "id": "k7HYAIHPsgnx"
      },
      "source": [
        "# Take a sample of words from each class\n",
        "\n",
        "n_samples = 10\n"
      ],
      "execution_count": null,
      "outputs": []
    },
    {
      "cell_type": "code",
      "metadata": {
        "id": "l3mmyka3sgny"
      },
      "source": [
        "# Choose a class\n",
        "\n",
        "chosen_class = 15\n",
        "newsgroups_data['target_names'][chosen_class]"
      ],
      "execution_count": null,
      "outputs": []
    },
    {
      "cell_type": "code",
      "metadata": {
        "id": "-hjf397Psgnz"
      },
      "source": [
        "# Indicators for words that appear in the sample\n",
        "\n",
        "class_sample = sample[:, chosen_class, :]\n",
        "class_sample"
      ],
      "execution_count": null,
      "outputs": []
    },
    {
      "cell_type": "code",
      "metadata": {
        "id": "KdKW2gWnsgnz"
      },
      "source": [
        "# Perform inverse transform to test quality of fit\n",
        "\n"
      ],
      "execution_count": null,
      "outputs": []
    },
    {
      "cell_type": "markdown",
      "metadata": {
        "id": "D3rFgnVisgn0"
      },
      "source": [
        "***\n",
        "<a id='sampling_and_log_probs'></a>\n",
        "## Sampling and log probs"
      ]
    },
    {
      "cell_type": "code",
      "metadata": {
        "id": "KlOt3_6wsgn0"
      },
      "source": [
        "# Make Multivariate Distribution\n",
        "\n",
        "normal_distributions = tfd.MultivariateNormalDiag(loc=[[0.5, 1], [0.1, 0], [0, 0.2]],\n",
        "                                 scale_diag=[[2, 3], [1, 3], [4, 4]])\n",
        "normal_distributions"
      ],
      "execution_count": null,
      "outputs": []
    },
    {
      "cell_type": "code",
      "metadata": {
        "id": "ehfUugwBsgn2"
      },
      "source": [
        "# Sample\n",
        "\n"
      ],
      "execution_count": null,
      "outputs": []
    },
    {
      "cell_type": "code",
      "metadata": {
        "id": "w80M9ksdsgn3"
      },
      "source": [
        "# Multivariate Normal batched Distribution\n",
        "# We are broadcasting batch shapes of `loc` and `scal_diag` \n",
        "# against each other\n",
        "\n",
        "loc = [[[0.3, 1.5, 1.], [0.2, 0.4, 2.8]],\n",
        "        [[2., 2.3, 8], [1.4, 1, 1.3]]]\n",
        "scale_diag = [0.4, 1., 0.7]\n",
        "normal_distributions = tfd.MultivariateNormalDiag(loc=loc, scale_diag=scale_diag)\n",
        "normal_distributions"
      ],
      "execution_count": null,
      "outputs": []
    },
    {
      "cell_type": "code",
      "metadata": {
        "id": "Y9uZwTbjsgn4"
      },
      "source": [
        "# Use independent to move part of the batch shape\n",
        "\n"
      ],
      "execution_count": null,
      "outputs": []
    },
    {
      "cell_type": "code",
      "metadata": {
        "id": "HVM4lq7Tsgn4"
      },
      "source": [
        "# Draw some samples\n",
        "\n"
      ],
      "execution_count": null,
      "outputs": []
    },
    {
      "cell_type": "code",
      "metadata": {
        "id": "XMv3kGNksgn5"
      },
      "source": [
        "# `[B, E]` shaped input\n",
        "\n"
      ],
      "execution_count": null,
      "outputs": []
    },
    {
      "cell_type": "code",
      "metadata": {
        "id": "2t0x9cLSsgn6"
      },
      "source": [
        "# `[E]` shaped input (broadcasting over batch size)\n",
        "\n"
      ],
      "execution_count": null,
      "outputs": []
    },
    {
      "cell_type": "code",
      "metadata": {
        "id": "-cxhum6xsgn7"
      },
      "source": [
        "#`[S, B, E]` shaped input (broadcasting over samples)\n",
        "\n"
      ],
      "execution_count": null,
      "outputs": []
    },
    {
      "cell_type": "code",
      "metadata": {
        "id": "6uIkjUpMsgn8"
      },
      "source": [
        "# `[S, b, e]` shaped input, where [b, e] is broadcastable over [B, E]\n",
        "\n"
      ],
      "execution_count": null,
      "outputs": []
    },
    {
      "cell_type": "markdown",
      "metadata": {
        "id": "WN0c2mTosgn-"
      },
      "source": [
        "#### Naive Bayes example\n",
        "\n",
        "Lets now use what we have learned and continue the Naive Bayes classifier we were building last tutorial."
      ]
    },
    {
      "cell_type": "markdown",
      "metadata": {
        "id": "agSEQnKW6NSq"
      },
      "source": [
        "#### Import the data\n",
        "\n",
        "The dataset required for this coding tutorial can be downloaded from the following link:\n",
        "\n",
        "https://drive.google.com/file/d/1ZdVZFZv3eEw3Duwjg4fvtYAsgySoCRIm/view?usp=sharing\n",
        "\n",
        "You should store this file in Drive for use in this Colab notebook."
      ]
    },
    {
      "cell_type": "code",
      "metadata": {
        "id": "FfMucVWr6NSr"
      },
      "source": [
        "# Run this cell to connect to your Drive folder\n",
        "\n",
        "from google.colab import drive\n",
        "drive.mount('/content/gdrive')"
      ],
      "execution_count": null,
      "outputs": []
    },
    {
      "cell_type": "code",
      "metadata": {
        "id": "mdR-4dPcsgn_"
      },
      "source": [
        "from sklearn.datasets import fetch_20newsgroups\n",
        "from sklearn.feature_extraction.text import CountVectorizer\n",
        "from sklearn.naive_bayes import BernoulliNB\n",
        "from sklearn.metrics import f1_score"
      ],
      "execution_count": null,
      "outputs": []
    },
    {
      "cell_type": "code",
      "metadata": {
        "id": "6Oqs907ysgoB"
      },
      "source": [
        "# Making a function get_data which:\n",
        "#   1) Fetches the 20 newsgroup dataset\n",
        "#   2) Performs a word count on the articles and binarizes the result\n",
        "#   3) Returns the data as a numpy matrix with the labels\n",
        "\n",
        "def get_data(categories):\n",
        "    \n",
        "    newsgroups_train_data = fetch_20newsgroups(data_home='/path/to/20_Newsgroup_Data/',\n",
        "                                               subset='train', categories=categories)\n",
        "    newsgroups_test_data = fetch_20newsgroups(data_home='/path/to/20_Newsgroup_Data/',\n",
        "                                              subset='test', categories=categories)\n",
        "\n",
        "    n_documents = len(newsgroups_test_data['data'])\n",
        "    count_vectorizer = CountVectorizer(input='content', binary=True,max_df=0.25, min_df=1.01/n_documents)\n",
        "    \n",
        "    train_binary_bag_of_words = count_vectorizer.fit_transform(newsgroups_train_data['data'])\n",
        "    test_binary_bag_of_words = count_vectorizer.transform(newsgroups_test_data['data']) \n",
        "\n",
        "    return (train_binary_bag_of_words.todense(), newsgroups_train_data['target']),  (test_binary_bag_of_words.todense(), newsgroups_test_data['target'])"
      ],
      "execution_count": null,
      "outputs": []
    },
    {
      "cell_type": "code",
      "metadata": {
        "id": "oasCKIY4sgoC"
      },
      "source": [
        "# Defining a function to conduct Laplace smoothing. This adds a base level of probability for a given feature\n",
        "# to occur in every class.\n",
        "\n",
        "def laplace_smoothing(labels, binary_data, n_classes):\n",
        "    # Compute the parameter estimates (adjusted fraction of documents in class that contain word)\n",
        "    n_words = binary_data.shape[1]\n",
        "    alpha = 1 # parameters for Laplace smoothing\n",
        "    theta = np.zeros([n_classes, n_words]) # stores parameter values - prob. word given class\n",
        "    for c_k in range(n_classes): # 0, 1, ..., 19\n",
        "        class_mask = (labels == c_k)\n",
        "        N = class_mask.sum() # number of articles in class\n",
        "        theta[c_k, :] = (binary_data[class_mask, :].sum(axis=0) + alpha)/(N + alpha*2)\n",
        "\n",
        "    return theta"
      ],
      "execution_count": null,
      "outputs": []
    },
    {
      "cell_type": "code",
      "metadata": {
        "id": "-_9fxEIdsgoD"
      },
      "source": [
        "# Getting a subset of the 20 newsgroup dataset\n",
        "\n",
        "categories = ['alt.atheism', 'talk.religion.misc', 'comp.graphics', 'sci.space']\n",
        "\n",
        "(train_data, train_labels), (test_data, test_labels) = get_data(categories=categories)\n",
        "smoothed_counts = laplace_smoothing(labels=train_labels, binary_data=train_data, n_classes=len(categories))"
      ],
      "execution_count": null,
      "outputs": []
    },
    {
      "cell_type": "markdown",
      "metadata": {
        "id": "00DbbifVsgoD"
      },
      "source": [
        "To now make our NB classifier we need to build three functions:\n",
        "* Compute the class priors\n",
        "* Build our class conditional distributions\n",
        "* Put it all together and classify our data"
      ]
    },
    {
      "cell_type": "code",
      "metadata": {
        "id": "jiU1sFnHsgoE"
      },
      "source": [
        "# Function which computes the prior probability of every class based on frequency of occurence in \n",
        "# the dataset\n",
        "\n",
        "def class_priors(n_classes, labels):\n",
        "    counts = np.zeros(n_classes)\n",
        "    for c_k in range(n_classes):\n",
        "        counts[c_k] = np.sum(np.where(labels==c_k, 1, 0))\n",
        "    priors = counts / np.sum(counts)\n",
        "    print('The class priors are {}'.format(priors))\n",
        "    return priors"
      ],
      "execution_count": null,
      "outputs": []
    },
    {
      "cell_type": "code",
      "metadata": {
        "id": "0SHV-BzgsgoF"
      },
      "source": [
        "# Run the function \n",
        "\n"
      ],
      "execution_count": null,
      "outputs": []
    },
    {
      "cell_type": "code",
      "metadata": {
        "id": "yWZaIj2YsgoF"
      },
      "source": [
        "# Now we will do a function that given the feature occurence counts returns a Bernoulli distribution of \n",
        "# batch_shape=number of classes and event_shape=number of features.\n",
        "\n"
      ],
      "execution_count": null,
      "outputs": []
    },
    {
      "cell_type": "code",
      "metadata": {
        "id": "KzqiG4LYsgoI"
      },
      "source": [
        "# The final function predict_sample which given the distribution, a test sample, and the class priors:\n",
        "#   1) Computes the class conditional probabilities given the sample\n",
        "#   2) Forms the joint likelihood\n",
        "#   3) Normalises the joint likelihood and returns the log prob\n",
        "\n"
      ],
      "execution_count": null,
      "outputs": []
    },
    {
      "cell_type": "markdown",
      "metadata": {
        "id": "8kTjEmFysgoJ"
      },
      "source": [
        "#### Computing log_probs"
      ]
    },
    {
      "cell_type": "code",
      "metadata": {
        "id": "rXimNT4csgoJ"
      },
      "source": [
        "# Predicting one example from our test data\n",
        "\n"
      ],
      "execution_count": null,
      "outputs": []
    },
    {
      "cell_type": "code",
      "metadata": {
        "id": "kU5TbCt4sgoK"
      },
      "source": [
        "# Loop over our test data and classify.\n",
        "\n",
        "probabilities = []\n",
        "for sample, label in zip(test_data, test_labels):\n",
        "    probabilities.append(tf.exp(predict_sample(tf_dist, sample, priors)))\n",
        "\n",
        "probabilities = np.asarray(probabilities)\n",
        "predicted_classes = np.argmax(probabilities, axis =-1)\n",
        "print('f1 ', f1_score(test_labels, predicted_classes, average='macro'))"
      ],
      "execution_count": null,
      "outputs": []
    },
    {
      "cell_type": "code",
      "metadata": {
        "id": "mivNa-lwsgoK"
      },
      "source": [
        "# Make a Bernoulli Naive Bayes classifier using sklearn with the same level of alpha smoothing. \n",
        "\n",
        "clf = BernoulliNB(alpha=1)\n",
        "clf.fit(train_data, train_labels)\n",
        "pred = clf.predict(test_data)\n",
        "print('f1 from sklean ', f1_score(test_labels, pred, average='macro'))"
      ],
      "execution_count": null,
      "outputs": []
    },
    {
      "cell_type": "markdown",
      "metadata": {
        "id": "ycDlIEiGsgoM"
      },
      "source": [
        "***\n",
        "<a id='trainable_distributions'></a>\n",
        "## Trainable Distributions"
      ]
    },
    {
      "cell_type": "markdown",
      "metadata": {
        "id": "3mg2sCfP6baJ"
      },
      "source": [
        "#### Import the data\n",
        "\n",
        "The dataset required for this coding tutorial can be downloaded from the following link:\n",
        "\n",
        "https://drive.google.com/file/d/1ZdVZFZv3eEw3Duwjg4fvtYAsgySoCRIm/view?usp=sharing\n",
        "\n",
        "You should store this file in Drive for use in this Colab notebook."
      ]
    },
    {
      "cell_type": "code",
      "metadata": {
        "id": "P7mRZlWE6baL"
      },
      "source": [
        "# Run this cell to connect to your Drive folder\n",
        "\n",
        "from google.colab import drive\n",
        "drive.mount('/content/gdrive')"
      ],
      "execution_count": null,
      "outputs": []
    },
    {
      "cell_type": "code",
      "metadata": {
        "id": "LD0A3yan6e3L"
      },
      "source": [
        "from sklearn.datasets import fetch_20newsgroups\n",
        "from sklearn.feature_extraction.text import CountVectorizer\n",
        "from sklearn.naive_bayes import BernoulliNB\n",
        "from sklearn.metrics import f1_score"
      ],
      "execution_count": null,
      "outputs": []
    },
    {
      "cell_type": "code",
      "metadata": {
        "id": "Vqb5nOE8sgoN"
      },
      "source": [
        "# Define an exponential distribution\n",
        "\n"
      ],
      "execution_count": null,
      "outputs": []
    },
    {
      "cell_type": "code",
      "metadata": {
        "id": "J117CKjnsgoO"
      },
      "source": [
        "# Plot\n",
        "\n",
        "plt.hist(exponential.sample(5000), bins=100, density=True)\n",
        "plt.show()"
      ],
      "execution_count": null,
      "outputs": []
    },
    {
      "cell_type": "code",
      "metadata": {
        "id": "v0OfEcDisgoP"
      },
      "source": [
        "# Define an exponential distribution with a trainable rate parameter\n",
        "\n"
      ],
      "execution_count": null,
      "outputs": []
    },
    {
      "cell_type": "code",
      "metadata": {
        "id": "uKCuuoT8sgoQ"
      },
      "source": [
        "# Define the negative log likelihood\n",
        "\n"
      ],
      "execution_count": null,
      "outputs": []
    },
    {
      "cell_type": "code",
      "metadata": {
        "id": "_IVhv4HjsgoR"
      },
      "source": [
        "# Define a function to compute the loss and gradients\n",
        "\n"
      ],
      "execution_count": null,
      "outputs": []
    },
    {
      "cell_type": "code",
      "metadata": {
        "id": "z4n7PHwTsgoS"
      },
      "source": [
        "# Optimize\n",
        "\n",
        "def exponential_dist_optimisation(data, distribution):\n",
        "\n",
        "    # Keep results for plotting\n",
        "    train_loss_results = []\n",
        "    train_rate_results = []\n",
        "    \n",
        "    optimizer = tf.keras.optimizers.SGD(learning_rate=0.05)\n",
        "\n",
        "    num_steps = 10\n",
        "\n",
        "    for i in range(num_steps):\n",
        "        \n",
        "        print(\"Step {:03d}: Loss: {:.3f}: Rate: {:.3f}\".format())\n",
        "        \n",
        "    return train_loss_results, train_rate_results"
      ],
      "execution_count": null,
      "outputs": []
    },
    {
      "cell_type": "code",
      "metadata": {
        "id": "cotOTqvysgoT"
      },
      "source": [
        "# Get some data and train\n",
        "\n"
      ],
      "execution_count": null,
      "outputs": []
    },
    {
      "cell_type": "code",
      "metadata": {
        "id": "ZqWmf0xAsgoU"
      },
      "source": [
        "# Predicted value for the rate parameter\n",
        "\n",
        "pred_value = exp_train.rate.numpy()\n",
        "exact_value = exponential.rate.numpy()\n",
        "\n",
        "print(\"Exact rate: \", exact_value)\n",
        "print(\"Pred rate:  \", pred_value)"
      ],
      "execution_count": null,
      "outputs": []
    },
    {
      "cell_type": "code",
      "metadata": {
        "id": "9GTcRseZsgoV"
      },
      "source": [
        "# Plot to see the convergence of the estimated and true parameters\n",
        "\n",
        "tensor_exact_value = tf.constant(exact_value, shape=[len(train_rate_results)])\n",
        "\n",
        "fig, axes = plt.subplots(2, sharex=True, figsize=(12, 8))\n",
        "fig.suptitle('Convergence')\n",
        "\n",
        "axes[0].set_ylabel(\"Loss\", fontsize=14)\n",
        "axes[0].plot(train_loss_results)\n",
        "\n",
        "axes[1].set_ylabel(\"Rate\", fontsize=14)\n",
        "axes[1].set_xlabel(\"Epoch\", fontsize=14)\n",
        "axes[1].plot(train_rate_results, label='trainable rate variable')\n",
        "axes[1].plot(tensor_exact_value, label='exact rate')\n",
        "axes[1].legend()\n",
        "plt.show()"
      ],
      "execution_count": null,
      "outputs": []
    },
    {
      "cell_type": "code",
      "metadata": {
        "id": "a6BPCYP0sgoW"
      },
      "source": [
        "# Making a function get_data which:\n",
        "#   1) Fetches the 20 newsgroup dataset\n",
        "#   2) Performs a word count on the articles and binarizes the result\n",
        "#   3) Returns the data as a numpy matrix with the labels\n",
        "\n",
        "def get_data(categories):\n",
        "\n",
        "    newsgroups_train_data = fetch_20newsgroups(data_home='/path/to/20_Newsgroup_Data/',\n",
        "                                               subset='train', categories=categories)\n",
        "    newsgroups_test_data = fetch_20newsgroups(data_home='/path/to/20_Newsgroup_Data/',\n",
        "                                              subset='test', categories=categories)\n",
        "\n",
        "    n_documents = len(newsgroups_test_data['data'])\n",
        "    count_vectorizer = CountVectorizer(input='content', binary=True,max_df=0.25, min_df=1.01/n_documents) \n",
        "    train_binary_bag_of_words = count_vectorizer.fit_transform(newsgroups_train_data['data']) \n",
        "    test_binary_bag_of_words = count_vectorizer.transform(newsgroups_test_data['data']) \n",
        "\n",
        "    return (train_binary_bag_of_words.todense(), newsgroups_train_data['target']),  (test_binary_bag_of_words.todense(), newsgroups_test_data['target'])\n"
      ],
      "execution_count": null,
      "outputs": []
    },
    {
      "cell_type": "code",
      "metadata": {
        "id": "vuPOJhMSsgoX"
      },
      "source": [
        "# Defining a function to conduct laplace smoothing. This adds a base level of probability for a given feature\n",
        "# to occur in every class.\n",
        "\n",
        "def laplace_smoothing(labels, binary_data, n_classes):\n",
        "    # Compute the parameter estimates (adjusted fraction of documents in class that contain word)\n",
        "    n_words = binary_data.shape[1]\n",
        "    alpha = 1 # parameters for Laplace smoothing\n",
        "    theta = np.zeros([n_classes, n_words]) # stores parameter values - prob. word given class\n",
        "    for c_k in range(n_classes): # 0, 1, ..., 19\n",
        "        class_mask = (labels == c_k)\n",
        "        N = class_mask.sum() # number of articles in class\n",
        "        theta[c_k, :] = (binary_data[class_mask, :].sum(axis=0) + alpha)/(N + alpha*2)\n",
        "\n",
        "    return theta"
      ],
      "execution_count": null,
      "outputs": []
    },
    {
      "cell_type": "code",
      "metadata": {
        "id": "JgS2YLkRsgoY"
      },
      "source": [
        "# Now we will do a function that given the feature occurence counts returns a Bernoulli distribution of \n",
        "# batch_shape=number of classes and event_shape=number of features.\n",
        "\n",
        "def make_distributions(probs):\n",
        "    batch_of_bernoullis = tfd.Bernoulli(probs=probs) # shape (n_classes, n_words)\n",
        "    dist = tfd.Independent(batch_of_bernoullis, reinterpreted_batch_ndims=1)\n",
        "    return dist"
      ],
      "execution_count": null,
      "outputs": []
    },
    {
      "cell_type": "code",
      "metadata": {
        "id": "RFjiXwYLsgoZ"
      },
      "source": [
        "# Function which computes the prior probability of every class based on frequency of occurence in \n",
        "# the dataset\n",
        "\n",
        "def class_priors(n_classes, labels):\n",
        "    counts = np.zeros(n_classes)\n",
        "    for c_k in range(n_classes):\n",
        "        counts[c_k] = np.sum(np.where(labels==c_k, 1, 0))\n",
        "    priors = counts / np.sum(counts)\n",
        "    print('The class priors are {}'.format(priors))\n",
        "    return priors"
      ],
      "execution_count": null,
      "outputs": []
    },
    {
      "cell_type": "code",
      "metadata": {
        "id": "lAFUAq9fsgoa"
      },
      "source": [
        "# The final function predict_sample which given the distribution, a test sample, and the class priors:\n",
        "#   1) Computes the class conditional probabilities given the sample\n",
        "#   2) Forms the joint likelihood\n",
        "#   3) Normalises the joint likelihood and returns the log prob\n",
        "\n",
        "def predict_sample(dist, sample, priors):\n",
        "    cond_probs = dist.log_prob(sample)\n",
        "    joint_likelihood = tf.add(np.log(priors), cond_probs)\n",
        "    norm_factor = tf.math.reduce_logsumexp(joint_likelihood, axis=-1, keepdims=True)\n",
        "    log_prob = joint_likelihood - norm_factor\n",
        "\n",
        "    return log_prob"
      ],
      "execution_count": null,
      "outputs": []
    },
    {
      "cell_type": "code",
      "metadata": {
        "id": "wHn68l5isgob"
      },
      "source": [
        "# Now we learn the distribution using gradient tape\n",
        "\n",
        "def make_distribution_withGT(data, labels, nb_classes):\n",
        "\n",
        "    class_data = []\n",
        "    train_vars = []\n",
        "    distributions = []\n",
        "    for c in range(nb_classes):\n",
        "        train_vars.append(tf.Variable(initial_value=np.random.uniform(low=0.01, high =0.1, size=data.shape[-1])))\n",
        "        distributions.append(tfd.Bernoulli(probs=train_vars[c]))\n",
        "        class_mask = (labels == c)\n",
        "        class_data.append(data[class_mask, :])\n",
        "\n",
        "    for c_num in range(0,nb_classes):\n",
        "        optimizer = tf.keras.optimizers.Adam()\n",
        "        print('\\n%-------------------%')\n",
        "        print('Class ', c_num)\n",
        "        print('%-------------------%')\n",
        "\n",
        "        for i in range(0,100):\n",
        "            \n",
        "\n",
        "    dist = tfd.Bernoulli(probs=train_vars)\n",
        "    dist = tfd.Independent(dist,reinterpreted_batch_ndims=1)\n",
        "\n",
        "    print(dist)\n",
        "\n",
        "    return dist\n"
      ],
      "execution_count": null,
      "outputs": []
    },
    {
      "cell_type": "code",
      "metadata": {
        "id": "KMjiHt37sgoc"
      },
      "source": [
        "# Make the same Naive Bayes classifier we did last tutorial\n",
        "\n",
        "categories = ['alt.atheism', 'talk.religion.misc', 'comp.graphics', 'sci.space']\n",
        "\n",
        "(train_data, train_labels), (test_data, test_labels) = get_data(categories)\n",
        "\n",
        "smoothed_counts = laplace_smoothing(labels=train_labels, binary_data=train_data, n_classes=len(categories))\n",
        "\n",
        "priors = class_priors(n_classes=len(categories), labels=train_labels)\n",
        "tf_dist = make_distributions(smoothed_counts)"
      ],
      "execution_count": null,
      "outputs": []
    },
    {
      "cell_type": "code",
      "metadata": {
        "id": "y3VKgbtusgoc"
      },
      "source": [
        "# Now train the distributions with gradient tape\n",
        "\n",
        "GT_dist = make_distribution_withGT(data=train_data, labels=train_labels, nb_classes=4)"
      ],
      "execution_count": null,
      "outputs": []
    },
    {
      "cell_type": "code",
      "metadata": {
        "id": "EDliliYSsgod"
      },
      "source": [
        "# Compare the two results\n",
        "\n",
        "for dist in [GT_dist,tf_dist]:\n",
        "    probabilities = []\n",
        "    for sample, label in zip(test_data, test_labels):\n",
        "        probabilities.append(predict_sample(dist, sample, priors))\n",
        "\n",
        "    probabilities = np.asarray(probabilities)\n",
        "    predicted_classes = np.argmax(probabilities, axis =-1)\n",
        "    print('f1 ', f1_score(test_labels, predicted_classes, average='macro'))"
      ],
      "execution_count": null,
      "outputs": []
    }
  ]
}