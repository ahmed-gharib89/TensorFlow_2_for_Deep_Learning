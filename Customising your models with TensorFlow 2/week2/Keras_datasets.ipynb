{
 "cells": [
  {
   "cell_type": "markdown",
   "metadata": {
    "colab_type": "text",
    "id": "view-in-github"
   },
   "source": [
    "<a href=\"https://colab.research.google.com/github/ahmed-gharib89/TensorFlow_2_for_Deep_Learning/blob/master/Customising%20your%20models%20with%20TensorFlow%202/week2/Keras_datasets.ipynb\" target=\"_parent\"><img src=\"https://colab.research.google.com/assets/colab-badge.svg\" alt=\"Open In Colab\"/></a>"
   ]
  },
  {
   "cell_type": "code",
   "execution_count": 1,
   "metadata": {
    "colab": {
     "base_uri": "https://localhost:8080/",
     "height": 35
    },
    "id": "6JsB_bKALwj0",
    "outputId": "67041231-fef6-42c6-fa1c-2174eac6de38"
   },
   "outputs": [
    {
     "name": "stdout",
     "output_type": "stream",
     "text": [
      "2.3.0\n"
     ]
    }
   ],
   "source": [
    "import tensorflow as tf\n",
    "print(tf.__version__)"
   ]
  },
  {
   "cell_type": "markdown",
   "metadata": {
    "id": "KT-hyAgFLwj7"
   },
   "source": [
    "# Data Pipeline"
   ]
  },
  {
   "cell_type": "markdown",
   "metadata": {
    "id": "n3ueZW9CLwj8"
   },
   "source": [
    " ## Coding tutorials\n",
    " #### [1. Keras datasets](#coding_tutorial_1)\n",
    " #### [2. Dataset generators](#coding_tutorial_2)\n",
    " #### [3. Keras image data augmentation](#coding_tutorial_3)\n",
    " #### [4. The Dataset class](#coding_tutorial_4)\n",
    " #### [5. Training with Datasets](#coding_tutorial_5)"
   ]
  },
  {
   "cell_type": "markdown",
   "metadata": {
    "id": "IF-0r_trLwj9"
   },
   "source": [
    "***\n",
    "<a id=\"coding_tutorial_1\"></a>\n",
    "## Keras datasets\n",
    "\n",
    "For a list of Keras datasets and documentation on recommended usage, see [this link](https://keras.io/datasets/)."
   ]
  },
  {
   "cell_type": "code",
   "execution_count": 2,
   "metadata": {
    "id": "WHF_JbgGLwj-"
   },
   "outputs": [],
   "source": [
    "import numpy as np\n",
    "import matplotlib.pyplot as plt\n",
    "%matplotlib inline"
   ]
  },
  {
   "cell_type": "markdown",
   "metadata": {
    "id": "vyE5HuD8LwkB"
   },
   "source": [
    "#### Load the CIFAR-100 Dataset"
   ]
  },
  {
   "cell_type": "code",
   "execution_count": 3,
   "metadata": {
    "id": "x3Flu2zSLwkC"
   },
   "outputs": [],
   "source": [
    "from tensorflow.keras.datasets import cifar100"
   ]
  },
  {
   "cell_type": "code",
   "execution_count": 4,
   "metadata": {
    "id": "SQUmYRQdLwkF",
    "scrolled": true
   },
   "outputs": [],
   "source": [
    "# Load the CIFAR-100 dataset\n",
    "\n",
    "(train_images, train_labels), (test_images, test_labels) = cifar100.load_data(label_mode='fine')"
   ]
  },
  {
   "cell_type": "code",
   "execution_count": 5,
   "metadata": {
    "id": "l75ozQVFLwkI"
   },
   "outputs": [],
   "source": [
    "# Confirm that reloading the dataset does not require a download\n",
    "\n",
    "(train_images, train_labels), (test_images, test_labels) = cifar100.load_data(label_mode='fine')"
   ]
  },
  {
   "cell_type": "markdown",
   "metadata": {
    "id": "I1UEPzrYLwkL"
   },
   "source": [
    "#### Examine the Dataset"
   ]
  },
  {
   "cell_type": "markdown",
   "metadata": {
    "id": "rDYN-cq9Mc2Q"
   },
   "source": [
    "#### Import the data\n",
    "\n",
    "The additional files required for this tutorial can be downloaded from the following link:\n",
    "\n",
    "cifar100_fine_labels: https://drive.google.com/open?id=1WFW1cj8v_5z1pGvq6htQyFUPrJP-Z2v5\n",
    "\n",
    "cifar100_coarse_labels: https://drive.google.com/open?id=1Jmt7o-6sP85D7iRORk5tJqJMN3wCP12p\n",
    "\n",
    "You should store these files in Drive for use in this Colab notebook."
   ]
  },
  {
   "cell_type": "code",
   "execution_count": 6,
   "metadata": {},
   "outputs": [],
   "source": [
    "colab = False\n",
    "if colab:\n",
    "    data_folder = '/content/gdrive/My Drive/data/'\n",
    "else:\n",
    "    data_folder = 'data/'"
   ]
  },
  {
   "cell_type": "code",
   "execution_count": 7,
   "metadata": {
    "colab": {
     "base_uri": "https://localhost:8080/",
     "height": 35
    },
    "id": "LiplZnP2ND6o",
    "outputId": "1580a44a-183b-444a-d081-442373268535"
   },
   "outputs": [],
   "source": [
    "# Run this cell to connect to your Drive folder\n",
    "if colab:\n",
    "    from google.colab import drive\n",
    "    drive.mount('/content/gdrive')"
   ]
  },
  {
   "cell_type": "code",
   "execution_count": 8,
   "metadata": {
    "colab": {
     "base_uri": "https://localhost:8080/",
     "height": 87
    },
    "id": "cpkIbhLTLwkM",
    "outputId": "4961a879-3b1d-4806-c03d-1aabfa752cfc"
   },
   "outputs": [
    {
     "name": "stdout",
     "output_type": "stream",
     "text": [
      "Training images shape: (50000, 32, 32, 3)\n",
      "Training labels shape: (50000, 1)\n",
      "Testing images shape : (10000, 32, 32, 3)\n",
      "Testing labels shape : (10000, 1)\n"
     ]
    }
   ],
   "source": [
    "# Examine the shape of the data.\n",
    "\n",
    "print(f'Training images shape: {train_images.shape}\\n\\\n",
    "Training labels shape: {train_labels.shape}\\n\\\n",
    "Testing images shape : {test_images.shape}\\n\\\n",
    "Testing labels shape : {test_labels.shape}')"
   ]
  },
  {
   "cell_type": "code",
   "execution_count": 9,
   "metadata": {
    "colab": {
     "base_uri": "https://localhost:8080/",
     "height": 264
    },
    "id": "vY58jmf5LwkS",
    "outputId": "4e53bc3d-18e6-484b-b49b-321e9851a372"
   },
   "outputs": [
    {
     "data": {
      "image/png": "[encoded data removed]",
      "text/plain": [
       "<Figure size 288x288 with 1 Axes>"
      ]
     },
     "metadata": {
      "needs_background": "light"
     },
     "output_type": "display_data"
    }
   ],
   "source": [
    "# Examine one of the images and its corresponding label\n",
    "fig, ax = plt.subplots(figsize=(4, 4))\n",
    "ax.imshow(train_images[500])\n",
    "ax.set_title(str(train_labels[500]))\n",
    "ax.axis('off');"
   ]
  },
  {
   "cell_type": "code",
   "execution_count": 10,
   "metadata": {
    "id": "Bojn7VsfLwkV"
   },
   "outputs": [],
   "source": [
    "# Load the list of labels from a JSON file\n",
    "\n",
    "import json\n",
    "\n",
    "with open(data_folder + 'cifar100_fine_labels.json', 'r') as fine_labels:\n",
    "    cifar100_fine_labels = json.load(fine_labels)"
   ]
  },
  {
   "cell_type": "markdown",
   "metadata": {
    "id": "RcULe51BLwkZ"
   },
   "source": [
    "The list of labels for the CIFAR-100 dataset are available [here](https://www.cs.toronto.edu/~kriz/cifar.html)."
   ]
  },
  {
   "cell_type": "code",
   "execution_count": 11,
   "metadata": {
    "colab": {
     "base_uri": "https://localhost:8080/",
     "height": 35
    },
    "id": "KXq95zzcLwka",
    "outputId": "339b3c64-8ef5-404f-b6ed-7035fe4c36bf"
   },
   "outputs": [
    {
     "name": "stdout",
     "output_type": "stream",
     "text": [
      "['apple', 'aquarium_fish', 'baby', 'bear', 'beaver', 'bed', 'bee', 'beetle', 'bicycle', 'bottle']\n"
     ]
    }
   ],
   "source": [
    "# Print a few of the labels\n",
    "\n",
    "print(cifar100_fine_labels[:10])"
   ]
  },
  {
   "cell_type": "code",
   "execution_count": 12,
   "metadata": {
    "colab": {
     "base_uri": "https://localhost:8080/",
     "height": 35
    },
    "id": "F6Oqo7xKLwkd",
    "outputId": "3f3ee4b4-30e4-4283-8059-7bf2b8275fbe"
   },
   "outputs": [
    {
     "name": "stdout",
     "output_type": "stream",
     "text": [
      "lawn_mower\n"
     ]
    }
   ],
   "source": [
    "# Print the corresponding label for the example above\n",
    "\n",
    "print(cifar100_fine_labels[41])"
   ]
  },
  {
   "cell_type": "markdown",
   "metadata": {
    "id": "GKQA_qggLwkh"
   },
   "source": [
    "#### Load the data using different label modes"
   ]
  },
  {
   "cell_type": "code",
   "execution_count": 13,
   "metadata": {
    "colab": {
     "base_uri": "https://localhost:8080/",
     "height": 129
    },
    "id": "UkLZ3caeLwki",
    "outputId": "38bfd31c-25b8-490d-a008-39556e8a502e"
   },
   "outputs": [
    {
     "data": {
      "image/png": "[encoded data removed]",
      "text/plain": [
       "<Figure size 432x288 with 3 Axes>"
      ]
     },
     "metadata": {
      "needs_background": "light"
     },
     "output_type": "display_data"
    }
   ],
   "source": [
    "# Display a few examples from category 87 (index 86) and the list of labels\n",
    "\n",
    "examples = train_images[(train_labels.T == 86)[0]][:3]\n",
    "fig, axis = plt.subplots(1,3)\n",
    "for i, ax in enumerate(axis):\n",
    "    ax.imshow(examples[i])\n",
    "    ax.axis('off')\n",
    "plt.show()"
   ]
  },
  {
   "cell_type": "code",
   "execution_count": 14,
   "metadata": {
    "id": "qdP2x7rFLwkk"
   },
   "outputs": [],
   "source": [
    "# Reload the data using the 'coarse' label mode\n",
    "\n",
    "(train_images, train_labels), (test_images, test_labels) = cifar100.load_data(label_mode='coarse')"
   ]
  },
  {
   "cell_type": "code",
   "execution_count": 15,
   "metadata": {
    "colab": {
     "base_uri": "https://localhost:8080/",
     "height": 129
    },
    "id": "zVizCMTSLwkn",
    "outputId": "41a9d57e-182a-4b20-e658-fd867ddb7c0b"
   },
   "outputs": [
    {
     "data": {
      "image/png": "[encoded data removed]",
      "text/plain": [
       "<Figure size 432x288 with 3 Axes>"
      ]
     },
     "metadata": {
      "needs_background": "light"
     },
     "output_type": "display_data"
    }
   ],
   "source": [
    "# Display three images from the dataset with the label 6 (index 5)\n",
    "\n",
    "examples = train_images[(train_labels.T == 5)[0]][:3]\n",
    "fig, axis = plt.subplots(1,3)\n",
    "for i, ax in enumerate(axis):\n",
    "    ax.imshow(examples[i])\n",
    "    ax.axis('off')\n",
    "plt.show()"
   ]
  },
  {
   "cell_type": "code",
   "execution_count": 16,
   "metadata": {
    "id": "C_MZIWCFLwks"
   },
   "outputs": [],
   "source": [
    "# Load the list of coarse labels from a JSON file\n",
    "\n",
    "with open(data_folder + 'cifar100_coarse_labels.json', 'r') as coarse_labels:\n",
    "    cifar100_coarse_labels = json.load(coarse_labels)"
   ]
  },
  {
   "cell_type": "code",
   "execution_count": 17,
   "metadata": {
    "colab": {
     "base_uri": "https://localhost:8080/",
     "height": 364
    },
    "id": "wbvYhD48Lwku",
    "outputId": "8ae2bc7b-e840-45df-efdd-a0e5933941b7",
    "scrolled": true
   },
   "outputs": [
    {
     "name": "stdout",
     "output_type": "stream",
     "text": [
      "['aquatic mammals',\n",
      " 'fish',\n",
      " 'flowers',\n",
      " 'food containers',\n",
      " 'fruit and vegetables',\n",
      " 'household electrical device',\n",
      " 'household furniture',\n",
      " 'insects',\n",
      " 'large carnivores',\n",
      " 'large man-made outdoor things',\n",
      " 'large natural outdoor scenes',\n",
      " 'large omnivores and herbivores',\n",
      " 'medium-sized mammals',\n",
      " 'non-insect invertebrates',\n",
      " 'people',\n",
      " 'reptiles',\n",
      " 'small mammals',\n",
      " 'trees',\n",
      " 'vehicles 1',\n",
      " 'vehicles 2']\n"
     ]
    }
   ],
   "source": [
    "# Print a few of the labels\n",
    "from pprint import pprint\n",
    "\n",
    "pprint(cifar100_coarse_labels)"
   ]
  },
  {
   "cell_type": "code",
   "execution_count": 18,
   "metadata": {
    "colab": {
     "base_uri": "https://localhost:8080/",
     "height": 52
    },
    "id": "2KGMaEInLwkx",
    "outputId": "b0044a6d-62a9-4b10-8230-bff3e1e4879d"
   },
   "outputs": [
    {
     "name": "stdout",
     "output_type": "stream",
     "text": [
      "Label 87 of fine labels: telephone\n",
      "Label 6 of coarse labels: household electrical device\n"
     ]
    }
   ],
   "source": [
    "# Print the corresponding label for the example above\n",
    "\n",
    "print(f'Label 87 of fine labels: {cifar100_fine_labels[86]}\\nLabel 6 of coarse labels: {cifar100_coarse_labels[5]}')"
   ]
  },
  {
   "cell_type": "markdown",
   "metadata": {
    "id": "uZDJui8OLwk1"
   },
   "source": [
    "#### Load the IMDB Dataset"
   ]
  },
  {
   "cell_type": "code",
   "execution_count": 19,
   "metadata": {
    "id": "UKylrcBKLwk2"
   },
   "outputs": [],
   "source": [
    "from tensorflow.keras.datasets import imdb"
   ]
  },
  {
   "cell_type": "code",
   "execution_count": 20,
   "metadata": {
    "id": "rWNp9BGZLwk4"
   },
   "outputs": [],
   "source": [
    "# Load the IMDB dataset\n",
    "\n",
    "(train_data, train_labels), (test_data, test_labels) = imdb.load_data()"
   ]
  },
  {
   "cell_type": "code",
   "execution_count": 21,
   "metadata": {
    "colab": {
     "base_uri": "https://localhost:8080/",
     "height": 72
    },
    "id": "fTHEOfQ1Lwk8",
    "outputId": "6756f072-2744-42ab-e40c-ce60a55e567e"
   },
   "outputs": [
    {
     "name": "stdout",
     "output_type": "stream",
     "text": [
      "[1, 14, 22, 16, 43, 530, 973, 1622, 1385, 65, 458, 4468, 66, 3941, 4, 173, 36, 256, 5, 25, 100, 43, 838, 112, 50, 670, 22665, 9, 35, 480, 284, 5, 150, 4, 172, 112, 167, 21631, 336, 385, 39, 4, 172, 4536, 1111, 17, 546, 38, 13, 447, 4, 192, 50, 16, 6, 147, 2025, 19, 14, 22, 4, 1920, 4613, 469, 4, 22, 71, 87, 12, 16, 43, 530, 38, 76, 15, 13, 1247, 4, 22, 17, 515, 17, 12, 16, 626, 18, 19193, 5, 62, 386, 12, 8, 316, 8, 106, 5, 4, 2223, 5244, 16, 480, 66, 3785, 33, 4, 130, 12, 16, 38, 619, 5, 25, 124, 51, 36, 135, 48, 25, 1415, 33, 6, 22, 12, 215, 28, 77, 52, 5, 14, 407, 16, 82, 10311, 8, 4, 107, 117, 5952, 15, 256, 4, 31050, 7, 3766, 5, 723, 36, 71, 43, 530, 476, 26, 400, 317, 46, 7, 4, 12118, 1029, 13, 104, 88, 4, 381, 15, 297, 98, 32, 2071, 56, 26, 141, 6, 194, 7486, 18, 4, 226, 22, 21, 134, 476, 26, 480, 5, 144, 30, 5535, 18, 51, 36, 28, 224, 92, 25, 104, 4, 226, 65, 16, 38, 1334, 88, 12, 16, 283, 5, 16, 4472, 113, 103, 32, 15, 16, 5345, 19, 178, 32]\n",
      "1\n"
     ]
    }
   ],
   "source": [
    "# Print an example from the training dataset, along with its corresponding label\n",
    "\n",
    "print(train_data[0])\n",
    "print(train_labels[0])"
   ]
  },
  {
   "cell_type": "code",
   "execution_count": 22,
   "metadata": {
    "id": "UikjKYS5Lwk-"
   },
   "outputs": [],
   "source": [
    "# Get the lengths of the input sequences\n",
    "\n",
    "sequence_lengths = [len(seq) for seq in train_data]"
   ]
  },
  {
   "cell_type": "code",
   "execution_count": 23,
   "metadata": {
    "colab": {
     "base_uri": "https://localhost:8080/",
     "height": 52
    },
    "id": "3QbK1eZOLwlB",
    "outputId": "94f804cb-10c0-4028-c9bc-65921a63bf4f"
   },
   "outputs": [
    {
     "name": "stdout",
     "output_type": "stream",
     "text": [
      "2494\n",
      "11\n"
     ]
    }
   ],
   "source": [
    "# Determine the maximum and minimum sequence length\n",
    "\n",
    "print(max(sequence_lengths))\n",
    "print(min(sequence_lengths))"
   ]
  },
  {
   "cell_type": "markdown",
   "metadata": {
    "id": "WfxdEsETLwlD"
   },
   "source": [
    "#### Using Keyword Arguments"
   ]
  },
  {
   "cell_type": "code",
   "execution_count": 24,
   "metadata": {
    "id": "V_rJ9cHDLwlE"
   },
   "outputs": [],
   "source": [
    "# Load the data ignoring the 50 most frequent words, use oov_char=2 (this is the default)\n",
    "\n",
    "(train_data, train_labels), (test_data, test_labels) = imdb.load_data(skip_top=50, oov_char=2)"
   ]
  },
  {
   "cell_type": "code",
   "execution_count": 25,
   "metadata": {
    "id": "EfrBgZWXLwlH"
   },
   "outputs": [],
   "source": [
    "# Get the lengths of the input sequences\n",
    "\n",
    "sequence_lengths = [len(seq) for seq in train_data]"
   ]
  },
  {
   "cell_type": "code",
   "execution_count": 26,
   "metadata": {
    "colab": {
     "base_uri": "https://localhost:8080/",
     "height": 52
    },
    "id": "iqSdCKqxLwlJ",
    "outputId": "5c38953f-1052-4fbf-d713-0fecdb4b46f7"
   },
   "outputs": [
    {
     "name": "stdout",
     "output_type": "stream",
     "text": [
      "2494\n",
      "11\n"
     ]
    }
   ],
   "source": [
    "# Determine the maximum and minimum sequence length\n",
    "\n",
    "print(max(sequence_lengths))\n",
    "print(min(sequence_lengths))"
   ]
  },
  {
   "cell_type": "code",
   "execution_count": 27,
   "metadata": {
    "id": "R9RjMJaJLwlL"
   },
   "outputs": [],
   "source": [
    "# Define functions for filtering the sequences\n",
    "\n",
    "def remove_oov_char(element):\n",
    "    ''' Filter function for removing the oov_char. '''\n",
    "    return [word for word in element if word!=2]\n",
    "\n",
    "def filter_list(lst):\n",
    "    ''' Run remove_oov_char on elements in a list. '''\n",
    "    return [remove_oov_char(element) for element in lst]"
   ]
  },
  {
   "cell_type": "code",
   "execution_count": 28,
   "metadata": {
    "id": "7eBoicx1LwlO"
   },
   "outputs": [],
   "source": [
    "# Remove the oov_char from the sequences using the filter_list function\n",
    "\n",
    "train_data = filter_list(train_data)"
   ]
  },
  {
   "cell_type": "code",
   "execution_count": 29,
   "metadata": {
    "id": "YZ0myFkyLwlR"
   },
   "outputs": [],
   "source": [
    "# Get the lengths of the input sequences\n",
    "\n",
    "sequence_lengths = [len(seq) for seq in train_data]"
   ]
  },
  {
   "cell_type": "code",
   "execution_count": 30,
   "metadata": {
    "colab": {
     "base_uri": "https://localhost:8080/",
     "height": 52
    },
    "id": "Qy5jFTr3LwlU",
    "outputId": "52cc5a81-49c4-4c03-c5c8-227bbf5093b4"
   },
   "outputs": [
    {
     "name": "stdout",
     "output_type": "stream",
     "text": [
      "1648\n",
      "3\n"
     ]
    }
   ],
   "source": [
    "# Determine the maximum and minimum sequence length\n",
    "\n",
    "print(max(sequence_lengths))\n",
    "print(min(sequence_lengths))"
   ]
  },
  {
   "cell_type": "markdown",
   "metadata": {
    "id": "43w36xfNLwlW"
   },
   "source": [
    "***\n",
    "<a id=\"coding_tutorial_2\"></a>\n",
    "## Dataset generators"
   ]
  },
  {
   "cell_type": "code",
   "execution_count": 31,
   "metadata": {
    "id": "_GVjAo5nLwlX"
   },
   "outputs": [],
   "source": [
    "import matplotlib.pyplot as plt\n",
    "import numpy as np\n",
    "import pandas as pd\n",
    "%matplotlib inline"
   ]
  },
  {
   "cell_type": "markdown",
   "metadata": {
    "id": "QeksQNB9LwlZ"
   },
   "source": [
    "#### Load the UCI Fertility Dataset\n",
    "\n",
    "We will be using a dataset available at https://archive.ics.uci.edu/ml/datasets/Fertility from UC Irvine."
   ]
  },
  {
   "cell_type": "markdown",
   "metadata": {
    "id": "tDMv0Yc6NGd9"
   },
   "source": [
    "#### Import the data\n",
    "\n",
    "The dataset required for this tutorial can be downloaded from the following link:\n",
    "\n",
    "https://drive.google.com/open?id=1OA0lwa5YLDs1njS377jbqPpMSlH5TzQV\n",
    "\n",
    "You should store this file in Drive for use in this Colab notebook."
   ]
  },
  {
   "cell_type": "code",
   "execution_count": 32,
   "metadata": {
    "colab": {
     "base_uri": "https://localhost:8080/",
     "height": 35
    },
    "id": "UK-HCBxlNGpb",
    "outputId": "f41d8ea3-2305-4098-85f3-ed672f1ce1e6"
   },
   "outputs": [],
   "source": [
    "# Run this cell to connect to your Drive folder\n",
    "if colab:\n",
    "    from google.colab import drive\n",
    "    drive.mount('/content/gdrive')"
   ]
  },
  {
   "cell_type": "code",
   "execution_count": 34,
   "metadata": {
    "id": "XKfmk3zpLwla"
   },
   "outputs": [],
   "source": [
    "# Load the fertility dataset\n",
    "\n",
    "headers = ['Season', 'Age', 'Diseases', 'Trauma', 'Surgery', 'Fever', 'Alcohol', 'Smoking', 'Sitting', 'Output']\n",
    "fertility = pd.read_csv(data_folder + '/fertility_Diagnosis.txt', delimiter=',', header=None, names=headers)"
   ]
  },
  {
   "cell_type": "code",
   "execution_count": 35,
   "metadata": {
    "colab": {
     "base_uri": "https://localhost:8080/",
     "height": 35
    },
    "id": "WWOyjhCJLwld",
    "outputId": "22962d6b-ccae-40ec-8118-e5acbf6c375b"
   },
   "outputs": [
    {
     "data": {
      "text/plain": [
       "(100, 10)"
      ]
     },
     "execution_count": 35,
     "metadata": {},
     "output_type": "execute_result"
    }
   ],
   "source": [
    "# Print the shape of the DataFrame\n",
    "\n",
    "fertility.shape"
   ]
  },
  {
   "cell_type": "code",
   "execution_count": 36,
   "metadata": {
    "colab": {
     "base_uri": "https://localhost:8080/",
     "height": 202
    },
    "id": "mwGWKnbbLwlf",
    "outputId": "26c7d0c5-012b-411e-8362-0a5cff08468b"
   },
   "outputs": [
    {
     "data": {
      "text/html": [
       "<div>\n",
       "<style scoped>\n",
       "    .dataframe tbody tr th:only-of-type {\n",
       "        vertical-align: middle;\n",
       "    }\n",
       "\n",
       "    .dataframe tbody tr th {\n",
       "        vertical-align: top;\n",
       "    }\n",
       "\n",
       "    .dataframe thead th {\n",
       "        text-align: right;\n",
       "    }\n",
       "</style>\n",
       "<table border=\"1\" class=\"dataframe\">\n",
       "  <thead>\n",
       "    <tr style=\"text-align: right;\">\n",
       "      <th></th>\n",
       "      <th>Season</th>\n",
       "      <th>Age</th>\n",
       "      <th>Diseases</th>\n",
       "      <th>Trauma</th>\n",
       "      <th>Surgery</th>\n",
       "      <th>Fever</th>\n",
       "      <th>Alcohol</th>\n",
       "      <th>Smoking</th>\n",
       "      <th>Sitting</th>\n",
       "      <th>Output</th>\n",
       "    </tr>\n",
       "  </thead>\n",
       "  <tbody>\n",
       "    <tr>\n",
       "      <th>0</th>\n",
       "      <td>-0.33</td>\n",
       "      <td>0.69</td>\n",
       "      <td>0</td>\n",
       "      <td>1</td>\n",
       "      <td>1</td>\n",
       "      <td>0</td>\n",
       "      <td>0.8</td>\n",
       "      <td>0</td>\n",
       "      <td>0.88</td>\n",
       "      <td>N</td>\n",
       "    </tr>\n",
       "    <tr>\n",
       "      <th>1</th>\n",
       "      <td>-0.33</td>\n",
       "      <td>0.94</td>\n",
       "      <td>1</td>\n",
       "      <td>0</td>\n",
       "      <td>1</td>\n",
       "      <td>0</td>\n",
       "      <td>0.8</td>\n",
       "      <td>1</td>\n",
       "      <td>0.31</td>\n",
       "      <td>O</td>\n",
       "    </tr>\n",
       "    <tr>\n",
       "      <th>2</th>\n",
       "      <td>-0.33</td>\n",
       "      <td>0.50</td>\n",
       "      <td>1</td>\n",
       "      <td>0</td>\n",
       "      <td>0</td>\n",
       "      <td>0</td>\n",
       "      <td>1.0</td>\n",
       "      <td>-1</td>\n",
       "      <td>0.50</td>\n",
       "      <td>N</td>\n",
       "    </tr>\n",
       "    <tr>\n",
       "      <th>3</th>\n",
       "      <td>-0.33</td>\n",
       "      <td>0.75</td>\n",
       "      <td>0</td>\n",
       "      <td>1</td>\n",
       "      <td>1</td>\n",
       "      <td>0</td>\n",
       "      <td>1.0</td>\n",
       "      <td>-1</td>\n",
       "      <td>0.38</td>\n",
       "      <td>N</td>\n",
       "    </tr>\n",
       "    <tr>\n",
       "      <th>4</th>\n",
       "      <td>-0.33</td>\n",
       "      <td>0.67</td>\n",
       "      <td>1</td>\n",
       "      <td>1</td>\n",
       "      <td>0</td>\n",
       "      <td>0</td>\n",
       "      <td>0.8</td>\n",
       "      <td>-1</td>\n",
       "      <td>0.50</td>\n",
       "      <td>O</td>\n",
       "    </tr>\n",
       "  </tbody>\n",
       "</table>\n",
       "</div>"
      ],
      "text/plain": [
       "   Season   Age  Diseases  Trauma  Surgery  Fever  Alcohol  Smoking  Sitting  \\\n",
       "0   -0.33  0.69         0       1        1      0      0.8        0     0.88   \n",
       "1   -0.33  0.94         1       0        1      0      0.8        1     0.31   \n",
       "2   -0.33  0.50         1       0        0      0      1.0       -1     0.50   \n",
       "3   -0.33  0.75         0       1        1      0      1.0       -1     0.38   \n",
       "4   -0.33  0.67         1       1        0      0      0.8       -1     0.50   \n",
       "\n",
       "  Output  \n",
       "0      N  \n",
       "1      O  \n",
       "2      N  \n",
       "3      N  \n",
       "4      O  "
      ]
     },
     "execution_count": 36,
     "metadata": {},
     "output_type": "execute_result"
    }
   ],
   "source": [
    "# Show the head of the DataFrame\n",
    "\n",
    "fertility.head()"
   ]
  },
  {
   "cell_type": "markdown",
   "metadata": {
    "id": "slDi0LNSLwlk"
   },
   "source": [
    "#### Process the data"
   ]
  },
  {
   "cell_type": "code",
   "execution_count": 37,
   "metadata": {
    "id": "bCmzD-5HLwll"
   },
   "outputs": [],
   "source": [
    "# Map the 'Output' feature from 'N' to 0 and from 'O' to 1\n",
    "\n",
    "fertility['Output'] = fertility['Output'].map(lambda x : 0.0 if x=='N' else 1.0)"
   ]
  },
  {
   "cell_type": "code",
   "execution_count": 38,
   "metadata": {
    "colab": {
     "base_uri": "https://localhost:8080/",
     "height": 202
    },
    "id": "7yjVX1KMLwlo",
    "outputId": "61342518-d36f-4bda-a60b-081463f4874b"
   },
   "outputs": [
    {
     "data": {
      "text/html": [
       "<div>\n",
       "<style scoped>\n",
       "    .dataframe tbody tr th:only-of-type {\n",
       "        vertical-align: middle;\n",
       "    }\n",
       "\n",
       "    .dataframe tbody tr th {\n",
       "        vertical-align: top;\n",
       "    }\n",
       "\n",
       "    .dataframe thead th {\n",
       "        text-align: right;\n",
       "    }\n",
       "</style>\n",
       "<table border=\"1\" class=\"dataframe\">\n",
       "  <thead>\n",
       "    <tr style=\"text-align: right;\">\n",
       "      <th></th>\n",
       "      <th>Season</th>\n",
       "      <th>Age</th>\n",
       "      <th>Diseases</th>\n",
       "      <th>Trauma</th>\n",
       "      <th>Surgery</th>\n",
       "      <th>Fever</th>\n",
       "      <th>Alcohol</th>\n",
       "      <th>Smoking</th>\n",
       "      <th>Sitting</th>\n",
       "      <th>Output</th>\n",
       "    </tr>\n",
       "  </thead>\n",
       "  <tbody>\n",
       "    <tr>\n",
       "      <th>0</th>\n",
       "      <td>-0.33</td>\n",
       "      <td>0.69</td>\n",
       "      <td>0</td>\n",
       "      <td>1</td>\n",
       "      <td>1</td>\n",
       "      <td>0</td>\n",
       "      <td>0.8</td>\n",
       "      <td>0</td>\n",
       "      <td>0.88</td>\n",
       "      <td>0.0</td>\n",
       "    </tr>\n",
       "    <tr>\n",
       "      <th>1</th>\n",
       "      <td>-0.33</td>\n",
       "      <td>0.94</td>\n",
       "      <td>1</td>\n",
       "      <td>0</td>\n",
       "      <td>1</td>\n",
       "      <td>0</td>\n",
       "      <td>0.8</td>\n",
       "      <td>1</td>\n",
       "      <td>0.31</td>\n",
       "      <td>1.0</td>\n",
       "    </tr>\n",
       "    <tr>\n",
       "      <th>2</th>\n",
       "      <td>-0.33</td>\n",
       "      <td>0.50</td>\n",
       "      <td>1</td>\n",
       "      <td>0</td>\n",
       "      <td>0</td>\n",
       "      <td>0</td>\n",
       "      <td>1.0</td>\n",
       "      <td>-1</td>\n",
       "      <td>0.50</td>\n",
       "      <td>0.0</td>\n",
       "    </tr>\n",
       "    <tr>\n",
       "      <th>3</th>\n",
       "      <td>-0.33</td>\n",
       "      <td>0.75</td>\n",
       "      <td>0</td>\n",
       "      <td>1</td>\n",
       "      <td>1</td>\n",
       "      <td>0</td>\n",
       "      <td>1.0</td>\n",
       "      <td>-1</td>\n",
       "      <td>0.38</td>\n",
       "      <td>0.0</td>\n",
       "    </tr>\n",
       "    <tr>\n",
       "      <th>4</th>\n",
       "      <td>-0.33</td>\n",
       "      <td>0.67</td>\n",
       "      <td>1</td>\n",
       "      <td>1</td>\n",
       "      <td>0</td>\n",
       "      <td>0</td>\n",
       "      <td>0.8</td>\n",
       "      <td>-1</td>\n",
       "      <td>0.50</td>\n",
       "      <td>1.0</td>\n",
       "    </tr>\n",
       "  </tbody>\n",
       "</table>\n",
       "</div>"
      ],
      "text/plain": [
       "   Season   Age  Diseases  Trauma  Surgery  Fever  Alcohol  Smoking  Sitting  \\\n",
       "0   -0.33  0.69         0       1        1      0      0.8        0     0.88   \n",
       "1   -0.33  0.94         1       0        1      0      0.8        1     0.31   \n",
       "2   -0.33  0.50         1       0        0      0      1.0       -1     0.50   \n",
       "3   -0.33  0.75         0       1        1      0      1.0       -1     0.38   \n",
       "4   -0.33  0.67         1       1        0      0      0.8       -1     0.50   \n",
       "\n",
       "   Output  \n",
       "0     0.0  \n",
       "1     1.0  \n",
       "2     0.0  \n",
       "3     0.0  \n",
       "4     1.0  "
      ]
     },
     "execution_count": 38,
     "metadata": {},
     "output_type": "execute_result"
    }
   ],
   "source": [
    "# Show the head of the DataFrame\n",
    "\n",
    "fertility.head()"
   ]
  },
  {
   "cell_type": "code",
   "execution_count": 39,
   "metadata": {
    "id": "hJ5qjO5ALwlq"
   },
   "outputs": [],
   "source": [
    "# Convert the DataFrame so that the features are mapped to floats\n",
    "\n",
    "fertility = fertility.astype('float32')"
   ]
  },
  {
   "cell_type": "code",
   "execution_count": 40,
   "metadata": {
    "id": "WWIZ-en6Lwls"
   },
   "outputs": [],
   "source": [
    "# Shuffle the DataFrame\n",
    "\n",
    "fertility = fertility.sample(frac=1).reset_index(drop=True)"
   ]
  },
  {
   "cell_type": "code",
   "execution_count": 41,
   "metadata": {
    "colab": {
     "base_uri": "https://localhost:8080/",
     "height": 202
    },
    "id": "4HH_ObWqLwlu",
    "outputId": "de896644-2922-4fc5-bcfe-8b56169dda01",
    "scrolled": true
   },
   "outputs": [
    {
     "data": {
      "text/html": [
       "<div>\n",
       "<style scoped>\n",
       "    .dataframe tbody tr th:only-of-type {\n",
       "        vertical-align: middle;\n",
       "    }\n",
       "\n",
       "    .dataframe tbody tr th {\n",
       "        vertical-align: top;\n",
       "    }\n",
       "\n",
       "    .dataframe thead th {\n",
       "        text-align: right;\n",
       "    }\n",
       "</style>\n",
       "<table border=\"1\" class=\"dataframe\">\n",
       "  <thead>\n",
       "    <tr style=\"text-align: right;\">\n",
       "      <th></th>\n",
       "      <th>Season</th>\n",
       "      <th>Age</th>\n",
       "      <th>Diseases</th>\n",
       "      <th>Trauma</th>\n",
       "      <th>Surgery</th>\n",
       "      <th>Fever</th>\n",
       "      <th>Alcohol</th>\n",
       "      <th>Smoking</th>\n",
       "      <th>Sitting</th>\n",
       "      <th>Output</th>\n",
       "    </tr>\n",
       "  </thead>\n",
       "  <tbody>\n",
       "    <tr>\n",
       "      <th>0</th>\n",
       "      <td>-0.33</td>\n",
       "      <td>0.53</td>\n",
       "      <td>1.0</td>\n",
       "      <td>1.0</td>\n",
       "      <td>0.0</td>\n",
       "      <td>0.0</td>\n",
       "      <td>0.8</td>\n",
       "      <td>0.0</td>\n",
       "      <td>0.75</td>\n",
       "      <td>0.0</td>\n",
       "    </tr>\n",
       "    <tr>\n",
       "      <th>1</th>\n",
       "      <td>-0.33</td>\n",
       "      <td>0.56</td>\n",
       "      <td>1.0</td>\n",
       "      <td>1.0</td>\n",
       "      <td>0.0</td>\n",
       "      <td>0.0</td>\n",
       "      <td>0.4</td>\n",
       "      <td>1.0</td>\n",
       "      <td>0.63</td>\n",
       "      <td>0.0</td>\n",
       "    </tr>\n",
       "    <tr>\n",
       "      <th>2</th>\n",
       "      <td>-1.00</td>\n",
       "      <td>0.53</td>\n",
       "      <td>1.0</td>\n",
       "      <td>1.0</td>\n",
       "      <td>0.0</td>\n",
       "      <td>1.0</td>\n",
       "      <td>0.8</td>\n",
       "      <td>-1.0</td>\n",
       "      <td>0.38</td>\n",
       "      <td>0.0</td>\n",
       "    </tr>\n",
       "    <tr>\n",
       "      <th>3</th>\n",
       "      <td>-0.33</td>\n",
       "      <td>0.67</td>\n",
       "      <td>1.0</td>\n",
       "      <td>1.0</td>\n",
       "      <td>0.0</td>\n",
       "      <td>0.0</td>\n",
       "      <td>0.8</td>\n",
       "      <td>-1.0</td>\n",
       "      <td>0.50</td>\n",
       "      <td>1.0</td>\n",
       "    </tr>\n",
       "    <tr>\n",
       "      <th>4</th>\n",
       "      <td>0.33</td>\n",
       "      <td>0.75</td>\n",
       "      <td>1.0</td>\n",
       "      <td>1.0</td>\n",
       "      <td>0.0</td>\n",
       "      <td>0.0</td>\n",
       "      <td>0.8</td>\n",
       "      <td>-1.0</td>\n",
       "      <td>0.38</td>\n",
       "      <td>0.0</td>\n",
       "    </tr>\n",
       "  </tbody>\n",
       "</table>\n",
       "</div>"
      ],
      "text/plain": [
       "   Season   Age  Diseases  Trauma  Surgery  Fever  Alcohol  Smoking  Sitting  \\\n",
       "0   -0.33  0.53       1.0     1.0      0.0    0.0      0.8      0.0     0.75   \n",
       "1   -0.33  0.56       1.0     1.0      0.0    0.0      0.4      1.0     0.63   \n",
       "2   -1.00  0.53       1.0     1.0      0.0    1.0      0.8     -1.0     0.38   \n",
       "3   -0.33  0.67       1.0     1.0      0.0    0.0      0.8     -1.0     0.50   \n",
       "4    0.33  0.75       1.0     1.0      0.0    0.0      0.8     -1.0     0.38   \n",
       "\n",
       "   Output  \n",
       "0     0.0  \n",
       "1     0.0  \n",
       "2     0.0  \n",
       "3     1.0  \n",
       "4     0.0  "
      ]
     },
     "execution_count": 41,
     "metadata": {},
     "output_type": "execute_result"
    }
   ],
   "source": [
    "# Show the head of the DataFrame\n",
    "\n",
    "fertility.head()"
   ]
  },
  {
   "cell_type": "code",
   "execution_count": 42,
   "metadata": {
    "id": "oREiQC5wLwly"
   },
   "outputs": [],
   "source": [
    "# Convert the field Season to a one-hot encoded vector\n",
    "\n",
    "fertility = pd.get_dummies(fertility, prefix='Season', columns=['Season'])"
   ]
  },
  {
   "cell_type": "code",
   "execution_count": 43,
   "metadata": {
    "colab": {
     "base_uri": "https://localhost:8080/",
     "height": 222
    },
    "id": "fDCUdq3VLwl2",
    "outputId": "8a7a1b94-dfca-46e4-add5-9e46ef6a9f21"
   },
   "outputs": [
    {
     "data": {
      "text/html": [
       "<div>\n",
       "<style scoped>\n",
       "    .dataframe tbody tr th:only-of-type {\n",
       "        vertical-align: middle;\n",
       "    }\n",
       "\n",
       "    .dataframe tbody tr th {\n",
       "        vertical-align: top;\n",
       "    }\n",
       "\n",
       "    .dataframe thead th {\n",
       "        text-align: right;\n",
       "    }\n",
       "</style>\n",
       "<table border=\"1\" class=\"dataframe\">\n",
       "  <thead>\n",
       "    <tr style=\"text-align: right;\">\n",
       "      <th></th>\n",
       "      <th>Age</th>\n",
       "      <th>Diseases</th>\n",
       "      <th>Trauma</th>\n",
       "      <th>Surgery</th>\n",
       "      <th>Fever</th>\n",
       "      <th>Alcohol</th>\n",
       "      <th>Smoking</th>\n",
       "      <th>Sitting</th>\n",
       "      <th>Output</th>\n",
       "      <th>Season_-1.0</th>\n",
       "      <th>Season_-0.33000001311302185</th>\n",
       "      <th>Season_0.33000001311302185</th>\n",
       "      <th>Season_1.0</th>\n",
       "    </tr>\n",
       "  </thead>\n",
       "  <tbody>\n",
       "    <tr>\n",
       "      <th>0</th>\n",
       "      <td>0.53</td>\n",
       "      <td>1.0</td>\n",
       "      <td>1.0</td>\n",
       "      <td>0.0</td>\n",
       "      <td>0.0</td>\n",
       "      <td>0.8</td>\n",
       "      <td>0.0</td>\n",
       "      <td>0.75</td>\n",
       "      <td>0.0</td>\n",
       "      <td>0</td>\n",
       "      <td>1</td>\n",
       "      <td>0</td>\n",
       "      <td>0</td>\n",
       "    </tr>\n",
       "    <tr>\n",
       "      <th>1</th>\n",
       "      <td>0.56</td>\n",
       "      <td>1.0</td>\n",
       "      <td>1.0</td>\n",
       "      <td>0.0</td>\n",
       "      <td>0.0</td>\n",
       "      <td>0.4</td>\n",
       "      <td>1.0</td>\n",
       "      <td>0.63</td>\n",
       "      <td>0.0</td>\n",
       "      <td>0</td>\n",
       "      <td>1</td>\n",
       "      <td>0</td>\n",
       "      <td>0</td>\n",
       "    </tr>\n",
       "    <tr>\n",
       "      <th>2</th>\n",
       "      <td>0.53</td>\n",
       "      <td>1.0</td>\n",
       "      <td>1.0</td>\n",
       "      <td>0.0</td>\n",
       "      <td>1.0</td>\n",
       "      <td>0.8</td>\n",
       "      <td>-1.0</td>\n",
       "      <td>0.38</td>\n",
       "      <td>0.0</td>\n",
       "      <td>1</td>\n",
       "      <td>0</td>\n",
       "      <td>0</td>\n",
       "      <td>0</td>\n",
       "    </tr>\n",
       "    <tr>\n",
       "      <th>3</th>\n",
       "      <td>0.67</td>\n",
       "      <td>1.0</td>\n",
       "      <td>1.0</td>\n",
       "      <td>0.0</td>\n",
       "      <td>0.0</td>\n",
       "      <td>0.8</td>\n",
       "      <td>-1.0</td>\n",
       "      <td>0.50</td>\n",
       "      <td>1.0</td>\n",
       "      <td>0</td>\n",
       "      <td>1</td>\n",
       "      <td>0</td>\n",
       "      <td>0</td>\n",
       "    </tr>\n",
       "    <tr>\n",
       "      <th>4</th>\n",
       "      <td>0.75</td>\n",
       "      <td>1.0</td>\n",
       "      <td>1.0</td>\n",
       "      <td>0.0</td>\n",
       "      <td>0.0</td>\n",
       "      <td>0.8</td>\n",
       "      <td>-1.0</td>\n",
       "      <td>0.38</td>\n",
       "      <td>0.0</td>\n",
       "      <td>0</td>\n",
       "      <td>0</td>\n",
       "      <td>1</td>\n",
       "      <td>0</td>\n",
       "    </tr>\n",
       "  </tbody>\n",
       "</table>\n",
       "</div>"
      ],
      "text/plain": [
       "    Age  Diseases  Trauma  Surgery  Fever  Alcohol  Smoking  Sitting  Output  \\\n",
       "0  0.53       1.0     1.0      0.0    0.0      0.8      0.0     0.75     0.0   \n",
       "1  0.56       1.0     1.0      0.0    0.0      0.4      1.0     0.63     0.0   \n",
       "2  0.53       1.0     1.0      0.0    1.0      0.8     -1.0     0.38     0.0   \n",
       "3  0.67       1.0     1.0      0.0    0.0      0.8     -1.0     0.50     1.0   \n",
       "4  0.75       1.0     1.0      0.0    0.0      0.8     -1.0     0.38     0.0   \n",
       "\n",
       "   Season_-1.0  Season_-0.33000001311302185  Season_0.33000001311302185  \\\n",
       "0            0                            1                           0   \n",
       "1            0                            1                           0   \n",
       "2            1                            0                           0   \n",
       "3            0                            1                           0   \n",
       "4            0                            0                           1   \n",
       "\n",
       "   Season_1.0  \n",
       "0           0  \n",
       "1           0  \n",
       "2           0  \n",
       "3           0  \n",
       "4           0  "
      ]
     },
     "execution_count": 43,
     "metadata": {},
     "output_type": "execute_result"
    }
   ],
   "source": [
    "# Show the head of the DataFrame\n",
    "\n",
    "fertility.head()"
   ]
  },
  {
   "cell_type": "code",
   "execution_count": 44,
   "metadata": {
    "id": "eukmHFMILwl5"
   },
   "outputs": [],
   "source": [
    "# Move the Output column such that it is the last column in the DataFrame\n",
    "\n",
    "fertility.columns = [col for col in fertility.columns if col != 'Output'] + ['Output']"
   ]
  },
  {
   "cell_type": "code",
   "execution_count": 45,
   "metadata": {
    "colab": {
     "base_uri": "https://localhost:8080/",
     "height": 222
    },
    "id": "i-anaeBLLwmB",
    "outputId": "5f5bf354-3afd-42ec-ee04-a0c45d251b45"
   },
   "outputs": [
    {
     "data": {
      "text/html": [
       "<div>\n",
       "<style scoped>\n",
       "    .dataframe tbody tr th:only-of-type {\n",
       "        vertical-align: middle;\n",
       "    }\n",
       "\n",
       "    .dataframe tbody tr th {\n",
       "        vertical-align: top;\n",
       "    }\n",
       "\n",
       "    .dataframe thead th {\n",
       "        text-align: right;\n",
       "    }\n",
       "</style>\n",
       "<table border=\"1\" class=\"dataframe\">\n",
       "  <thead>\n",
       "    <tr style=\"text-align: right;\">\n",
       "      <th></th>\n",
       "      <th>Age</th>\n",
       "      <th>Diseases</th>\n",
       "      <th>Trauma</th>\n",
       "      <th>Surgery</th>\n",
       "      <th>Fever</th>\n",
       "      <th>Alcohol</th>\n",
       "      <th>Smoking</th>\n",
       "      <th>Sitting</th>\n",
       "      <th>Season_-1.0</th>\n",
       "      <th>Season_-0.33000001311302185</th>\n",
       "      <th>Season_0.33000001311302185</th>\n",
       "      <th>Season_1.0</th>\n",
       "      <th>Output</th>\n",
       "    </tr>\n",
       "  </thead>\n",
       "  <tbody>\n",
       "    <tr>\n",
       "      <th>0</th>\n",
       "      <td>0.53</td>\n",
       "      <td>1.0</td>\n",
       "      <td>1.0</td>\n",
       "      <td>0.0</td>\n",
       "      <td>0.0</td>\n",
       "      <td>0.8</td>\n",
       "      <td>0.0</td>\n",
       "      <td>0.75</td>\n",
       "      <td>0.0</td>\n",
       "      <td>0</td>\n",
       "      <td>1</td>\n",
       "      <td>0</td>\n",
       "      <td>0</td>\n",
       "    </tr>\n",
       "    <tr>\n",
       "      <th>1</th>\n",
       "      <td>0.56</td>\n",
       "      <td>1.0</td>\n",
       "      <td>1.0</td>\n",
       "      <td>0.0</td>\n",
       "      <td>0.0</td>\n",
       "      <td>0.4</td>\n",
       "      <td>1.0</td>\n",
       "      <td>0.63</td>\n",
       "      <td>0.0</td>\n",
       "      <td>0</td>\n",
       "      <td>1</td>\n",
       "      <td>0</td>\n",
       "      <td>0</td>\n",
       "    </tr>\n",
       "    <tr>\n",
       "      <th>2</th>\n",
       "      <td>0.53</td>\n",
       "      <td>1.0</td>\n",
       "      <td>1.0</td>\n",
       "      <td>0.0</td>\n",
       "      <td>1.0</td>\n",
       "      <td>0.8</td>\n",
       "      <td>-1.0</td>\n",
       "      <td>0.38</td>\n",
       "      <td>0.0</td>\n",
       "      <td>1</td>\n",
       "      <td>0</td>\n",
       "      <td>0</td>\n",
       "      <td>0</td>\n",
       "    </tr>\n",
       "    <tr>\n",
       "      <th>3</th>\n",
       "      <td>0.67</td>\n",
       "      <td>1.0</td>\n",
       "      <td>1.0</td>\n",
       "      <td>0.0</td>\n",
       "      <td>0.0</td>\n",
       "      <td>0.8</td>\n",
       "      <td>-1.0</td>\n",
       "      <td>0.50</td>\n",
       "      <td>1.0</td>\n",
       "      <td>0</td>\n",
       "      <td>1</td>\n",
       "      <td>0</td>\n",
       "      <td>0</td>\n",
       "    </tr>\n",
       "    <tr>\n",
       "      <th>4</th>\n",
       "      <td>0.75</td>\n",
       "      <td>1.0</td>\n",
       "      <td>1.0</td>\n",
       "      <td>0.0</td>\n",
       "      <td>0.0</td>\n",
       "      <td>0.8</td>\n",
       "      <td>-1.0</td>\n",
       "      <td>0.38</td>\n",
       "      <td>0.0</td>\n",
       "      <td>0</td>\n",
       "      <td>0</td>\n",
       "      <td>1</td>\n",
       "      <td>0</td>\n",
       "    </tr>\n",
       "  </tbody>\n",
       "</table>\n",
       "</div>"
      ],
      "text/plain": [
       "    Age  Diseases  Trauma  Surgery  Fever  Alcohol  Smoking  Sitting  \\\n",
       "0  0.53       1.0     1.0      0.0    0.0      0.8      0.0     0.75   \n",
       "1  0.56       1.0     1.0      0.0    0.0      0.4      1.0     0.63   \n",
       "2  0.53       1.0     1.0      0.0    1.0      0.8     -1.0     0.38   \n",
       "3  0.67       1.0     1.0      0.0    0.0      0.8     -1.0     0.50   \n",
       "4  0.75       1.0     1.0      0.0    0.0      0.8     -1.0     0.38   \n",
       "\n",
       "   Season_-1.0  Season_-0.33000001311302185  Season_0.33000001311302185  \\\n",
       "0          0.0                            0                           1   \n",
       "1          0.0                            0                           1   \n",
       "2          0.0                            1                           0   \n",
       "3          1.0                            0                           1   \n",
       "4          0.0                            0                           0   \n",
       "\n",
       "   Season_1.0  Output  \n",
       "0           0       0  \n",
       "1           0       0  \n",
       "2           0       0  \n",
       "3           0       0  \n",
       "4           1       0  "
      ]
     },
     "execution_count": 45,
     "metadata": {},
     "output_type": "execute_result"
    }
   ],
   "source": [
    "# Show the head of the DataFrame\n",
    "\n",
    "fertility.head()"
   ]
  },
  {
   "cell_type": "code",
   "execution_count": 46,
   "metadata": {
    "id": "OEyYKSueLwmD"
   },
   "outputs": [],
   "source": [
    "# Convert the DataFrame to a numpy array.\n",
    "\n",
    "fertility = fertility.to_numpy()"
   ]
  },
  {
   "cell_type": "markdown",
   "metadata": {
    "id": "1tPbAdRYLwmH"
   },
   "source": [
    "#### Split the Data"
   ]
  },
  {
   "cell_type": "code",
   "execution_count": 47,
   "metadata": {
    "id": "o1qYU7lcLwmI"
   },
   "outputs": [],
   "source": [
    "# Split the dataset into training and validation set\n",
    "\n",
    "training = fertility[0:70]\n",
    "validation = fertility[70:100]"
   ]
  },
  {
   "cell_type": "code",
   "execution_count": 48,
   "metadata": {
    "colab": {
     "base_uri": "https://localhost:8080/",
     "height": 35
    },
    "id": "XnwFqRrLLwmL",
    "outputId": "81312e9d-8694-4cde-b271-51fb0b43c97f"
   },
   "outputs": [
    {
     "name": "stdout",
     "output_type": "stream",
     "text": [
      "(70, 13)\n"
     ]
    }
   ],
   "source": [
    "# Verify the shape of the training data\n",
    "\n",
    "print(training.shape)"
   ]
  },
  {
   "cell_type": "code",
   "execution_count": 49,
   "metadata": {
    "id": "JvCdYLU5LwmN"
   },
   "outputs": [],
   "source": [
    "# Separate the features and labels for the validation and training data\n",
    "\n",
    "training_features = training[:,0:-1]\n",
    "training_labels = training[:,-1]\n",
    "validation_features = validation[:,0:-1]\n",
    "validation_labels = validation[:,-1]"
   ]
  },
  {
   "cell_type": "markdown",
   "metadata": {
    "id": "YLOK8GMOLwmP"
   },
   "source": [
    "#### Create the Generator"
   ]
  },
  {
   "cell_type": "code",
   "execution_count": 50,
   "metadata": {
    "id": "uINAoFn5LwmQ"
   },
   "outputs": [],
   "source": [
    "# Create a function that returns a generator producing inputs and labels\n",
    "\n",
    "def get_generator(features, labels, batch_size=1):\n",
    "    for n in range(int(len(features)/batch_size)):\n",
    "        yield (features[n*batch_size: (n+1)*batch_size], labels[n*batch_size: (n+1)*batch_size])"
   ]
  },
  {
   "cell_type": "code",
   "execution_count": 51,
   "metadata": {
    "id": "W_zKx3oJLwmS"
   },
   "outputs": [],
   "source": [
    "# Apply the function to our training features and labels with a batch size of 10\n",
    "\n",
    "train_generator = get_generator(training_features, training_labels, batch_size=10)"
   ]
  },
  {
   "cell_type": "code",
   "execution_count": 52,
   "metadata": {
    "colab": {
     "base_uri": "https://localhost:8080/",
     "height": 381
    },
    "id": "7Y3jCTRuLwmT",
    "outputId": "e86bf3c7-3faf-4e55-d7a2-2749f206bc23"
   },
   "outputs": [
    {
     "data": {
      "text/plain": [
       "(array([[ 0.53,  1.  ,  1.  ,  0.  ,  0.  ,  0.8 ,  0.  ,  0.75,  0.  ,\n",
       "          0.  ,  1.  ,  0.  ],\n",
       "        [ 0.56,  1.  ,  1.  ,  0.  ,  0.  ,  0.4 ,  1.  ,  0.63,  0.  ,\n",
       "          0.  ,  1.  ,  0.  ],\n",
       "        [ 0.53,  1.  ,  1.  ,  0.  ,  1.  ,  0.8 , -1.  ,  0.38,  0.  ,\n",
       "          1.  ,  0.  ,  0.  ],\n",
       "        [ 0.67,  1.  ,  1.  ,  0.  ,  0.  ,  0.8 , -1.  ,  0.5 ,  1.  ,\n",
       "          0.  ,  1.  ,  0.  ],\n",
       "        [ 0.75,  1.  ,  1.  ,  0.  ,  0.  ,  0.8 , -1.  ,  0.38,  0.  ,\n",
       "          0.  ,  0.  ,  1.  ],\n",
       "        [ 0.92,  1.  ,  0.  ,  0.  ,  1.  ,  0.6 , -1.  ,  0.19,  0.  ,\n",
       "          0.  ,  1.  ,  0.  ],\n",
       "        [ 0.53,  1.  ,  1.  ,  0.  ,  0.  ,  0.8 ,  0.  ,  0.5 ,  0.  ,\n",
       "          0.  ,  1.  ,  0.  ],\n",
       "        [ 0.94,  1.  ,  0.  ,  1.  ,  0.  ,  0.8 ,  1.  ,  0.31,  1.  ,\n",
       "          0.  ,  1.  ,  0.  ],\n",
       "        [ 0.67,  1.  ,  1.  ,  1.  ,  0.  ,  1.  , -1.  ,  0.31,  0.  ,\n",
       "          1.  ,  0.  ,  0.  ],\n",
       "        [ 1.  ,  1.  ,  1.  ,  1.  ,  0.  ,  0.6 , -1.  ,  0.38,  0.  ,\n",
       "          0.  ,  1.  ,  0.  ]], dtype=float32),\n",
       " array([0., 0., 0., 0., 0., 0., 0., 0., 0., 0.], dtype=float32))"
      ]
     },
     "execution_count": 52,
     "metadata": {},
     "output_type": "execute_result"
    }
   ],
   "source": [
    "# Test the generator using the next() function\n",
    "\n",
    "next(train_generator)"
   ]
  },
  {
   "cell_type": "markdown",
   "metadata": {
    "id": "KA-VnvRpLwmW"
   },
   "source": [
    "#### Build the model"
   ]
  },
  {
   "cell_type": "code",
   "execution_count": 53,
   "metadata": {
    "id": "I5T3dXGZLwmW"
   },
   "outputs": [],
   "source": [
    "# Create a model using Keras with 3 layers\n",
    "\n",
    "from tensorflow.keras import Model\n",
    "from tensorflow.keras.layers import Dense, Input, BatchNormalization\n",
    "\n",
    "input_shape = (12,)\n",
    "output_shape = (1,)\n",
    "\n",
    "model_input = Input(input_shape)\n",
    "batch_1 = BatchNormalization(momentum=0.8)(model_input)\n",
    "dense_1 = Dense(100, activation='relu')(batch_1)\n",
    "batch_2 = BatchNormalization(momentum=0.8)(dense_1)\n",
    "output = Dense(1, activation='sigmoid')(batch_2)\n",
    "\n",
    "model = Model([model_input], output)"
   ]
  },
  {
   "cell_type": "code",
   "execution_count": 54,
   "metadata": {
    "colab": {
     "base_uri": "https://localhost:8080/",
     "height": 329
    },
    "id": "xCBoGMMULwmY",
    "outputId": "46a061d9-4efb-4240-a20b-e8cc91d7254f"
   },
   "outputs": [
    {
     "name": "stdout",
     "output_type": "stream",
     "text": [
      "Model: \"functional_1\"\n",
      "_________________________________________________________________\n",
      "Layer (type)                 Output Shape              Param #   \n",
      "=================================================================\n",
      "input_1 (InputLayer)         [(None, 12)]              0         \n",
      "_________________________________________________________________\n",
      "batch_normalization (BatchNo (None, 12)                48        \n",
      "_________________________________________________________________\n",
      "dense (Dense)                (None, 100)               1300      \n",
      "_________________________________________________________________\n",
      "batch_normalization_1 (Batch (None, 100)               400       \n",
      "_________________________________________________________________\n",
      "dense_1 (Dense)              (None, 1)                 101       \n",
      "=================================================================\n",
      "Total params: 1,849\n",
      "Trainable params: 1,625\n",
      "Non-trainable params: 224\n",
      "_________________________________________________________________\n"
     ]
    }
   ],
   "source": [
    "# Display the model summary to show the resultant structure\n",
    "\n",
    "model.summary()"
   ]
  },
  {
   "cell_type": "markdown",
   "metadata": {
    "id": "-djfT1vDLwma"
   },
   "source": [
    "#### Compile the model"
   ]
  },
  {
   "cell_type": "code",
   "execution_count": 55,
   "metadata": {
    "id": "D_PyDixLLwma"
   },
   "outputs": [],
   "source": [
    "# Create the optimizer object\n",
    "\n",
    "optimizer = tf.keras.optimizers.Adam(learning_rate=1e-2)"
   ]
  },
  {
   "cell_type": "code",
   "execution_count": 56,
   "metadata": {
    "id": "IZUjV3LpLwmc"
   },
   "outputs": [],
   "source": [
    "# Compile the model with loss function and metric\n",
    "\n",
    "model.compile(optimizer=optimizer, loss='binary_crossentropy', metrics=['accuracy'])"
   ]
  },
  {
   "cell_type": "markdown",
   "metadata": {
    "id": "wxB-r6_sLwmd"
   },
   "source": [
    "#### Train and evaluate the model using the generator"
   ]
  },
  {
   "cell_type": "code",
   "execution_count": 57,
   "metadata": {
    "id": "zCmNFC0eLwmd"
   },
   "outputs": [],
   "source": [
    "# Calculate the number of training steps per epoch for the given batch size.\n",
    "\n",
    "batch_size = 5\n",
    "train_steps = len(training) // batch_size"
   ]
  },
  {
   "cell_type": "code",
   "execution_count": 58,
   "metadata": {
    "id": "tCyaX46bLwmf"
   },
   "outputs": [],
   "source": [
    "# Set the epochs to 3\n",
    "\n",
    "epochs = 3"
   ]
  },
  {
   "cell_type": "code",
   "execution_count": 59,
   "metadata": {
    "colab": {
     "base_uri": "https://localhost:8080/",
     "height": 69
    },
    "id": "9TKc7muJLwmg",
    "outputId": "fe52bec8-4cdf-4d75-b3ee-8274dd8f5ae0"
   },
   "outputs": [
    {
     "name": "stdout",
     "output_type": "stream",
     "text": [
      "WARNING:tensorflow:From <ipython-input-59-60c9484e09fc>:6: Model.fit_generator (from tensorflow.python.keras.engine.training) is deprecated and will be removed in a future version.\n",
      "Instructions for updating:\n",
      "Please use Model.fit, which supports generators.\n",
      "14/14 [==============================] - 0s 12ms/step - loss: 0.5590 - accuracy: 0.7143 - val_loss: 0.7560 - val_accuracy: 0.7667\n",
      "14/14 [==============================] - 0s 3ms/step - loss: 0.1837 - accuracy: 0.9714 - val_loss: 0.5741 - val_accuracy: 0.8667\n",
      "14/14 [==============================] - 0s 3ms/step - loss: 0.1036 - accuracy: 0.9857 - val_loss: 0.0378 - val_accuracy: 1.0000\n"
     ]
    }
   ],
   "source": [
    "# Train the model\n",
    "\n",
    "for epoch in range(epochs):\n",
    "    train_generator = get_generator(training_features, training_labels, batch_size=batch_size)\n",
    "    validation_generator = get_generator(validation_features, validation_labels, batch_size=30)\n",
    "    model.fit_generator(train_generator, steps_per_epoch=train_steps, validation_data=validation_generator, validation_steps=1)"
   ]
  },
  {
   "cell_type": "code",
   "execution_count": 60,
   "metadata": {
    "colab": {
     "base_uri": "https://localhost:8080/",
     "height": 346
    },
    "id": "5-6hh7BsLwmj",
    "outputId": "1f54175b-374d-4f1e-8c7c-f3886b558a7b",
    "scrolled": true
   },
   "outputs": [
    {
     "ename": "StopIteration",
     "evalue": "",
     "output_type": "error",
     "traceback": [
      "\u001b[1;31m---------------------------------------------------------------------------\u001b[0m",
      "\u001b[1;31mStopIteration\u001b[0m                             Traceback (most recent call last)",
      "\u001b[1;32m<ipython-input-60-6009e73e3e9e>\u001b[0m in \u001b[0;36m<module>\u001b[1;34m\u001b[0m\n\u001b[0;32m      1\u001b[0m \u001b[1;31m# Try to run the fit_generator function once more; observe what happens\u001b[0m\u001b[1;33m\u001b[0m\u001b[1;33m\u001b[0m\u001b[1;33m\u001b[0m\u001b[0m\n\u001b[0;32m      2\u001b[0m \u001b[1;33m\u001b[0m\u001b[0m\n\u001b[1;32m----> 3\u001b[1;33m \u001b[0mmodel\u001b[0m\u001b[1;33m.\u001b[0m\u001b[0mfit_generator\u001b[0m\u001b[1;33m(\u001b[0m\u001b[0mtrain_generator\u001b[0m\u001b[1;33m,\u001b[0m \u001b[0msteps_per_epoch\u001b[0m\u001b[1;33m=\u001b[0m\u001b[0mtrain_steps\u001b[0m\u001b[1;33m)\u001b[0m\u001b[1;33m\u001b[0m\u001b[1;33m\u001b[0m\u001b[0m\n\u001b[0m",
      "\u001b[1;32m~\\anaconda3\\envs\\tf2\\lib\\site-packages\\tensorflow\\python\\util\\deprecation.py\u001b[0m in \u001b[0;36mnew_func\u001b[1;34m(*args, **kwargs)\u001b[0m\n\u001b[0;32m    322\u001b[0m               \u001b[1;34m'in a future version'\u001b[0m \u001b[1;32mif\u001b[0m \u001b[0mdate\u001b[0m \u001b[1;32mis\u001b[0m \u001b[1;32mNone\u001b[0m \u001b[1;32melse\u001b[0m \u001b[1;33m(\u001b[0m\u001b[1;34m'after %s'\u001b[0m \u001b[1;33m%\u001b[0m \u001b[0mdate\u001b[0m\u001b[1;33m)\u001b[0m\u001b[1;33m,\u001b[0m\u001b[1;33m\u001b[0m\u001b[1;33m\u001b[0m\u001b[0m\n\u001b[0;32m    323\u001b[0m               instructions)\n\u001b[1;32m--> 324\u001b[1;33m       \u001b[1;32mreturn\u001b[0m \u001b[0mfunc\u001b[0m\u001b[1;33m(\u001b[0m\u001b[1;33m*\u001b[0m\u001b[0margs\u001b[0m\u001b[1;33m,\u001b[0m \u001b[1;33m**\u001b[0m\u001b[0mkwargs\u001b[0m\u001b[1;33m)\u001b[0m\u001b[1;33m\u001b[0m\u001b[1;33m\u001b[0m\u001b[0m\n\u001b[0m\u001b[0;32m    325\u001b[0m     return tf_decorator.make_decorator(\n\u001b[0;32m    326\u001b[0m         \u001b[0mfunc\u001b[0m\u001b[1;33m,\u001b[0m \u001b[0mnew_func\u001b[0m\u001b[1;33m,\u001b[0m \u001b[1;34m'deprecated'\u001b[0m\u001b[1;33m,\u001b[0m\u001b[1;33m\u001b[0m\u001b[1;33m\u001b[0m\u001b[0m\n",
      "\u001b[1;32m~\\anaconda3\\envs\\tf2\\lib\\site-packages\\tensorflow\\python\\keras\\engine\\training.py\u001b[0m in \u001b[0;36mfit_generator\u001b[1;34m(self, generator, steps_per_epoch, epochs, verbose, callbacks, validation_data, validation_steps, validation_freq, class_weight, max_queue_size, workers, use_multiprocessing, shuffle, initial_epoch)\u001b[0m\n\u001b[0;32m   1813\u001b[0m     \"\"\"\n\u001b[0;32m   1814\u001b[0m     \u001b[0m_keras_api_gauge\u001b[0m\u001b[1;33m.\u001b[0m\u001b[0mget_cell\u001b[0m\u001b[1;33m(\u001b[0m\u001b[1;34m'fit_generator'\u001b[0m\u001b[1;33m)\u001b[0m\u001b[1;33m.\u001b[0m\u001b[0mset\u001b[0m\u001b[1;33m(\u001b[0m\u001b[1;32mTrue\u001b[0m\u001b[1;33m)\u001b[0m\u001b[1;33m\u001b[0m\u001b[1;33m\u001b[0m\u001b[0m\n\u001b[1;32m-> 1815\u001b[1;33m     return self.fit(\n\u001b[0m\u001b[0;32m   1816\u001b[0m         \u001b[0mgenerator\u001b[0m\u001b[1;33m,\u001b[0m\u001b[1;33m\u001b[0m\u001b[1;33m\u001b[0m\u001b[0m\n\u001b[0;32m   1817\u001b[0m         \u001b[0msteps_per_epoch\u001b[0m\u001b[1;33m=\u001b[0m\u001b[0msteps_per_epoch\u001b[0m\u001b[1;33m,\u001b[0m\u001b[1;33m\u001b[0m\u001b[1;33m\u001b[0m\u001b[0m\n",
      "\u001b[1;32m~\\anaconda3\\envs\\tf2\\lib\\site-packages\\tensorflow\\python\\keras\\engine\\training.py\u001b[0m in \u001b[0;36m_method_wrapper\u001b[1;34m(self, *args, **kwargs)\u001b[0m\n\u001b[0;32m    106\u001b[0m   \u001b[1;32mdef\u001b[0m \u001b[0m_method_wrapper\u001b[0m\u001b[1;33m(\u001b[0m\u001b[0mself\u001b[0m\u001b[1;33m,\u001b[0m \u001b[1;33m*\u001b[0m\u001b[0margs\u001b[0m\u001b[1;33m,\u001b[0m \u001b[1;33m**\u001b[0m\u001b[0mkwargs\u001b[0m\u001b[1;33m)\u001b[0m\u001b[1;33m:\u001b[0m\u001b[1;33m\u001b[0m\u001b[1;33m\u001b[0m\u001b[0m\n\u001b[0;32m    107\u001b[0m     \u001b[1;32mif\u001b[0m \u001b[1;32mnot\u001b[0m \u001b[0mself\u001b[0m\u001b[1;33m.\u001b[0m\u001b[0m_in_multi_worker_mode\u001b[0m\u001b[1;33m(\u001b[0m\u001b[1;33m)\u001b[0m\u001b[1;33m:\u001b[0m  \u001b[1;31m# pylint: disable=protected-access\u001b[0m\u001b[1;33m\u001b[0m\u001b[1;33m\u001b[0m\u001b[0m\n\u001b[1;32m--> 108\u001b[1;33m       \u001b[1;32mreturn\u001b[0m \u001b[0mmethod\u001b[0m\u001b[1;33m(\u001b[0m\u001b[0mself\u001b[0m\u001b[1;33m,\u001b[0m \u001b[1;33m*\u001b[0m\u001b[0margs\u001b[0m\u001b[1;33m,\u001b[0m \u001b[1;33m**\u001b[0m\u001b[0mkwargs\u001b[0m\u001b[1;33m)\u001b[0m\u001b[1;33m\u001b[0m\u001b[1;33m\u001b[0m\u001b[0m\n\u001b[0m\u001b[0;32m    109\u001b[0m \u001b[1;33m\u001b[0m\u001b[0m\n\u001b[0;32m    110\u001b[0m     \u001b[1;31m# Running inside `run_distribute_coordinator` already.\u001b[0m\u001b[1;33m\u001b[0m\u001b[1;33m\u001b[0m\u001b[1;33m\u001b[0m\u001b[0m\n",
      "\u001b[1;32m~\\anaconda3\\envs\\tf2\\lib\\site-packages\\tensorflow\\python\\keras\\engine\\training.py\u001b[0m in \u001b[0;36mfit\u001b[1;34m(self, x, y, batch_size, epochs, verbose, callbacks, validation_split, validation_data, shuffle, class_weight, sample_weight, initial_epoch, steps_per_epoch, validation_steps, validation_batch_size, validation_freq, max_queue_size, workers, use_multiprocessing)\u001b[0m\n\u001b[0;32m   1047\u001b[0m          \u001b[0mtraining_utils\u001b[0m\u001b[1;33m.\u001b[0m\u001b[0mRespectCompiledTrainableState\u001b[0m\u001b[1;33m(\u001b[0m\u001b[0mself\u001b[0m\u001b[1;33m)\u001b[0m\u001b[1;33m:\u001b[0m\u001b[1;33m\u001b[0m\u001b[1;33m\u001b[0m\u001b[0m\n\u001b[0;32m   1048\u001b[0m       \u001b[1;31m# Creates a `tf.data.Dataset` and handles batch and epoch iteration.\u001b[0m\u001b[1;33m\u001b[0m\u001b[1;33m\u001b[0m\u001b[1;33m\u001b[0m\u001b[0m\n\u001b[1;32m-> 1049\u001b[1;33m       data_handler = data_adapter.DataHandler(\n\u001b[0m\u001b[0;32m   1050\u001b[0m           \u001b[0mx\u001b[0m\u001b[1;33m=\u001b[0m\u001b[0mx\u001b[0m\u001b[1;33m,\u001b[0m\u001b[1;33m\u001b[0m\u001b[1;33m\u001b[0m\u001b[0m\n\u001b[0;32m   1051\u001b[0m           \u001b[0my\u001b[0m\u001b[1;33m=\u001b[0m\u001b[0my\u001b[0m\u001b[1;33m,\u001b[0m\u001b[1;33m\u001b[0m\u001b[1;33m\u001b[0m\u001b[0m\n",
      "\u001b[1;32m~\\anaconda3\\envs\\tf2\\lib\\site-packages\\tensorflow\\python\\keras\\engine\\data_adapter.py\u001b[0m in \u001b[0;36m__init__\u001b[1;34m(self, x, y, sample_weight, batch_size, steps_per_epoch, initial_epoch, epochs, shuffle, class_weight, max_queue_size, workers, use_multiprocessing, model, steps_per_execution)\u001b[0m\n\u001b[0;32m   1103\u001b[0m \u001b[1;33m\u001b[0m\u001b[0m\n\u001b[0;32m   1104\u001b[0m     \u001b[0madapter_cls\u001b[0m \u001b[1;33m=\u001b[0m \u001b[0mselect_data_adapter\u001b[0m\u001b[1;33m(\u001b[0m\u001b[0mx\u001b[0m\u001b[1;33m,\u001b[0m \u001b[0my\u001b[0m\u001b[1;33m)\u001b[0m\u001b[1;33m\u001b[0m\u001b[1;33m\u001b[0m\u001b[0m\n\u001b[1;32m-> 1105\u001b[1;33m     self._adapter = adapter_cls(\n\u001b[0m\u001b[0;32m   1106\u001b[0m         \u001b[0mx\u001b[0m\u001b[1;33m,\u001b[0m\u001b[1;33m\u001b[0m\u001b[1;33m\u001b[0m\u001b[0m\n\u001b[0;32m   1107\u001b[0m         \u001b[0my\u001b[0m\u001b[1;33m,\u001b[0m\u001b[1;33m\u001b[0m\u001b[1;33m\u001b[0m\u001b[0m\n",
      "\u001b[1;32m~\\anaconda3\\envs\\tf2\\lib\\site-packages\\tensorflow\\python\\keras\\engine\\data_adapter.py\u001b[0m in \u001b[0;36m__init__\u001b[1;34m(self, x, y, sample_weights, workers, use_multiprocessing, max_queue_size, model, **kwargs)\u001b[0m\n\u001b[0;32m    784\u001b[0m     \u001b[1;31m# Since we have to know the dtype of the python generator when we build the\u001b[0m\u001b[1;33m\u001b[0m\u001b[1;33m\u001b[0m\u001b[1;33m\u001b[0m\u001b[0m\n\u001b[0;32m    785\u001b[0m     \u001b[1;31m# dataset, we have to look at a batch to infer the structure.\u001b[0m\u001b[1;33m\u001b[0m\u001b[1;33m\u001b[0m\u001b[1;33m\u001b[0m\u001b[0m\n\u001b[1;32m--> 786\u001b[1;33m     \u001b[0mpeek\u001b[0m\u001b[1;33m,\u001b[0m \u001b[0mx\u001b[0m \u001b[1;33m=\u001b[0m \u001b[0mself\u001b[0m\u001b[1;33m.\u001b[0m\u001b[0m_peek_and_restore\u001b[0m\u001b[1;33m(\u001b[0m\u001b[0mx\u001b[0m\u001b[1;33m)\u001b[0m\u001b[1;33m\u001b[0m\u001b[1;33m\u001b[0m\u001b[0m\n\u001b[0m\u001b[0;32m    787\u001b[0m     \u001b[0mpeek\u001b[0m \u001b[1;33m=\u001b[0m \u001b[0mself\u001b[0m\u001b[1;33m.\u001b[0m\u001b[0m_standardize_batch\u001b[0m\u001b[1;33m(\u001b[0m\u001b[0mpeek\u001b[0m\u001b[1;33m)\u001b[0m\u001b[1;33m\u001b[0m\u001b[1;33m\u001b[0m\u001b[0m\n\u001b[0;32m    788\u001b[0m     \u001b[0mpeek\u001b[0m \u001b[1;33m=\u001b[0m \u001b[0m_process_tensorlike\u001b[0m\u001b[1;33m(\u001b[0m\u001b[0mpeek\u001b[0m\u001b[1;33m)\u001b[0m\u001b[1;33m\u001b[0m\u001b[1;33m\u001b[0m\u001b[0m\n",
      "\u001b[1;32m~\\anaconda3\\envs\\tf2\\lib\\site-packages\\tensorflow\\python\\keras\\engine\\data_adapter.py\u001b[0m in \u001b[0;36m_peek_and_restore\u001b[1;34m(x)\u001b[0m\n\u001b[0;32m    841\u001b[0m   \u001b[1;33m@\u001b[0m\u001b[0mstaticmethod\u001b[0m\u001b[1;33m\u001b[0m\u001b[1;33m\u001b[0m\u001b[0m\n\u001b[0;32m    842\u001b[0m   \u001b[1;32mdef\u001b[0m \u001b[0m_peek_and_restore\u001b[0m\u001b[1;33m(\u001b[0m\u001b[0mx\u001b[0m\u001b[1;33m)\u001b[0m\u001b[1;33m:\u001b[0m\u001b[1;33m\u001b[0m\u001b[1;33m\u001b[0m\u001b[0m\n\u001b[1;32m--> 843\u001b[1;33m     \u001b[0mpeek\u001b[0m \u001b[1;33m=\u001b[0m \u001b[0mnext\u001b[0m\u001b[1;33m(\u001b[0m\u001b[0mx\u001b[0m\u001b[1;33m)\u001b[0m\u001b[1;33m\u001b[0m\u001b[1;33m\u001b[0m\u001b[0m\n\u001b[0m\u001b[0;32m    844\u001b[0m     \u001b[1;32mreturn\u001b[0m \u001b[0mpeek\u001b[0m\u001b[1;33m,\u001b[0m \u001b[0mitertools\u001b[0m\u001b[1;33m.\u001b[0m\u001b[0mchain\u001b[0m\u001b[1;33m(\u001b[0m\u001b[1;33m[\u001b[0m\u001b[0mpeek\u001b[0m\u001b[1;33m]\u001b[0m\u001b[1;33m,\u001b[0m \u001b[0mx\u001b[0m\u001b[1;33m)\u001b[0m\u001b[1;33m\u001b[0m\u001b[1;33m\u001b[0m\u001b[0m\n\u001b[0;32m    845\u001b[0m \u001b[1;33m\u001b[0m\u001b[0m\n",
      "\u001b[1;31mStopIteration\u001b[0m: "
     ]
    }
   ],
   "source": [
    "# Try to run the fit_generator function once more; observe what happens\n",
    "\n",
    "model.fit_generator(train_generator, steps_per_epoch=train_steps)"
   ]
  },
  {
   "cell_type": "markdown",
   "metadata": {
    "id": "eASEXb7uLwml"
   },
   "source": [
    "#### Make an infinitely looping generator"
   ]
  },
  {
   "cell_type": "code",
   "execution_count": 61,
   "metadata": {
    "id": "oX2TZzl2Lwmm"
   },
   "outputs": [],
   "source": [
    "# Create a function that returns an infinitely looping generator\n",
    "\n",
    "def get_generator_cyclic(features, labels, batch_size=1):\n",
    "    while True:\n",
    "        for n in range(int(len(features)/batch_size)):\n",
    "            yield (features[n*batch_size: (n+1)*batch_size], labels[n*batch_size: (n+1)*batch_size])\n",
    "        permuted = np.random.permutation(len(features))\n",
    "        features = features[permuted]\n",
    "        labels = labels[permuted]"
   ]
  },
  {
   "cell_type": "code",
   "execution_count": 62,
   "metadata": {
    "id": "WkZIx02TLwmo"
   },
   "outputs": [],
   "source": [
    "# Create a generator using this function.\n",
    "\n",
    "train_generator_cyclic = get_generator_cyclic(training_features, training_labels, batch_size=batch_size)"
   ]
  },
  {
   "cell_type": "code",
   "execution_count": 63,
   "metadata": {
    "id": "rCXB7YBZLwmr"
   },
   "outputs": [],
   "source": [
    "# Assert that the new cyclic generator does not raise a StopIteration\n",
    "\n",
    "for i in range(2*train_steps):\n",
    "    next(train_generator_cyclic)"
   ]
  },
  {
   "cell_type": "code",
   "execution_count": 64,
   "metadata": {
    "id": "FJXeBNFALwms"
   },
   "outputs": [],
   "source": [
    "# Generate a cyclic validation generator\n",
    "\n",
    "validation_generator_cyclic = get_generator_cyclic(validation_features, validation_labels, batch_size=batch_size)"
   ]
  },
  {
   "cell_type": "code",
   "execution_count": 65,
   "metadata": {
    "colab": {
     "base_uri": "https://localhost:8080/",
     "height": 139
    },
    "id": "-ezRy60iLwmu",
    "outputId": "31b3150c-7923-426c-941e-9f1658027500",
    "scrolled": true
   },
   "outputs": [
    {
     "name": "stdout",
     "output_type": "stream",
     "text": [
      "Epoch 1/3\n",
      " 1/14 [=>............................] - ETA: 0s - loss: 0.0267 - accuracy: 1.0000WARNING:tensorflow:Callbacks method `on_train_batch_end` is slow compared to the batch time (batch time: 0.0000s vs `on_train_batch_end` time: 0.0010s). Check your callbacks.\n",
      "14/14 [==============================] - 0s 3ms/step - loss: 0.1699 - accuracy: 0.9429 - val_loss: 0.0113 - val_accuracy: 1.0000\n",
      "Epoch 2/3\n",
      "14/14 [==============================] - 0s 2ms/step - loss: 0.0588 - accuracy: 1.0000 - val_loss: 0.0718 - val_accuracy: 1.0000\n",
      "Epoch 3/3\n",
      "14/14 [==============================] - 0s 2ms/step - loss: 0.0381 - accuracy: 1.0000 - val_loss: 0.0036 - val_accuracy: 1.0000\n"
     ]
    },
    {
     "data": {
      "text/plain": [
       "<tensorflow.python.keras.callbacks.History at 0x1eeb21336d0>"
      ]
     },
     "execution_count": 65,
     "metadata": {},
     "output_type": "execute_result"
    }
   ],
   "source": [
    "# Train the model\n",
    "\n",
    "model.fit_generator(train_generator_cyclic,\n",
    "                    steps_per_epoch=train_steps,\n",
    "                    validation_data=validation_generator_cyclic,\n",
    "                    validation_steps=1,\n",
    "                    epochs=3)"
   ]
  },
  {
   "cell_type": "markdown",
   "metadata": {
    "id": "CndbEe9-Lwmw"
   },
   "source": [
    "#### Evaluate the model and get predictions"
   ]
  },
  {
   "cell_type": "code",
   "execution_count": 66,
   "metadata": {
    "id": "CAPuIgstLwmw"
   },
   "outputs": [],
   "source": [
    "# Let's obtain a validation data generator.\n",
    "\n",
    "validation_generator = get_generator(validation_features, validation_labels, batch_size=30)"
   ]
  },
  {
   "cell_type": "code",
   "execution_count": 67,
   "metadata": {
    "colab": {
     "base_uri": "https://localhost:8080/",
     "height": 52
    },
    "id": "xs38y9RaLwmz",
    "outputId": "8e5b80b2-04a2-4c4e-8d5b-c738a9bf4d2c"
   },
   "outputs": [
    {
     "name": "stdout",
     "output_type": "stream",
     "text": [
      "WARNING:tensorflow:From <ipython-input-67-c7b464905704>:3: Model.predict_generator (from tensorflow.python.keras.engine.training) is deprecated and will be removed in a future version.\n",
      "Instructions for updating:\n",
      "Please use Model.predict, which supports generators.\n",
      "[1. 0. 0. 0. 0. 0. 1. 0. 0. 0. 1. 0. 0. 0. 0. 0. 0. 0. 1. 0. 0. 1. 1. 1.\n",
      " 0. 1. 1. 1. 1. 0.]\n"
     ]
    }
   ],
   "source": [
    "# Get predictions on the validation data\n",
    "\n",
    "predictions = model.predict_generator(validation_generator, steps=1)\n",
    "print(np.squeeze(np.round(predictions.T)))"
   ]
  },
  {
   "cell_type": "code",
   "execution_count": 68,
   "metadata": {
    "colab": {
     "base_uri": "https://localhost:8080/",
     "height": 52
    },
    "id": "4Ce17XxwLwm4",
    "outputId": "3d2fc155-418c-4bc1-bfa0-34553557b706",
    "scrolled": true
   },
   "outputs": [
    {
     "name": "stdout",
     "output_type": "stream",
     "text": [
      "[1. 0. 0. 0. 0. 0. 1. 0. 0. 0. 1. 0. 0. 0. 0. 0. 0. 0. 1. 0. 0. 1. 1. 1.\n",
      " 0. 1. 1. 1. 1. 0.]\n"
     ]
    }
   ],
   "source": [
    "# Print the corresponding validation labels\n",
    "\n",
    "print(validation_labels)"
   ]
  },
  {
   "cell_type": "code",
   "execution_count": 69,
   "metadata": {
    "id": "nUUeWVS1Lwm6"
   },
   "outputs": [],
   "source": [
    "# Obtain a validation data generator\n",
    "\n",
    "validation_generator = get_generator(validation_features, validation_labels, batch_size=30)"
   ]
  },
  {
   "cell_type": "code",
   "execution_count": 70,
   "metadata": {
    "colab": {
     "base_uri": "https://localhost:8080/",
     "height": 35
    },
    "id": "shBJD8w4Lwm7",
    "outputId": "7c45c021-c4d6-459b-b745-f8ecf6b9547e"
   },
   "outputs": [
    {
     "name": "stdout",
     "output_type": "stream",
     "text": [
      "WARNING:tensorflow:From <ipython-input-70-6fc9b2ad541b>:3: Model.evaluate_generator (from tensorflow.python.keras.engine.training) is deprecated and will be removed in a future version.\n",
      "Instructions for updating:\n",
      "Please use Model.evaluate, which supports generators.\n"
     ]
    },
    {
     "data": {
      "text/plain": [
       "[0.009433847852051258, 1.0]"
      ]
     },
     "execution_count": 70,
     "metadata": {},
     "output_type": "execute_result"
    }
   ],
   "source": [
    "# Evaluate the model\n",
    "\n",
    "model.evaluate_generator(validation_generator, steps=1)"
   ]
  },
  {
   "cell_type": "markdown",
   "metadata": {
    "id": "SgEaDU0TLwm8"
   },
   "source": [
    "***\n",
    "<a id=\"coding_tutorial_3\"></a>\n",
    "## Keras image data augmentation"
   ]
  },
  {
   "cell_type": "markdown",
   "metadata": {
    "id": "fea1o5zdlS0p"
   },
   "source": [
    "#### Import the data\n",
    "\n",
    "The dataset required for this tutorial can be downloaded from the following link:\n",
    "\n",
    "https://drive.google.com/open?id=11Y43ta5gT672L3sfJFR2DvPs-ralY5Pd\n",
    "\n",
    "You should store these files in Drive for use in this Colab notebook."
   ]
  },
  {
   "cell_type": "code",
   "execution_count": 72,
   "metadata": {
    "colab": {
     "base_uri": "https://localhost:8080/",
     "height": 35
    },
    "id": "xPDIjLB8lW6v",
    "outputId": "ea4a934e-53a4-4c7c-f41f-da73854dcfaa"
   },
   "outputs": [],
   "source": [
    "# Run this cell to connect to your Drive folder\n",
    "if colab:\n",
    "    from google.colab import drive\n",
    "    drive.mount('/content/gdrive')"
   ]
  },
  {
   "cell_type": "code",
   "execution_count": 73,
   "metadata": {
    "id": "jdw6c9W-Lwm8"
   },
   "outputs": [],
   "source": [
    "import matplotlib.pyplot as plt\n",
    "import numpy as np"
   ]
  },
  {
   "cell_type": "markdown",
   "metadata": {
    "id": "2PTkNo-uLwm-"
   },
   "source": [
    "#### Load the CIFAR-10 Dataset"
   ]
  },
  {
   "cell_type": "code",
   "execution_count": 74,
   "metadata": {
    "id": "-174tvQULwm-"
   },
   "outputs": [],
   "source": [
    "from tensorflow.keras.datasets import cifar10"
   ]
  },
  {
   "cell_type": "code",
   "execution_count": 75,
   "metadata": {
    "id": "P_ipqjVnLwnA"
   },
   "outputs": [],
   "source": [
    "# Load the CIFAR-10 dataset\n",
    "\n",
    "(training_features, training_labels), (test_features, test_labels) = cifar10.load_data()"
   ]
  },
  {
   "cell_type": "code",
   "execution_count": 76,
   "metadata": {
    "id": "JH-q30M2LwnC"
   },
   "outputs": [],
   "source": [
    "# Convert the labels to a one-hot encoding\n",
    "\n",
    "num_classes = 10\n",
    "\n",
    "training_labels = tf.keras.utils.to_categorical(training_labels, num_classes)\n",
    "test_labels = tf.keras.utils.to_categorical(test_labels, num_classes)"
   ]
  },
  {
   "cell_type": "markdown",
   "metadata": {
    "id": "tyi9F1cRLwnF"
   },
   "source": [
    "#### Create a generator function"
   ]
  },
  {
   "cell_type": "code",
   "execution_count": 77,
   "metadata": {
    "id": "RiTmYP9HLwnF"
   },
   "outputs": [],
   "source": [
    "# Create a function that returns a data generator\n",
    "\n",
    "def get_generator(features, labels, batch_size=1):\n",
    "    for n in range(int(len(features)/batch_size)):\n",
    "        yield (features[n*batch_size:(n+1)*batch_size], labels[n*batch_size:(n+1)*batch_size])"
   ]
  },
  {
   "cell_type": "code",
   "execution_count": 78,
   "metadata": {
    "id": "aXXF9JKNLwnI"
   },
   "outputs": [],
   "source": [
    "# Use the function we created to get a training data generator with a batch size of 1\n",
    "\n",
    "training_generator = get_generator(training_features, training_labels)"
   ]
  },
  {
   "cell_type": "code",
   "execution_count": 79,
   "metadata": {
    "colab": {
     "base_uri": "https://localhost:8080/",
     "height": 52
    },
    "id": "ZaflrvQYLwnL",
    "outputId": "782ec73a-1932-4715-e233-e3a230ad40aa"
   },
   "outputs": [
    {
     "name": "stdout",
     "output_type": "stream",
     "text": [
      "(1, 32, 32, 3)\n",
      "(1, 10)\n"
     ]
    }
   ],
   "source": [
    "# Assess the shape of the items generated by training_generator using the `next` function to yield an item.\n",
    "\n",
    "image, label = next(training_generator)\n",
    "print(image.shape)\n",
    "print(label.shape)"
   ]
  },
  {
   "cell_type": "code",
   "execution_count": 80,
   "metadata": {
    "colab": {
     "base_uri": "https://localhost:8080/",
     "height": 374
    },
    "id": "VXS3YwfdLwnQ",
    "outputId": "4be914b9-577c-45ed-d5be-b26adb65813b"
   },
   "outputs": [
    {
     "name": "stderr",
     "output_type": "stream",
     "text": [
      "C:\\Users\\aghar\\anaconda3\\envs\\tf2\\lib\\site-packages\\matplotlib\\text.py:1165: FutureWarning: elementwise comparison failed; returning scalar instead, but in the future will perform elementwise comparison\n",
      "  if s != self._text:\n"
     ]
    },
    {
     "data": {
      "image/png": "[encoded data removed]",
      "text/plain": [
       "<Figure size 360x360 with 1 Axes>"
      ]
     },
     "metadata": {
      "needs_background": "light"
     },
     "output_type": "display_data"
    }
   ],
   "source": [
    "# Test the training generator by obtaining an image using the `next` generator function, and then using imshow to plot it.\n",
    "# Print the corresponding label\n",
    "\n",
    "from matplotlib.pyplot import imshow\n",
    "\n",
    "image, label = next(training_generator)\n",
    "_, ax = plt.subplots(figsize=(5, 5))\n",
    "image_unbatched = image[0,:,:,:]\n",
    "ax.imshow(image_unbatched)\n",
    "ax.set_title(np.squeeze(label))\n",
    "ax.axis('off')\n",
    "plt.show()"
   ]
  },
  {
   "cell_type": "code",
   "execution_count": 81,
   "metadata": {
    "id": "IRHQU5fyLwnS"
   },
   "outputs": [],
   "source": [
    "# Reset the generator by re-running the `get_generator` function.\n",
    "\n",
    "train_generator = get_generator(training_features, training_labels)"
   ]
  },
  {
   "cell_type": "markdown",
   "metadata": {
    "id": "KUfxD0WHLwnU"
   },
   "source": [
    "#### Create a data augmention generator"
   ]
  },
  {
   "cell_type": "code",
   "execution_count": 82,
   "metadata": {
    "id": "S209JxdNLwnU"
   },
   "outputs": [],
   "source": [
    "from tensorflow.keras.preprocessing.image import ImageDataGenerator"
   ]
  },
  {
   "cell_type": "code",
   "execution_count": 83,
   "metadata": {
    "id": "R80OSZxoLwnX"
   },
   "outputs": [],
   "source": [
    "# Create a function to convert an image to monochrome\n",
    "\n",
    "def monochrome(x):\n",
    "    def func_bw(a):\n",
    "        average_colour = np.mean(a)\n",
    "        return [average_colour, average_colour, average_colour]\n",
    "    x = np.apply_along_axis(func_bw, -1, x)\n",
    "    return x"
   ]
  },
  {
   "cell_type": "code",
   "execution_count": 84,
   "metadata": {
    "id": "3B_-LrD8LwnZ"
   },
   "outputs": [],
   "source": [
    "# Create an ImageDataGenerator object\n",
    "\n",
    "image_generator = ImageDataGenerator(preprocessing_function=monochrome,\n",
    "                                     rotation_range=180,\n",
    "                                     rescale=(1/255.0))\n",
    "image_generator.fit(training_features)"
   ]
  },
  {
   "cell_type": "markdown",
   "metadata": {
    "id": "wheasgOSLwna"
   },
   "source": [
    "Check [the documentation](https://keras.io/preprocessing/image/) for the full list of image data augmentation options. "
   ]
  },
  {
   "cell_type": "code",
   "execution_count": 85,
   "metadata": {
    "id": "ElwkY6hzLwna"
   },
   "outputs": [],
   "source": [
    "# Create an iterable generator using the `flow` function\n",
    "\n",
    "image_generator_iterable = image_generator.flow(training_features, training_labels, batch_size=1, shuffle=False)"
   ]
  },
  {
   "cell_type": "code",
   "execution_count": 86,
   "metadata": {
    "colab": {
     "base_uri": "https://localhost:8080/",
     "height": 199
    },
    "id": "G_MojVrRLwnc",
    "outputId": "a85fcd8c-ff9a-4f16-a8f9-579217c8f798",
    "scrolled": false
   },
   "outputs": [
    {
     "data": {
      "image/png": "[encoded data removed]",
      "text/plain": [
       "<Figure size 432x288 with 2 Axes>"
      ]
     },
     "metadata": {
      "needs_background": "light"
     },
     "output_type": "display_data"
    }
   ],
   "source": [
    "# Show a sample from the generator and compare with the original\n",
    "\n",
    "image, label = next(image_generator_iterable)\n",
    "image_orig, label_orig = next(train_generator)\n",
    "figs, axes = plt.subplots(1,2)\n",
    "axes[0].imshow(image[0,:,:,:])\n",
    "axes[0].set_title('Transformed')\n",
    "axes[0].axis('off')\n",
    "axes[1].imshow(image_orig[0,:,:,:])\n",
    "axes[1].set_title('Original')\n",
    "axes[1].axis('off')\n",
    "plt.show()"
   ]
  },
  {
   "cell_type": "markdown",
   "metadata": {
    "id": "8lDJvPvfLwnd"
   },
   "source": [
    "#### Flow from directory"
   ]
  },
  {
   "cell_type": "code",
   "execution_count": 89,
   "metadata": {
    "id": "tKw_3TVpJ7Oj"
   },
   "outputs": [],
   "source": [
    "from py7zr import SevenZipFile\n",
    "import os\n",
    "\n",
    "if not os.path.exists(data_folder + 'flowers-recognition-split'):\n",
    "    with SevenZipFile(data_folder + '/flowers-recognition-split.7z', 'r') as myzip:\n",
    "        myzip.extractall(data_folder)"
   ]
  },
  {
   "cell_type": "code",
   "execution_count": 90,
   "metadata": {
    "id": "l0sOke4dLwne"
   },
   "outputs": [],
   "source": [
    "# Inspect the directory structure\n",
    "\n",
    "train_path = data_folder + 'flowers-recognition-split/train'\n",
    "val_path = data_folder + 'flowers-recognition-split/val'"
   ]
  },
  {
   "cell_type": "code",
   "execution_count": 91,
   "metadata": {
    "id": "nU_0lGLnLwnf"
   },
   "outputs": [],
   "source": [
    "# Create an ImageDataGenerator object\n",
    "\n",
    "datagenerator = ImageDataGenerator(rescale=(1/255.0))"
   ]
  },
  {
   "cell_type": "code",
   "execution_count": 92,
   "metadata": {
    "id": "rNSTFnZpLwng"
   },
   "outputs": [],
   "source": [
    "classes = ['daisy', 'dandelion', 'rose', 'sunflower', 'tulip']"
   ]
  },
  {
   "cell_type": "code",
   "execution_count": 93,
   "metadata": {
    "colab": {
     "base_uri": "https://localhost:8080/",
     "height": 35
    },
    "id": "DoSrRM2vLwni",
    "outputId": "22b06510-9a9d-4728-ea25-48106724b188"
   },
   "outputs": [
    {
     "name": "stdout",
     "output_type": "stream",
     "text": [
      "Found 3027 images belonging to 5 classes.\n"
     ]
    }
   ],
   "source": [
    "# Create a training data generator\n",
    "\n",
    "train_generator = datagenerator.flow_from_directory(train_path, batch_size=64, classes=classes, target_size=(32, 32))"
   ]
  },
  {
   "cell_type": "code",
   "execution_count": 94,
   "metadata": {
    "colab": {
     "base_uri": "https://localhost:8080/",
     "height": 35
    },
    "id": "I4iABrtkLwnj",
    "outputId": "fd0d473f-5ad6-43f3-8c30-44c7a818b759"
   },
   "outputs": [
    {
     "name": "stdout",
     "output_type": "stream",
     "text": [
      "Found 1296 images belonging to 5 classes.\n"
     ]
    }
   ],
   "source": [
    "# Create a validation data generator\n",
    "\n",
    "val_generator = datagenerator.flow_from_directory(val_path, batch_size=64, classes=classes, target_size=(32, 32))"
   ]
  },
  {
   "cell_type": "code",
   "execution_count": 95,
   "metadata": {
    "colab": {
     "base_uri": "https://localhost:8080/",
     "height": 283
    },
    "id": "xttbpzhiLwnn",
    "outputId": "6d71c4e1-69d0-4356-f5e1-3b0256ecf443"
   },
   "outputs": [
    {
     "name": "stdout",
     "output_type": "stream",
     "text": [
      "[0. 0. 0. 0. 1.]\n"
     ]
    },
    {
     "data": {
      "image/png": "[encoded data removed]",
      "text/plain": [
       "<Figure size 432x288 with 1 Axes>"
      ]
     },
     "metadata": {
      "needs_background": "light"
     },
     "output_type": "display_data"
    }
   ],
   "source": [
    "# Get and display an image and label from the training generator\n",
    "\n",
    "x = next(train_generator)\n",
    "imshow(x[0][4])\n",
    "print(x[1][4])"
   ]
  },
  {
   "cell_type": "code",
   "execution_count": 96,
   "metadata": {
    "colab": {
     "base_uri": "https://localhost:8080/",
     "height": 35
    },
    "id": "eubMyZu7Lwnu",
    "outputId": "d1b4dc3a-8d04-48b5-8364-efd5d54b83ac"
   },
   "outputs": [
    {
     "name": "stdout",
     "output_type": "stream",
     "text": [
      "Found 3027 images belonging to 5 classes.\n"
     ]
    }
   ],
   "source": [
    "# Reset the training generator\n",
    "\n",
    "train_generator = datagenerator.flow_from_directory(train_path, batch_size=64, classes=classes, target_size=(32, 32))"
   ]
  },
  {
   "cell_type": "markdown",
   "metadata": {
    "id": "IuICkLdgLwnv"
   },
   "source": [
    "#### Create a model to train"
   ]
  },
  {
   "cell_type": "code",
   "execution_count": 97,
   "metadata": {
    "id": "Vli6KboxLwnv",
    "scrolled": false
   },
   "outputs": [],
   "source": [
    "# Build a CNN model\n",
    "\n",
    "from tensorflow.keras.layers import Conv2D, MaxPooling2D, Input, Flatten, Dense\n",
    "\n",
    "model = tf.keras.Sequential()\n",
    "model.add(Input((32,32,3)))\n",
    "model.add(Conv2D(8, (8, 8), padding='same', activation='relu'))\n",
    "model.add(MaxPooling2D((4,4)))\n",
    "model.add(Conv2D(8, (8, 8), padding='same', activation='relu'))\n",
    "model.add(MaxPooling2D((2,2)))\n",
    "model.add(Conv2D(4, (4, 4), padding='same', activation='relu'))\n",
    "model.add(Flatten())\n",
    "model.add(Dense(16, activation='relu'))\n",
    "model.add(Dense(8, activation='relu'))\n",
    "model.add(Dense(5, activation='softmax'))"
   ]
  },
  {
   "cell_type": "code",
   "execution_count": 98,
   "metadata": {
    "id": "1EpyPWDtLwnw"
   },
   "outputs": [],
   "source": [
    "# Create an optimizer object\n",
    "\n",
    "optimizer = tf.keras.optimizers.Adam(1e-3)"
   ]
  },
  {
   "cell_type": "code",
   "execution_count": 99,
   "metadata": {
    "id": "KkzxS4w8Lwny"
   },
   "outputs": [],
   "source": [
    "# Compile the model\n",
    "\n",
    "model.compile(optimizer=optimizer, loss='categorical_crossentropy', metrics=['accuracy'])"
   ]
  },
  {
   "cell_type": "code",
   "execution_count": 100,
   "metadata": {
    "colab": {
     "base_uri": "https://localhost:8080/",
     "height": 468
    },
    "id": "KRFuAO0dLwnz",
    "outputId": "fc6c1e2c-7381-4572-d47b-df59c80f6d7b"
   },
   "outputs": [
    {
     "name": "stdout",
     "output_type": "stream",
     "text": [
      "Model: \"sequential\"\n",
      "_________________________________________________________________\n",
      "Layer (type)                 Output Shape              Param #   \n",
      "=================================================================\n",
      "conv2d (Conv2D)              (None, 32, 32, 8)         1544      \n",
      "_________________________________________________________________\n",
      "max_pooling2d (MaxPooling2D) (None, 8, 8, 8)           0         \n",
      "_________________________________________________________________\n",
      "conv2d_1 (Conv2D)            (None, 8, 8, 8)           4104      \n",
      "_________________________________________________________________\n",
      "max_pooling2d_1 (MaxPooling2 (None, 4, 4, 8)           0         \n",
      "_________________________________________________________________\n",
      "conv2d_2 (Conv2D)            (None, 4, 4, 4)           516       \n",
      "_________________________________________________________________\n",
      "flatten (Flatten)            (None, 64)                0         \n",
      "_________________________________________________________________\n",
      "dense_2 (Dense)              (None, 16)                1040      \n",
      "_________________________________________________________________\n",
      "dense_3 (Dense)              (None, 8)                 136       \n",
      "_________________________________________________________________\n",
      "dense_4 (Dense)              (None, 5)                 45        \n",
      "=================================================================\n",
      "Total params: 7,385\n",
      "Trainable params: 7,385\n",
      "Non-trainable params: 0\n",
      "_________________________________________________________________\n"
     ]
    }
   ],
   "source": [
    "# Print the model summary\n",
    "\n",
    "model.summary()"
   ]
  },
  {
   "cell_type": "markdown",
   "metadata": {
    "id": "EdlrTTxkLwn1"
   },
   "source": [
    "#### Train the model"
   ]
  },
  {
   "cell_type": "code",
   "execution_count": 101,
   "metadata": {
    "colab": {
     "base_uri": "https://localhost:8080/",
     "height": 35
    },
    "id": "8cXhw2VhLwn1",
    "outputId": "da946b5e-0f85-44b5-b012-487afe6dfbc7"
   },
   "outputs": [
    {
     "name": "stdout",
     "output_type": "stream",
     "text": [
      "47 20\n"
     ]
    }
   ],
   "source": [
    "# Calculate the training generator and test generator steps per epoch\n",
    "\n",
    "train_steps_per_epoch = train_generator.n // train_generator.batch_size\n",
    "val_steps = val_generator.n // val_generator.batch_size\n",
    "print(train_steps_per_epoch, val_steps)"
   ]
  },
  {
   "cell_type": "code",
   "execution_count": 102,
   "metadata": {
    "colab": {
     "base_uri": "https://localhost:8080/",
     "height": 208
    },
    "id": "Q3daJBkILwn4",
    "outputId": "f2f24dd6-4ff9-4c38-ea4f-fca6f460bfba"
   },
   "outputs": [
    {
     "name": "stdout",
     "output_type": "stream",
     "text": [
      "Epoch 1/5\n",
      "47/47 [==============================] - 36s 775ms/step - loss: 1.6012 - accuracy: 0.2528\n",
      "Epoch 2/5\n",
      "47/47 [==============================] - 12s 262ms/step - loss: 1.5251 - accuracy: 0.2636\n",
      "Epoch 3/5\n",
      "47/47 [==============================] - 12s 245ms/step - loss: 1.3696 - accuracy: 0.3891\n",
      "Epoch 4/5\n",
      "47/47 [==============================] - 13s 273ms/step - loss: 1.2556 - accuracy: 0.4786\n",
      "Epoch 5/5\n",
      "47/47 [==============================] - 13s 278ms/step - loss: 1.2365 - accuracy: 0.4921\n"
     ]
    },
    {
     "data": {
      "text/plain": [
       "<tensorflow.python.keras.callbacks.History at 0x1eeb5156b20>"
      ]
     },
     "execution_count": 102,
     "metadata": {},
     "output_type": "execute_result"
    }
   ],
   "source": [
    "# Fit the model\n",
    "\n",
    "model.fit_generator(train_generator, steps_per_epoch=train_steps_per_epoch, epochs=5)"
   ]
  },
  {
   "cell_type": "markdown",
   "metadata": {
    "id": "LoxWasQKLwn5"
   },
   "source": [
    "#### Evaluate the model"
   ]
  },
  {
   "cell_type": "code",
   "execution_count": 103,
   "metadata": {
    "colab": {
     "base_uri": "https://localhost:8080/",
     "height": 35
    },
    "id": "-85jqQXiLwn6",
    "outputId": "fc38f17c-1c21-4d93-88ee-a449ab858004"
   },
   "outputs": [
    {
     "data": {
      "text/plain": [
       "[1.1927224397659302, 0.526562511920929]"
      ]
     },
     "execution_count": 103,
     "metadata": {},
     "output_type": "execute_result"
    }
   ],
   "source": [
    "# Evaluate the model\n",
    "\n",
    "model.evaluate_generator(val_generator, steps=val_steps)"
   ]
  },
  {
   "cell_type": "markdown",
   "metadata": {
    "id": "zS5yD7TaLwn7"
   },
   "source": [
    "#### Predict using the generator"
   ]
  },
  {
   "cell_type": "code",
   "execution_count": 104,
   "metadata": {
    "colab": {
     "base_uri": "https://localhost:8080/",
     "height": 1000
    },
    "id": "Rz3CsLtgLwn8",
    "outputId": "8d0126af-e782-4d4f-b6e0-02ecdc749926"
   },
   "outputs": [
    {
     "name": "stdout",
     "output_type": "stream",
     "text": [
      "[[0.41 0.29 0.15 0.05 0.1 ]\n",
      " [0.16 0.05 0.44 0.01 0.33]\n",
      " [0.29 0.24 0.29 0.03 0.15]\n",
      " [0.01 0.   0.68 0.   0.31]\n",
      " [0.25 0.27 0.22 0.09 0.17]\n",
      " [0.34 0.07 0.05 0.38 0.16]\n",
      " [0.23 0.09 0.02 0.61 0.06]\n",
      " [0.2  0.04 0.01 0.73 0.03]\n",
      " [0.03 0.   0.67 0.   0.3 ]\n",
      " [0.18 0.04 0.3  0.03 0.46]\n",
      " [0.49 0.11 0.21 0.03 0.15]\n",
      " [0.4  0.13 0.21 0.05 0.21]\n",
      " [0.29 0.31 0.26 0.03 0.11]\n",
      " [0.23 0.58 0.13 0.03 0.03]\n",
      " [0.14 0.1  0.31 0.06 0.39]\n",
      " [0.04 0.01 0.61 0.   0.34]\n",
      " [0.19 0.18 0.31 0.06 0.26]\n",
      " [0.31 0.08 0.07 0.32 0.21]\n",
      " [0.24 0.08 0.28 0.05 0.35]\n",
      " [0.23 0.24 0.02 0.48 0.03]\n",
      " [0.34 0.19 0.18 0.09 0.2 ]\n",
      " [0.27 0.15 0.05 0.39 0.12]\n",
      " [0.07 0.02 0.42 0.01 0.49]\n",
      " [0.06 0.02 0.41 0.01 0.5 ]\n",
      " [0.29 0.09 0.17 0.12 0.33]\n",
      " [0.24 0.14 0.17 0.18 0.27]\n",
      " [0.26 0.05 0.02 0.55 0.11]\n",
      " [0.26 0.08 0.33 0.02 0.32]\n",
      " [0.03 0.   0.39 0.   0.58]\n",
      " [0.06 0.02 0.4  0.01 0.52]\n",
      " [0.3  0.11 0.23 0.06 0.31]\n",
      " [0.02 0.   0.3  0.   0.67]\n",
      " [0.29 0.32 0.22 0.05 0.12]\n",
      " [0.2  0.06 0.01 0.7  0.03]\n",
      " [0.3  0.33 0.27 0.02 0.08]\n",
      " [0.05 0.01 0.56 0.   0.39]\n",
      " [0.08 0.02 0.31 0.02 0.58]\n",
      " [0.28 0.41 0.25 0.01 0.05]\n",
      " [0.2  0.34 0.02 0.4  0.04]\n",
      " [0.19 0.36 0.02 0.41 0.02]\n",
      " [0.21 0.3  0.01 0.47 0.01]\n",
      " [0.24 0.14 0.28 0.05 0.3 ]\n",
      " [0.26 0.19 0.18 0.13 0.25]\n",
      " [0.33 0.15 0.14 0.15 0.23]\n",
      " [0.18 0.09 0.   0.71 0.01]\n",
      " [0.37 0.31 0.17 0.05 0.1 ]\n",
      " [0.06 0.01 0.41 0.01 0.51]\n",
      " [0.38 0.25 0.17 0.07 0.13]\n",
      " [0.38 0.13 0.16 0.1  0.24]\n",
      " [0.32 0.24 0.2  0.07 0.16]\n",
      " [0.03 0.   0.37 0.   0.59]\n",
      " [0.2  0.06 0.01 0.7  0.03]\n",
      " [0.23 0.52 0.13 0.07 0.06]\n",
      " [0.38 0.13 0.13 0.13 0.23]\n",
      " [0.26 0.25 0.16 0.15 0.19]\n",
      " [0.29 0.15 0.03 0.45 0.08]\n",
      " [0.29 0.5  0.14 0.03 0.04]\n",
      " [0.2  0.05 0.01 0.71 0.03]\n",
      " [0.3  0.14 0.01 0.51 0.03]\n",
      " [0.27 0.11 0.05 0.41 0.16]\n",
      " [0.45 0.14 0.11 0.14 0.17]\n",
      " [0.02 0.   0.68 0.   0.3 ]\n",
      " [0.47 0.21 0.15 0.06 0.12]\n",
      " [0.25 0.48 0.17 0.04 0.06]]\n"
     ]
    }
   ],
   "source": [
    "# Predict labels with the model\n",
    "\n",
    "predictions = model.predict_generator(val_generator, steps=1)\n",
    "print(np.round(predictions, 2))"
   ]
  },
  {
   "cell_type": "markdown",
   "metadata": {
    "id": "JW1KSTrfLwn_"
   },
   "source": [
    "***\n",
    "<a id=\"coding_tutorial_4\"></a>\n",
    "## The Dataset Class"
   ]
  },
  {
   "cell_type": "markdown",
   "metadata": {
    "id": "sB1fIrr8lmUb"
   },
   "source": [
    "#### Import the data\n",
    "\n",
    "The dataset required for this tutorial can be downloaded from the following link:\n",
    "\n",
    "https://drive.google.com/open?id=1BAjGPFlpqsDdWof50Ng3Fmju5O8F1_uZ\n",
    "\n",
    "You should store these files in Drive for use in this Colab notebook."
   ]
  },
  {
   "cell_type": "code",
   "execution_count": 105,
   "metadata": {
    "id": "xfnXkSB3lmek"
   },
   "outputs": [],
   "source": [
    "# Run this cell to connect to your Drive folder\n",
    "if colab:\n",
    "    from google.colab import drive\n",
    "    drive.mount('/content/gdrive')"
   ]
  },
  {
   "cell_type": "code",
   "execution_count": 106,
   "metadata": {
    "id": "_xONz3oFLwn_"
   },
   "outputs": [],
   "source": [
    "import matplotlib.pyplot as plt\n",
    "import numpy as np\n",
    "import os"
   ]
  },
  {
   "cell_type": "markdown",
   "metadata": {
    "id": "vqqV3Ox9LwoA"
   },
   "source": [
    "#### Create a simple dataset"
   ]
  },
  {
   "cell_type": "code",
   "execution_count": 107,
   "metadata": {
    "id": "p7i5Nkm6LwoA"
   },
   "outputs": [],
   "source": [
    "x = np.zeros((100,10,2,2))"
   ]
  },
  {
   "cell_type": "code",
   "execution_count": 108,
   "metadata": {
    "id": "VRIbPGW0LwoC"
   },
   "outputs": [],
   "source": [
    "# Create a dataset from the tensor x\n",
    "\n",
    "dataset1 = tf.data.Dataset.from_tensor_slices(x)"
   ]
  },
  {
   "cell_type": "code",
   "execution_count": 113,
   "metadata": {
    "id": "CPIBuRAPLwoE"
   },
   "outputs": [
    {
     "name": "stdout",
     "output_type": "stream",
     "text": [
      "<TensorSliceDataset shapes: (10, 2, 2), types: tf.float64>\n",
      "TensorSpec(shape=(10, 2, 2), dtype=tf.float64, name=None)\n"
     ]
    }
   ],
   "source": [
    "# Inspect the Dataset object\n",
    "\n",
    "print(dataset1)\n",
    "print(dataset1.element_spec)"
   ]
  },
  {
   "cell_type": "code",
   "execution_count": 110,
   "metadata": {
    "id": "cwXTdMGYLwoF"
   },
   "outputs": [],
   "source": [
    "x2 = [np.zeros((10,2,2)), np.zeros((5,2,2))]"
   ]
  },
  {
   "cell_type": "code",
   "execution_count": 111,
   "metadata": {
    "id": "u33v-mOtLwoG"
   },
   "outputs": [
    {
     "ename": "ValueError",
     "evalue": "Can't convert non-rectangular Python sequence to Tensor.",
     "output_type": "error",
     "traceback": [
      "\u001b[1;31m---------------------------------------------------------------------------\u001b[0m",
      "\u001b[1;31mValueError\u001b[0m                                Traceback (most recent call last)",
      "\u001b[1;32m<ipython-input-111-e4370cf142de>\u001b[0m in \u001b[0;36m<module>\u001b[1;34m\u001b[0m\n\u001b[0;32m      1\u001b[0m \u001b[1;31m# Try creating a dataset from the tensor x2\u001b[0m\u001b[1;33m\u001b[0m\u001b[1;33m\u001b[0m\u001b[1;33m\u001b[0m\u001b[0m\n\u001b[0;32m      2\u001b[0m \u001b[1;33m\u001b[0m\u001b[0m\n\u001b[1;32m----> 3\u001b[1;33m \u001b[0mdataset2\u001b[0m \u001b[1;33m=\u001b[0m \u001b[0mtf\u001b[0m\u001b[1;33m.\u001b[0m\u001b[0mdata\u001b[0m\u001b[1;33m.\u001b[0m\u001b[0mDataset\u001b[0m\u001b[1;33m.\u001b[0m\u001b[0mfrom_tensor_slices\u001b[0m\u001b[1;33m(\u001b[0m\u001b[0mx2\u001b[0m\u001b[1;33m)\u001b[0m\u001b[1;33m\u001b[0m\u001b[1;33m\u001b[0m\u001b[0m\n\u001b[0m",
      "\u001b[1;32m~\\anaconda3\\envs\\tf2\\lib\\site-packages\\tensorflow\\python\\data\\ops\\dataset_ops.py\u001b[0m in \u001b[0;36mfrom_tensor_slices\u001b[1;34m(tensors)\u001b[0m\n\u001b[0;32m    680\u001b[0m       \u001b[0mDataset\u001b[0m\u001b[1;33m:\u001b[0m \u001b[0mA\u001b[0m\u001b[0;31m \u001b[0m\u001b[0;31m`\u001b[0m\u001b[0mDataset\u001b[0m\u001b[0;31m`\u001b[0m\u001b[1;33m.\u001b[0m\u001b[1;33m\u001b[0m\u001b[1;33m\u001b[0m\u001b[0m\n\u001b[0;32m    681\u001b[0m     \"\"\"\n\u001b[1;32m--> 682\u001b[1;33m     \u001b[1;32mreturn\u001b[0m \u001b[0mTensorSliceDataset\u001b[0m\u001b[1;33m(\u001b[0m\u001b[0mtensors\u001b[0m\u001b[1;33m)\u001b[0m\u001b[1;33m\u001b[0m\u001b[1;33m\u001b[0m\u001b[0m\n\u001b[0m\u001b[0;32m    683\u001b[0m \u001b[1;33m\u001b[0m\u001b[0m\n\u001b[0;32m    684\u001b[0m   \u001b[1;32mclass\u001b[0m \u001b[0m_GeneratorState\u001b[0m\u001b[1;33m(\u001b[0m\u001b[0mobject\u001b[0m\u001b[1;33m)\u001b[0m\u001b[1;33m:\u001b[0m\u001b[1;33m\u001b[0m\u001b[1;33m\u001b[0m\u001b[0m\n",
      "\u001b[1;32m~\\anaconda3\\envs\\tf2\\lib\\site-packages\\tensorflow\\python\\data\\ops\\dataset_ops.py\u001b[0m in \u001b[0;36m__init__\u001b[1;34m(self, element)\u001b[0m\n\u001b[0;32m   2999\u001b[0m   \u001b[1;32mdef\u001b[0m \u001b[0m__init__\u001b[0m\u001b[1;33m(\u001b[0m\u001b[0mself\u001b[0m\u001b[1;33m,\u001b[0m \u001b[0melement\u001b[0m\u001b[1;33m)\u001b[0m\u001b[1;33m:\u001b[0m\u001b[1;33m\u001b[0m\u001b[1;33m\u001b[0m\u001b[0m\n\u001b[0;32m   3000\u001b[0m     \u001b[1;34m\"\"\"See `Dataset.from_tensor_slices()` for details.\"\"\"\u001b[0m\u001b[1;33m\u001b[0m\u001b[1;33m\u001b[0m\u001b[0m\n\u001b[1;32m-> 3001\u001b[1;33m     \u001b[0melement\u001b[0m \u001b[1;33m=\u001b[0m \u001b[0mstructure\u001b[0m\u001b[1;33m.\u001b[0m\u001b[0mnormalize_element\u001b[0m\u001b[1;33m(\u001b[0m\u001b[0melement\u001b[0m\u001b[1;33m)\u001b[0m\u001b[1;33m\u001b[0m\u001b[1;33m\u001b[0m\u001b[0m\n\u001b[0m\u001b[0;32m   3002\u001b[0m     \u001b[0mbatched_spec\u001b[0m \u001b[1;33m=\u001b[0m \u001b[0mstructure\u001b[0m\u001b[1;33m.\u001b[0m\u001b[0mtype_spec_from_value\u001b[0m\u001b[1;33m(\u001b[0m\u001b[0melement\u001b[0m\u001b[1;33m)\u001b[0m\u001b[1;33m\u001b[0m\u001b[1;33m\u001b[0m\u001b[0m\n\u001b[0;32m   3003\u001b[0m     \u001b[0mself\u001b[0m\u001b[1;33m.\u001b[0m\u001b[0m_tensors\u001b[0m \u001b[1;33m=\u001b[0m \u001b[0mstructure\u001b[0m\u001b[1;33m.\u001b[0m\u001b[0mto_batched_tensor_list\u001b[0m\u001b[1;33m(\u001b[0m\u001b[0mbatched_spec\u001b[0m\u001b[1;33m,\u001b[0m \u001b[0melement\u001b[0m\u001b[1;33m)\u001b[0m\u001b[1;33m\u001b[0m\u001b[1;33m\u001b[0m\u001b[0m\n",
      "\u001b[1;32m~\\anaconda3\\envs\\tf2\\lib\\site-packages\\tensorflow\\python\\data\\util\\structure.py\u001b[0m in \u001b[0;36mnormalize_element\u001b[1;34m(element)\u001b[0m\n\u001b[0;32m    113\u001b[0m         \u001b[1;32melse\u001b[0m\u001b[1;33m:\u001b[0m\u001b[1;33m\u001b[0m\u001b[1;33m\u001b[0m\u001b[0m\n\u001b[0;32m    114\u001b[0m           normalized_components.append(\n\u001b[1;32m--> 115\u001b[1;33m               ops.convert_to_tensor(t, name=\"component_%d\" % i))\n\u001b[0m\u001b[0;32m    116\u001b[0m   \u001b[1;32mreturn\u001b[0m \u001b[0mnest\u001b[0m\u001b[1;33m.\u001b[0m\u001b[0mpack_sequence_as\u001b[0m\u001b[1;33m(\u001b[0m\u001b[0melement\u001b[0m\u001b[1;33m,\u001b[0m \u001b[0mnormalized_components\u001b[0m\u001b[1;33m)\u001b[0m\u001b[1;33m\u001b[0m\u001b[1;33m\u001b[0m\u001b[0m\n\u001b[0;32m    117\u001b[0m \u001b[1;33m\u001b[0m\u001b[0m\n",
      "\u001b[1;32m~\\anaconda3\\envs\\tf2\\lib\\site-packages\\tensorflow\\python\\framework\\ops.py\u001b[0m in \u001b[0;36mconvert_to_tensor\u001b[1;34m(value, dtype, name, as_ref, preferred_dtype, dtype_hint, ctx, accepted_result_types)\u001b[0m\n\u001b[0;32m   1497\u001b[0m \u001b[1;33m\u001b[0m\u001b[0m\n\u001b[0;32m   1498\u001b[0m     \u001b[1;32mif\u001b[0m \u001b[0mret\u001b[0m \u001b[1;32mis\u001b[0m \u001b[1;32mNone\u001b[0m\u001b[1;33m:\u001b[0m\u001b[1;33m\u001b[0m\u001b[1;33m\u001b[0m\u001b[0m\n\u001b[1;32m-> 1499\u001b[1;33m       \u001b[0mret\u001b[0m \u001b[1;33m=\u001b[0m \u001b[0mconversion_func\u001b[0m\u001b[1;33m(\u001b[0m\u001b[0mvalue\u001b[0m\u001b[1;33m,\u001b[0m \u001b[0mdtype\u001b[0m\u001b[1;33m=\u001b[0m\u001b[0mdtype\u001b[0m\u001b[1;33m,\u001b[0m \u001b[0mname\u001b[0m\u001b[1;33m=\u001b[0m\u001b[0mname\u001b[0m\u001b[1;33m,\u001b[0m \u001b[0mas_ref\u001b[0m\u001b[1;33m=\u001b[0m\u001b[0mas_ref\u001b[0m\u001b[1;33m)\u001b[0m\u001b[1;33m\u001b[0m\u001b[1;33m\u001b[0m\u001b[0m\n\u001b[0m\u001b[0;32m   1500\u001b[0m \u001b[1;33m\u001b[0m\u001b[0m\n\u001b[0;32m   1501\u001b[0m     \u001b[1;32mif\u001b[0m \u001b[0mret\u001b[0m \u001b[1;32mis\u001b[0m \u001b[0mNotImplemented\u001b[0m\u001b[1;33m:\u001b[0m\u001b[1;33m\u001b[0m\u001b[1;33m\u001b[0m\u001b[0m\n",
      "\u001b[1;32m~\\anaconda3\\envs\\tf2\\lib\\site-packages\\tensorflow\\python\\framework\\constant_op.py\u001b[0m in \u001b[0;36m_constant_tensor_conversion_function\u001b[1;34m(v, dtype, name, as_ref)\u001b[0m\n\u001b[0;32m    336\u001b[0m                                          as_ref=False):\n\u001b[0;32m    337\u001b[0m   \u001b[0m_\u001b[0m \u001b[1;33m=\u001b[0m \u001b[0mas_ref\u001b[0m\u001b[1;33m\u001b[0m\u001b[1;33m\u001b[0m\u001b[0m\n\u001b[1;32m--> 338\u001b[1;33m   \u001b[1;32mreturn\u001b[0m \u001b[0mconstant\u001b[0m\u001b[1;33m(\u001b[0m\u001b[0mv\u001b[0m\u001b[1;33m,\u001b[0m \u001b[0mdtype\u001b[0m\u001b[1;33m=\u001b[0m\u001b[0mdtype\u001b[0m\u001b[1;33m,\u001b[0m \u001b[0mname\u001b[0m\u001b[1;33m=\u001b[0m\u001b[0mname\u001b[0m\u001b[1;33m)\u001b[0m\u001b[1;33m\u001b[0m\u001b[1;33m\u001b[0m\u001b[0m\n\u001b[0m\u001b[0;32m    339\u001b[0m \u001b[1;33m\u001b[0m\u001b[0m\n\u001b[0;32m    340\u001b[0m \u001b[1;33m\u001b[0m\u001b[0m\n",
      "\u001b[1;32m~\\anaconda3\\envs\\tf2\\lib\\site-packages\\tensorflow\\python\\framework\\constant_op.py\u001b[0m in \u001b[0;36mconstant\u001b[1;34m(value, dtype, shape, name)\u001b[0m\n\u001b[0;32m    261\u001b[0m     \u001b[0mValueError\u001b[0m\u001b[1;33m:\u001b[0m \u001b[1;32mif\u001b[0m \u001b[0mcalled\u001b[0m \u001b[0mon\u001b[0m \u001b[0ma\u001b[0m \u001b[0msymbolic\u001b[0m \u001b[0mtensor\u001b[0m\u001b[1;33m.\u001b[0m\u001b[1;33m\u001b[0m\u001b[1;33m\u001b[0m\u001b[0m\n\u001b[0;32m    262\u001b[0m   \"\"\"\n\u001b[1;32m--> 263\u001b[1;33m   return _constant_impl(value, dtype, shape, name, verify_shape=False,\n\u001b[0m\u001b[0;32m    264\u001b[0m                         allow_broadcast=True)\n\u001b[0;32m    265\u001b[0m \u001b[1;33m\u001b[0m\u001b[0m\n",
      "\u001b[1;32m~\\anaconda3\\envs\\tf2\\lib\\site-packages\\tensorflow\\python\\framework\\constant_op.py\u001b[0m in \u001b[0;36m_constant_impl\u001b[1;34m(value, dtype, shape, name, verify_shape, allow_broadcast)\u001b[0m\n\u001b[0;32m    273\u001b[0m       \u001b[1;32mwith\u001b[0m \u001b[0mtrace\u001b[0m\u001b[1;33m.\u001b[0m\u001b[0mTrace\u001b[0m\u001b[1;33m(\u001b[0m\u001b[1;34m\"tf.constant\"\u001b[0m\u001b[1;33m)\u001b[0m\u001b[1;33m:\u001b[0m\u001b[1;33m\u001b[0m\u001b[1;33m\u001b[0m\u001b[0m\n\u001b[0;32m    274\u001b[0m         \u001b[1;32mreturn\u001b[0m \u001b[0m_constant_eager_impl\u001b[0m\u001b[1;33m(\u001b[0m\u001b[0mctx\u001b[0m\u001b[1;33m,\u001b[0m \u001b[0mvalue\u001b[0m\u001b[1;33m,\u001b[0m \u001b[0mdtype\u001b[0m\u001b[1;33m,\u001b[0m \u001b[0mshape\u001b[0m\u001b[1;33m,\u001b[0m \u001b[0mverify_shape\u001b[0m\u001b[1;33m)\u001b[0m\u001b[1;33m\u001b[0m\u001b[1;33m\u001b[0m\u001b[0m\n\u001b[1;32m--> 275\u001b[1;33m     \u001b[1;32mreturn\u001b[0m \u001b[0m_constant_eager_impl\u001b[0m\u001b[1;33m(\u001b[0m\u001b[0mctx\u001b[0m\u001b[1;33m,\u001b[0m \u001b[0mvalue\u001b[0m\u001b[1;33m,\u001b[0m \u001b[0mdtype\u001b[0m\u001b[1;33m,\u001b[0m \u001b[0mshape\u001b[0m\u001b[1;33m,\u001b[0m \u001b[0mverify_shape\u001b[0m\u001b[1;33m)\u001b[0m\u001b[1;33m\u001b[0m\u001b[1;33m\u001b[0m\u001b[0m\n\u001b[0m\u001b[0;32m    276\u001b[0m \u001b[1;33m\u001b[0m\u001b[0m\n\u001b[0;32m    277\u001b[0m   \u001b[0mg\u001b[0m \u001b[1;33m=\u001b[0m \u001b[0mops\u001b[0m\u001b[1;33m.\u001b[0m\u001b[0mget_default_graph\u001b[0m\u001b[1;33m(\u001b[0m\u001b[1;33m)\u001b[0m\u001b[1;33m\u001b[0m\u001b[1;33m\u001b[0m\u001b[0m\n",
      "\u001b[1;32m~\\anaconda3\\envs\\tf2\\lib\\site-packages\\tensorflow\\python\\framework\\constant_op.py\u001b[0m in \u001b[0;36m_constant_eager_impl\u001b[1;34m(ctx, value, dtype, shape, verify_shape)\u001b[0m\n\u001b[0;32m    298\u001b[0m \u001b[1;32mdef\u001b[0m \u001b[0m_constant_eager_impl\u001b[0m\u001b[1;33m(\u001b[0m\u001b[0mctx\u001b[0m\u001b[1;33m,\u001b[0m \u001b[0mvalue\u001b[0m\u001b[1;33m,\u001b[0m \u001b[0mdtype\u001b[0m\u001b[1;33m,\u001b[0m \u001b[0mshape\u001b[0m\u001b[1;33m,\u001b[0m \u001b[0mverify_shape\u001b[0m\u001b[1;33m)\u001b[0m\u001b[1;33m:\u001b[0m\u001b[1;33m\u001b[0m\u001b[1;33m\u001b[0m\u001b[0m\n\u001b[0;32m    299\u001b[0m   \u001b[1;34m\"\"\"Implementation of eager constant.\"\"\"\u001b[0m\u001b[1;33m\u001b[0m\u001b[1;33m\u001b[0m\u001b[0m\n\u001b[1;32m--> 300\u001b[1;33m   \u001b[0mt\u001b[0m \u001b[1;33m=\u001b[0m \u001b[0mconvert_to_eager_tensor\u001b[0m\u001b[1;33m(\u001b[0m\u001b[0mvalue\u001b[0m\u001b[1;33m,\u001b[0m \u001b[0mctx\u001b[0m\u001b[1;33m,\u001b[0m \u001b[0mdtype\u001b[0m\u001b[1;33m)\u001b[0m\u001b[1;33m\u001b[0m\u001b[1;33m\u001b[0m\u001b[0m\n\u001b[0m\u001b[0;32m    301\u001b[0m   \u001b[1;32mif\u001b[0m \u001b[0mshape\u001b[0m \u001b[1;32mis\u001b[0m \u001b[1;32mNone\u001b[0m\u001b[1;33m:\u001b[0m\u001b[1;33m\u001b[0m\u001b[1;33m\u001b[0m\u001b[0m\n\u001b[0;32m    302\u001b[0m     \u001b[1;32mreturn\u001b[0m \u001b[0mt\u001b[0m\u001b[1;33m\u001b[0m\u001b[1;33m\u001b[0m\u001b[0m\n",
      "\u001b[1;32m~\\anaconda3\\envs\\tf2\\lib\\site-packages\\tensorflow\\python\\framework\\constant_op.py\u001b[0m in \u001b[0;36mconvert_to_eager_tensor\u001b[1;34m(value, ctx, dtype)\u001b[0m\n\u001b[0;32m     96\u001b[0m       \u001b[0mdtype\u001b[0m \u001b[1;33m=\u001b[0m \u001b[0mdtypes\u001b[0m\u001b[1;33m.\u001b[0m\u001b[0mas_dtype\u001b[0m\u001b[1;33m(\u001b[0m\u001b[0mdtype\u001b[0m\u001b[1;33m)\u001b[0m\u001b[1;33m.\u001b[0m\u001b[0mas_datatype_enum\u001b[0m\u001b[1;33m\u001b[0m\u001b[1;33m\u001b[0m\u001b[0m\n\u001b[0;32m     97\u001b[0m   \u001b[0mctx\u001b[0m\u001b[1;33m.\u001b[0m\u001b[0mensure_initialized\u001b[0m\u001b[1;33m(\u001b[0m\u001b[1;33m)\u001b[0m\u001b[1;33m\u001b[0m\u001b[1;33m\u001b[0m\u001b[0m\n\u001b[1;32m---> 98\u001b[1;33m   \u001b[1;32mreturn\u001b[0m \u001b[0mops\u001b[0m\u001b[1;33m.\u001b[0m\u001b[0mEagerTensor\u001b[0m\u001b[1;33m(\u001b[0m\u001b[0mvalue\u001b[0m\u001b[1;33m,\u001b[0m \u001b[0mctx\u001b[0m\u001b[1;33m.\u001b[0m\u001b[0mdevice_name\u001b[0m\u001b[1;33m,\u001b[0m \u001b[0mdtype\u001b[0m\u001b[1;33m)\u001b[0m\u001b[1;33m\u001b[0m\u001b[1;33m\u001b[0m\u001b[0m\n\u001b[0m\u001b[0;32m     99\u001b[0m \u001b[1;33m\u001b[0m\u001b[0m\n\u001b[0;32m    100\u001b[0m \u001b[1;33m\u001b[0m\u001b[0m\n",
      "\u001b[1;31mValueError\u001b[0m: Can't convert non-rectangular Python sequence to Tensor."
     ]
    }
   ],
   "source": [
    "# Try creating a dataset from the tensor x2\n",
    "\n",
    "dataset2 = tf.data.Dataset.from_tensor_slices(x2)"
   ]
  },
  {
   "cell_type": "code",
   "execution_count": 112,
   "metadata": {
    "id": "VlwcxydiLwoH"
   },
   "outputs": [],
   "source": [
    "x2 = [np.zeros((10,1)), np.zeros((10,1)), np.zeros((10,1))]"
   ]
  },
  {
   "cell_type": "code",
   "execution_count": 114,
   "metadata": {
    "id": "MWA_WwA9LwoI"
   },
   "outputs": [],
   "source": [
    "# Create another dataset from the new x2 and inspect the Dataset object\n",
    "\n",
    "dataset2 = tf.data.Dataset.from_tensor_slices(x2)"
   ]
  },
  {
   "cell_type": "code",
   "execution_count": 115,
   "metadata": {
    "id": "RaAx8T-8LwoK"
   },
   "outputs": [
    {
     "name": "stdout",
     "output_type": "stream",
     "text": [
      "TensorSpec(shape=(10, 1), dtype=tf.float64, name=None)\n"
     ]
    }
   ],
   "source": [
    "# Print the element_spec\n",
    "\n",
    "print(dataset2.element_spec)"
   ]
  },
  {
   "cell_type": "markdown",
   "metadata": {
    "id": "5d8X74-yLwoL"
   },
   "source": [
    "#### Create a zipped dataset"
   ]
  },
  {
   "cell_type": "code",
   "execution_count": 118,
   "metadata": {
    "id": "pll2VDVALwoM"
   },
   "outputs": [],
   "source": [
    "# Combine the two datasets into one larger dataset\n",
    "\n",
    "dataset_zipped = tf.data.Dataset.zip((dataset1, dataset2))"
   ]
  },
  {
   "cell_type": "code",
   "execution_count": 120,
   "metadata": {
    "id": "YFMyovAFLwoO"
   },
   "outputs": [
    {
     "name": "stdout",
     "output_type": "stream",
     "text": [
      "(TensorSpec(shape=(10, 2, 2), dtype=tf.float64, name=None), TensorSpec(shape=(10, 1), dtype=tf.float64, name=None))\n"
     ]
    }
   ],
   "source": [
    "# Print the element_spec\n",
    "\n",
    "print(dataset_zipped.element_spec)"
   ]
  },
  {
   "cell_type": "code",
   "execution_count": 121,
   "metadata": {
    "id": "AKlzGVR-LwoQ"
   },
   "outputs": [],
   "source": [
    "# Define a function to find the number of batches in a dataset\n",
    "\n",
    "def get_batches(dataset):\n",
    "    iter_dataset = iter(dataset)\n",
    "    i = 0\n",
    "    try:\n",
    "        while next(iter_dataset):\n",
    "            i = i+1\n",
    "    except:\n",
    "        return i"
   ]
  },
  {
   "cell_type": "code",
   "execution_count": 122,
   "metadata": {
    "id": "7pN5h3VbLwoS"
   },
   "outputs": [
    {
     "data": {
      "text/plain": [
       "3"
      ]
     },
     "execution_count": 122,
     "metadata": {},
     "output_type": "execute_result"
    }
   ],
   "source": [
    "# Find the number of batches in the zipped Dataset\n",
    "\n",
    "get_batches(dataset_zipped)"
   ]
  },
  {
   "cell_type": "markdown",
   "metadata": {
    "id": "agL_w4bhLwoU"
   },
   "source": [
    "#### Create a dataset from numpy arrays"
   ]
  },
  {
   "cell_type": "code",
   "execution_count": 123,
   "metadata": {
    "id": "u8BG27uVLwoU"
   },
   "outputs": [
    {
     "name": "stdout",
     "output_type": "stream",
     "text": [
      "Downloading data from https://storage.googleapis.com/tensorflow/tf-keras-datasets/mnist.npz\n",
      "11493376/11490434 [==============================] - 7s 1us/step\n",
      "<class 'numpy.ndarray'> <class 'numpy.ndarray'>\n"
     ]
    }
   ],
   "source": [
    "# Load the MNIST dataset\n",
    "\n",
    "(train_features, train_labels), (test_features, test_labels) = tf.keras.datasets.mnist.load_data()\n",
    "\n",
    "print(type(train_features), type(train_labels))"
   ]
  },
  {
   "cell_type": "code",
   "execution_count": 124,
   "metadata": {
    "id": "n9z_XKC5LwoX"
   },
   "outputs": [],
   "source": [
    "# Create a Dataset from the MNIST data\n",
    "\n",
    "mnist_dataset = tf.data.Dataset.from_tensor_slices((train_features, train_labels))"
   ]
  },
  {
   "cell_type": "code",
   "execution_count": 125,
   "metadata": {
    "id": "X2huRDyELwob"
   },
   "outputs": [
    {
     "name": "stdout",
     "output_type": "stream",
     "text": [
      "(TensorSpec(shape=(28, 28), dtype=tf.uint8, name=None), TensorSpec(shape=(), dtype=tf.uint8, name=None))\n"
     ]
    }
   ],
   "source": [
    "# Inspect the Dataset object\n",
    "\n",
    "print(mnist_dataset.element_spec)"
   ]
  },
  {
   "cell_type": "code",
   "execution_count": 126,
   "metadata": {
    "id": "fYy7jUxxLwog"
   },
   "outputs": [
    {
     "name": "stdout",
     "output_type": "stream",
     "text": [
      "2\n"
     ]
    }
   ],
   "source": [
    "# Inspect the length of an element using the take method\n",
    "\n",
    "element = next(iter(mnist_dataset.take(1)))\n",
    "print(len(element))"
   ]
  },
  {
   "cell_type": "code",
   "execution_count": 127,
   "metadata": {
    "id": "vmU3DT_0Lwok"
   },
   "outputs": [
    {
     "name": "stdout",
     "output_type": "stream",
     "text": [
      "(28, 28)\n",
      "()\n"
     ]
    }
   ],
   "source": [
    "# Examine the shapes of the data\n",
    "\n",
    "print(element[0].shape)\n",
    "print(element[1].shape)"
   ]
  },
  {
   "cell_type": "markdown",
   "metadata": {
    "id": "EgdUwwomLwom"
   },
   "source": [
    "#### Create a dataset from text data"
   ]
  },
  {
   "cell_type": "code",
   "execution_count": null,
   "metadata": {
    "id": "zc2ox0fXLwon"
   },
   "outputs": [],
   "source": [
    "# Print the list of text files\n",
    "\n",
    "text_files = sorted([f.path for f in os.scandir(data_folder + 'shakespeare')])\n",
    "\n",
    "print(text_files)"
   ]
  },
  {
   "cell_type": "code",
   "execution_count": null,
   "metadata": {
    "id": "K91kV97kLwoo"
   },
   "outputs": [],
   "source": [
    "# Load the first file using python and print the first 5 lines.\n",
    "\n",
    "with open(text_files[0], 'r') as fil:\n",
    "    contents = [fil.readline() for i in range(5)]\n",
    "    for line in contents:\n",
    "        print(line)"
   ]
  },
  {
   "cell_type": "code",
   "execution_count": null,
   "metadata": {
    "id": "5MMqVhxNLwop"
   },
   "outputs": [],
   "source": [
    "# Load the lines from the files into a dataset using TextLineDataset\n",
    "\n"
   ]
  },
  {
   "cell_type": "code",
   "execution_count": null,
   "metadata": {
    "id": "sEM2up5CLwoq"
   },
   "outputs": [],
   "source": [
    "# Use the take method to get and print the first 5 lines of the dataset\n",
    "\n",
    "first_5_lines_dataset = iter(shakespeare_dataset.take(5))\n",
    "lines = [line for line in first_5_lines_dataset]\n",
    "for line in lines:\n",
    "    print(line)"
   ]
  },
  {
   "cell_type": "code",
   "execution_count": null,
   "metadata": {
    "id": "t06mXu1oLwor"
   },
   "outputs": [],
   "source": [
    "# Compute the number of lines in the first file\n",
    "\n",
    "lines = []\n",
    "with open(text_files[0], 'r') as fil:\n",
    "    line = fil.readline()\n",
    "    while line:\n",
    "        lines.append(line)\n",
    "        line = fil.readline()\n",
    "    print(len(lines))"
   ]
  },
  {
   "cell_type": "code",
   "execution_count": null,
   "metadata": {
    "id": "GS3TysHqLwot"
   },
   "outputs": [],
   "source": [
    "# Compute the number of lines in the shakespeare dataset we created\n",
    "\n",
    "shakespeare_dataset_iterator = iter(shakespeare_dataset)\n",
    "lines = [line for line in shakespeare_dataset_iterator]\n",
    "print(len(lines))"
   ]
  },
  {
   "cell_type": "markdown",
   "metadata": {
    "id": "FJWNhXxMLwov"
   },
   "source": [
    "#### Interleave lines from the text data files"
   ]
  },
  {
   "cell_type": "code",
   "execution_count": null,
   "metadata": {
    "id": "n7ukqFrcLwov",
    "scrolled": true
   },
   "outputs": [],
   "source": [
    "# Create a dataset of the text file strings\n",
    "\n",
    "text_files_dataset = tf.data.Dataset.from_tensor_slices(text_files)\n",
    "files = [file for file in text_files_dataset]\n",
    "for file in files:\n",
    "    print(file)"
   ]
  },
  {
   "cell_type": "code",
   "execution_count": null,
   "metadata": {
    "id": "UGgRFvR_Lwox"
   },
   "outputs": [],
   "source": [
    "# Interleave the lines from the text files\n",
    "\n"
   ]
  },
  {
   "cell_type": "code",
   "execution_count": null,
   "metadata": {
    "id": "x88YAMsuLwoz"
   },
   "outputs": [],
   "source": [
    "# Print the first 10 elements of the interleaved dataset\n",
    "\n",
    "lines = [line for line in iter(interleaved_shakespeare_dataset.take(10))]\n",
    "for line in lines:\n",
    "    print(line)"
   ]
  },
  {
   "cell_type": "markdown",
   "metadata": {
    "id": "3Px88RXmLwo0"
   },
   "source": [
    "***\n",
    "<a id=\"coding_tutorial_5\"></a>\n",
    "## Training with Datasets"
   ]
  },
  {
   "cell_type": "code",
   "execution_count": null,
   "metadata": {
    "id": "TfCscLFLLwo1"
   },
   "outputs": [],
   "source": [
    "import matplotlib.pyplot as plt\n",
    "import numpy as np\n",
    "import os\n",
    "import pandas as pd"
   ]
  },
  {
   "cell_type": "markdown",
   "metadata": {
    "id": "hEq4s3oHLwo3"
   },
   "source": [
    "#### Load the UCI Bank Marketing Dataset"
   ]
  },
  {
   "cell_type": "markdown",
   "metadata": {
    "id": "NukSa_ESmgRg"
   },
   "source": [
    "#### Import the data\n",
    "\n",
    "The dataset required for this tutorial can be downloaded from the following link:\n",
    "\n",
    "https://drive.google.com/open?id=1cNtP4iDyGhF620ZbmJdmJWYQrRgJTCum\n",
    "\n",
    "You should store these files in Drive for use in this Colab notebook."
   ]
  },
  {
   "cell_type": "code",
   "execution_count": null,
   "metadata": {
    "id": "1TD43V9imgeD"
   },
   "outputs": [],
   "source": [
    "# Run this cell to connect to your Drive folder\n",
    "if colab:\n",
    "    from google.colab import drive\n",
    "    drive.mount('/content/gdrive')"
   ]
  },
  {
   "cell_type": "code",
   "execution_count": null,
   "metadata": {
    "id": "8mWVTUMGLwo4"
   },
   "outputs": [],
   "source": [
    "# Load the CSV file into a pandas DataFrame\n",
    "\n",
    "bank_dataframe = pd.read_csv(data_folder + 'bank-full.csv', delimiter=';')"
   ]
  },
  {
   "cell_type": "code",
   "execution_count": null,
   "metadata": {
    "id": "yhXvshyRLwo6",
    "scrolled": true
   },
   "outputs": [],
   "source": [
    "# Show the head of the DataFrame\n",
    "\n",
    "bank_dataframe.head()"
   ]
  },
  {
   "cell_type": "code",
   "execution_count": null,
   "metadata": {
    "id": "wTEQWdkfLwo9"
   },
   "outputs": [],
   "source": [
    "# Print the shape of the DataFrame\n",
    "\n",
    "print(bank_dataframe.shape)"
   ]
  },
  {
   "cell_type": "code",
   "execution_count": null,
   "metadata": {
    "id": "M8ORhBIMLwo_"
   },
   "outputs": [],
   "source": [
    "# Select features from the DataFrame\n",
    "\n",
    "features = ['age', 'job', 'marital', 'education', 'default', 'balance', 'housing',\n",
    "            'loan', 'contact', 'campaign', 'pdays', 'poutcome']\n",
    "labels = ['y']\n",
    "\n",
    "bank_dataframe = bank_dataframe.filter(features + labels)"
   ]
  },
  {
   "cell_type": "code",
   "execution_count": null,
   "metadata": {
    "id": "OvhQZha0LwpA",
    "scrolled": true
   },
   "outputs": [],
   "source": [
    "# Show the head of the DataFrame\n",
    "\n",
    "bank_dataframe.head()"
   ]
  },
  {
   "cell_type": "markdown",
   "metadata": {
    "id": "WDGZ4VF-LwpC"
   },
   "source": [
    "#### Preprocess the data"
   ]
  },
  {
   "cell_type": "code",
   "execution_count": null,
   "metadata": {
    "id": "l5OJBhpHLwpC"
   },
   "outputs": [],
   "source": [
    "# Convert the categorical features in the DataFrame to one-hot encodings\n",
    "\n",
    "from sklearn.preprocessing import LabelBinarizer\n",
    "\n",
    "encoder = LabelBinarizer()\n",
    "categorical_features = ['default', 'housing', 'job', 'loan', 'education', 'contact', 'poutcome']\n",
    "\n",
    "for feature in categorical_features:\n",
    "    bank_dataframe[feature] = tuple(encoder.fit_transform(bank_dataframe[feature]))"
   ]
  },
  {
   "cell_type": "code",
   "execution_count": null,
   "metadata": {
    "id": "_H29rfTRLwpD",
    "scrolled": true
   },
   "outputs": [],
   "source": [
    "# Show the head of the DataFrame\n",
    "\n",
    "bank_dataframe.head()"
   ]
  },
  {
   "cell_type": "code",
   "execution_count": null,
   "metadata": {
    "id": "HzA8Yfl7LwpE"
   },
   "outputs": [],
   "source": [
    "# Shuffle the DataFrame\n",
    "\n",
    "bank_dataframe = bank_dataframe.sample(frac=1).reset_index(drop=True)"
   ]
  },
  {
   "cell_type": "markdown",
   "metadata": {
    "id": "PDCxC62VLwpF"
   },
   "source": [
    "#### Create the Dataset object"
   ]
  },
  {
   "cell_type": "code",
   "execution_count": null,
   "metadata": {
    "id": "58t232NWLwpF"
   },
   "outputs": [],
   "source": [
    "# Convert the DataFrame to a Dataset\n",
    "\n"
   ]
  },
  {
   "cell_type": "code",
   "execution_count": null,
   "metadata": {
    "id": "wIam8gBSLwpH"
   },
   "outputs": [],
   "source": [
    "# Inspect the Dataset object\n",
    "\n"
   ]
  },
  {
   "cell_type": "markdown",
   "metadata": {
    "id": "B0IxwSLpLwpN"
   },
   "source": [
    "#### Filter the Dataset"
   ]
  },
  {
   "cell_type": "code",
   "execution_count": null,
   "metadata": {
    "id": "s0m_HNo6LwpO"
   },
   "outputs": [],
   "source": [
    "# First check that there are records in the dataset for non-married individuals\n",
    "\n",
    "def check_divorced():\n",
    "    bank_dataset_iterable = iter(bank_dataset)\n",
    "    for x in bank_dataset_iterable:\n",
    "        if x['marital'] != 'divorced':\n",
    "            print('Found a person with marital status: {}'.format(x['marital']))\n",
    "            return\n",
    "    print('No non-divorced people were found!')\n",
    "\n",
    "check_divorced()"
   ]
  },
  {
   "cell_type": "code",
   "execution_count": null,
   "metadata": {
    "id": "1dpKPS8vLwpP"
   },
   "outputs": [],
   "source": [
    "# Filter the Dataset to retain only entries with a 'divorced' marital status\n",
    "\n",
    "bank_dataset = bank_dataset.filter(lambda x : tf.equal(x['marital'], tf.constant([b'divorced']))[0] )"
   ]
  },
  {
   "cell_type": "code",
   "execution_count": null,
   "metadata": {
    "id": "xDqnULCjLwpR"
   },
   "outputs": [],
   "source": [
    "# Check the records in the dataset again\n",
    "\n",
    "check_divorced()"
   ]
  },
  {
   "cell_type": "markdown",
   "metadata": {
    "id": "8Ljy2Ro9LwpS"
   },
   "source": [
    "#### Map a function over the dataset"
   ]
  },
  {
   "cell_type": "code",
   "execution_count": null,
   "metadata": {
    "id": "qakJuUiNLwpS"
   },
   "outputs": [],
   "source": [
    "# Convert the label ('y') to an integer instead of 'yes' or 'no'\n",
    "\n"
   ]
  },
  {
   "cell_type": "code",
   "execution_count": null,
   "metadata": {
    "id": "W1YcLNq7LwpT"
   },
   "outputs": [],
   "source": [
    "# Inspect the Dataset object\n",
    "\n",
    "bank_dataset.element_spec"
   ]
  },
  {
   "cell_type": "code",
   "execution_count": null,
   "metadata": {
    "id": "6bSkBnzlLwpV"
   },
   "outputs": [],
   "source": [
    "# Remove the 'marital' column\n",
    "\n"
   ]
  },
  {
   "cell_type": "code",
   "execution_count": null,
   "metadata": {
    "id": "_lK3OmJ4LwpW"
   },
   "outputs": [],
   "source": [
    "# Inspect the Dataset object\n",
    "\n",
    "bank_dataset.element_spec"
   ]
  },
  {
   "cell_type": "markdown",
   "metadata": {
    "id": "5z_etyCZLwpZ"
   },
   "source": [
    "#### Create input and output data tuples"
   ]
  },
  {
   "cell_type": "code",
   "execution_count": null,
   "metadata": {
    "id": "6PStTjmKLwpZ"
   },
   "outputs": [],
   "source": [
    "# Create an input and output tuple for the dataset\n",
    "\n",
    "def map_feature_label(x):\n",
    "    features = [[x['age']], [x['balance']], [x['campaign']], x['contact'], x['default'],\n",
    "                x['education'], x['housing'], x['job'], x['loan'], [x['pdays']], x['poutcome']]\n",
    "    return (tf.concat(features, axis=0), x['y'])"
   ]
  },
  {
   "cell_type": "code",
   "execution_count": null,
   "metadata": {
    "id": "pKehf3i-Lwpc",
    "scrolled": true
   },
   "outputs": [],
   "source": [
    "# Map this function over the dataset\n",
    "\n"
   ]
  },
  {
   "cell_type": "code",
   "execution_count": null,
   "metadata": {
    "id": "yet0K8SjLwpd"
   },
   "outputs": [],
   "source": [
    "# Inspect the Dataset object\n",
    "\n"
   ]
  },
  {
   "cell_type": "markdown",
   "metadata": {
    "id": "H7rFrXSkLwpf"
   },
   "source": [
    "#### Split into a training and a validation set"
   ]
  },
  {
   "cell_type": "code",
   "execution_count": null,
   "metadata": {
    "id": "u16htz4qLwpg"
   },
   "outputs": [],
   "source": [
    "# Determine the length of the Dataset\n",
    "\n",
    "dataset_length = 0\n",
    "for _ in bank_dataset:\n",
    "    dataset_length += 1\n",
    "print(dataset_length)"
   ]
  },
  {
   "cell_type": "code",
   "execution_count": null,
   "metadata": {
    "id": "AFo3xsyQLwph"
   },
   "outputs": [],
   "source": [
    "# Make training and validation sets from the dataset\n",
    "\n"
   ]
  },
  {
   "cell_type": "markdown",
   "metadata": {
    "id": "waZerBcdLwpj"
   },
   "source": [
    "#### Build a classification model\n",
    "\n",
    "Now let's build a model to classify the features."
   ]
  },
  {
   "cell_type": "code",
   "execution_count": null,
   "metadata": {
    "id": "AMFNjG7PLwpj"
   },
   "outputs": [],
   "source": [
    "# Build a classifier model\n",
    "\n",
    "from tensorflow.keras.layers import Dense, Input, Concatenate, BatchNormalization\n",
    "from tensorflow.keras import Sequential\n",
    "\n",
    "model = Sequential()\n",
    "model.add(Input(shape=(30,)))\n",
    "model.add(BatchNormalization(momentum=0.8))\n",
    "model.add(Dense(400, activation='relu'))\n",
    "model.add(BatchNormalization(momentum=0.8))\n",
    "model.add(Dense(400, activation='relu'))\n",
    "model.add(BatchNormalization(momentum=0.8))\n",
    "model.add(Dense(1, activation='sigmoid'))"
   ]
  },
  {
   "cell_type": "code",
   "execution_count": null,
   "metadata": {
    "id": "4Ov8EijXLwpk"
   },
   "outputs": [],
   "source": [
    "# Compile the model\n",
    "\n",
    "optimizer = tf.keras.optimizers.Adam(1e-4)\n",
    "model.compile(optimizer=optimizer, loss='binary_crossentropy', metrics=['accuracy'])"
   ]
  },
  {
   "cell_type": "code",
   "execution_count": null,
   "metadata": {
    "id": "VtbN-lMbLwpl",
    "scrolled": true
   },
   "outputs": [],
   "source": [
    "# Show the model summary\n",
    "\n",
    "model.summary()"
   ]
  },
  {
   "cell_type": "markdown",
   "metadata": {
    "id": "6euItJ8bLwpn"
   },
   "source": [
    "#### Train the model"
   ]
  },
  {
   "cell_type": "code",
   "execution_count": null,
   "metadata": {
    "id": "O0-gu3b4Lwpo"
   },
   "outputs": [],
   "source": [
    "# Create batched training and validation datasets\n",
    "\n"
   ]
  },
  {
   "cell_type": "code",
   "execution_count": null,
   "metadata": {
    "id": "tSc4I6lhLwpp"
   },
   "outputs": [],
   "source": [
    "# Shuffle the training data\n",
    "\n"
   ]
  },
  {
   "cell_type": "code",
   "execution_count": null,
   "metadata": {
    "id": "BBzjSPpLLwpr",
    "scrolled": true
   },
   "outputs": [],
   "source": [
    "# Fit the model\n",
    "\n"
   ]
  },
  {
   "cell_type": "code",
   "execution_count": null,
   "metadata": {
    "id": "OKUL_6uvLwps"
   },
   "outputs": [],
   "source": [
    "# Plot the training and validation accuracy\n",
    "\n"
   ]
  }
 ],
 "metadata": {
  "colab": {
   "collapsed_sections": [
    "slDi0LNSLwlk",
    "1tPbAdRYLwmH",
    "YLOK8GMOLwmP",
    "KA-VnvRpLwmW",
    "-djfT1vDLwma",
    "wxB-r6_sLwmd",
    "eASEXb7uLwml",
    "CndbEe9-Lwmw",
    "2PTkNo-uLwm-",
    "tyi9F1cRLwnF",
    "KUfxD0WHLwnU",
    "8lDJvPvfLwnd",
    "IuICkLdgLwnv",
    "EdlrTTxkLwn1",
    "LoxWasQKLwn5",
    "zS5yD7TaLwn7",
    "vqqV3Ox9LwoA",
    "5d8X74-yLwoL",
    "agL_w4bhLwoU",
    "EgdUwwomLwom",
    "FJWNhXxMLwov",
    "WDGZ4VF-LwpC",
    "PDCxC62VLwpF",
    "B0IxwSLpLwpN",
    "8Ljy2Ro9LwpS",
    "5z_etyCZLwpZ",
    "H7rFrXSkLwpf",
    "waZerBcdLwpj",
    "6euItJ8bLwpn"
   ],
   "include_colab_link": true,
   "name": "Keras_datasets.ipynb",
   "provenance": []
  },
  "kernelspec": {
   "display_name": "Python 3",
   "language": "python",
   "name": "python3"
  },
  "language_info": {
   "codemirror_mode": {
    "name": "ipython",
    "version": 3
   },
   "file_extension": ".py",
   "mimetype": "text/x-python",
   "name": "python",
   "nbconvert_exporter": "python",
   "pygments_lexer": "ipython3",
   "version": "3.8.5"
  },
  "latex_envs": {
   "LaTeX_envs_menu_present": true,
   "autoclose": false,
   "autocomplete": true,
   "bibliofile": "biblio.bib",
   "cite_by": "apalike",
   "current_citInitial": 1,
   "eqLabelWithNumbers": true,
   "eqNumInitial": 1,
   "hotkeys": {
    "equation": "Ctrl-E",
    "itemize": "Ctrl-I"
   },
   "labels_anchors": false,
   "latex_user_defs": false,
   "report_style_numbering": false,
   "user_envs_cfg": false
  }
 },
 "nbformat": 4,
 "nbformat_minor": 1
}
